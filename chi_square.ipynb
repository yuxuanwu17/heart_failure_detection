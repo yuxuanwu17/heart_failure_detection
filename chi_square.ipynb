{
 "cells": [
  {
   "cell_type": "code",
   "execution_count": 7,
   "metadata": {
    "collapsed": true
   },
   "outputs": [],
   "source": [
    "import pandas as pd\n",
    "from scipy.stats import chi2_contingency\n",
    "import numpy as np"
   ]
  },
  {
   "cell_type": "code",
   "execution_count": 8,
   "outputs": [
    {
     "data": {
      "text/plain": "0                          age\n2     creatinine_phosphokinase\n4            ejection_fraction\n6                    platelets\n7             serum_creatinine\n8                 serum_sodium\n11                        time\ndtype: object"
     },
     "execution_count": 8,
     "metadata": {},
     "output_type": "execute_result"
    }
   ],
   "source": [
    "heart_data = pd.read_csv(\"/home/yuxuan/kaggle/heart_failure_clinical_records_dataset.csv\")\n",
    "cat_features = [\"anaemia\",\"diabetes\",\"high_blood_pressure\",\"sex\",\"smoking\",\"DEATH_EVENT\"]\n",
    "num_features = pd.Series(heart_data.columns)\n",
    "num_features = num_features[~num_features.isin(cat_features)]\n",
    "num_features"
   ],
   "metadata": {
    "collapsed": false,
    "pycharm": {
     "name": "#%%\n"
    }
   }
  },
  {
   "cell_type": "code",
   "execution_count": 20,
   "outputs": [
    {
     "ename": "SyntaxError",
     "evalue": "invalid syntax (<ipython-input-20-ec625f9a08c1>, line 4)",
     "output_type": "error",
     "traceback": [
      "\u001B[0;36m  File \u001B[0;32m\"<ipython-input-20-ec625f9a08c1>\"\u001B[0;36m, line \u001B[0;32m4\u001B[0m\n\u001B[0;31m    print(f\"\\n{'-'*len(f'CROSSTAB BETWEEN {i.upper()} & DEATH_EVENT')}\")\u001B[0m\n\u001B[0m                                                                      ^\u001B[0m\n\u001B[0;31mSyntaxError\u001B[0m\u001B[0;31m:\u001B[0m invalid syntax\n"
     ]
    }
   ],
   "source": [
    "for i in cat_features:\n",
    "    ct = pd.crosstab(columns=heart_data[i],index=heart_data[\"DEATH_EVENT\"])\n",
    "    stat, p, dof, expected = chi2_contingency(ct)\n",
    "    print(f\"\\n{'-'*len(f'CROSSTAB BETWEEN {i.upper()} & DEATH_EVENT')}\")\n",
    "    print(f\"CROSSTAB BETWEEN {i.upper()} & DEATH_EVENT\")\n",
    "    print(f\"{'-'*len(f'CROSSTAB BETWEEN {i.upper()} & DEATH_EVENT')}\")\n",
    "    print(ct)\n",
    "    print(f\"\\nH0: THERE IS NO RELATIONSHIP BETWEEN DEATH_EVENT & {i.upper()}\\nH1: THERE IS RELATIONSHIP BETWEEN DEATH_EVENT & {i.upper()}\")\n",
    "    print(f\"\\nP-VALUE: {np.round(p,2)}\")\n",
    "    print(\"REJECT H0\" if p<0.05 else \"FAILED TO REJECT H0\")"
   ],
   "metadata": {
    "collapsed": false,
    "pycharm": {
     "name": "#%%\n"
    }
   }
  },
  {
   "cell_type": "code",
   "execution_count": 31,
   "outputs": [
    {
     "name": "stdout",
     "output_type": "stream",
     "text": [
      "\n",
      "\n",
      "--------------------------------------\n",
      "CROSSTAB BETWEEN ANAEMIA & DEATH_EVENT\n",
      "--------------------------------------\n",
      "anaemia        0   1\n",
      "DEATH_EVENT         \n",
      "0            120  83\n",
      "1             50  46\n",
      "\n",
      "\n",
      "H0: THERE IS NO RELATIONSHIP BETWEEN DEATH_EVENT & ANAEMIA \n",
      "H1: THERE IS RELATIONSHIP BETWEEN DEATH_EVENT & ANAEMIA\n",
      "\n",
      "P-VALUE: 0.31\n",
      "FAILED TO REJECT H0\n",
      "\n",
      "\n",
      "---------------------------------------\n",
      "CROSSTAB BETWEEN DIABETES & DEATH_EVENT\n",
      "---------------------------------------\n",
      "diabetes       0   1\n",
      "DEATH_EVENT         \n",
      "0            118  85\n",
      "1             56  40\n",
      "\n",
      "\n",
      "H0: THERE IS NO RELATIONSHIP BETWEEN DEATH_EVENT & DIABETES \n",
      "H1: THERE IS RELATIONSHIP BETWEEN DEATH_EVENT & DIABETES\n",
      "\n",
      "P-VALUE: 0.93\n",
      "FAILED TO REJECT H0\n",
      "\n",
      "\n",
      "--------------------------------------------------\n",
      "CROSSTAB BETWEEN HIGH_BLOOD_PRESSURE & DEATH_EVENT\n",
      "--------------------------------------------------\n",
      "high_blood_pressure    0   1\n",
      "DEATH_EVENT                 \n",
      "0                    137  66\n",
      "1                     57  39\n",
      "\n",
      "\n",
      "H0: THERE IS NO RELATIONSHIP BETWEEN DEATH_EVENT & HIGH_BLOOD_PRESSURE \n",
      "H1: THERE IS RELATIONSHIP BETWEEN DEATH_EVENT & HIGH_BLOOD_PRESSURE\n",
      "\n",
      "P-VALUE: 0.21\n",
      "FAILED TO REJECT H0\n",
      "\n",
      "\n",
      "----------------------------------\n",
      "CROSSTAB BETWEEN SEX & DEATH_EVENT\n",
      "----------------------------------\n",
      "sex           0    1\n",
      "DEATH_EVENT         \n",
      "0            71  132\n",
      "1            34   62\n",
      "\n",
      "\n",
      "H0: THERE IS NO RELATIONSHIP BETWEEN DEATH_EVENT & SEX \n",
      "H1: THERE IS RELATIONSHIP BETWEEN DEATH_EVENT & SEX\n",
      "\n",
      "P-VALUE: 0.96\n",
      "FAILED TO REJECT H0\n",
      "\n",
      "\n",
      "--------------------------------------\n",
      "CROSSTAB BETWEEN SMOKING & DEATH_EVENT\n",
      "--------------------------------------\n",
      "smoking        0   1\n",
      "DEATH_EVENT         \n",
      "0            137  66\n",
      "1             66  30\n",
      "\n",
      "\n",
      "H0: THERE IS NO RELATIONSHIP BETWEEN DEATH_EVENT & SMOKING \n",
      "H1: THERE IS RELATIONSHIP BETWEEN DEATH_EVENT & SMOKING\n",
      "\n",
      "P-VALUE: 0.93\n",
      "FAILED TO REJECT H0\n",
      "\n",
      "\n",
      "------------------------------------------\n",
      "CROSSTAB BETWEEN DEATH_EVENT & DEATH_EVENT\n",
      "------------------------------------------\n",
      "DEATH_EVENT    0   1\n",
      "DEATH_EVENT         \n",
      "0            203   0\n",
      "1              0  96\n",
      "\n",
      "\n",
      "H0: THERE IS NO RELATIONSHIP BETWEEN DEATH_EVENT & DEATH_EVENT \n",
      "H1: THERE IS RELATIONSHIP BETWEEN DEATH_EVENT & DEATH_EVENT\n",
      "\n",
      "P-VALUE: 0.0\n",
      "REJECT H0\n"
     ]
    }
   ],
   "source": [
    "for i in cat_features:\n",
    "    ct = pd.crosstab(columns=heart_data[i],index=heart_data[\"DEATH_EVENT\"])\n",
    "    stat, p, dof, expected = chi2_contingency(ct)\n",
    "    print('\\n')\n",
    "    print('-'*len('CROSSTAB BETWEEN {} & DEATH_EVENT'.format(i.upper())))\n",
    "    print(\"CROSSTAB BETWEEN {} & DEATH_EVENT\".format(i.upper()))\n",
    "    print('-'*len('CROSSTAB BETWEEN {} & DEATH_EVENT'.format(i.upper())))\n",
    "    print(ct)\n",
    "    print('\\n')\n",
    "    print(\"H0: THERE IS NO RELATIONSHIP BETWEEN DEATH_EVENT & {} \\nH1: THERE IS RELATIONSHIP BETWEEN DEATH_EVENT & {}\".format(i.upper(),i.upper()))\n",
    "    print(\"\\nP-VALUE: {}\".format(np.round(p,2)))\n",
    "    print(\"REJECT H0\" if p<0.05 else \"FAILED TO REJECT H0\")\n"
   ],
   "metadata": {
    "collapsed": false,
    "pycharm": {
     "name": "#%%\n"
    }
   }
  },
  {
   "cell_type": "code",
   "execution_count": 23,
   "outputs": [
    {
     "name": "stdout",
     "output_type": "stream",
     "text": [
      "{'----------'}\n"
     ]
    }
   ],
   "source": [
    "print({'-'*10})\n",
    "\n"
   ],
   "metadata": {
    "collapsed": false,
    "pycharm": {
     "name": "#%%\n"
    }
   }
  },
  {
   "cell_type": "code",
   "execution_count": null,
   "outputs": [],
   "source": [
    "\n"
   ],
   "metadata": {
    "collapsed": false,
    "pycharm": {
     "name": "#%%\n"
    }
   }
  }
 ],
 "metadata": {
  "kernelspec": {
   "display_name": "Python 3",
   "language": "python",
   "name": "python3"
  },
  "language_info": {
   "codemirror_mode": {
    "name": "ipython",
    "version": 2
   },
   "file_extension": ".py",
   "mimetype": "text/x-python",
   "name": "python",
   "nbconvert_exporter": "python",
   "pygments_lexer": "ipython2",
   "version": "2.7.6"
  }
 },
 "nbformat": 4,
 "nbformat_minor": 0
}