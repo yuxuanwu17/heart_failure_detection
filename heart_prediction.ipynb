{
 "cells": [
  {
   "cell_type": "markdown",
   "source": [
    "# Background Data\n",
    "\n",
    "Cardiovascular diseases (CVDs) are the number 1 cause of death globally, taking an estimated 17.9 million lives each year, which accounts for 31% of all deaths worlwide.\n",
    "Heart failure is a common event caused by CVDs and this dataset contains 12 features that can be used to predict mortality by heart failure.\n",
    "\n",
    "Most cardiovascular diseases can be prevented by addressing behavioural risk factors such as tobacco use, unhealthy diet and obesity, physical inactivity and harmful use of alcohol using population-wide strategies.\n",
    "\n",
    "People with cardiovascular disease or who are at high cardiovascular risk (due to the presence of one or more risk factors such as hypertension, diabetes, hyperlipidaemia or already established disease) need early detection and management wherein a machine learning model can be of great help."
   ],
   "metadata": {
    "collapsed": false
   }
  },
  {
   "cell_type": "markdown",
   "source": [
    "# Import the libraries"
   ],
   "metadata": {
    "collapsed": false
   }
  },
  {
   "cell_type": "code",
   "execution_count": null,
   "outputs": [],
   "source": [
    "%matplotlib inline\n",
    "import pandas as pd\n",
    "import numpy as np\n",
    "import plotly.express as px\n",
    "import plotly.graph_objs as go\n",
    "import matplotlib.pyplot as plt\n",
    "from plotly.subplots import make_subplots\n",
    "import seaborn as sn\n",
    "from sklearn.preprocessing import StandardScaler\n",
    "from sklearn.model_selection import train_test_split, ShuffleSplit, learning_curve\n",
    "from sklearn.linear_model import LogisticRegression\n",
    "from sklearn.neighbors import KNeighborsClassifier\n",
    "from sklearn.tree import DecisionTreeClassifier\n",
    "from sklearn.svm import SVC\n",
    "from sklearn import svm\n",
    "from sklearn.ensemble import GradientBoostingClassifier\n",
    "from sklearn.ensemble import RandomForestClassifier\n",
    "from catboost import CatBoostClassifier\n",
    "from sklearn.metrics import accuracy_score, plot_confusion_matrix, confusion_matrix"
   ],
   "metadata": {
    "collapsed": false,
    "pycharm": {
     "name": "#%%\n"
    }
   }
  },
  {
   "cell_type": "markdown",
   "source": [
    "# Data exploration\n",
    "\n",
    "### Specify the size of plot"
   ],
   "metadata": {
    "collapsed": false
   }
  },
  {
   "cell_type": "code",
   "execution_count": null,
   "outputs": [],
   "source": [
    "HEIGHT = 500\n",
    "WIDTH = 700\n",
    "NBINS = 50\n",
    "SCATTER_SIZE=700"
   ],
   "metadata": {
    "collapsed": false,
    "pycharm": {
     "name": "#%%\n"
    }
   }
  },
  {
   "cell_type": "markdown",
   "source": [
    "### Return the head of the data"
   ],
   "metadata": {
    "collapsed": false
   }
  },
  {
   "cell_type": "code",
   "execution_count": null,
   "outputs": [],
   "source": [
    "heart_data = pd.read_csv(\"/home/yuxuan/kaggle/heart_failure_clinical_records_dataset.csv\")\n",
    "heart_data.head()"
   ],
   "metadata": {
    "collapsed": false,
    "pycharm": {
     "name": "#%%\n"
    }
   }
  },
  {
   "cell_type": "markdown",
   "source": [
    "### Return the summary of the data"
   ],
   "metadata": {
    "collapsed": false
   }
  },
  {
   "cell_type": "code",
   "execution_count": null,
   "outputs": [],
   "source": [
    "heart_data.describe()"
   ],
   "metadata": {
    "collapsed": false,
    "pycharm": {
     "name": "#%%\n"
    }
   }
  },
  {
   "cell_type": "markdown",
   "source": [
    "### Return the size of the data"
   ],
   "metadata": {
    "collapsed": false
   }
  },
  {
   "cell_type": "code",
   "execution_count": null,
   "outputs": [],
   "source": [
    "print(heart_data.shape)"
   ],
   "metadata": {
    "collapsed": false,
    "pycharm": {
     "name": "#%%\n"
    }
   }
  },
  {
   "cell_type": "markdown",
   "source": [
    "Let's check the ratio of the NaNs for every columns"
   ],
   "metadata": {
    "collapsed": false
   }
  },
  {
   "cell_type": "code",
   "execution_count": null,
   "outputs": [],
   "source": [
    "for col in heart_data.columns:\n",
    "    print(col, str(round(100* heart_data[col].isnull().sum() / len(heart_data), 2)) + '%')"
   ],
   "metadata": {
    "collapsed": false,
    "pycharm": {
     "name": "#%%\n"
    }
   }
  },
  {
   "cell_type": "markdown",
   "source": [
    "As can be seen the head of the data, there are 13 dimensions and 299 samples.\n",
    "All the columns are devoid of NaNs.\n",
    "We need make some rules before the data processing\n",
    "\n",
    "- Sex - Gender of patient Male = 1, Female =0\n",
    "- Age - Age of patient\n",
    "- Diabetes - 0 = No, 1 = Yes\n",
    "- Anaemia - 0 = No, 1 = Yes\n",
    "- High_blood_pressure - 0 = No, 1 = Yes\n",
    "- Smoking - 0 = No, 1 = Yes\n",
    "- DEATH_EVENT - 0 = No, 1 = Yes"
   ],
   "metadata": {
    "collapsed": false
   }
  },
  {
   "cell_type": "markdown",
   "source": [
    "#### Patients age distribution with gender"
   ],
   "metadata": {
    "collapsed": false
   }
  },
  {
   "cell_type": "code",
   "execution_count": null,
   "outputs": [],
   "source": [
    "def plot_histogram(dataframe, column, color, bins, marginal,title, width=WIDTH, height=HEIGHT):\n",
    "    figure = px.histogram(\n",
    "        dataframe,\n",
    "        column,\n",
    "        color=color,\n",
    "        nbins=bins,\n",
    "        marginal= marginal,\n",
    "        title=title,\n",
    "        width=width,\n",
    "        height=height\n",
    "    )\n",
    "    figure.show()"
   ],
   "metadata": {
    "collapsed": false,
    "pycharm": {
     "name": "#%%\n"
    }
   }
  },
  {
   "cell_type": "code",
   "execution_count": null,
   "outputs": [],
   "source": [
    "plot_histogram(heart_data, 'age', 'sex', NBINS, \"violin\",'Figure 1: Patients age distribution with gender')"
   ],
   "metadata": {
    "collapsed": false,
    "pycharm": {
     "name": "#%%\n"
    }
   }
  },
  {
   "cell_type": "markdown",
   "source": [
    "Wider section of the violin plot represent a higher probability of observations\n",
    "taking a given value, the thinner sections corresponding a lower probability and\n",
    "the value of probability is given by kde value (Kernel Density Estimation) for given x\n",
    "\n",
    "Figure 1:\n",
    "- Most patients' age ranged from 40 to 80\n",
    "- Only a small amount of patients were smaller than 40 or older than 80"
   ],
   "metadata": {
    "collapsed": false
   }
  },
  {
   "cell_type": "markdown",
   "source": [
    "#### Box plot of gender and age distribution"
   ],
   "metadata": {
    "collapsed": false
   }
  },
  {
   "cell_type": "code",
   "execution_count": null,
   "outputs": [],
   "source": [
    "def plot_boxplot(dataframe, x, y,points,title,width=WIDTH, height=HEIGHT):\n",
    "    figure = px.box(\n",
    "        dataframe,\n",
    "        x=x,\n",
    "        y=y,\n",
    "        points=points,\n",
    "        title=title,\n",
    "        width=width,\n",
    "        height=height\n",
    "    )\n",
    "    figure.show()"
   ],
   "metadata": {
    "collapsed": false,
    "pycharm": {
     "name": "#%%\n"
    }
   }
  },
  {
   "cell_type": "code",
   "execution_count": null,
   "outputs": [],
   "source": [
    "# plot_boxplot(heart_data, 'sex', 'age', None,'Figure 3: Box plot of patients\\' age distribution with death event')\n",
    "plot_boxplot(heart_data, 'sex', 'age', \"all\",'Figure 2: Box plot of patients\\' age distribution with gender <br> '\n",
    "                                             'Male = 1 Female = 0')"
   ],
   "metadata": {
    "collapsed": false,
    "pycharm": {
     "name": "#%%\n"
    }
   }
  },
  {
   "cell_type": "markdown",
   "source": [
    "### Analysis on survival rate with different factors"
   ],
   "metadata": {
    "collapsed": false
   }
  },
  {
   "cell_type": "markdown",
   "source": [
    "#### Analysis of age distribution in death event"
   ],
   "metadata": {
    "collapsed": false
   }
  },
  {
   "cell_type": "code",
   "execution_count": null,
   "outputs": [],
   "source": [
    "plot_histogram(heart_data, 'age', 'DEATH_EVENT', NBINS, \"violin\",'Figure 3: Patients age distribution with death event')"
   ],
   "metadata": {
    "collapsed": false,
    "pycharm": {
     "name": "#%%\n"
    }
   }
  },
  {
   "cell_type": "raw",
   "source": [
    "Figure 3:\n",
    "- The age distribution was similar in figure 1\n",
    "- Most people survived, but the older people (>80) seems to have a high mortality rate"
   ],
   "metadata": {
    "collapsed": false
   }
  },
  {
   "cell_type": "code",
   "execution_count": null,
   "outputs": [],
   "source": [
    "male = heart_data[heart_data[\"sex\"]==1]\n",
    "female = heart_data[heart_data[\"sex\"]==0]\n",
    "male_survival= male[male[\"DEATH_EVENT\"]==0]\n",
    "female_survival= female[female[\"DEATH_EVENT\"]==0]\n",
    "## assign the labels\n",
    "labels = ['Male - Survived','Male - Not Survived', \"Female -  Survived\", \"Female - Not Survived\"]\n",
    "## value is set according to the labels\n",
    "values = [len(male[heart_data[\"DEATH_EVENT\"]==0]),len(male[heart_data[\"DEATH_EVENT\"]==1]),\n",
    "         len(female[heart_data[\"DEATH_EVENT\"]==0]),len(female[heart_data[\"DEATH_EVENT\"]==1])]\n",
    "fig = go.Figure(data=[go.Pie(labels=labels,values=values,hole=.3)])\n",
    "fig.update_layout(\n",
    "    title_text = \"Figure 4: Analysis on Survival - Gender factor\"\n",
    ")\n",
    "fig.show()"
   ],
   "metadata": {
    "collapsed": false,
    "pycharm": {
     "name": "#%%\n"
    }
   }
  },
  {
   "cell_type": "markdown",
   "source": [
    "Based on Figure 4, there is no clear patterns or association between gender factor and death rate.\n",
    "Males and females seem to have the similar mortality/survival rate "
   ],
   "metadata": {
    "collapsed": false
   }
  },
  {
   "cell_type": "markdown",
   "source": [
    "#### Analysis of the combination of gender and age factors between the survival status (Violin plot)"
   ],
   "metadata": {
    "collapsed": false
   }
  },
  {
   "cell_type": "code",
   "execution_count": null,
   "outputs": [],
   "source": [
    "## Define the violin plot function method\n",
    "def violin_boxplot(dataframe, x, y,color,points,hover_data, box, width=WIDTH, height=HEIGHT):\n",
    "    figure = px.violin(\n",
    "        dataframe,\n",
    "        x=x,\n",
    "        y=y,\n",
    "        color = color,\n",
    "        box = box,\n",
    "        hover_data=hover_data,\n",
    "        points=points,\n",
    "        width=width,\n",
    "        height=height\n",
    "    )\n",
    "    figure.update_layout(title_text=\"Figure 5: Analysis of both gender and age factors in survival rates\")\n",
    "    figure.show()\n",
    "    "
   ],
   "metadata": {
    "collapsed": false,
    "pycharm": {
     "name": "#%% \n"
    }
   }
  },
  {
   "cell_type": "code",
   "execution_count": null,
   "outputs": [],
   "source": [
    "violin_boxplot(heart_data,x = \"sex\",y=\"age\",color=\"DEATH_EVENT\",points=\"all\",box=True,hover_data=heart_data.columns)"
   ],
   "metadata": {
    "collapsed": false,
    "pycharm": {
     "name": "#%%\n"
    }
   }
  },
  {
   "cell_type": "markdown",
   "source": [
    "Figure 5 illustrate that:\n",
    "- The survival rate is high in male between 50-60 ages, while female's survival rate is high between 60-70 ages"
   ],
   "metadata": {
    "collapsed": false
   }
  },
  {
   "cell_type": "markdown",
   "source": [
    "#### Analysis of serum_creatinine in survival status"
   ],
   "metadata": {
    "collapsed": false
   }
  },
  {
   "cell_type": "code",
   "execution_count": null,
   "outputs": [],
   "source": [
    "plot_histogram(heart_data, 'serum_creatinine', 'DEATH_EVENT', NBINS, \"violin\",'Figure 6: Distribution of serum creatinine VS death event')"
   ],
   "metadata": {
    "collapsed": false,
    "pycharm": {
     "name": "#%%\n"
    }
   }
  },
  {
   "cell_type": "markdown",
   "source": [
    "#### Analysis of serum_sodium in survival status"
   ],
   "metadata": {
    "collapsed": false
   }
  },
  {
   "cell_type": "code",
   "execution_count": null,
   "outputs": [],
   "source": [
    "plot_histogram(heart_data, 'serum_sodium', 'DEATH_EVENT', NBINS, \"violin\",'Figure 7: Distribution of serum sodium VS death event')"
   ],
   "metadata": {
    "collapsed": false,
    "pycharm": {
     "name": "#%%\n"
    }
   }
  },
  {
   "cell_type": "markdown",
   "source": [
    "#### Analysis of platelets in survival status"
   ],
   "metadata": {
    "collapsed": false
   }
  },
  {
   "cell_type": "code",
   "execution_count": null,
   "outputs": [],
   "source": [
    "plot_histogram(heart_data, 'platelets', 'DEATH_EVENT', NBINS, \"violin\",'Figure 8: Distribution of platelets VS death event')"
   ],
   "metadata": {
    "collapsed": false,
    "pycharm": {
     "name": "#%%\n"
    }
   }
  },
  {
   "cell_type": "markdown",
   "source": [
    "#### Analysis of ejection fraction in survival status"
   ],
   "metadata": {
    "collapsed": false
   }
  },
  {
   "cell_type": "code",
   "execution_count": null,
   "outputs": [],
   "source": [
    "plot_histogram(heart_data, 'ejection_fraction', 'DEATH_EVENT', NBINS, \"violin\",'Figure 9: Distribution of ejection fraction VS death event')"
   ],
   "metadata": {
    "collapsed": false,
    "pycharm": {
     "name": "#%%\n"
    }
   }
  },
  {
   "cell_type": "markdown",
   "source": [
    "#### Analysis of creatinine phosphokinase in survival status"
   ],
   "metadata": {
    "collapsed": false
   }
  },
  {
   "cell_type": "code",
   "execution_count": null,
   "outputs": [],
   "source": [
    "plot_histogram(heart_data, 'creatinine_phosphokinase', 'DEATH_EVENT', NBINS, \"violin\",'Figure 10: Distribution of creatinine_phosphokinase VS death event')"
   ],
   "metadata": {
    "collapsed": false,
    "pycharm": {
     "name": "#%%\n"
    }
   }
  },
  {
   "cell_type": "markdown",
   "source": [
    "### Analysis of binary data factors in determining the death event"
   ],
   "metadata": {
    "collapsed": false
   }
  },
  {
   "cell_type": "markdown",
   "source": [
    "#### Analysis of the anaemia and potential corresponding death event"
   ],
   "metadata": {
    "collapsed": false
   }
  },
  {
   "cell_type": "code",
   "execution_count": null,
   "outputs": [],
   "source": [
    "dataset = heart_data\n",
    "d1 = dataset[(dataset[\"DEATH_EVENT\"]==0) & (dataset[\"diabetes\"]==0)]\n",
    "d2 = dataset[(dataset[\"DEATH_EVENT\"]==0) & (dataset[\"diabetes\"]==1)]\n",
    "d3 = dataset[(dataset[\"DEATH_EVENT\"]==1) & (dataset[\"diabetes\"]==0)]\n",
    "d4 = dataset[(dataset[\"DEATH_EVENT\"]==1) & (dataset[\"diabetes\"]==1)]\n",
    "\n",
    "label1 = [\"No Diabetes\",\"Diabetes\"]\n",
    "label2 = ['No Diabetes - Survived','Diabetes - Survived', \"No Diabetes -  Died\", \"Diabetes  - Died\"]\n",
    "values1 = [(len(d1)+len(d3)), (len(d2)+len(d4))]\n",
    "values2 = [len(d1),len(d2),len(d3),len(d4)]\n",
    "\n",
    "# Create subplots: use 'domain' type for Pie subplot\n",
    "fig = make_subplots(rows=1, cols=2, specs=[[{'type':'domain'}, {'type':'domain'}]])\n",
    "fig.add_trace(go.Pie(labels=label1, values=values1, name=\"DIABETES\"),\n",
    "              1, 1)\n",
    "fig.add_trace(go.Pie(labels=label2, values=values2, name=\"DIABETES VS DEATH_EVENT\"),\n",
    "              1, 2)\n",
    "\n",
    "# Use `hole` to create a donut-like pie chart\n",
    "fig.update_traces(hole=.4, hoverinfo=\"label+percent\")\n",
    "\n",
    "fig.update_layout(\n",
    "    title_text=\"Figure 11: DIABETES DISTRIBUTION IN THE DATASET \\\n",
    "                  DIABETES VS DEATH_EVENT\",\n",
    "    # Add annotations in the center of the donut pies.\n",
    "    annotations=[dict(text='DIABETES', x=0.20, y=0.5, font_size=10, showarrow=False),\n",
    "                 dict(text='DIABETES VS DEATH_EVENT', x=0.845, y=0.5, font_size=8, showarrow=False)],\n",
    "    autosize=False,width=1200, height=500, paper_bgcolor=\"white\")\n",
    "\n",
    "\n",
    "fig.show()"
   ],
   "metadata": {
    "collapsed": false,
    "pycharm": {
     "name": "#%%\n"
    }
   }
  },
  {
   "cell_type": "markdown",
   "source": [
    "#### From the above plot, we could conclude that in our dataset 58.2% are Non-diabietes (39.5% survived and 18.7% died) and 41.8% are diabetes (28.4% survived and 13.4% died)"
   ],
   "metadata": {
    "collapsed": false
   }
  },
  {
   "cell_type": "code",
   "execution_count": null,
   "outputs": [],
   "source": [
    "\n",
    "d1 = dataset[(dataset[\"DEATH_EVENT\"]==0) & (dataset[\"anaemia\"]==0)]\n",
    "d2 = dataset[(dataset[\"DEATH_EVENT\"]==1) & (dataset[\"anaemia\"]==0)]\n",
    "d3 = dataset[(dataset[\"DEATH_EVENT\"]==0) & (dataset[\"anaemia\"]==1)]\n",
    "d4 = dataset[(dataset[\"DEATH_EVENT\"]==1) & (dataset[\"anaemia\"]==1)]\n",
    "\n",
    "label1 = [\"No Anaemia\",\"Anaemia\"]\n",
    "label2 = ['No Anaemia - Survived','No Anaemia - Died', \"Anaemia -  Survived\", \"Anaemia  - Died\"]\n",
    "values1 = [(len(d1)+len(d2)), (len(d3)+len(d4))]\n",
    "values2 = [len(d1),len(d2),len(d3),len(d4)]\n",
    "\n",
    "# Create subplots: use 'domain' type for Pie subplot\n",
    "fig = make_subplots(rows=1, cols=2, specs=[[{'type':'domain'}, {'type':'domain'}]])\n",
    "fig.add_trace(go.Pie(labels=label1, values=values1, name=\"ANAEMIA\"),\n",
    "              1, 1)\n",
    "fig.add_trace(go.Pie(labels=label2, values=values2, name=\"ANAEMIA VS DEATH_EVENT\"),\n",
    "              1, 2)\n",
    "\n",
    "# Use `hole` to create a donut-like pie chart\n",
    "fig.update_traces(hole=.4, hoverinfo=\"label+percent\")\n",
    "\n",
    "fig.update_layout(\n",
    "    title_text=\"Figure 12: ANAEMIA DISTRIBUTION IN THE DATASET \\\n",
    "                  ANAEMIA VS DEATH_EVENT\",\n",
    "    # Add annotations in the center of the donut pies.\n",
    "    annotations=[dict(text='ANAEMIA', x=0.20, y=0.5, font_size=10, showarrow=False),\n",
    "                 dict(text='ANAEMIA VS DEATH_EVENT', x=0.84, y=0.5, font_size=8, showarrow=False)],\n",
    "    autosize=False,width=1200, height=500, paper_bgcolor=\"white\")\n",
    "fig.show()\n"
   ],
   "metadata": {
    "collapsed": false,
    "pycharm": {
     "name": "#%%\n"
    }
   }
  },
  {
   "cell_type": "markdown",
   "source": [
    "#### From the above plot, we could conclude that in our dataset 56.9% are Non-anaemia (40.1% survived and 16.7% died) and 43.1% are anaemia (27.8% survived and 15.4% died)"
   ],
   "metadata": {
    "collapsed": false
   }
  },
  {
   "cell_type": "code",
   "execution_count": null,
   "outputs": [],
   "source": [
    "\n",
    "d1 = dataset[(dataset[\"DEATH_EVENT\"]==0) & (dataset[\"high_blood_pressure\"]==0)]\n",
    "d2 = dataset[(dataset[\"DEATH_EVENT\"]==1) & (dataset[\"high_blood_pressure\"]==0)]\n",
    "d3 = dataset[(dataset[\"DEATH_EVENT\"]==0) & (dataset[\"high_blood_pressure\"]==1)]\n",
    "d4 = dataset[(dataset[\"DEATH_EVENT\"]==1) & (dataset[\"high_blood_pressure\"]==1)]\n",
    "\n",
    "label1 = [\"No High BP\",\"High BP\"]\n",
    "label2 = ['No High BP - Survived','No High BP - Died', \"High BP -  Survived\", \"High BP  - Died\"]\n",
    "values1 = [(len(d1)+len(d2)), (len(d3)+len(d4))]\n",
    "values2 = [len(d1),len(d2),len(d3),len(d4)]\n",
    "\n",
    "# Create subplots: use 'domain' type for Pie subplot\n",
    "fig = make_subplots(rows=1, cols=2, specs=[[{'type':'domain'}, {'type':'domain'}]])\n",
    "fig.add_trace(go.Pie(labels=label1, values=values1, name=\"HIGH BP\"),\n",
    "              1, 1)\n",
    "fig.add_trace(go.Pie(labels=label2, values=values2, name=\"HIGH BP VS DEATH_EVENT\"),\n",
    "              1, 2)\n",
    "\n",
    "# Use `hole` to create a donut-like pie chart\n",
    "fig.update_traces(hole=.4, hoverinfo=\"label+percent\")\n",
    "\n",
    "fig.update_layout(\n",
    "    title_text=\"Figure 13: HIGH BP DISTRIBUTION IN THE DATASET \\\n",
    "                  HIGH BP VS DEATH_EVENT\",\n",
    "    # Add annotations in the center of the donut pies.\n",
    "    annotations=[dict(text='HIGH BP', x=0.20, y=0.5, font_size=10, showarrow=False),\n",
    "                 dict(text='HIGH BP VS DEATH_EVENT', x=0.84, y=0.5, font_size=8, showarrow=False)],\n",
    "    autosize=False,width=1200, height=500, paper_bgcolor=\"white\")\n",
    "fig.show()\n"
   ],
   "metadata": {
    "collapsed": false,
    "pycharm": {
     "name": "#%%\n"
    }
   }
  },
  {
   "cell_type": "markdown",
   "source": [
    "#### From the above plot, we could conclude that in our dataset 64.9% are Non-high blood pressure (45.8% survived and 19.1% died) and 35.1% are high blood pressure (22.1% survived and 13% died)"
   ],
   "metadata": {
    "collapsed": false
   }
  },
  {
   "cell_type": "code",
   "execution_count": null,
   "outputs": [],
   "source": [
    "\n",
    "d1 = dataset[(dataset[\"DEATH_EVENT\"]==0) & (dataset[\"smoking\"]==0)]\n",
    "d2 = dataset[(dataset[\"DEATH_EVENT\"]==1) & (dataset[\"smoking\"]==0)]\n",
    "d3 = dataset[(dataset[\"DEATH_EVENT\"]==0) & (dataset[\"smoking\"]==1)]\n",
    "d4 = dataset[(dataset[\"DEATH_EVENT\"]==1) & (dataset[\"smoking\"]==1)]\n",
    "\n",
    "label1 = [\"No Smoking\",\"Smoking\"]\n",
    "label2 = ['No Smoking - Survived','No Smoking - Died', \"Smoking - Survived\", \"Smoking - Died\"]\n",
    "values1 = [(len(d1)+len(d2)), (len(d3)+len(d4))]\n",
    "values2 = [len(d1),len(d2),len(d3),len(d4)]\n",
    "\n",
    "# Create subplots: use 'domain' type for Pie subplot\n",
    "fig = make_subplots(rows=1, cols=2, specs=[[{'type':'domain'}, {'type':'domain'}]])\n",
    "fig.add_trace(go.Pie(labels=label1, values=values1, name=\"SMOKING\"),\n",
    "              1, 1)\n",
    "fig.add_trace(go.Pie(labels=label2, values=values2, name=\"SMOKING VS DEATH_EVENT\"),\n",
    "              1, 2)\n",
    "\n",
    "# Use `hole` to create a donut-like pie chart\n",
    "fig.update_traces(hole=.4, hoverinfo=\"label+percent\")\n",
    "\n",
    "fig.update_layout(\n",
    "    title_text=\"Figure 14: SMOKING DISTRIBUTION IN THE DATASET \\\n",
    "                  SMOKING VS DEATH_EVENT\",\n",
    "    # Add annotations in the center of the donut pies.\n",
    "    annotations=[dict(text='SMOKING', x=0.20, y=0.5, font_size=10, showarrow=False),\n",
    "                 dict(text='SMOKING VS DEATH_EVENT', x=0.84, y=0.5, font_size=8, showarrow=False)],\n",
    "    autosize=False,width=1200, height=500, paper_bgcolor=\"white\")\n",
    "fig.show()\n"
   ],
   "metadata": {
    "collapsed": false,
    "pycharm": {
     "name": "#%%\n"
    }
   }
  },
  {
   "cell_type": "markdown",
   "source": [
    "#### From the above plot, we could conclude that in our dataset 67.9% are not smoking (45.8% survived and 22.1% died) and 32.1% are smoking (22.1% survived and 10% died)"
   ],
   "metadata": {
    "collapsed": false
   }
  },
  {
   "cell_type": "markdown",
   "source": [
    "### Correlation Matrix"
   ],
   "metadata": {
    "collapsed": false
   }
  },
  {
   "cell_type": "markdown",
   "source": [
    "Exclude the column in time. The reason for doing that is 'time' stands for the follw-up periods. It is obvious that follow-up periods will have no influence on heart failure condition. "
   ],
   "metadata": {
    "collapsed": false
   }
  },
  {
   "cell_type": "code",
   "execution_count": null,
   "outputs": [],
   "source": [
    "heart_data = heart_data.drop(['time'],axis=1)"
   ],
   "metadata": {
    "collapsed": false,
    "pycharm": {
     "name": "#%%\n"
    }
   }
  },
  {
   "cell_type": "markdown",
   "source": [
    "#### Visualized the correlation matrix in a heatmap format"
   ],
   "metadata": {
    "collapsed": false
   }
  },
  {
   "cell_type": "code",
   "execution_count": null,
   "outputs": [],
   "source": [
    "plt.figure(figsize=(12,12))\n",
    "sn.heatmap(heart_data.corr(),vmin=-1,cmap='coolwarm',annot=True)"
   ],
   "metadata": {
    "collapsed": false,
    "pycharm": {
     "name": "#%%\n"
    }
   }
  },
  {
   "cell_type": "code",
   "execution_count": null,
   "outputs": [],
   "source": [
    "f = plt.figure(figsize=(12,12))\n",
    "plt.matshow(heart_data.corr(),fignum=f.number)\n",
    "plt.xticks(range(heart_data.shape[1]),heart_data.columns, fontsize=13,rotation=85)\n",
    "plt.yticks(range(heart_data.shape[1]),heart_data.columns, fontsize=13)\n",
    "cb = plt.colorbar()\n",
    "cb.ax.tick_params(labelsize=15)"
   ],
   "metadata": {
    "collapsed": false,
    "pycharm": {
     "name": "#%%\n"
    }
   }
  },
  {
   "cell_type": "markdown",
   "source": [
    "---"
   ],
   "metadata": {
    "collapsed": false
   }
  },
  {
   "cell_type": "markdown",
   "source": [
    "## Data modeling\n",
    "### Train test split"
   ],
   "metadata": {
    "collapsed": false
   }
  },
  {
   "cell_type": "code",
   "execution_count": null,
   "outputs": [],
   "source": [
    "X = heart_data.iloc[:,0:11]\n",
    "X = StandardScaler().fit_transform(X)\n",
    "y = heart_data['DEATH_EVENT']\n",
    "X_train, X_test, y_train, y_test = train_test_split(X,y,test_size=0.2,random_state=2)"
   ],
   "metadata": {
    "collapsed": false,
    "pycharm": {
     "name": "#%%\n"
    }
   }
  },
  {
   "cell_type": "code",
   "execution_count": null,
   "outputs": [],
   "source": [
    "accuracy_list = []"
   ],
   "metadata": {
    "collapsed": false,
    "pycharm": {
     "name": "#%%\n"
    }
   }
  },
  {
   "cell_type": "code",
   "execution_count": null,
   "outputs": [],
   "source": [
    "## linear SVM \n",
    "sv_clf = SVC(kernel=\"linear\",random_state=1)\n",
    "sv_clf.fit(X_train, y_train)\n",
    "sv_clf_pred = sv_clf.predict(X_test)\n",
    "sv_clf_acc = accuracy_score(y_test,sv_clf_pred)\n",
    "accuracy_list.append(round(sv_clf_acc,2))"
   ],
   "metadata": {
    "collapsed": false,
    "pycharm": {
     "name": "#%%\n"
    }
   }
  },
  {
   "cell_type": "code",
   "execution_count": null,
   "outputs": [],
   "source": [
    "print(\"Accuracy of linear SVM model is :\",\"{:.2f}%\".format(100*sv_clf_acc))"
   ],
   "metadata": {
    "collapsed": false,
    "pycharm": {
     "name": "#%%\n"
    }
   }
  },
  {
   "cell_type": "code",
   "execution_count": null,
   "outputs": [],
   "source": [
    "## RBF kernel SVM \n",
    "sv_clf = SVC(kernel=\"rbf\",random_state=1)\n",
    "sv_clf.fit(X_train, y_train)\n",
    "sv_clf_pred = sv_clf.predict(X_test)\n",
    "sv_clf_acc = accuracy_score(y_test,sv_clf_pred)\n",
    "print(\"Accuracy of RBF SVM model is :\",\"{:.2f}%\".format(100*sv_clf_acc))\n",
    "# accuracy_list.append(round(sv_clf_acc,2))"
   ],
   "metadata": {
    "collapsed": false,
    "pycharm": {
     "name": "#%%\n"
    }
   }
  },
  {
   "cell_type": "markdown",
   "source": [
    "### Visualize the learning curves"
   ],
   "metadata": {
    "collapsed": false
   }
  },
  {
   "cell_type": "markdown",
   "source": [
    "#### Define the learning curve function"
   ],
   "metadata": {
    "collapsed": false
   }
  },
  {
   "cell_type": "code",
   "execution_count": null,
   "outputs": [],
   "source": [
    "def plot_learning_curve(estimator, title, X, y, axes=None, ylim=None, cv=None,\n",
    "                        n_jobs=None, train_sizes=np.linspace(.1, 1.0, 5)):\n",
    "    if axes is None:\n",
    "        _, axes = plt.subplots(1, 3, figsize=(20, 5))\n",
    "\n",
    "    axes[0].set_title(title)\n",
    "    if ylim is not None:\n",
    "        axes[0].set_ylim(*ylim)\n",
    "    axes[0].set_xlabel(\"Training examples\")\n",
    "    axes[0].set_ylabel(\"Score\")\n",
    "\n",
    "    train_sizes, train_scores, test_scores, fit_times, _ = \\\n",
    "        learning_curve(estimator, X, y, cv=cv, n_jobs=n_jobs,\n",
    "                       train_sizes=train_sizes,\n",
    "                       return_times=True)\n",
    "    train_scores_mean = np.mean(train_scores, axis=1)\n",
    "    train_scores_std = np.std(train_scores, axis=1)\n",
    "    test_scores_mean = np.mean(test_scores, axis=1)\n",
    "    test_scores_std = np.std(test_scores, axis=1)\n",
    "    fit_times_mean = np.mean(fit_times, axis=1)\n",
    "    fit_times_std = np.std(fit_times, axis=1)\n",
    "\n",
    "    # Plot learning curve\n",
    "    axes[0].grid()\n",
    "    axes[0].fill_between(train_sizes, train_scores_mean - train_scores_std,\n",
    "                         train_scores_mean + train_scores_std, alpha=0.1,\n",
    "                         color=\"r\")\n",
    "    axes[0].fill_between(train_sizes, test_scores_mean - test_scores_std,\n",
    "                         test_scores_mean + test_scores_std, alpha=0.1,\n",
    "                         color=\"g\")\n",
    "    axes[0].plot(train_sizes, train_scores_mean, 'o-', color=\"r\",\n",
    "                 label=\"Training score\")\n",
    "    axes[0].plot(train_sizes, test_scores_mean, 'o-', color=\"g\",\n",
    "                 label=\"Cross-validation score\")\n",
    "    axes[0].legend(loc=\"best\")\n",
    "\n",
    "    # Plot n_samples vs fit_times\n",
    "    axes[1].grid()\n",
    "    axes[1].plot(train_sizes, fit_times_mean, 'o-')\n",
    "    axes[1].fill_between(train_sizes, fit_times_mean - fit_times_std,\n",
    "                         fit_times_mean + fit_times_std, alpha=0.1)\n",
    "    axes[1].set_xlabel(\"Training examples\")\n",
    "    axes[1].set_ylabel(\"fit_times\")\n",
    "    axes[1].set_title(\"Scalability of the model\")\n",
    "\n",
    "    # Plot fit_time vs score\n",
    "    axes[2].grid()\n",
    "    axes[2].plot(fit_times_mean, test_scores_mean, 'o-')\n",
    "    axes[2].fill_between(fit_times_mean, test_scores_mean - test_scores_std,\n",
    "                         test_scores_mean + test_scores_std, alpha=0.1)\n",
    "    axes[2].set_xlabel(\"fit_times\")\n",
    "    axes[2].set_ylabel(\"Score\")\n",
    "    axes[2].set_title(\"Performance of the model\")\n",
    "\n",
    "    return plt\n",
    "\n"
   ],
   "metadata": {
    "collapsed": false,
    "pycharm": {
     "name": "#%%\n"
    }
   }
  },
  {
   "cell_type": "markdown",
   "source": [
    "#### Plot the learning curves in a grid way "
   ],
   "metadata": {
    "collapsed": false
   }
  },
  {
   "cell_type": "code",
   "execution_count": null,
   "outputs": [],
   "source": [
    "fig, axes = plt.subplots(3, 2, figsize=(10, 15))\n",
    "\n",
    "\n",
    "title = \"Learning Curves (SVM, linear kernel)\"\n",
    "\n",
    "estimator = SVC(kernel=\"linear\",random_state=1)\n",
    "plot_learning_curve(estimator, title, X, y, axes=axes[:, 0], ylim=(0.5, 1.01),\n",
    "                    n_jobs=10)\n",
    "\n",
    "\n",
    "title = r\"Learning Curves (SVM, RBF kernel)\"\n",
    "\n",
    "estimator = SVC(kernel=\"rbf\",random_state=1)\n",
    "plot_learning_curve(estimator, title, X, y, axes=axes[:, 1], ylim=(0.5, 1.01),\n",
    "                  n_jobs=10)\n",
    "\n",
    "plt.show()\n"
   ],
   "metadata": {
    "collapsed": false,
    "pycharm": {
     "name": "#%%\n"
    }
   }
  },
  {
   "cell_type": "markdown",
   "source": [
    "### Plot the confusion matrix"
   ],
   "metadata": {
    "collapsed": false
   }
  },
  {
   "cell_type": "code",
   "execution_count": null,
   "outputs": [],
   "source": [
    "confusion_matrix(y_test, sv_clf_pred)"
   ],
   "metadata": {
    "collapsed": false,
    "pycharm": {
     "name": "#%%\n"
    }
   }
  },
  {
   "cell_type": "code",
   "execution_count": null,
   "outputs": [],
   "source": [
    "# cm = confusion_matrix(y_test, sv_clf_pred)\n",
    "plt.figure()\n",
    "plot_confusion_matrix(sv_clf,X_test,y_test)\n",
    "plt.title(\"SVC Model - Confusion Matrix\")\n",
    "plt.xticks(range(2), [\"Heart Not Failed\", \"Heart Fail\"], fontsize=8)\n",
    "plt.yticks(range(2), [\"Heart Not Failed\", \"Heart Fail\"], fontsize=8)\n",
    "plt.show()"
   ],
   "metadata": {
    "collapsed": false,
    "pycharm": {
     "name": "#%%\n"
    }
   }
  },
  {
   "cell_type": "markdown",
   "source": [
    "## Optimize the SVM models\n",
    "\n",
    "### Feature selection \n",
    "- Use correlation coefficient > 0.1 with death event"
   ],
   "metadata": {
    "collapsed": false
   }
  },
  {
   "cell_type": "code",
   "execution_count": null,
   "outputs": [],
   "source": [
    "feature_corr = heart_data.corr()\n",
    "feature_corr[abs(feature_corr['DEATH_EVENT']) > 0.1]['DEATH_EVENT']"
   ],
   "metadata": {
    "collapsed": false,
    "pycharm": {
     "name": "#%%\n"
    }
   }
  },
  {
   "cell_type": "markdown",
   "source": [
    "### Visualized plots of feature importance in linear SVM"
   ],
   "metadata": {
    "collapsed": false
   }
  },
  {
   "cell_type": "code",
   "execution_count": null,
   "outputs": [],
   "source": [
    "def feature_plot(classifier, feature_names, top_features=5):\n",
    "    coef = classifier.coef_.ravel()\n",
    "    top_positive_coefficients = np.argsort(coef)[-top_features:]\n",
    "    top_negative_coefficients = np.argsort(coef)[:top_features]\n",
    "    middle_coefficient = np.argsort(coef)[top_features]\n",
    "    top_coefficients = np.hstack([top_negative_coefficients, middle_coefficient, top_positive_coefficients])\n",
    "    plt.figure(figsize=(18, 7))\n",
    "    colors = ['green' if c < 0 else 'blue' for c in coef[top_coefficients]]\n",
    "    plt.bar(np.arange(2 * top_features+1), coef[top_coefficients], color=colors)\n",
    "    feature_names = np.array(feature_names)\n",
    "    plt.xticks(np.arange(2 * top_features+1), feature_names[top_coefficients], rotation=45, ha='right')\n",
    "\n",
    "    plt.show()\n"
   ],
   "metadata": {
    "collapsed": false,
    "pycharm": {
     "name": "#%%\n"
    }
   }
  },
  {
   "cell_type": "code",
   "execution_count": null,
   "outputs": [],
   "source": [
    "heart_data = pd.read_csv(\"/home/yuxuan/kaggle/heart_failure_clinical_records_dataset.csv\")\n",
    "\n",
    "X = heart_data.iloc[:, 0:11]\n",
    "X = StandardScaler().fit_transform(X)\n",
    "y = heart_data['DEATH_EVENT']\n",
    "X_train, X_test, y_train, y_test = train_test_split(X, y, test_size=0.1, shuffle=True, random_state=1)\n",
    "\n",
    "print(heart_data.drop(['DEATH_EVENT', 'time'], axis=1).columns.values)\n",
    "\n",
    "trainedsvm = svm.LinearSVC().fit(X, y)\n",
    "feature_plot(trainedsvm, heart_data.drop(['DEATH_EVENT', 'time'], axis=1).columns.values)\n"
   ],
   "metadata": {
    "collapsed": false,
    "pycharm": {
     "name": "#%%\n"
    }
   }
  },
  {
   "cell_type": "markdown",
   "source": [
    "- The ahead plot illustrates the importance of feature in SVM model. y axis could be considered as weights and the absolute value of weights could suggest the contribution to the final results. \n",
    "- The correlation analysis between factors and death event returned the coefficient > 0.1 features\n",
    "- Both analysis returned three same features: serum_creatinine, age, ejection_fraction\n",
    "- we need to evaluate and compare the performance in serum_sodium and creatinine_phosphokinase"
   ],
   "metadata": {
    "collapsed": false
   }
  },
  {
   "cell_type": "code",
   "execution_count": null,
   "outputs": [],
   "source": [
    "heart_data = pd.read_csv(\"/home/yuxuan/kaggle/heart_failure_clinical_records_dataset.csv\")\n",
    "\n",
    "X = heart_data.iloc[:, 0:11]\n",
    "y = heart_data['DEATH_EVENT']\n",
    "\n",
    "selected_feature = ['serum_creatinine','age', 'ejection_fraction','serum_sodium']\n",
    "X = X[selected_feature]\n",
    "X = StandardScaler().fit_transform(X)\n",
    "X_train, X_test, y_train, y_test = train_test_split(X, y, test_size=0.2, shuffle=True, random_state=1)\n",
    "sv_clf = SVC(kernel=\"linear\",random_state=1)\n",
    "sv_clf.fit(X_train, y_train)\n",
    "sv_clf_pred = sv_clf.predict(X_test)\n",
    "sv_clf_acc = accuracy_score(y_test,sv_clf_pred)\n",
    "accuracy_list.append(round(sv_clf_acc,2))\n",
    "print(\"Accuracy of linear SVM model is :\",\"{:.2f}%\".format(100*sv_clf_acc))"
   ],
   "metadata": {
    "collapsed": false,
    "pycharm": {
     "name": "#%%\n"
    }
   }
  },
  {
   "cell_type": "code",
   "execution_count": null,
   "outputs": [],
   "source": [
    "heart_data = pd.read_csv(\"/home/yuxuan/kaggle/heart_failure_clinical_records_dataset.csv\")\n",
    "\n",
    "X = heart_data.iloc[:, 0:11]\n",
    "y = heart_data['DEATH_EVENT']\n",
    "\n",
    "options = ['serum_sodium','creatinine_phosphokinase']\n",
    "for i in options:\n",
    "    selected_feature = ['serum_creatinine','age', 'ejection_fraction']\n",
    "    selected_feature.append(i)\n",
    "    X_processed = X[selected_feature]\n",
    "    X_processed = StandardScaler().fit_transform(X_processed)\n",
    "    X_train, X_test, y_train, y_test = train_test_split(X_processed, y, test_size=0.2, shuffle=True, random_state=1)\n",
    "    sv_clf = SVC(kernel=\"linear\",random_state=1)\n",
    "    sv_clf.fit(X_train, y_train)\n",
    "    sv_clf_pred = sv_clf.predict(X_test)\n",
    "    sv_clf_acc = accuracy_score(y_test,sv_clf_pred)\n",
    "    sc_clf_acc_format = round(sv_clf_acc*100,2)\n",
    "#     accuracy_list.append(round(sv_clf_acc,2))\n",
    "    print(\"Accuracy of linear SVM model with feature {} is : {}%\".format(i, sc_clf_acc_format))"
   ],
   "metadata": {
    "collapsed": false,
    "pycharm": {
     "name": "#%%\n"
    }
   }
  },
  {
   "cell_type": "markdown",
   "source": [
    "Therefore, four features including serum_creatinine, age, ejection_fraction, creatinine_phosphokinase"
   ],
   "metadata": {
    "collapsed": false
   }
  },
  {
   "cell_type": "markdown",
   "source": [
    "#### Visualized the learning curve after feature selection"
   ],
   "metadata": {
    "collapsed": false
   }
  },
  {
   "cell_type": "code",
   "execution_count": null,
   "outputs": [],
   "source": [
    "\n",
    "fig, axes = plt.subplots(3, 2, figsize=(10, 15))\n",
    "\n",
    "heart_data = pd.read_csv(\"/home/yuxuan/kaggle/heart_failure_clinical_records_dataset.csv\")\n",
    "\n",
    "X = heart_data.iloc[:, 0:11]\n",
    "y = heart_data['DEATH_EVENT']\n",
    "\n",
    "selected_feature = ['serum_creatinine','age', 'ejection_fraction','creatinine_phosphokinase']\n",
    "X_processed = X[selected_feature]\n",
    "X_processed = StandardScaler().fit_transform(X_processed)\n",
    "\n",
    "\n",
    "title = \"Learning Curves (SVM, linear kernel)\"\n",
    "# cv = ShuffleSplit(n_splits=10, test_size=0.2, random_state=0)\n",
    "\n",
    "estimator = SVC(kernel=\"linear\",random_state=1)\n",
    "plot_learning_curve(estimator, title, X_processed, y, axes=axes[:, 0], ylim=(0.5, 1.01),\n",
    "                     n_jobs=10)\n",
    "\n",
    "\n",
    "title = r\"Learning Curves (SVM, RBF kernel)\"\n",
    "\n",
    "# cv = ShuffleSplit(n_splits=10, test_size=0.2, random_state=0)\n",
    "estimator = SVC(kernel=\"rbf\",random_state=1)\n",
    "plot_learning_curve(estimator, title, X_processed, y, axes=axes[:, 1], ylim=(0.5, 1.01),\n",
    "                     n_jobs=10)\n",
    "\n",
    "plt.show()\n",
    "\n"
   ],
   "metadata": {
    "collapsed": false,
    "pycharm": {
     "name": "#%%\n"
    }
   }
  },
  {
   "cell_type": "markdown",
   "source": [
    "- The figure above doesn't indicate either overfitting or underfitting problems \n",
    "- The scability of the model increased, the results tend to be stable compared with the previous models\n",
    "- RBF kenerl has a relative higher performance, but the difference is not significant"
   ],
   "metadata": {
    "collapsed": false
   }
  },
  {
   "cell_type": "markdown",
   "source": [
    "### Compare the efficacy of different preprocessing "
   ],
   "metadata": {
    "collapsed": false
   }
  },
  {
   "cell_type": "markdown",
   "source": [
    "- MinMaxScalar\n",
    "- StandardScalar\n",
    "- RobustScalar"
   ],
   "metadata": {
    "collapsed": false
   }
  },
  {
   "cell_type": "code",
   "execution_count": null,
   "outputs": [],
   "source": [
    "from sklearn.pipeline import Pipeline\n",
    "from sklearn.preprocessing import MinMaxScaler, StandardScaler, RobustScaler\n",
    "# MinMaxScalar \n",
    "pipe1 = Pipeline([(\"scalar\",MinMaxScaler()),(\"svm\",SVC(random_state=1))])\n",
    "pipe1.fit(X_train,y_train)\n",
    "print(\"Test score for MinMaxScalar RBF kernel: {:.3f}\".format(pipe1.score(X_test,y_test)))\n",
    "\n",
    "pipe1_linear = Pipeline([(\"scalar\",MinMaxScaler()),(\"svm\",SVC(kernel=\"linear\",random_state=1))])\n",
    "pipe1_linear.fit(X_train,y_train)\n",
    "print(\"Test score for MinMaxScalar linear kernel: {:.3f}\\n\".format(pipe1_linear.score(X_test,y_test)))\n",
    "\n",
    "\n",
    "# StandardScalar\n",
    "\n",
    "pipe2 = Pipeline([(\"scalar\",StandardScaler()),(\"svm\",SVC(random_state=1))])\n",
    "pipe2.fit(X_train,y_train)\n",
    "print(\"Test score for StandardScalar in RBF kernel: {:.3f}\".format(pipe2.score(X_test,y_test)))\n",
    "\n",
    "pipe2_linear = Pipeline([(\"scalar\",StandardScaler()),(\"svm\",SVC(kernel=\"linear\" ,random_state=1))])\n",
    "pipe2_linear.fit(X_train,y_train)\n",
    "print(\"Test score for StandardScalar in linear kernel: {:.3f}\\n\".format(pipe2_linear.score(X_test,y_test)))\n",
    "\n",
    "# RobustScalar\n",
    "\n",
    "pipe3 = Pipeline([(\"scalar\",RobustScaler()),(\"svm\",SVC(random_state=1))])\n",
    "pipe3.fit(X_train,y_train)\n",
    "print(\"Test score for RobustScalar in RBF kernel: {:.3f}\".format(pipe3.score(X_test,y_test)))\n",
    "\n",
    "pipe3_linear = Pipeline([(\"scalar\",RobustScaler()),(\"svm\",SVC(kernel = \"linear\",random_state=1))])\n",
    "pipe3_linear.fit(X_train,y_train)\n",
    "print(\"Test score for RobustScalar in linear kernel: {:.3f}\".format(pipe3_linear.score(X_test,y_test)))\n"
   ],
   "metadata": {
    "collapsed": false,
    "pycharm": {
     "name": "#%%\n"
    }
   }
  },
  {
   "cell_type": "markdown",
   "source": [
    "- There is no significant difference on different preprocessing method in RBF kernels, especiaaly in MinMaxScalar and StandardScalar.\n",
    "- Overall RBF kernel outperforms than linear kernel.\n",
    "- In this case, I would insist on using StandardScalar in following procedure."
   ],
   "metadata": {
    "collapsed": false
   }
  },
  {
   "cell_type": "markdown",
   "source": [
    "### Ten-fold cross validation of SVM "
   ],
   "metadata": {
    "collapsed": false
   }
  },
  {
   "cell_type": "code",
   "execution_count": null,
   "outputs": [],
   "source": [
    "from sklearn.model_selection import cross_val_score\n",
    "sv_clf = SVC(kernel= 'linear',random_state=1)\n",
    "sv_clf_rbf = SVC(kernel='rbf',random_state=1)\n",
    "scores = cross_val_score(sv_clf, X_processed,y,cv=10)\n",
    "scores_rbf = cross_val_score(sv_clf_rbf, X_processed,y,cv=10)\n",
    "\n",
    "print(\"Ten-fold cross validation scores of linear SVM:{:.3f} \".format(np.mean(scores)))\n",
    "print(\"Ten-fold cross validation scores of RBF kernel SVM:{:.3f}\".format(np.mean(scores_rbf)))\n"
   ],
   "metadata": {
    "collapsed": false,
    "pycharm": {
     "name": "#%%\n"
    }
   }
  },
  {
   "cell_type": "markdown",
   "source": [
    "### Leave-on-out method of SVM"
   ],
   "metadata": {
    "collapsed": false
   }
  },
  {
   "cell_type": "code",
   "execution_count": null,
   "outputs": [],
   "source": [
    "from sklearn.model_selection import LeaveOneOut\n",
    "loo = LeaveOneOut()\n",
    "scores_loo = cross_val_score(sv_clf,X_processed,y,cv=loo)\n",
    "scores_loo_rbf = cross_val_score(sv_clf_rbf,X_processed,y,cv=loo)\n",
    "print(\"Number of CV iterations: {}\".format(len(scores_loo)))\n",
    "print(\"Leave one out method mean scores for linear SVM:{:.3f}\".format(scores_loo.mean()))\n",
    "print(\"Leave one out method mean scores for RBF SVM:{:.3f}\".format(scores_loo_rbf.mean()))\n"
   ],
   "metadata": {
    "collapsed": false,
    "pycharm": {
     "name": "#%%\n"
    }
   }
  },
  {
   "cell_type": "markdown",
   "source": [
    "## The results of either ten-fold cross valdiation and leave one out method results are quite similar"
   ],
   "metadata": {
    "collapsed": false
   }
  },
  {
   "cell_type": "markdown",
   "source": [
    "### Grid search for SVM algorithm with leave-one-out method "
   ],
   "metadata": {
    "collapsed": false
   }
  },
  {
   "cell_type": "code",
   "execution_count": null,
   "outputs": [],
   "source": [
    "from sklearn.model_selection import GridSearchCV\n",
    "param_grid = [{'kernel': ['rbf'],\n",
    "               'C': [0.001,0.01,0.1,1,10,100],\n",
    "               'gamma':[0.001,0.01,0.1,1,10,100]},\n",
    "                {'kernel':['linear'],\n",
    "               'C': [0.001,0.01,0.1,1,10,100]\n",
    "                }]\n",
    "# print(param_grid)\n",
    "\n",
    "loo =LeaveOneOut()\n",
    "\n",
    "grid_search = GridSearchCV(SVC(),param_grid,cv =loo, n_jobs=20)\n",
    "grid_search.fit(X_train,y_train)\n",
    "print(\"Best cross validation accuracy: {:.2f}\".format(grid_search.best_score_))\n",
    "print(\"Test set score: {:.2f}\".format(grid_search.score(X_test,y_test)))\n",
    "print(\"Best parameters: {}\".format(grid_search.best_params_))\n"
   ],
   "metadata": {
    "collapsed": false,
    "pycharm": {
     "name": "#%%\n"
    }
   }
  },
  {
   "cell_type": "code",
   "execution_count": null,
   "outputs": [],
   "source": [
    "results = pd.DataFrame(grid_search.cv_results_)\n",
    "results_rbf = results.iloc[0:36,:]\n",
    "# display(results_rbf.T.head())\n",
    "# display(results.T.head())\n",
    "# display(results.T)"
   ],
   "metadata": {
    "collapsed": false,
    "pycharm": {
     "name": "#%%\n"
    }
   }
  },
  {
   "cell_type": "code",
   "execution_count": null,
   "outputs": [],
   "source": [
    "plt.figure(figsize=(12,12))\n",
    "scores = np.array(results_rbf.mean_test_score).reshape(6,6)\n",
    "\n",
    "heatmap = sn.heatmap(data=scores,xticklabels=param_grid[0]['gamma'],\n",
    "           yticklabels=param_grid[0]['C'],\n",
    "           annot=True)\n",
    "plt.ylabel('C')\n",
    "plt.xlabel(\"gamma\")"
   ],
   "metadata": {
    "collapsed": false,
    "pycharm": {
     "name": "#%%\n"
    }
   }
  },
  {
   "cell_type": "code",
   "execution_count": null,
   "outputs": [],
   "source": [
    "loo = LeaveOneOut()\n",
    "sv_clf_rbf = SVC(kernel='rbf',random_state=1,C=10, gamma = 0.01)\n",
    "scores_loo_rbf = cross_val_score(sv_clf_rbf,X_processed,y,cv=loo)\n",
    "print(\"Number of CV iterations: {}\".format(len(scores_loo)))\n",
    "print(\"Leave one out mean method scores for RBF SVM:{:.3f}\".format(scores_loo_rbf.mean()))"
   ],
   "metadata": {
    "collapsed": false,
    "pycharm": {
     "name": "#%%\n"
    }
   }
  },
  {
   "cell_type": "markdown",
   "source": [
    "As can be seen from the grid search, the SVM with RBF kernel and hyperparameter C: 10, gamma 0.01 could achieve the highest performance"
   ],
   "metadata": {
    "collapsed": false
   }
  },
  {
   "cell_type": "markdown",
   "source": [],
   "metadata": {
    "collapsed": false
   }
  },
  {
   "cell_type": "markdown",
   "source": [
    "### Evaluate the selected model performance and generalization ability"
   ],
   "metadata": {
    "collapsed": false
   }
  },
  {
   "cell_type": "markdown",
   "source": [
    "#### Confusion matrix of the selected model "
   ],
   "metadata": {
    "collapsed": false
   }
  },
  {
   "cell_type": "code",
   "execution_count": null,
   "outputs": [],
   "source": [
    "heart_data = pd.read_csv(\"/home/yuxuan/kaggle/heart_failure_clinical_records_dataset.csv\")\n",
    "\n",
    "X = heart_data.iloc[:, 0:11]\n",
    "y = heart_data['DEATH_EVENT']\n",
    "\n",
    "selected_feature = ['serum_creatinine','age', 'ejection_fraction','creatinine_phosphokinase']\n",
    "X_processed = X[selected_feature]\n",
    "X_processed = StandardScaler().fit_transform(X_processed)\n",
    "X_train, X_test, y_train, y_test = train_test_split(X_processed,y,test_size=0.2,random_state=2)\n",
    "model = SVC(kernel='rbf',random_state=1,C=10, gamma = 0.01)\n",
    "model.fit(X_train,y_train)\n",
    "y_pred = model.predict(X_test)\n",
    "confusion = confusion_matrix(y_test,y_pred)\n",
    "confusion"
   ],
   "metadata": {
    "collapsed": false,
    "pycharm": {
     "name": "#%%\n"
    }
   }
  },
  {
   "cell_type": "code",
   "execution_count": null,
   "outputs": [],
   "source": [
    "plt.figure()\n",
    "plot_confusion_matrix(model,X_test,y_test)\n",
    "plt.title(\"SVC Model - Confusion Matrix\")\n",
    "plt.xticks(range(2), [\"Heart Not Failed\", \"Heart Fail\"], fontsize=8)\n",
    "plt.yticks(range(2), [\"Heart Not Failed\", \"Heart Fail\"], fontsize=8)\n",
    "plt.show()"
   ],
   "metadata": {
    "collapsed": false,
    "pycharm": {
     "name": "#%%\n"
    }
   }
  },
  {
   "cell_type": "code",
   "execution_count": null,
   "outputs": [],
   "source": [
    "from sklearn.metrics import classification_report\n",
    "print(classification_report(y_test,y_pred,target_names=[\"Heart Not Failed\", \"Heart Fail\"]))"
   ],
   "metadata": {
    "collapsed": false,
    "pycharm": {
     "name": "#%%\n"
    }
   }
  },
  {
   "cell_type": "code",
   "execution_count": null,
   "outputs": [],
   "source": [
    "from sklearn.metrics import precision_recall_curve, roc_curve,auc\n",
    "def roc(model, x_val, y_val):\n",
    "    print('Start drawing the roc curve \\n')\n",
    "    y_pred_keras = model.predict(x_val).ravel()\n",
    "    fpr_keras, tpr_keras, thresholds_keras = roc_curve(y_val, y_pred_keras)\n",
    "    auc_keras = auc(fpr_keras, tpr_keras)\n",
    "    # plt.cla()\n",
    "    # plt.figure(figsize=(4, 3))\n",
    "    plt.plot([0, 1], [0, 1], 'k--')\n",
    "    plt.plot(fpr_keras, tpr_keras, label='AUROC (area = {:.3f})'.format(auc_keras))\n",
    "    plt.xlabel('False positive rate')\n",
    "    plt.ylabel('True positive rate')\n",
    "    plt.title('ROC curve')\n",
    "    plt.legend(loc='best')\n",
    "    plt.show()\n",
    "    print('AUROC (area = {:.3f})'.format(auc_keras))\n",
    "    return "
   ],
   "metadata": {
    "collapsed": false,
    "pycharm": {
     "name": "#%%\n"
    }
   }
  },
  {
   "cell_type": "code",
   "execution_count": null,
   "outputs": [],
   "source": [
    "roc(model,X_test,y_test)"
   ],
   "metadata": {
    "collapsed": false,
    "pycharm": {
     "name": "#%%\n"
    }
   }
  },
  {
   "cell_type": "code",
   "execution_count": null,
   "outputs": [],
   "source": [
    "def prcurve(model, x_val, y_val):\n",
    "    lr_precision, lr_recall, _ = precision_recall_curve(y_val, model.decision_function(x_val))\n",
    "    lr_auc = auc(lr_recall, lr_precision)\n",
    "    print('PRAUC:  auc=%.3f' % (lr_auc))\n",
    "    no_skill = len(y_val[y_val == 1]) / len(y_val)\n",
    "    plt.cla()\n",
    "    plt.plot([0, 1], [no_skill, no_skill], linestyle='--', label='No Skill')\n",
    "    plt.plot(lr_recall, lr_precision, marker='.', label='SVM with RBF kernel')\n",
    "    plt.xlabel('Recall')\n",
    "    plt.ylabel('Precision')\n",
    "    plt.legend()\n",
    "    return "
   ],
   "metadata": {
    "collapsed": false,
    "pycharm": {
     "name": "#%%\n"
    }
   }
  },
  {
   "cell_type": "code",
   "execution_count": null,
   "outputs": [],
   "source": [
    "prcurve(model,X_test,y_test)"
   ],
   "metadata": {
    "collapsed": false,
    "pycharm": {
     "name": "#%%\n"
    }
   }
  },
  {
   "cell_type": "code",
   "execution_count": null,
   "outputs": [],
   "source": [],
   "metadata": {
    "collapsed": false,
    "pycharm": {
     "name": "#%%\n"
    }
   }
  }
 ],
 "metadata": {
  "kernelspec": {
   "display_name": "Python 3",
   "language": "python",
   "name": "python3"
  },
  "language_info": {
   "codemirror_mode": {
    "name": "ipython",
    "version": 3
   },
   "file_extension": ".py",
   "mimetype": "text/x-python",
   "name": "python",
   "nbconvert_exporter": "python",
   "pygments_lexer": "ipython3",
   "version": "3.5.2"
  }
 },
 "nbformat": 4,
 "nbformat_minor": 1
}