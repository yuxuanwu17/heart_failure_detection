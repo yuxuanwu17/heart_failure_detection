{
 "cells": [
  {
   "cell_type": "markdown",
   "source": [
    "## Introduction\n",
    "\n",
    "### Background data\n",
    "\n",
    "Cardiovascular diseases (CVDs) are the number 1 cause of death globally, taking an estimated 17.9 million lives each year, which accounts for 31% of all deaths worlwide.\n",
    "Heart failure is a common event caused by CVDs.\n",
    "\n",
    "Most cardiovascular diseases can be prevented by addressing behavioural risk factors such as tobacco use, unhealthy diet and obesity, physical inactivity and harmful use of alcohol using population-wide strategies.\n",
    "\n",
    "People with cardiovascular disease or who are at high cardiovascular risk (due to the presence of one or more risk factors such as hypertension, diabetes, hyperlipidaemia or already established disease) need early detection and management wherein a machine learning model can be of great help.\n",
    "\n",
    "### Project description (overview)\n",
    "\n",
    "The input to our predictor is is a medical dataset which contains 12 features that can be used to predict mortality by heart failure.\n",
    "1. Data exploration\n",
    "    - Principle Components Analysis (PCA) to reduce the dimension of features to have a view of the input data distribution\n",
    "    - Build a preliminary linear SVM model to incorporate all the features to see the model performance.\n",
    "2. Feature selection part.\n",
    "    - Chi-square test to check the correlation between each categorical feature and the target death event.\n",
    "    - Heat map to return the features with high correlation coefficient with death events.\n",
    "    - Visualized the each feature's contribution significance in the SVM model\n",
    "    - Compared the returned features and determined the final selected features\n",
    "3. Model comparison and hyperparameter tuning\n",
    "    - compare the performance in difference preprocessing methods MinMaxScalar, StandardScalar, RobustScalar\n",
    "    - compare the performance in k-fold cross validation and leave-one-out methods\n",
    "    - compare the kernel selected in Support Vector Machine (linear or rbf)\n",
    "    - grid search to find the best performance model\n",
    "4. Selected model performance\n",
    "    - calculated the precision, recall, accuracy and f1-score\n",
    "    - plot the ROC and PR-curve\n",
    "    - plot the learning curve\n",
    "\n",
    "---\n",
    "\n",
    "## Related work\n",
    "\n",
    "Explorative data analysis (EDA) approach\n",
    "1. [title](https://www.kaggle.com/nayansakhiya/heart-fail-analysis-and-quick-prediction)"
   ],
   "metadata": {
    "collapsed": false,
    "pycharm": {
     "name": "#%% md\n"
    }
   }
  },
  {
   "cell_type": "markdown",
   "metadata": {
    "collapsed": true,
    "pycharm": {
     "name": "#%% md\n"
    }
   },
   "source": []
  },
  {
   "cell_type": "code",
   "execution_count": null,
   "outputs": [],
   "source": [
    "\n"
   ],
   "metadata": {
    "collapsed": false,
    "pycharm": {
     "name": "#%%\n"
    }
   }
  }
 ],
 "metadata": {
  "kernelspec": {
   "display_name": "Python 3",
   "language": "python",
   "name": "python3"
  },
  "language_info": {
   "codemirror_mode": {
    "name": "ipython",
    "version": 2
   },
   "file_extension": ".py",
   "mimetype": "text/x-python",
   "name": "python",
   "nbconvert_exporter": "python",
   "pygments_lexer": "ipython2",
   "version": "2.7.6"
  }
 },
 "nbformat": 4,
 "nbformat_minor": 0
}