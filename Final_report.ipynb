{
 "cells": [
  {
   "cell_type": "markdown",
   "metadata": {
    "pycharm": {
     "name": "#%% md\n"
    }
   },
   "source": [
    "## Introduction\n",
    "\n",
    "### Background data\n",
    "\n",
    "Cardiovascular diseases (CVDs) are the number 1 cause of death globally, taking an estimated 17.9 million lives each year, which accounts for 31% of all deaths worlwide.\n",
    "Heart failure is a common event caused by CVDs.\n",
    "\n",
    "Most cardiovascular diseases can be prevented by addressing behavioural risk factors such as tobacco use, unhealthy diet and obesity, physical inactivity and harmful use of alcohol using population-wide strategies.\n",
    "\n",
    "People with cardiovascular disease or who are at high cardiovascular risk (due to the presence of one or more risk factors such as hypertension, diabetes, hyperlipidaemia or already established disease) need early detection and management wherein a machine learning model can be of great help.\n",
    "\n",
    "### Project description (overview)\n",
    "\n",
    "The input to our predictor is is a medical dataset which contains 12 features that can be used to predict mortality by heart failure.\n",
    "1. Data exploration\n",
    "    - Principle Components Analysis (PCA) to reduce the dimension of features to have a view of the input data distribution\n",
    "    - Build a preliminary linear SVM model to incorporate all the features to see the model performance.\n",
    "2. Feature selection part.\n",
    "    - Chi-square test to check the correlation between each categorical feature and the target death event.\n",
    "    - Heat map to return the features with high correlation coefficient with death events.\n",
    "    - Visualized the each feature's contribution significance in the SVM model\n",
    "    - Compared the returned features and determined the final selected features\n",
    "3. Model comparison and hyperparameter tuning\n",
    "    - compare the performance in difference preprocessing methods MinMaxScalar, StandardScalar, RobustScalar\n",
    "    - compare the performance in k-fold cross validation and leave-one-out methods\n",
    "    - compare the kernel selected in Support Vector Machine (linear or rbf)\n",
    "    - grid search to find the best performance model\n",
    "4. Selected model performance\n",
    "    - calculated the precision, recall, accuracy and f1-score\n",
    "    - plot the ROC and PR-curve\n",
    "    - plot the learning curve\n",
    "\n",
    "---\n",
    "\n",
    "## Related work\n",
    "\n",
    "### Explorative data analysis (EDA) approach\n",
    "\n",
    "1. [heart-fail-analysis-and-quick-prediction](https://www.kaggle.com/nayansakhiya/heart-fail-analysis-and-quick-prediction)\n",
    "\n",
    "**Strength**: Detailed explorative and associative data analysis with great data visualization: each factor is visualized by different types of figures <br>\n",
    "**Weakness**: Prediction model are quite rudimentary, the author did not select the features and tune the models' hyperparameters.<br>\n",
    "**Similarity**: I learned and applied the plotly.express API to create fancy and concise figures for easy comparison; I furthered his rudimentary model by optimization\n",
    "\n",
    "### Predictive data analysis (PDA) approach\n",
    "\n",
    "1. [heart-failure-model-prediction-comparisons-95](https://www.kaggle.com/rude009/heart-failure-model-prediction-comparisons-95)\n",
    "\n",
    "**Strength**: The author compares six prediction models with feature selection. The Extra Gradient Booster Classifier could achieve the accuracy up to 95.0% <br>\n",
    "**Weakness**: The author consider the \"time\" column as the useful features. <br>\n",
    "**Similarity**: I don't think \"time\" colume should be included since \"time\" column stands for Follow-up period (days), which means itself could not contribute the diseases itself. Therefore, I consider this feature as uselessness in our prediction model\n",
    "\n",
    "2. [heart-failure-prediction-auc-0-98](https://www.kaggle.com/ksvmuralidhar/heart-failure-prediction-auc-0-98)\n",
    "\n",
    "**Strength**: The author uses a new method: Chi-square test to find the correlation between single categorical feature with target death_event <br>\n",
    "**Weakness**: The visualization part does not as fancy as previous work <br>\n",
    "**Similarity**: I learned and used the Chi-square test to conduct the correlation test between single categorical data with the categorical death_event; but i didn't agree the author's method in using box plot comparison between numerical data with categorical data, I used heat map instead."
   ]
  },
  {
   "cell_type": "markdown",
   "metadata": {
    "pycharm": {
     "name": "#%% md\n"
    }
   },
   "source": [
    "## Problem formulation"
   ]
  },
  {
   "cell_type": "markdown",
   "metadata": {
    "pycharm": {
     "name": "#%% md\n"
    }
   },
   "source": [
    "### Return the head of dataset (a overview of inside components)"
   ]
  },
  {
   "cell_type": "code",
   "execution_count": 70,
   "metadata": {
    "pycharm": {
     "name": "#%%\n"
    }
   },
   "outputs": [
    {
     "data": {
      "text/html": "<div>\n<style scoped>\n    .dataframe tbody tr th:only-of-type {\n        vertical-align: middle;\n    }\n\n    .dataframe tbody tr th {\n        vertical-align: top;\n    }\n\n    .dataframe thead th {\n        text-align: right;\n    }\n</style>\n<table border=\"1\" class=\"dataframe\">\n  <thead>\n    <tr style=\"text-align: right;\">\n      <th></th>\n      <th>age</th>\n      <th>anaemia</th>\n      <th>creatinine_phosphokinase</th>\n      <th>diabetes</th>\n      <th>ejection_fraction</th>\n      <th>high_blood_pressure</th>\n      <th>platelets</th>\n      <th>serum_creatinine</th>\n      <th>serum_sodium</th>\n      <th>sex</th>\n      <th>smoking</th>\n      <th>time</th>\n      <th>DEATH_EVENT</th>\n    </tr>\n  </thead>\n  <tbody>\n    <tr>\n      <th>0</th>\n      <td>75.0</td>\n      <td>0</td>\n      <td>582</td>\n      <td>0</td>\n      <td>20</td>\n      <td>1</td>\n      <td>265000.00</td>\n      <td>1.9</td>\n      <td>130</td>\n      <td>1</td>\n      <td>0</td>\n      <td>4</td>\n      <td>1</td>\n    </tr>\n    <tr>\n      <th>1</th>\n      <td>55.0</td>\n      <td>0</td>\n      <td>7861</td>\n      <td>0</td>\n      <td>38</td>\n      <td>0</td>\n      <td>263358.03</td>\n      <td>1.1</td>\n      <td>136</td>\n      <td>1</td>\n      <td>0</td>\n      <td>6</td>\n      <td>1</td>\n    </tr>\n    <tr>\n      <th>2</th>\n      <td>65.0</td>\n      <td>0</td>\n      <td>146</td>\n      <td>0</td>\n      <td>20</td>\n      <td>0</td>\n      <td>162000.00</td>\n      <td>1.3</td>\n      <td>129</td>\n      <td>1</td>\n      <td>1</td>\n      <td>7</td>\n      <td>1</td>\n    </tr>\n    <tr>\n      <th>3</th>\n      <td>50.0</td>\n      <td>1</td>\n      <td>111</td>\n      <td>0</td>\n      <td>20</td>\n      <td>0</td>\n      <td>210000.00</td>\n      <td>1.9</td>\n      <td>137</td>\n      <td>1</td>\n      <td>0</td>\n      <td>7</td>\n      <td>1</td>\n    </tr>\n    <tr>\n      <th>4</th>\n      <td>65.0</td>\n      <td>1</td>\n      <td>160</td>\n      <td>1</td>\n      <td>20</td>\n      <td>0</td>\n      <td>327000.00</td>\n      <td>2.7</td>\n      <td>116</td>\n      <td>0</td>\n      <td>0</td>\n      <td>8</td>\n      <td>1</td>\n    </tr>\n  </tbody>\n</table>\n</div>",
      "text/plain": "    age  anaemia  creatinine_phosphokinase  diabetes  ejection_fraction  \\\n0  75.0        0                       582         0                 20   \n1  55.0        0                      7861         0                 38   \n2  65.0        0                       146         0                 20   \n3  50.0        1                       111         0                 20   \n4  65.0        1                       160         1                 20   \n\n   high_blood_pressure  platelets  serum_creatinine  serum_sodium  sex  \\\n0                    1  265000.00               1.9           130    1   \n1                    0  263358.03               1.1           136    1   \n2                    0  162000.00               1.3           129    1   \n3                    0  210000.00               1.9           137    1   \n4                    0  327000.00               2.7           116    0   \n\n   smoking  time  DEATH_EVENT  \n0        0     4            1  \n1        0     6            1  \n2        1     7            1  \n3        0     7            1  \n4        0     8            1  "
     },
     "execution_count": 70,
     "metadata": {},
     "output_type": "execute_result"
    }
   ],
   "source": [
    "import pandas as pd\n",
    "df = pd.read_csv(\"/home/yuxuan/kaggle/heart_failure_clinical_records_dataset.csv\")\n",
    "heart_data = df.copy()\n",
    "heart_data.head()"
   ]
  },
  {
   "cell_type": "markdown",
   "metadata": {
    "pycharm": {
     "is_executing": true,
     "name": "#%% md\n"
    }
   },
   "source": [
    "### Print the size of the dataset"
   ]
  },
  {
   "cell_type": "code",
   "execution_count": 71,
   "metadata": {
    "pycharm": {
     "name": "#%%\n"
    }
   },
   "outputs": [
    {
     "name": "stdout",
     "output_type": "stream",
     "text": [
      "(299, 13)\n"
     ]
    }
   ],
   "source": [
    "print(heart_data.shape)"
   ]
  },
  {
   "cell_type": "markdown",
   "metadata": {
    "pycharm": {
     "name": "#%% md\n"
    }
   },
   "source": [
    "### Check the ratio of the NaNs for each column"
   ]
  },
  {
   "cell_type": "code",
   "execution_count": 72,
   "metadata": {
    "pycharm": {
     "name": "#%%\n"
    }
   },
   "outputs": [
    {
     "name": "stdout",
     "output_type": "stream",
     "text": [
      "age 0.0%\n",
      "anaemia 0.0%\n",
      "creatinine_phosphokinase 0.0%\n",
      "diabetes 0.0%\n",
      "ejection_fraction 0.0%\n",
      "high_blood_pressure 0.0%\n",
      "platelets 0.0%\n",
      "serum_creatinine 0.0%\n",
      "serum_sodium 0.0%\n",
      "sex 0.0%\n",
      "smoking 0.0%\n",
      "time 0.0%\n",
      "DEATH_EVENT 0.0%\n"
     ]
    }
   ],
   "source": [
    "for col in heart_data.columns:\n",
    "    print(col, str(round(100* heart_data[col].isnull().sum() / len(heart_data), 2)) + '%')"
   ]
  },
  {
   "cell_type": "markdown",
   "metadata": {
    "pycharm": {
     "name": "#%% md\n"
    }
   },
   "source": [
    "### Dataset description\n",
    "There are 13 dimensions and 299 samples. All the columns are devoid of NaNs. We need make some rules before the data processing。\n",
    "\n",
    "Target features (binary classification): DEATH_EVENT\n",
    "\n",
    "**Categorical data**\n",
    "- Sex - Gender of patient Male = 1, Female =0\n",
    "- Diabetes - 0 = No, 1 = Yes\n",
    "- Anaemia - 0 = No, 1 = Yes\n",
    "- High_blood_pressure - 0 = No, 1 = Yes\n",
    "- Smoking - 0 = No, 1 = Yes\n",
    "- DEATH_EVENT - 0 = No, 1 = Yes\n",
    "\n",
    "**Numerical data**\n",
    "- Age - Age of patient\n",
    "- creatinine_phosphokinase - Level of the CPK enzyme in the blood (mcg/L)\n",
    "- ejection_fraction - Percentage of blood leaving the heart at each contraction (percentage)\n",
    "- platelets - Platelets in the blood (kiloplatelets/mL)\n",
    "- serum_creatinine - Level of serum creatinine in the blood (mg/dL)\n",
    "- serum_sodium - Level of serum sodium in the blood (mEq/L)\n",
    "- time - Follow-up period (days)\n",
    "\n",
    "### Citation or Reference\n",
    "\n",
    "Dataset from Davide Chicco, Giuseppe Jurman: Machine learning can predict survival of patients with heart failure from serum creatinine and ejection fraction alone. BMC Medical Informatics and Decision Making 20, 16 (2020)\n",
    "\n",
    "The dataset downloaded from Kaggle https://www.kaggle.com/andrewmvd/heart-failure-clinical-data\n"
   ]
  },
  {
   "cell_type": "markdown",
   "metadata": {
    "pycharm": {
     "is_executing": true,
     "name": "#%% md\n"
    }
   },
   "source": [
    "### Principle components analysis\n",
    "\n",
    "PCA analysis to return the feature sample distribution"
   ]
  },
  {
   "cell_type": "code",
   "execution_count": 73,
   "metadata": {
    "pycharm": {
     "name": "#%%\n"
    }
   },
   "outputs": [
    {
     "data": {
      "text/plain": "<matplotlib.legend.Legend at 0x7f83059dfb70>"
     },
     "execution_count": 73,
     "metadata": {},
     "output_type": "execute_result"
    },
    {
     "data": {
      "image/png": "[encoded data removed]",
      "text/plain": "<Figure size 576x576 with 1 Axes>"
     },
     "metadata": {
      "needs_background": "light"
     },
     "output_type": "display_data"
    }
   ],
   "source": [
    "%matplotlib inline\n",
    "import matplotlib.pyplot as plt\n",
    "from sklearn.decomposition import PCA\n",
    "from sklearn.preprocessing import StandardScaler\n",
    "X = heart_data.iloc[:,0:11]\n",
    "X = StandardScaler().fit_transform(X)\n",
    "y = heart_data['DEATH_EVENT']\n",
    "pca = PCA(n_components=2)\n",
    "pca.fit(X)\n",
    "X_pca = pca.transform(X)\n",
    "\n",
    "plt.figure(figsize=(8,8))\n",
    "plt.scatter(X_pca[y==0,0],X_pca[y==0,1],label=\"Alive\",c=\"red\")\n",
    "plt.scatter(X_pca[y==1,0],X_pca[y==1,1],label=\"Death\",c=\"black\")\n",
    "plt.legend([\"Alive\",\"Death\"])\n"
   ]
  },
  {
   "cell_type": "markdown",
   "metadata": {
    "pycharm": {
     "name": "#%% md\n"
    }
   },
   "source": [
    "I would like to have a view of the feature dimension with the target situation. Therefore, we used the principle component analysis (PCA) to conduct the feature reduction to 2D for visualization. We could find that the data are densed and not easy to seperate (either linear or non-linear model), indicating that many bias or insignificant data might negatively influence the future prediction accuracy."
   ]
  },
  {
   "cell_type": "markdown",
   "metadata": {},
   "source": [
    "### Correlation analysis\n",
    "I would like to find the correlation between variables, especially with the target variable: DEATH_EVENT.\n",
    "In this case, I would exclude the column in time since the time tracked could not contribute to the heart failure itself."
   ]
  },
  {
   "cell_type": "code",
   "execution_count": 74,
   "metadata": {
    "pycharm": {
     "name": "#%%\n"
    }
   },
   "outputs": [
    {
     "data": {
      "text/plain": "<matplotlib.axes._subplots.AxesSubplot at 0x7f82a2305b00>"
     },
     "execution_count": 74,
     "metadata": {},
     "output_type": "execute_result"
    },
    {
     "data": {
      "image/png": "[encoded data removed]",
      "text/plain": "<Figure size 864x864 with 2 Axes>"
     },
     "metadata": {
      "needs_background": "light"
     },
     "output_type": "display_data"
    }
   ],
   "source": [
    "import seaborn as sn\n",
    "heart_data = heart_data.drop(['time'],axis=1)\n",
    "plt.figure(figsize=(12,12))\n",
    "sn.heatmap(heart_data.corr(),vmin=-1,cmap='coolwarm',annot=True)"
   ]
  },
  {
   "cell_type": "markdown",
   "metadata": {},
   "source": [
    "### Data partition\n",
    "\n",
    "- As I mentioned before, I will not take the feature time into consideration. Therefore, 11 features are included in the final model prediction.\n",
    "- I split the dataset into two categories. 80% for raining data and 20% for testing data.\n",
    "- I used the StandardScalar normalization to preprocess the data"
   ]
  },
  {
   "cell_type": "code",
   "execution_count": 75,
   "metadata": {
    "pycharm": {
     "name": "#%%\n"
    }
   },
   "outputs": [
    {
     "name": "stdout",
     "output_type": "stream",
     "text": [
      "The number of training sample is 239\n",
      "The number of testing sample is 60\n"
     ]
    }
   ],
   "source": [
    "from sklearn.preprocessing import StandardScaler\n",
    "from sklearn.model_selection import train_test_split\n",
    "\n",
    "X = heart_data.iloc[:,0:11]\n",
    "X = StandardScaler().fit_transform(X)\n",
    "y = heart_data['DEATH_EVENT']\n",
    "X_train, X_test, y_train, y_test = train_test_split(X,y,test_size=0.2,random_state=2)\n",
    "print(\"The number of training sample is {}\".format(X_train.shape[0]))\n",
    "print(\"The number of testing sample is {}\".format(X_test.shape[0]))"
   ]
  },
  {
   "cell_type": "markdown",
   "metadata": {},
   "source": [
    "### Preliminary model in SVM"
   ]
  },
  {
   "cell_type": "code",
   "execution_count": 76,
   "metadata": {
    "pycharm": {
     "name": "#%%\n"
    }
   },
   "outputs": [
    {
     "name": "stdout",
     "output_type": "stream",
     "text": [
      "Accuracy of linear SVM model is : 80.00%\n",
      "Accuracy of RBF SVM model is : 75.00%\n"
     ]
    }
   ],
   "source": [
    "from sklearn.svm import SVC\n",
    "from sklearn.metrics import accuracy_score\n",
    "\n",
    "## linear svm\n",
    "sv_clf = SVC(kernel=\"linear\",random_state=1)\n",
    "sv_clf.fit(X_train, y_train)\n",
    "sv_clf_pred = sv_clf.predict(X_test)\n",
    "sv_clf_acc = accuracy_score(y_test,sv_clf_pred)\n",
    "# accuracy_list.append(round(sv_clf_acc,2))\n",
    "print(\"Accuracy of linear SVM model is :\",\"{:.2f}%\".format(100*sv_clf_acc))\n",
    "\n",
    "## RBF kernel SVM\n",
    "sv_clf = SVC(kernel=\"rbf\",random_state=1)\n",
    "sv_clf.fit(X_train, y_train)\n",
    "sv_clf_pred = sv_clf.predict(X_test)\n",
    "sv_clf_acc = accuracy_score(y_test,sv_clf_pred)\n",
    "print(\"Accuracy of RBF SVM model is :\",\"{:.2f}%\".format(100*sv_clf_acc))"
   ]
  },
  {
   "cell_type": "markdown",
   "metadata": {
    "pycharm": {
     "is_executing": true,
     "name": "#%% md\n"
    }
   },
   "source": [
    "###  Optimize the model\n",
    "\n",
    "### Feature selection\n",
    "\n",
    "**Method 1: Chi-square test**\n",
    "- Based on previous research, we could conclude that DEATH_EVENT is our target. The previous research stated that we have six categorical data. And we would like to figure out whether these single categorical valuable has significant correlation with the DEATH_EVENT.<br>\n",
    "- Crosstables/contingency tables are one of the best ways to see how categorical variables are distributed among each other.\n",
    "- The following test suggests that we failed to reject the $H_0$ problem, indicating that there is no direct relationship between the DEATH_EVENT"
   ]
  },
  {
   "cell_type": "code",
   "execution_count": 77,
   "metadata": {
    "pycharm": {
     "name": "#%%\n"
    }
   },
   "outputs": [
    {
     "name": "stdout",
     "output_type": "stream",
     "text": [
      "\n",
      "\n",
      "--------------------------------------\n",
      "CROSSTAB BETWEEN ANAEMIA & DEATH_EVENT\n",
      "--------------------------------------\n",
      "anaemia        0   1\n",
      "DEATH_EVENT         \n",
      "0            120  83\n",
      "1             50  46\n",
      "\n",
      "\n",
      "H0: THERE IS NO RELATIONSHIP BETWEEN DEATH_EVENT & ANAEMIA \n",
      "H1: THERE IS RELATIONSHIP BETWEEN DEATH_EVENT & ANAEMIA\n",
      "\n",
      "P-VALUE: 0.31\n",
      "FAILED TO REJECT H0\n",
      "\n",
      "\n",
      "---------------------------------------\n",
      "CROSSTAB BETWEEN DIABETES & DEATH_EVENT\n",
      "---------------------------------------\n",
      "diabetes       0   1\n",
      "DEATH_EVENT         \n",
      "0            118  85\n",
      "1             56  40\n",
      "\n",
      "\n",
      "H0: THERE IS NO RELATIONSHIP BETWEEN DEATH_EVENT & DIABETES \n",
      "H1: THERE IS RELATIONSHIP BETWEEN DEATH_EVENT & DIABETES\n",
      "\n",
      "P-VALUE: 0.93\n",
      "FAILED TO REJECT H0\n",
      "\n",
      "\n",
      "--------------------------------------------------\n",
      "CROSSTAB BETWEEN HIGH_BLOOD_PRESSURE & DEATH_EVENT\n",
      "--------------------------------------------------\n",
      "high_blood_pressure    0   1\n",
      "DEATH_EVENT                 \n",
      "0                    137  66\n",
      "1                     57  39\n",
      "\n",
      "\n",
      "H0: THERE IS NO RELATIONSHIP BETWEEN DEATH_EVENT & HIGH_BLOOD_PRESSURE \n",
      "H1: THERE IS RELATIONSHIP BETWEEN DEATH_EVENT & HIGH_BLOOD_PRESSURE\n",
      "\n",
      "P-VALUE: 0.21\n",
      "FAILED TO REJECT H0\n",
      "\n",
      "\n",
      "----------------------------------\n",
      "CROSSTAB BETWEEN SEX & DEATH_EVENT\n",
      "----------------------------------\n",
      "sex           0    1\n",
      "DEATH_EVENT         \n",
      "0            71  132\n",
      "1            34   62\n",
      "\n",
      "\n",
      "H0: THERE IS NO RELATIONSHIP BETWEEN DEATH_EVENT & SEX \n",
      "H1: THERE IS RELATIONSHIP BETWEEN DEATH_EVENT & SEX\n",
      "\n",
      "P-VALUE: 0.96\n",
      "FAILED TO REJECT H0\n",
      "\n",
      "\n",
      "--------------------------------------\n",
      "CROSSTAB BETWEEN SMOKING & DEATH_EVENT\n",
      "--------------------------------------\n",
      "smoking        0   1\n",
      "DEATH_EVENT         \n",
      "0            137  66\n",
      "1             66  30\n",
      "\n",
      "\n",
      "H0: THERE IS NO RELATIONSHIP BETWEEN DEATH_EVENT & SMOKING \n",
      "H1: THERE IS RELATIONSHIP BETWEEN DEATH_EVENT & SMOKING\n",
      "\n",
      "P-VALUE: 0.93\n",
      "FAILED TO REJECT H0\n",
      "\n",
      "\n",
      "------------------------------------------\n",
      "CROSSTAB BETWEEN DEATH_EVENT & DEATH_EVENT\n",
      "------------------------------------------\n",
      "DEATH_EVENT    0   1\n",
      "DEATH_EVENT         \n",
      "0            203   0\n",
      "1              0  96\n",
      "\n",
      "\n",
      "H0: THERE IS NO RELATIONSHIP BETWEEN DEATH_EVENT & DEATH_EVENT \n",
      "H1: THERE IS RELATIONSHIP BETWEEN DEATH_EVENT & DEATH_EVENT\n",
      "\n",
      "P-VALUE: 0.0\n",
      "REJECT H0\n"
     ]
    }
   ],
   "source": [
    "import pandas as pd\n",
    "from scipy.stats import chi2_contingency\n",
    "import numpy as np\n",
    "heart_data = df.copy()\n",
    "cat_features = [\"anaemia\",\"diabetes\",\"high_blood_pressure\",\"sex\",\"smoking\",\"DEATH_EVENT\"]\n",
    "num_features = pd.Series(heart_data.columns)\n",
    "num_features = num_features[~num_features.isin(cat_features)]\n",
    "num_features\n",
    "\n",
    "for i in cat_features:\n",
    "    ct = pd.crosstab(columns=heart_data[i],index=heart_data[\"DEATH_EVENT\"])\n",
    "    stat, p, dof, expected = chi2_contingency(ct)\n",
    "    print('\\n')\n",
    "    print('-'*len('CROSSTAB BETWEEN {} & DEATH_EVENT'.format(i.upper())))\n",
    "    print(\"CROSSTAB BETWEEN {} & DEATH_EVENT\".format(i.upper()))\n",
    "    print('-'*len('CROSSTAB BETWEEN {} & DEATH_EVENT'.format(i.upper())))\n",
    "    print(ct)\n",
    "    print('\\n')\n",
    "    print(\"H0: THERE IS NO RELATIONSHIP BETWEEN DEATH_EVENT & {} \\nH1: THERE IS RELATIONSHIP BETWEEN DEATH_EVENT & {}\".format(i.upper(),i.upper()))\n",
    "    print(\"\\nP-VALUE: {}\".format(np.round(p,2)))\n",
    "    print(\"REJECT H0\" if p<0.05 else \"FAILED TO REJECT H0\")"
   ]
  },
  {
   "cell_type": "markdown",
   "metadata": {
    "pycharm": {
     "name": "#%% md\n"
    }
   },
   "source": [
    "**Method 2: correlation analysis**\n",
    "- Use correlation coefficient > 0.1 with death event"
   ]
  },
  {
   "cell_type": "code",
   "execution_count": 78,
   "metadata": {
    "pycharm": {
     "name": "#%%\n"
    }
   },
   "outputs": [
    {
     "data": {
      "text/plain": "age                  0.253729\nejection_fraction   -0.268603\nserum_creatinine     0.294278\nserum_sodium        -0.195204\ntime                -0.526964\nDEATH_EVENT          1.000000\nName: DEATH_EVENT, dtype: float64"
     },
     "execution_count": 78,
     "metadata": {},
     "output_type": "execute_result"
    }
   ],
   "source": [
    "feature_corr = heart_data.corr()\n",
    "feature_corr[abs(feature_corr['DEATH_EVENT']) > 0.1]['DEATH_EVENT']\n"
   ]
  },
  {
   "cell_type": "markdown",
   "metadata": {
    "pycharm": {
     "name": "#%% md\n"
    }
   },
   "source": [
    "**Method 3: Visualized plots of feature importance in linear SVM**"
   ]
  },
  {
   "cell_type": "code",
   "execution_count": 79,
   "metadata": {
    "pycharm": {
     "name": "#%%\n"
    }
   },
   "outputs": [],
   "source": [
    "import numpy as np\n",
    "def feature_plot(classifier, feature_names, top_features=5):\n",
    "    coef = classifier.coef_.ravel()\n",
    "    top_positive_coefficients = np.argsort(coef)[-top_features:]\n",
    "    top_negative_coefficients = np.argsort(coef)[:top_features]\n",
    "    middle_coefficient = np.argsort(coef)[top_features]\n",
    "    top_coefficients = np.hstack([top_negative_coefficients, middle_coefficient, top_positive_coefficients])\n",
    "    plt.figure(figsize=(18, 7))\n",
    "    colors = ['green' if c < 0 else 'blue' for c in coef[top_coefficients]]\n",
    "    plt.bar(np.arange(2 * top_features+1), coef[top_coefficients], color=colors)\n",
    "    feature_names = np.array(feature_names)\n",
    "    plt.xticks(np.arange(2 * top_features+1), feature_names[top_coefficients], rotation=45, ha='right')\n",
    "\n",
    "    plt.show()\n"
   ]
  },
  {
   "cell_type": "code",
   "execution_count": 80,
   "metadata": {
    "pycharm": {
     "name": "#%%\n"
    }
   },
   "outputs": [
    {
     "name": "stdout",
     "output_type": "stream",
     "text": [
      "['age' 'anaemia' 'creatinine_phosphokinase' 'diabetes' 'ejection_fraction'\n",
      " 'high_blood_pressure' 'platelets' 'serum_creatinine' 'serum_sodium' 'sex'\n",
      " 'smoking']\n"
     ]
    },
    {
     "name": "stderr",
     "output_type": "stream",
     "text": [
      "/home/yuxuan/.local/lib/python3.5/site-packages/sklearn/svm/_base.py:947: ConvergenceWarning:\n",
      "\n",
      "Liblinear failed to converge, increase the number of iterations.\n",
      "\n"
     ]
    },
    {
     "data": {
      "image/png": "[encoded data removed]",
      "text/plain": "<Figure size 1296x504 with 1 Axes>"
     },
     "metadata": {
      "needs_background": "light"
     },
     "output_type": "display_data"
    }
   ],
   "source": [
    "from sklearn.svm import LinearSVC\n",
    "heart_data = df.copy()\n",
    "X = heart_data.iloc[:, 0:11]\n",
    "X = StandardScaler().fit_transform(X)\n",
    "y = heart_data['DEATH_EVENT']\n",
    "X_train, X_test, y_train, y_test = train_test_split(X, y, test_size=0.1, shuffle=True, random_state=1)\n",
    "\n",
    "print(heart_data.drop(['DEATH_EVENT', 'time'], axis=1).columns.values)\n",
    "\n",
    "trainedsvm = LinearSVC().fit(X, y)\n",
    "feature_plot(trainedsvm, heart_data.drop(['DEATH_EVENT', 'time'], axis=1).columns.values)\n"
   ]
  },
  {
   "cell_type": "markdown",
   "metadata": {
    "pycharm": {
     "name": "#%% md\n"
    }
   },
   "source": [
    "- The ahead plot illustrates the importance of feature in SVM model. y axis could be considered as weights and the absolute value of weights could suggest the contribution to the final results.\n",
    "- The correlation analysis between factors and death event returned the coefficient > 0.1 features\n",
    "- Both analysis returned three same features: serum_creatinine, age, ejection_fraction\n",
    "- we need to evaluate and compare the performance in serum_sodium and creatinine_phosphokinase\n",
    "\n"
   ]
  },
  {
   "cell_type": "code",
   "execution_count": 81,
   "metadata": {
    "pycharm": {
     "name": "#%%\n"
    }
   },
   "outputs": [
    {
     "name": "stdout",
     "output_type": "stream",
     "text": [
      "Accuracy of linear SVM model with feature serum_sodium is : 81.67%\n",
      "Accuracy of linear SVM model with feature creatinine_phosphokinase is : 83.33%\n"
     ]
    }
   ],
   "source": [
    "heart_data = df.copy()\n",
    "X = heart_data.iloc[:, 0:11]\n",
    "y = heart_data['DEATH_EVENT']\n",
    "options = ['serum_sodium','creatinine_phosphokinase']\n",
    "\n",
    "for i in options:\n",
    "    selected_feature = ['serum_creatinine','age', 'ejection_fraction']\n",
    "    selected_feature.append(i)\n",
    "    X_processed = X[selected_feature]\n",
    "    X_processed = StandardScaler().fit_transform(X_processed)\n",
    "    X_train, X_test, y_train, y_test = train_test_split(X_processed, y, test_size=0.2, shuffle=True, random_state=1)\n",
    "    sv_clf = SVC(kernel=\"linear\",random_state=1)\n",
    "    sv_clf.fit(X_train, y_train)\n",
    "    sv_clf_pred = sv_clf.predict(X_test)\n",
    "    sv_clf_acc = accuracy_score(y_test,sv_clf_pred)\n",
    "    sc_clf_acc_format = round(sv_clf_acc*100,2)\n",
    "#     accuracy_list.append(round(sv_clf_acc,2))\n",
    "    print(\"Accuracy of linear SVM model with feature {} is : {}%\".format(i, sc_clf_acc_format))"
   ]
  },
  {
   "cell_type": "markdown",
   "metadata": {
    "pycharm": {
     "name": "#%% md\n"
    }
   },
   "source": [
    "Therefore, four features including serum_creatinine, age, ejection_fraction, creatinine_phosphokinase"
   ]
  },
  {
   "cell_type": "markdown",
   "metadata": {
    "pycharm": {
     "name": "#%% md\n"
    }
   },
   "source": [
    "### Visualized the learning curve after feature selection"
   ]
  },
  {
   "cell_type": "code",
   "execution_count": 82,
   "metadata": {
    "pycharm": {
     "name": "#%%\n"
    }
   },
   "outputs": [],
   "source": [
    "from sklearn.model_selection import learning_curve\n",
    "def plot_learning_curve(estimator, title, X, y, axes=None, ylim=None, cv=None,\n",
    "                        n_jobs=None, train_sizes=np.linspace(.1, 1.0, 5)):\n",
    "    if axes is None:\n",
    "        _, axes = plt.subplots(1, 3, figsize=(20, 5))\n",
    "\n",
    "    axes[0].set_title(title)\n",
    "    if ylim is not None:\n",
    "        axes[0].set_ylim(*ylim)\n",
    "    axes[0].set_xlabel(\"Training examples\")\n",
    "    axes[0].set_ylabel(\"Score\")\n",
    "\n",
    "    train_sizes, train_scores, test_scores, fit_times, _ = \\\n",
    "        learning_curve(estimator, X, y, cv=cv, n_jobs=n_jobs,\n",
    "                       train_sizes=train_sizes,\n",
    "                       return_times=True)\n",
    "    train_scores_mean = np.mean(train_scores, axis=1)\n",
    "    train_scores_std = np.std(train_scores, axis=1)\n",
    "    test_scores_mean = np.mean(test_scores, axis=1)\n",
    "    test_scores_std = np.std(test_scores, axis=1)\n",
    "    fit_times_mean = np.mean(fit_times, axis=1)\n",
    "    fit_times_std = np.std(fit_times, axis=1)\n",
    "\n",
    "    # Plot learning curve\n",
    "    axes[0].grid()\n",
    "    axes[0].fill_between(train_sizes, train_scores_mean - train_scores_std,\n",
    "                         train_scores_mean + train_scores_std, alpha=0.1,\n",
    "                         color=\"r\")\n",
    "    axes[0].fill_between(train_sizes, test_scores_mean - test_scores_std,\n",
    "                         test_scores_mean + test_scores_std, alpha=0.1,\n",
    "                         color=\"g\")\n",
    "    axes[0].plot(train_sizes, train_scores_mean, 'o-', color=\"r\",\n",
    "                 label=\"Training score\")\n",
    "    axes[0].plot(train_sizes, test_scores_mean, 'o-', color=\"g\",\n",
    "                 label=\"Cross-validation score\")\n",
    "    axes[0].legend(loc=\"best\")\n",
    "\n",
    "    # Plot n_samples vs fit_times\n",
    "    axes[1].grid()\n",
    "    axes[1].plot(train_sizes, fit_times_mean, 'o-')\n",
    "    axes[1].fill_between(train_sizes, fit_times_mean - fit_times_std,\n",
    "                         fit_times_mean + fit_times_std, alpha=0.1)\n",
    "    axes[1].set_xlabel(\"Training examples\")\n",
    "    axes[1].set_ylabel(\"fit_times\")\n",
    "    axes[1].set_title(\"Scalability of the model\")\n",
    "\n",
    "    # Plot fit_time vs score\n",
    "    axes[2].grid()\n",
    "    axes[2].plot(fit_times_mean, test_scores_mean, 'o-')\n",
    "    axes[2].fill_between(fit_times_mean, test_scores_mean - test_scores_std,\n",
    "                         test_scores_mean + test_scores_std, alpha=0.1)\n",
    "    axes[2].set_xlabel(\"fit_times\")\n",
    "    axes[2].set_ylabel(\"Score\")\n",
    "    axes[2].set_title(\"Performance of the model\")\n",
    "\n",
    "    return plt\n",
    "\n"
   ]
  },
  {
   "cell_type": "code",
   "execution_count": 83,
   "metadata": {
    "pycharm": {
     "name": "#%%\n"
    }
   },
   "outputs": [
    {
     "data": {
      "image/png": "[encoded data removed]",
      "text/plain": "<Figure size 720x1080 with 6 Axes>"
     },
     "metadata": {
      "needs_background": "light"
     },
     "output_type": "display_data"
    }
   ],
   "source": [
    "fig, axes = plt.subplots(3, 2, figsize=(10, 15))\n",
    "\n",
    "heart_data = df.copy()\n",
    "\n",
    "X = heart_data.iloc[:, 0:11]\n",
    "y = heart_data['DEATH_EVENT']\n",
    "\n",
    "selected_feature = ['serum_creatinine','age', 'ejection_fraction','creatinine_phosphokinase']\n",
    "X_processed = X[selected_feature]\n",
    "X_processed = StandardScaler().fit_transform(X_processed)\n",
    "\n",
    "\n",
    "title = \"Learning Curves (SVM, linear kernel)\"\n",
    "# cv = ShuffleSplit(n_splits=10, test_size=0.2, random_state=0)\n",
    "\n",
    "estimator = SVC(kernel=\"linear\",random_state=1)\n",
    "plot_learning_curve(estimator, title, X_processed, y, axes=axes[:, 0], ylim=(0.5, 1.01),\n",
    "                     n_jobs=10)\n",
    "\n",
    "\n",
    "title = r\"Learning Curves (SVM, RBF kernel)\"\n",
    "\n",
    "# cv = ShuffleSplit(n_splits=10, test_size=0.2, random_state=0)\n",
    "estimator = SVC(kernel=\"rbf\",random_state=1)\n",
    "plot_learning_curve(estimator, title, X_processed, y, axes=axes[:, 1], ylim=(0.5, 1.01),\n",
    "                     n_jobs=10)\n",
    "\n",
    "plt.show()\n",
    "\n"
   ]
  },
  {
   "cell_type": "markdown",
   "metadata": {
    "pycharm": {
     "name": "#%% md\n"
    }
   },
   "source": [
    "- The figure above doesn't indicate either overfitting or underfitting problems\n",
    "- The scalability of the model increased, the results tend to be stable compared with the previous models\n",
    "- RBF kernel has a relative higher performance, but the difference is not significant"
   ]
  },
  {
   "cell_type": "markdown",
   "metadata": {
    "pycharm": {
     "name": "#%% md\n"
    }
   },
   "source": [
    "### Explorative data analysis of the four selected features ('serum_creatinine','age', 'ejection_fraction','creatinine_phosphokinase')\n",
    "\n",
    "#### Specify the figure size"
   ]
  },
  {
   "cell_type": "code",
   "execution_count": 84,
   "metadata": {
    "pycharm": {
     "name": "#%%\n"
    }
   },
   "outputs": [],
   "source": [
    "HEIGHT = 500\n",
    "WIDTH = 700\n",
    "NBINS = 50\n",
    "SCATTER_SIZE=700"
   ]
  },
  {
   "cell_type": "code",
   "execution_count": 85,
   "metadata": {
    "pycharm": {
     "name": "#%%\n"
    }
   },
   "outputs": [],
   "source": [
    "## Define the histogram \n",
    "import plotly.express as px\n",
    "def plot_histogram(dataframe, column, color, bins, marginal,title, width=WIDTH, height=HEIGHT):\n",
    "    figure = px.histogram(\n",
    "        dataframe,\n",
    "        column,\n",
    "        color=color,\n",
    "        nbins=bins,\n",
    "        marginal= marginal,\n",
    "        title=title,\n",
    "        width=width,\n",
    "        height=height\n",
    "    )\n",
    "    figure.show()\n"
   ]
  },
  {
   "cell_type": "code",
   "execution_count": 86,
   "metadata": {
    "pycharm": {
     "name": "#%%\n"
    }
   },
   "outputs": [
    {
     "data": {
      "application/vnd.plotly.v1+json": {
       "data": [
        {
         "nbinsx": 50,
         "bingroup": "x",
         "offsetgroup": "1",
         "xaxis": "x",
         "type": "histogram",
         "marker": {
          "color": "#636efa"
         },
         "legendgroup": "1",
         "yaxis": "y",
         "alignmentgroup": "True",
         "x": [
          1.9,
          1.1,
          1.3,
          1.9,
          2.7,
          2.1,
          1.2,
          1.1,
          1.5,
          9.4,
          4.0,
          0.9,
          1.1,
          1.1,
          1.3,
          0.9,
          0.8,
          1.0,
          1.9,
          1.6,
          0.9,
          1.83,
          1.9,
          1.0,
          1.3,
          5.8,
          1.2,
          1.83,
          3.0,
          1.0,
          1.0,
          3.5,
          1.0,
          1.0,
          3.0,
          1.83,
          1.2,
          1.2,
          1.1,
          1.9,
          0.9,
          0.6,
          4.4,
          1.0,
          1.0,
          1.4,
          6.8,
          1.0,
          2.2,
          2.0,
          1.1,
          1.3,
          1.0,
          2.3,
          1.0,
          2.9,
          1.3,
          1.0,
          1.2,
          1.83,
          1.0,
          1.2,
          0.7,
          2.5,
          1.0,
          1.7,
          1.7,
          1.2,
          1.3,
          1.83,
          3.7,
          2.1,
          1.1,
          1.7,
          1.83,
          2.5,
          0.9,
          1.1,
          1.3,
          2.4,
          1.0,
          1.2,
          2.5,
          1.2,
          1.5,
          0.6,
          2.1,
          1.6,
          1.8,
          1.6,
          9.0,
          1.83,
          1.7,
          1.1,
          1.4,
          1.83
         ],
         "showlegend": true,
         "orientation": "v",
         "name": "1",
         "hovertemplate": "DEATH_EVENT=1<br>serum_creatinine=%{x}<br>count=%{y}<extra></extra>"
        },
        {
         "scalegroup": "x",
         "offsetgroup": "1",
         "xaxis": "x2",
         "type": "violin",
         "marker": {
          "color": "#636efa"
         },
         "legendgroup": "1",
         "yaxis": "y2",
         "x": [
          1.9,
          1.1,
          1.3,
          1.9,
          2.7,
          2.1,
          1.2,
          1.1,
          1.5,
          9.4,
          4.0,
          0.9,
          1.1,
          1.1,
          1.3,
          0.9,
          0.8,
          1.0,
          1.9,
          1.6,
          0.9,
          1.83,
          1.9,
          1.0,
          1.3,
          5.8,
          1.2,
          1.83,
          3.0,
          1.0,
          1.0,
          3.5,
          1.0,
          1.0,
          3.0,
          1.83,
          1.2,
          1.2,
          1.1,
          1.9,
          0.9,
          0.6,
          4.4,
          1.0,
          1.0,
          1.4,
          6.8,
          1.0,
          2.2,
          2.0,
          1.1,
          1.3,
          1.0,
          2.3,
          1.0,
          2.9,
          1.3,
          1.0,
          1.2,
          1.83,
          1.0,
          1.2,
          0.7,
          2.5,
          1.0,
          1.7,
          1.7,
          1.2,
          1.3,
          1.83,
          3.7,
          2.1,
          1.1,
          1.7,
          1.83,
          2.5,
          0.9,
          1.1,
          1.3,
          2.4,
          1.0,
          1.2,
          2.5,
          1.2,
          1.5,
          0.6,
          2.1,
          1.6,
          1.8,
          1.6,
          9.0,
          1.83,
          1.7,
          1.1,
          1.4,
          1.83
         ],
         "showlegend": false,
         "alignmentgroup": "True",
         "name": "1",
         "hovertemplate": "DEATH_EVENT=1<br>serum_creatinine=%{x}<extra></extra>"
        },
        {
         "nbinsx": 50,
         "bingroup": "x",
         "offsetgroup": "0",
         "xaxis": "x",
         "type": "histogram",
         "marker": {
          "color": "#EF553B"
         },
         "legendgroup": "0",
         "yaxis": "y",
         "alignmentgroup": "True",
         "x": [
          1.0,
          1.3,
          0.8,
          1.2,
          2.3,
          1.0,
          2.7,
          0.6,
          1.1,
          1.18,
          0.8,
          0.9,
          1.3,
          0.8,
          1.2,
          0.6,
          0.9,
          1.7,
          1.18,
          1.8,
          0.7,
          1.1,
          0.8,
          0.7,
          1.1,
          0.8,
          1.0,
          1.18,
          0.7,
          1.0,
          1.3,
          1.1,
          1.2,
          1.1,
          1.1,
          1.18,
          1.1,
          1.0,
          2.3,
          1.3,
          0.9,
          1.1,
          1.3,
          1.2,
          1.6,
          1.2,
          1.0,
          0.7,
          3.2,
          0.9,
          1.5,
          1.0,
          0.75,
          0.9,
          1.3,
          0.8,
          0.7,
          3.4,
          0.7,
          6.1,
          1.18,
          1.3,
          1.18,
          1.18,
          0.9,
          2.1,
          1.0,
          0.8,
          0.9,
          0.9,
          0.9,
          0.7,
          0.7,
          1.0,
          0.9,
          0.9,
          0.9,
          1.18,
          0.8,
          1.7,
          1.4,
          1.0,
          1.3,
          1.1,
          1.2,
          0.8,
          0.9,
          0.7,
          1.0,
          0.8,
          1.5,
          0.9,
          1.1,
          0.8,
          0.9,
          1.0,
          1.0,
          1.0,
          1.2,
          0.7,
          0.9,
          1.0,
          0.9,
          2.1,
          1.5,
          0.7,
          1.18,
          1.18,
          0.8,
          1.0,
          1.8,
          0.7,
          1.0,
          0.9,
          3.5,
          0.7,
          1.0,
          0.8,
          0.9,
          1.0,
          0.8,
          1.0,
          0.8,
          1.4,
          0.8,
          1.3,
          0.9,
          1.1,
          0.7,
          1.1,
          1.1,
          0.8,
          1.0,
          1.4,
          1.3,
          1.0,
          5.0,
          1.2,
          1.1,
          0.9,
          1.4,
          1.1,
          1.1,
          1.1,
          1.2,
          1.0,
          1.18,
          1.3,
          1.3,
          1.1,
          0.9,
          1.8,
          1.4,
          2.4,
          1.0,
          1.2,
          0.5,
          0.8,
          1.0,
          1.2,
          1.0,
          1.0,
          1.7,
          1.0,
          0.8,
          0.7,
          1.0,
          0.7,
          1.0,
          1.2,
          0.9,
          1.7,
          0.9,
          1.0,
          1.6,
          0.9,
          1.2,
          0.7,
          1.0,
          0.8,
          1.1,
          1.1,
          0.7,
          1.3,
          1.0,
          2.7,
          3.8,
          1.1,
          0.8,
          1.2,
          1.7,
          1.0,
          1.1,
          0.9,
          0.8,
          1.4,
          1.0,
          0.9,
          1.1,
          1.2,
          0.8,
          1.4,
          1.6
         ],
         "showlegend": true,
         "orientation": "v",
         "name": "0",
         "hovertemplate": "DEATH_EVENT=0<br>serum_creatinine=%{x}<br>count=%{y}<extra></extra>"
        },
        {
         "scalegroup": "x",
         "offsetgroup": "0",
         "xaxis": "x2",
         "type": "violin",
         "marker": {
          "color": "#EF553B"
         },
         "legendgroup": "0",
         "yaxis": "y2",
         "x": [
          1.0,
          1.3,
          0.8,
          1.2,
          2.3,
          1.0,
          2.7,
          0.6,
          1.1,
          1.18,
          0.8,
          0.9,
          1.3,
          0.8,
          1.2,
          0.6,
          0.9,
          1.7,
          1.18,
          1.8,
          0.7,
          1.1,
          0.8,
          0.7,
          1.1,
          0.8,
          1.0,
          1.18,
          0.7,
          1.0,
          1.3,
          1.1,
          1.2,
          1.1,
          1.1,
          1.18,
          1.1,
          1.0,
          2.3,
          1.3,
          0.9,
          1.1,
          1.3,
          1.2,
          1.6,
          1.2,
          1.0,
          0.7,
          3.2,
          0.9,
          1.5,
          1.0,
          0.75,
          0.9,
          1.3,
          0.8,
          0.7,
          3.4,
          0.7,
          6.1,
          1.18,
          1.3,
          1.18,
          1.18,
          0.9,
          2.1,
          1.0,
          0.8,
          0.9,
          0.9,
          0.9,
          0.7,
          0.7,
          1.0,
          0.9,
          0.9,
          0.9,
          1.18,
          0.8,
          1.7,
          1.4,
          1.0,
          1.3,
          1.1,
          1.2,
          0.8,
          0.9,
          0.7,
          1.0,
          0.8,
          1.5,
          0.9,
          1.1,
          0.8,
          0.9,
          1.0,
          1.0,
          1.0,
          1.2,
          0.7,
          0.9,
          1.0,
          0.9,
          2.1,
          1.5,
          0.7,
          1.18,
          1.18,
          0.8,
          1.0,
          1.8,
          0.7,
          1.0,
          0.9,
          3.5,
          0.7,
          1.0,
          0.8,
          0.9,
          1.0,
          0.8,
          1.0,
          0.8,
          1.4,
          0.8,
          1.3,
          0.9,
          1.1,
          0.7,
          1.1,
          1.1,
          0.8,
          1.0,
          1.4,
          1.3,
          1.0,
          5.0,
          1.2,
          1.1,
          0.9,
          1.4,
          1.1,
          1.1,
          1.1,
          1.2,
          1.0,
          1.18,
          1.3,
          1.3,
          1.1,
          0.9,
          1.8,
          1.4,
          2.4,
          1.0,
          1.2,
          0.5,
          0.8,
          1.0,
          1.2,
          1.0,
          1.0,
          1.7,
          1.0,
          0.8,
          0.7,
          1.0,
          0.7,
          1.0,
          1.2,
          0.9,
          1.7,
          0.9,
          1.0,
          1.6,
          0.9,
          1.2,
          0.7,
          1.0,
          0.8,
          1.1,
          1.1,
          0.7,
          1.3,
          1.0,
          2.7,
          3.8,
          1.1,
          0.8,
          1.2,
          1.7,
          1.0,
          1.1,
          0.9,
          0.8,
          1.4,
          1.0,
          0.9,
          1.1,
          1.2,
          0.8,
          1.4,
          1.6
         ],
         "showlegend": false,
         "alignmentgroup": "True",
         "name": "0",
         "hovertemplate": "DEATH_EVENT=0<br>serum_creatinine=%{x}<extra></extra>"
        }
       ],
       "config": {
        "plotlyServerURL": "https://plot.ly"
       },
       "layout": {
        "title": {
         "text": "Figure 1: Distribution of serum creatinine VS death event"
        },
        "yaxis2": {
         "showgrid": false,
         "domain": [
          0.7426,
          1.0
         ],
         "anchor": "x2",
         "showticklabels": false,
         "matches": "y2",
         "showline": false,
         "ticks": ""
        },
        "xaxis2": {
         "showgrid": true,
         "domain": [
          0.0,
          1.0
         ],
         "anchor": "y2",
         "showticklabels": false,
         "matches": "x"
        },
        "yaxis": {
         "title": {
          "text": "count"
         },
         "domain": [
          0.0,
          0.7326
         ],
         "anchor": "x"
        },
        "height": 500,
        "barmode": "relative",
        "template": {
         "data": {
          "scatter": [
           {
            "marker": {
             "colorbar": {
              "outlinewidth": 0,
              "ticks": ""
             }
            },
            "type": "scatter"
           }
          ],
          "parcoords": [
           {
            "line": {
             "colorbar": {
              "outlinewidth": 0,
              "ticks": ""
             }
            },
            "type": "parcoords"
           }
          ],
          "scattermapbox": [
           {
            "marker": {
             "colorbar": {
              "outlinewidth": 0,
              "ticks": ""
             }
            },
            "type": "scattermapbox"
           }
          ],
          "pie": [
           {
            "automargin": true,
            "type": "pie"
           }
          ],
          "mesh3d": [
           {
            "colorbar": {
             "outlinewidth": 0,
             "ticks": ""
            },
            "type": "mesh3d"
           }
          ],
          "table": [
           {
            "header": {
             "fill": {
              "color": "#C8D4E3"
             },
             "line": {
              "color": "white"
             }
            },
            "cells": {
             "fill": {
              "color": "#EBF0F8"
             },
             "line": {
              "color": "white"
             }
            },
            "type": "table"
           }
          ],
          "scattergeo": [
           {
            "marker": {
             "colorbar": {
              "outlinewidth": 0,
              "ticks": ""
             }
            },
            "type": "scattergeo"
           }
          ],
          "heatmapgl": [
           {
            "colorbar": {
             "outlinewidth": 0,
             "ticks": ""
            },
            "colorscale": [
             [
              0.0,
              "#0d0887"
             ],
             [
              0.1111111111111111,
              "#46039f"
             ],
             [
              0.2222222222222222,
              "#7201a8"
             ],
             [
              0.3333333333333333,
              "#9c179e"
             ],
             [
              0.4444444444444444,
              "#bd3786"
             ],
             [
              0.5555555555555556,
              "#d8576b"
             ],
             [
              0.6666666666666666,
              "#ed7953"
             ],
             [
              0.7777777777777778,
              "#fb9f3a"
             ],
             [
              0.8888888888888888,
              "#fdca26"
             ],
             [
              1.0,
              "#f0f921"
             ]
            ],
            "type": "heatmapgl"
           }
          ],
          "heatmap": [
           {
            "colorbar": {
             "outlinewidth": 0,
             "ticks": ""
            },
            "colorscale": [
             [
              0.0,
              "#0d0887"
             ],
             [
              0.1111111111111111,
              "#46039f"
             ],
             [
              0.2222222222222222,
              "#7201a8"
             ],
             [
              0.3333333333333333,
              "#9c179e"
             ],
             [
              0.4444444444444444,
              "#bd3786"
             ],
             [
              0.5555555555555556,
              "#d8576b"
             ],
             [
              0.6666666666666666,
              "#ed7953"
             ],
             [
              0.7777777777777778,
              "#fb9f3a"
             ],
             [
              0.8888888888888888,
              "#fdca26"
             ],
             [
              1.0,
              "#f0f921"
             ]
            ],
            "type": "heatmap"
           }
          ],
          "choropleth": [
           {
            "colorbar": {
             "outlinewidth": 0,
             "ticks": ""
            },
            "type": "choropleth"
           }
          ],
          "scattercarpet": [
           {
            "marker": {
             "colorbar": {
              "outlinewidth": 0,
              "ticks": ""
             }
            },
            "type": "scattercarpet"
           }
          ],
          "histogram2d": [
           {
            "colorbar": {
             "outlinewidth": 0,
             "ticks": ""
            },
            "colorscale": [
             [
              0.0,
              "#0d0887"
             ],
             [
              0.1111111111111111,
              "#46039f"
             ],
             [
              0.2222222222222222,
              "#7201a8"
             ],
             [
              0.3333333333333333,
              "#9c179e"
             ],
             [
              0.4444444444444444,
              "#bd3786"
             ],
             [
              0.5555555555555556,
              "#d8576b"
             ],
             [
              0.6666666666666666,
              "#ed7953"
             ],
             [
              0.7777777777777778,
              "#fb9f3a"
             ],
             [
              0.8888888888888888,
              "#fdca26"
             ],
             [
              1.0,
              "#f0f921"
             ]
            ],
            "type": "histogram2d"
           }
          ],
          "scattergl": [
           {
            "marker": {
             "colorbar": {
              "outlinewidth": 0,
              "ticks": ""
             }
            },
            "type": "scattergl"
           }
          ],
          "contour": [
           {
            "colorbar": {
             "outlinewidth": 0,
             "ticks": ""
            },
            "colorscale": [
             [
              0.0,
              "#0d0887"
             ],
             [
              0.1111111111111111,
              "#46039f"
             ],
             [
              0.2222222222222222,
              "#7201a8"
             ],
             [
              0.3333333333333333,
              "#9c179e"
             ],
             [
              0.4444444444444444,
              "#bd3786"
             ],
             [
              0.5555555555555556,
              "#d8576b"
             ],
             [
              0.6666666666666666,
              "#ed7953"
             ],
             [
              0.7777777777777778,
              "#fb9f3a"
             ],
             [
              0.8888888888888888,
              "#fdca26"
             ],
             [
              1.0,
              "#f0f921"
             ]
            ],
            "type": "contour"
           }
          ],
          "surface": [
           {
            "colorbar": {
             "outlinewidth": 0,
             "ticks": ""
            },
            "colorscale": [
             [
              0.0,
              "#0d0887"
             ],
             [
              0.1111111111111111,
              "#46039f"
             ],
             [
              0.2222222222222222,
              "#7201a8"
             ],
             [
              0.3333333333333333,
              "#9c179e"
             ],
             [
              0.4444444444444444,
              "#bd3786"
             ],
             [
              0.5555555555555556,
              "#d8576b"
             ],
             [
              0.6666666666666666,
              "#ed7953"
             ],
             [
              0.7777777777777778,
              "#fb9f3a"
             ],
             [
              0.8888888888888888,
              "#fdca26"
             ],
             [
              1.0,
              "#f0f921"
             ]
            ],
            "type": "surface"
           }
          ],
          "scatterpolar": [
           {
            "marker": {
             "colorbar": {
              "outlinewidth": 0,
              "ticks": ""
             }
            },
            "type": "scatterpolar"
           }
          ],
          "histogram2dcontour": [
           {
            "colorbar": {
             "outlinewidth": 0,
             "ticks": ""
            },
            "colorscale": [
             [
              0.0,
              "#0d0887"
             ],
             [
              0.1111111111111111,
              "#46039f"
             ],
             [
              0.2222222222222222,
              "#7201a8"
             ],
             [
              0.3333333333333333,
              "#9c179e"
             ],
             [
              0.4444444444444444,
              "#bd3786"
             ],
             [
              0.5555555555555556,
              "#d8576b"
             ],
             [
              0.6666666666666666,
              "#ed7953"
             ],
             [
              0.7777777777777778,
              "#fb9f3a"
             ],
             [
              0.8888888888888888,
              "#fdca26"
             ],
             [
              1.0,
              "#f0f921"
             ]
            ],
            "type": "histogram2dcontour"
           }
          ],
          "histogram": [
           {
            "marker": {
             "colorbar": {
              "outlinewidth": 0,
              "ticks": ""
             }
            },
            "type": "histogram"
           }
          ],
          "scatter3d": [
           {
            "marker": {
             "colorbar": {
              "outlinewidth": 0,
              "ticks": ""
             }
            },
            "line": {
             "colorbar": {
              "outlinewidth": 0,
              "ticks": ""
             }
            },
            "type": "scatter3d"
           }
          ],
          "scatterternary": [
           {
            "marker": {
             "colorbar": {
              "outlinewidth": 0,
              "ticks": ""
             }
            },
            "type": "scatterternary"
           }
          ],
          "contourcarpet": [
           {
            "colorbar": {
             "outlinewidth": 0,
             "ticks": ""
            },
            "type": "contourcarpet"
           }
          ],
          "barpolar": [
           {
            "marker": {
             "line": {
              "color": "#E5ECF6",
              "width": 0.5
             }
            },
            "type": "barpolar"
           }
          ],
          "carpet": [
           {
            "baxis": {
             "linecolor": "white",
             "startlinecolor": "#2a3f5f",
             "minorgridcolor": "white",
             "endlinecolor": "#2a3f5f",
             "gridcolor": "white"
            },
            "aaxis": {
             "linecolor": "white",
             "startlinecolor": "#2a3f5f",
             "minorgridcolor": "white",
             "endlinecolor": "#2a3f5f",
             "gridcolor": "white"
            },
            "type": "carpet"
           }
          ],
          "scatterpolargl": [
           {
            "marker": {
             "colorbar": {
              "outlinewidth": 0,
              "ticks": ""
             }
            },
            "type": "scatterpolargl"
           }
          ],
          "bar": [
           {
            "marker": {
             "line": {
              "color": "#E5ECF6",
              "width": 0.5
             }
            },
            "type": "bar",
            "error_y": {
             "color": "#2a3f5f"
            },
            "error_x": {
             "color": "#2a3f5f"
            }
           }
          ]
         },
         "layout": {
          "mapbox": {
           "style": "light"
          },
          "font": {
           "color": "#2a3f5f"
          },
          "polar": {
           "radialaxis": {
            "linecolor": "white",
            "gridcolor": "white",
            "ticks": ""
           },
           "angularaxis": {
            "linecolor": "white",
            "gridcolor": "white",
            "ticks": ""
           },
           "bgcolor": "#E5ECF6"
          },
          "hovermode": "closest",
          "shapedefaults": {
           "line": {
            "color": "#2a3f5f"
           }
          },
          "xaxis": {
           "zerolinewidth": 2,
           "zerolinecolor": "white",
           "linecolor": "white",
           "title": {
            "standoff": 15
           },
           "automargin": true,
           "gridcolor": "white",
           "ticks": ""
          },
          "hoverlabel": {
           "align": "left"
          },
          "paper_bgcolor": "white",
          "coloraxis": {
           "colorbar": {
            "outlinewidth": 0,
            "ticks": ""
           }
          },
          "ternary": {
           "baxis": {
            "linecolor": "white",
            "gridcolor": "white",
            "ticks": ""
           },
           "aaxis": {
            "linecolor": "white",
            "gridcolor": "white",
            "ticks": ""
           },
           "caxis": {
            "linecolor": "white",
            "gridcolor": "white",
            "ticks": ""
           },
           "bgcolor": "#E5ECF6"
          },
          "colorscale": {
           "sequentialminus": [
            [
             0.0,
             "#0d0887"
            ],
            [
             0.1111111111111111,
             "#46039f"
            ],
            [
             0.2222222222222222,
             "#7201a8"
            ],
            [
             0.3333333333333333,
             "#9c179e"
            ],
            [
             0.4444444444444444,
             "#bd3786"
            ],
            [
             0.5555555555555556,
             "#d8576b"
            ],
            [
             0.6666666666666666,
             "#ed7953"
            ],
            [
             0.7777777777777778,
             "#fb9f3a"
            ],
            [
             0.8888888888888888,
             "#fdca26"
            ],
            [
             1.0,
             "#f0f921"
            ]
           ],
           "diverging": [
            [
             0,
             "#8e0152"
            ],
            [
             0.1,
             "#c51b7d"
            ],
            [
             0.2,
             "#de77ae"
            ],
            [
             0.3,
             "#f1b6da"
            ],
            [
             0.4,
             "#fde0ef"
            ],
            [
             0.5,
             "#f7f7f7"
            ],
            [
             0.6,
             "#e6f5d0"
            ],
            [
             0.7,
             "#b8e186"
            ],
            [
             0.8,
             "#7fbc41"
            ],
            [
             0.9,
             "#4d9221"
            ],
            [
             1,
             "#276419"
            ]
           ],
           "sequential": [
            [
             0.0,
             "#0d0887"
            ],
            [
             0.1111111111111111,
             "#46039f"
            ],
            [
             0.2222222222222222,
             "#7201a8"
            ],
            [
             0.3333333333333333,
             "#9c179e"
            ],
            [
             0.4444444444444444,
             "#bd3786"
            ],
            [
             0.5555555555555556,
             "#d8576b"
            ],
            [
             0.6666666666666666,
             "#ed7953"
            ],
            [
             0.7777777777777778,
             "#fb9f3a"
            ],
            [
             0.8888888888888888,
             "#fdca26"
            ],
            [
             1.0,
             "#f0f921"
            ]
           ]
          },
          "annotationdefaults": {
           "arrowcolor": "#2a3f5f",
           "arrowwidth": 1,
           "arrowhead": 0
          },
          "title": {
           "x": 0.05
          },
          "plot_bgcolor": "#E5ECF6",
          "scene": {
           "xaxis": {
            "linecolor": "white",
            "showbackground": true,
            "backgroundcolor": "#E5ECF6",
            "gridwidth": 2,
            "gridcolor": "white",
            "zerolinecolor": "white",
            "ticks": ""
           },
           "zaxis": {
            "linecolor": "white",
            "showbackground": true,
            "backgroundcolor": "#E5ECF6",
            "gridwidth": 2,
            "gridcolor": "white",
            "zerolinecolor": "white",
            "ticks": ""
           },
           "yaxis": {
            "linecolor": "white",
            "showbackground": true,
            "backgroundcolor": "#E5ECF6",
            "gridwidth": 2,
            "gridcolor": "white",
            "zerolinecolor": "white",
            "ticks": ""
           }
          },
          "colorway": [
           "#636efa",
           "#EF553B",
           "#00cc96",
           "#ab63fa",
           "#FFA15A",
           "#19d3f3",
           "#FF6692",
           "#B6E880",
           "#FF97FF",
           "#FECB52"
          ],
          "geo": {
           "showland": true,
           "showlakes": true,
           "bgcolor": "white",
           "landcolor": "#E5ECF6",
           "lakecolor": "white",
           "subunitcolor": "white"
          },
          "yaxis": {
           "zerolinewidth": 2,
           "zerolinecolor": "white",
           "linecolor": "white",
           "title": {
            "standoff": 15
           },
           "automargin": true,
           "gridcolor": "white",
           "ticks": ""
          }
         }
        },
        "xaxis": {
         "title": {
          "text": "serum_creatinine"
         },
         "domain": [
          0.0,
          1.0
         ],
         "anchor": "y"
        },
        "legend": {
         "title": {
          "text": "DEATH_EVENT"
         },
         "tracegroupgap": 0
        },
        "width": 700
       }
      },
      "text/html": "<div>\n        \n        \n            <div id=\"7a415d8f-5d62-42c4-adef-9cfa2411def3\" class=\"plotly-graph-div\" style=\"height:500px; width:700px;\"></div>\n            <script type=\"text/javascript\">\n                require([\"plotly\"], function(Plotly) {\n                    window.PLOTLYENV=window.PLOTLYENV || {};\n                    \n                if (document.getElementById(\"7a415d8f-5d62-42c4-adef-9cfa2411def3\")) {\n                    Plotly.newPlot(\n                        '7a415d8f-5d62-42c4-adef-9cfa2411def3',\n                        [{\"alignmentgroup\": \"True\", \"bingroup\": \"x\", \"hovertemplate\": \"DEATH_EVENT=1<br>serum_creatinine=%{x}<br>count=%{y}<extra></extra>\", \"legendgroup\": \"1\", \"marker\": {\"color\": \"#636efa\"}, \"name\": \"1\", \"nbinsx\": 50, \"offsetgroup\": \"1\", \"orientation\": \"v\", \"showlegend\": true, \"type\": \"histogram\", \"x\": [1.9, 1.1, 1.3, 1.9, 2.7, 2.1, 1.2, 1.1, 1.5, 9.4, 4.0, 0.9, 1.1, 1.1, 1.3, 0.9, 0.8, 1.0, 1.9, 1.6, 0.9, 1.83, 1.9, 1.0, 1.3, 5.8, 1.2, 1.83, 3.0, 1.0, 1.0, 3.5, 1.0, 1.0, 3.0, 1.83, 1.2, 1.2, 1.1, 1.9, 0.9, 0.6, 4.4, 1.0, 1.0, 1.4, 6.8, 1.0, 2.2, 2.0, 1.1, 1.3, 1.0, 2.3, 1.0, 2.9, 1.3, 1.0, 1.2, 1.83, 1.0, 1.2, 0.7, 2.5, 1.0, 1.7, 1.7, 1.2, 1.3, 1.83, 3.7, 2.1, 1.1, 1.7, 1.83, 2.5, 0.9, 1.1, 1.3, 2.4, 1.0, 1.2, 2.5, 1.2, 1.5, 0.6, 2.1, 1.6, 1.8, 1.6, 9.0, 1.83, 1.7, 1.1, 1.4, 1.83], \"xaxis\": \"x\", \"yaxis\": \"y\"}, {\"alignmentgroup\": \"True\", \"hovertemplate\": \"DEATH_EVENT=1<br>serum_creatinine=%{x}<extra></extra>\", \"legendgroup\": \"1\", \"marker\": {\"color\": \"#636efa\"}, \"name\": \"1\", \"offsetgroup\": \"1\", \"scalegroup\": \"x\", \"showlegend\": false, \"type\": \"violin\", \"x\": [1.9, 1.1, 1.3, 1.9, 2.7, 2.1, 1.2, 1.1, 1.5, 9.4, 4.0, 0.9, 1.1, 1.1, 1.3, 0.9, 0.8, 1.0, 1.9, 1.6, 0.9, 1.83, 1.9, 1.0, 1.3, 5.8, 1.2, 1.83, 3.0, 1.0, 1.0, 3.5, 1.0, 1.0, 3.0, 1.83, 1.2, 1.2, 1.1, 1.9, 0.9, 0.6, 4.4, 1.0, 1.0, 1.4, 6.8, 1.0, 2.2, 2.0, 1.1, 1.3, 1.0, 2.3, 1.0, 2.9, 1.3, 1.0, 1.2, 1.83, 1.0, 1.2, 0.7, 2.5, 1.0, 1.7, 1.7, 1.2, 1.3, 1.83, 3.7, 2.1, 1.1, 1.7, 1.83, 2.5, 0.9, 1.1, 1.3, 2.4, 1.0, 1.2, 2.5, 1.2, 1.5, 0.6, 2.1, 1.6, 1.8, 1.6, 9.0, 1.83, 1.7, 1.1, 1.4, 1.83], \"xaxis\": \"x2\", \"yaxis\": \"y2\"}, {\"alignmentgroup\": \"True\", \"bingroup\": \"x\", \"hovertemplate\": \"DEATH_EVENT=0<br>serum_creatinine=%{x}<br>count=%{y}<extra></extra>\", \"legendgroup\": \"0\", \"marker\": {\"color\": \"#EF553B\"}, \"name\": \"0\", \"nbinsx\": 50, \"offsetgroup\": \"0\", \"orientation\": \"v\", \"showlegend\": true, \"type\": \"histogram\", \"x\": [1.0, 1.3, 0.8, 1.2, 2.3, 1.0, 2.7, 0.6, 1.1, 1.18, 0.8, 0.9, 1.3, 0.8, 1.2, 0.6, 0.9, 1.7, 1.18, 1.8, 0.7, 1.1, 0.8, 0.7, 1.1, 0.8, 1.0, 1.18, 0.7, 1.0, 1.3, 1.1, 1.2, 1.1, 1.1, 1.18, 1.1, 1.0, 2.3, 1.3, 0.9, 1.1, 1.3, 1.2, 1.6, 1.2, 1.0, 0.7, 3.2, 0.9, 1.5, 1.0, 0.75, 0.9, 1.3, 0.8, 0.7, 3.4, 0.7, 6.1, 1.18, 1.3, 1.18, 1.18, 0.9, 2.1, 1.0, 0.8, 0.9, 0.9, 0.9, 0.7, 0.7, 1.0, 0.9, 0.9, 0.9, 1.18, 0.8, 1.7, 1.4, 1.0, 1.3, 1.1, 1.2, 0.8, 0.9, 0.7, 1.0, 0.8, 1.5, 0.9, 1.1, 0.8, 0.9, 1.0, 1.0, 1.0, 1.2, 0.7, 0.9, 1.0, 0.9, 2.1, 1.5, 0.7, 1.18, 1.18, 0.8, 1.0, 1.8, 0.7, 1.0, 0.9, 3.5, 0.7, 1.0, 0.8, 0.9, 1.0, 0.8, 1.0, 0.8, 1.4, 0.8, 1.3, 0.9, 1.1, 0.7, 1.1, 1.1, 0.8, 1.0, 1.4, 1.3, 1.0, 5.0, 1.2, 1.1, 0.9, 1.4, 1.1, 1.1, 1.1, 1.2, 1.0, 1.18, 1.3, 1.3, 1.1, 0.9, 1.8, 1.4, 2.4, 1.0, 1.2, 0.5, 0.8, 1.0, 1.2, 1.0, 1.0, 1.7, 1.0, 0.8, 0.7, 1.0, 0.7, 1.0, 1.2, 0.9, 1.7, 0.9, 1.0, 1.6, 0.9, 1.2, 0.7, 1.0, 0.8, 1.1, 1.1, 0.7, 1.3, 1.0, 2.7, 3.8, 1.1, 0.8, 1.2, 1.7, 1.0, 1.1, 0.9, 0.8, 1.4, 1.0, 0.9, 1.1, 1.2, 0.8, 1.4, 1.6], \"xaxis\": \"x\", \"yaxis\": \"y\"}, {\"alignmentgroup\": \"True\", \"hovertemplate\": \"DEATH_EVENT=0<br>serum_creatinine=%{x}<extra></extra>\", \"legendgroup\": \"0\", \"marker\": {\"color\": \"#EF553B\"}, \"name\": \"0\", \"offsetgroup\": \"0\", \"scalegroup\": \"x\", \"showlegend\": false, \"type\": \"violin\", \"x\": [1.0, 1.3, 0.8, 1.2, 2.3, 1.0, 2.7, 0.6, 1.1, 1.18, 0.8, 0.9, 1.3, 0.8, 1.2, 0.6, 0.9, 1.7, 1.18, 1.8, 0.7, 1.1, 0.8, 0.7, 1.1, 0.8, 1.0, 1.18, 0.7, 1.0, 1.3, 1.1, 1.2, 1.1, 1.1, 1.18, 1.1, 1.0, 2.3, 1.3, 0.9, 1.1, 1.3, 1.2, 1.6, 1.2, 1.0, 0.7, 3.2, 0.9, 1.5, 1.0, 0.75, 0.9, 1.3, 0.8, 0.7, 3.4, 0.7, 6.1, 1.18, 1.3, 1.18, 1.18, 0.9, 2.1, 1.0, 0.8, 0.9, 0.9, 0.9, 0.7, 0.7, 1.0, 0.9, 0.9, 0.9, 1.18, 0.8, 1.7, 1.4, 1.0, 1.3, 1.1, 1.2, 0.8, 0.9, 0.7, 1.0, 0.8, 1.5, 0.9, 1.1, 0.8, 0.9, 1.0, 1.0, 1.0, 1.2, 0.7, 0.9, 1.0, 0.9, 2.1, 1.5, 0.7, 1.18, 1.18, 0.8, 1.0, 1.8, 0.7, 1.0, 0.9, 3.5, 0.7, 1.0, 0.8, 0.9, 1.0, 0.8, 1.0, 0.8, 1.4, 0.8, 1.3, 0.9, 1.1, 0.7, 1.1, 1.1, 0.8, 1.0, 1.4, 1.3, 1.0, 5.0, 1.2, 1.1, 0.9, 1.4, 1.1, 1.1, 1.1, 1.2, 1.0, 1.18, 1.3, 1.3, 1.1, 0.9, 1.8, 1.4, 2.4, 1.0, 1.2, 0.5, 0.8, 1.0, 1.2, 1.0, 1.0, 1.7, 1.0, 0.8, 0.7, 1.0, 0.7, 1.0, 1.2, 0.9, 1.7, 0.9, 1.0, 1.6, 0.9, 1.2, 0.7, 1.0, 0.8, 1.1, 1.1, 0.7, 1.3, 1.0, 2.7, 3.8, 1.1, 0.8, 1.2, 1.7, 1.0, 1.1, 0.9, 0.8, 1.4, 1.0, 0.9, 1.1, 1.2, 0.8, 1.4, 1.6], \"xaxis\": \"x2\", \"yaxis\": \"y2\"}],\n                        {\"barmode\": \"relative\", \"height\": 500, \"legend\": {\"title\": {\"text\": \"DEATH_EVENT\"}, \"tracegroupgap\": 0}, \"template\": {\"data\": {\"bar\": [{\"error_x\": {\"color\": \"#2a3f5f\"}, \"error_y\": {\"color\": \"#2a3f5f\"}, \"marker\": {\"line\": {\"color\": \"#E5ECF6\", \"width\": 0.5}}, \"type\": \"bar\"}], \"barpolar\": [{\"marker\": {\"line\": {\"color\": \"#E5ECF6\", \"width\": 0.5}}, \"type\": \"barpolar\"}], \"carpet\": [{\"aaxis\": {\"endlinecolor\": \"#2a3f5f\", \"gridcolor\": \"white\", \"linecolor\": \"white\", \"minorgridcolor\": \"white\", \"startlinecolor\": \"#2a3f5f\"}, \"baxis\": {\"endlinecolor\": \"#2a3f5f\", \"gridcolor\": \"white\", \"linecolor\": \"white\", \"minorgridcolor\": \"white\", \"startlinecolor\": \"#2a3f5f\"}, \"type\": \"carpet\"}], \"choropleth\": [{\"colorbar\": {\"outlinewidth\": 0, \"ticks\": \"\"}, \"type\": \"choropleth\"}], \"contour\": [{\"colorbar\": {\"outlinewidth\": 0, \"ticks\": \"\"}, \"colorscale\": [[0.0, \"#0d0887\"], [0.1111111111111111, \"#46039f\"], [0.2222222222222222, \"#7201a8\"], [0.3333333333333333, \"#9c179e\"], [0.4444444444444444, \"#bd3786\"], [0.5555555555555556, \"#d8576b\"], [0.6666666666666666, \"#ed7953\"], [0.7777777777777778, \"#fb9f3a\"], [0.8888888888888888, \"#fdca26\"], [1.0, \"#f0f921\"]], \"type\": \"contour\"}], \"contourcarpet\": [{\"colorbar\": {\"outlinewidth\": 0, \"ticks\": \"\"}, \"type\": \"contourcarpet\"}], \"heatmap\": [{\"colorbar\": {\"outlinewidth\": 0, \"ticks\": \"\"}, \"colorscale\": [[0.0, \"#0d0887\"], [0.1111111111111111, \"#46039f\"], [0.2222222222222222, \"#7201a8\"], [0.3333333333333333, \"#9c179e\"], [0.4444444444444444, \"#bd3786\"], [0.5555555555555556, \"#d8576b\"], [0.6666666666666666, \"#ed7953\"], [0.7777777777777778, \"#fb9f3a\"], [0.8888888888888888, \"#fdca26\"], [1.0, \"#f0f921\"]], \"type\": \"heatmap\"}], \"heatmapgl\": [{\"colorbar\": {\"outlinewidth\": 0, \"ticks\": \"\"}, \"colorscale\": [[0.0, \"#0d0887\"], [0.1111111111111111, \"#46039f\"], [0.2222222222222222, \"#7201a8\"], [0.3333333333333333, \"#9c179e\"], [0.4444444444444444, \"#bd3786\"], [0.5555555555555556, \"#d8576b\"], [0.6666666666666666, \"#ed7953\"], [0.7777777777777778, \"#fb9f3a\"], [0.8888888888888888, \"#fdca26\"], [1.0, \"#f0f921\"]], \"type\": \"heatmapgl\"}], \"histogram\": [{\"marker\": {\"colorbar\": {\"outlinewidth\": 0, \"ticks\": \"\"}}, \"type\": \"histogram\"}], \"histogram2d\": [{\"colorbar\": {\"outlinewidth\": 0, \"ticks\": \"\"}, \"colorscale\": [[0.0, \"#0d0887\"], [0.1111111111111111, \"#46039f\"], [0.2222222222222222, \"#7201a8\"], [0.3333333333333333, \"#9c179e\"], [0.4444444444444444, \"#bd3786\"], [0.5555555555555556, \"#d8576b\"], [0.6666666666666666, \"#ed7953\"], [0.7777777777777778, \"#fb9f3a\"], [0.8888888888888888, \"#fdca26\"], [1.0, \"#f0f921\"]], \"type\": \"histogram2d\"}], \"histogram2dcontour\": [{\"colorbar\": {\"outlinewidth\": 0, \"ticks\": \"\"}, \"colorscale\": [[0.0, \"#0d0887\"], [0.1111111111111111, \"#46039f\"], [0.2222222222222222, \"#7201a8\"], [0.3333333333333333, \"#9c179e\"], [0.4444444444444444, \"#bd3786\"], [0.5555555555555556, \"#d8576b\"], [0.6666666666666666, \"#ed7953\"], [0.7777777777777778, \"#fb9f3a\"], [0.8888888888888888, \"#fdca26\"], [1.0, \"#f0f921\"]], \"type\": \"histogram2dcontour\"}], \"mesh3d\": [{\"colorbar\": {\"outlinewidth\": 0, \"ticks\": \"\"}, \"type\": \"mesh3d\"}], \"parcoords\": [{\"line\": {\"colorbar\": {\"outlinewidth\": 0, \"ticks\": \"\"}}, \"type\": \"parcoords\"}], \"pie\": [{\"automargin\": true, \"type\": \"pie\"}], \"scatter\": [{\"marker\": {\"colorbar\": {\"outlinewidth\": 0, \"ticks\": \"\"}}, \"type\": \"scatter\"}], \"scatter3d\": [{\"line\": {\"colorbar\": {\"outlinewidth\": 0, \"ticks\": \"\"}}, \"marker\": {\"colorbar\": {\"outlinewidth\": 0, \"ticks\": \"\"}}, \"type\": \"scatter3d\"}], \"scattercarpet\": [{\"marker\": {\"colorbar\": {\"outlinewidth\": 0, \"ticks\": \"\"}}, \"type\": \"scattercarpet\"}], \"scattergeo\": [{\"marker\": {\"colorbar\": {\"outlinewidth\": 0, \"ticks\": \"\"}}, \"type\": \"scattergeo\"}], \"scattergl\": [{\"marker\": {\"colorbar\": {\"outlinewidth\": 0, \"ticks\": \"\"}}, \"type\": \"scattergl\"}], \"scattermapbox\": [{\"marker\": {\"colorbar\": {\"outlinewidth\": 0, \"ticks\": \"\"}}, \"type\": \"scattermapbox\"}], \"scatterpolar\": [{\"marker\": {\"colorbar\": {\"outlinewidth\": 0, \"ticks\": \"\"}}, \"type\": \"scatterpolar\"}], \"scatterpolargl\": [{\"marker\": {\"colorbar\": {\"outlinewidth\": 0, \"ticks\": \"\"}}, \"type\": \"scatterpolargl\"}], \"scatterternary\": [{\"marker\": {\"colorbar\": {\"outlinewidth\": 0, \"ticks\": \"\"}}, \"type\": \"scatterternary\"}], \"surface\": [{\"colorbar\": {\"outlinewidth\": 0, \"ticks\": \"\"}, \"colorscale\": [[0.0, \"#0d0887\"], [0.1111111111111111, \"#46039f\"], [0.2222222222222222, \"#7201a8\"], [0.3333333333333333, \"#9c179e\"], [0.4444444444444444, \"#bd3786\"], [0.5555555555555556, \"#d8576b\"], [0.6666666666666666, \"#ed7953\"], [0.7777777777777778, \"#fb9f3a\"], [0.8888888888888888, \"#fdca26\"], [1.0, \"#f0f921\"]], \"type\": \"surface\"}], \"table\": [{\"cells\": {\"fill\": {\"color\": \"#EBF0F8\"}, \"line\": {\"color\": \"white\"}}, \"header\": {\"fill\": {\"color\": \"#C8D4E3\"}, \"line\": {\"color\": \"white\"}}, \"type\": \"table\"}]}, \"layout\": {\"annotationdefaults\": {\"arrowcolor\": \"#2a3f5f\", \"arrowhead\": 0, \"arrowwidth\": 1}, \"coloraxis\": {\"colorbar\": {\"outlinewidth\": 0, \"ticks\": \"\"}}, \"colorscale\": {\"diverging\": [[0, \"#8e0152\"], [0.1, \"#c51b7d\"], [0.2, \"#de77ae\"], [0.3, \"#f1b6da\"], [0.4, \"#fde0ef\"], [0.5, \"#f7f7f7\"], [0.6, \"#e6f5d0\"], [0.7, \"#b8e186\"], [0.8, \"#7fbc41\"], [0.9, \"#4d9221\"], [1, \"#276419\"]], \"sequential\": [[0.0, \"#0d0887\"], [0.1111111111111111, \"#46039f\"], [0.2222222222222222, \"#7201a8\"], [0.3333333333333333, \"#9c179e\"], [0.4444444444444444, \"#bd3786\"], [0.5555555555555556, \"#d8576b\"], [0.6666666666666666, \"#ed7953\"], [0.7777777777777778, \"#fb9f3a\"], [0.8888888888888888, \"#fdca26\"], [1.0, \"#f0f921\"]], \"sequentialminus\": [[0.0, \"#0d0887\"], [0.1111111111111111, \"#46039f\"], [0.2222222222222222, \"#7201a8\"], [0.3333333333333333, \"#9c179e\"], [0.4444444444444444, \"#bd3786\"], [0.5555555555555556, \"#d8576b\"], [0.6666666666666666, \"#ed7953\"], [0.7777777777777778, \"#fb9f3a\"], [0.8888888888888888, \"#fdca26\"], [1.0, \"#f0f921\"]]}, \"colorway\": [\"#636efa\", \"#EF553B\", \"#00cc96\", \"#ab63fa\", \"#FFA15A\", \"#19d3f3\", \"#FF6692\", \"#B6E880\", \"#FF97FF\", \"#FECB52\"], \"font\": {\"color\": \"#2a3f5f\"}, \"geo\": {\"bgcolor\": \"white\", \"lakecolor\": \"white\", \"landcolor\": \"#E5ECF6\", \"showlakes\": true, \"showland\": true, \"subunitcolor\": \"white\"}, \"hoverlabel\": {\"align\": \"left\"}, \"hovermode\": \"closest\", \"mapbox\": {\"style\": \"light\"}, \"paper_bgcolor\": \"white\", \"plot_bgcolor\": \"#E5ECF6\", \"polar\": {\"angularaxis\": {\"gridcolor\": \"white\", \"linecolor\": \"white\", \"ticks\": \"\"}, \"bgcolor\": \"#E5ECF6\", \"radialaxis\": {\"gridcolor\": \"white\", \"linecolor\": \"white\", \"ticks\": \"\"}}, \"scene\": {\"xaxis\": {\"backgroundcolor\": \"#E5ECF6\", \"gridcolor\": \"white\", \"gridwidth\": 2, \"linecolor\": \"white\", \"showbackground\": true, \"ticks\": \"\", \"zerolinecolor\": \"white\"}, \"yaxis\": {\"backgroundcolor\": \"#E5ECF6\", \"gridcolor\": \"white\", \"gridwidth\": 2, \"linecolor\": \"white\", \"showbackground\": true, \"ticks\": \"\", \"zerolinecolor\": \"white\"}, \"zaxis\": {\"backgroundcolor\": \"#E5ECF6\", \"gridcolor\": \"white\", \"gridwidth\": 2, \"linecolor\": \"white\", \"showbackground\": true, \"ticks\": \"\", \"zerolinecolor\": \"white\"}}, \"shapedefaults\": {\"line\": {\"color\": \"#2a3f5f\"}}, \"ternary\": {\"aaxis\": {\"gridcolor\": \"white\", \"linecolor\": \"white\", \"ticks\": \"\"}, \"baxis\": {\"gridcolor\": \"white\", \"linecolor\": \"white\", \"ticks\": \"\"}, \"bgcolor\": \"#E5ECF6\", \"caxis\": {\"gridcolor\": \"white\", \"linecolor\": \"white\", \"ticks\": \"\"}}, \"title\": {\"x\": 0.05}, \"xaxis\": {\"automargin\": true, \"gridcolor\": \"white\", \"linecolor\": \"white\", \"ticks\": \"\", \"title\": {\"standoff\": 15}, \"zerolinecolor\": \"white\", \"zerolinewidth\": 2}, \"yaxis\": {\"automargin\": true, \"gridcolor\": \"white\", \"linecolor\": \"white\", \"ticks\": \"\", \"title\": {\"standoff\": 15}, \"zerolinecolor\": \"white\", \"zerolinewidth\": 2}}}, \"title\": {\"text\": \"Figure 1: Distribution of serum creatinine VS death event\"}, \"width\": 700, \"xaxis\": {\"anchor\": \"y\", \"domain\": [0.0, 1.0], \"title\": {\"text\": \"serum_creatinine\"}}, \"xaxis2\": {\"anchor\": \"y2\", \"domain\": [0.0, 1.0], \"matches\": \"x\", \"showgrid\": true, \"showticklabels\": false}, \"yaxis\": {\"anchor\": \"x\", \"domain\": [0.0, 0.7326], \"title\": {\"text\": \"count\"}}, \"yaxis2\": {\"anchor\": \"x2\", \"domain\": [0.7426, 1.0], \"matches\": \"y2\", \"showgrid\": false, \"showline\": false, \"showticklabels\": false, \"ticks\": \"\"}},\n                        {\"responsive\": true}\n                    ).then(function(){\n                            \nvar gd = document.getElementById('7a415d8f-5d62-42c4-adef-9cfa2411def3');\nvar x = new MutationObserver(function (mutations, observer) {{\n        var display = window.getComputedStyle(gd).display;\n        if (!display || display === 'none') {{\n            console.log([gd, 'removed!']);\n            Plotly.purge(gd);\n            observer.disconnect();\n        }}\n}});\n\n// Listen for the removal of the full notebook cells\nvar notebookContainer = gd.closest('#notebook-container');\nif (notebookContainer) {{\n    x.observe(notebookContainer, {childList: true});\n}}\n\n// Listen for the clearing of the current output cell\nvar outputEl = gd.closest('.output');\nif (outputEl) {{\n    x.observe(outputEl, {childList: true});\n}}\n\n                        })\n                };\n                });\n            </script>\n        </div>"
     },
     "metadata": {},
     "output_type": "display_data"
    }
   ],
   "source": [
    "plot_histogram(heart_data, 'serum_creatinine', 'DEATH_EVENT', NBINS, \"violin\",'Figure 1: Distribution of serum creatinine VS death event')"
   ]
  },
  {
   "cell_type": "code",
   "execution_count": 87,
   "metadata": {
    "pycharm": {
     "name": "#%%\n"
    }
   },
   "outputs": [
    {
     "data": {
      "application/vnd.plotly.v1+json": {
       "data": [
        {
         "nbinsx": 50,
         "bingroup": "x",
         "offsetgroup": "1",
         "xaxis": "x",
         "type": "histogram",
         "marker": {
          "color": "#636efa"
         },
         "legendgroup": "1",
         "yaxis": "y",
         "alignmentgroup": "True",
         "x": [
          20,
          38,
          20,
          20,
          20,
          40,
          15,
          60,
          65,
          35,
          38,
          25,
          30,
          38,
          50,
          38,
          14,
          25,
          55,
          30,
          35,
          30,
          38,
          40,
          45,
          38,
          30,
          38,
          45,
          35,
          50,
          35,
          50,
          50,
          38,
          20,
          30,
          45,
          60,
          38,
          25,
          38,
          20,
          30,
          25,
          20,
          62,
          50,
          38,
          30,
          20,
          20,
          25,
          40,
          35,
          20,
          15,
          25,
          25,
          25,
          35,
          20,
          20,
          25,
          25,
          25,
          30,
          60,
          60,
          38,
          40,
          17,
          38,
          25,
          30,
          45,
          35,
          30,
          38,
          20,
          25,
          25,
          38,
          25,
          30,
          50,
          25,
          20,
          45,
          30,
          70,
          20,
          30,
          25,
          25,
          20
         ],
         "showlegend": true,
         "orientation": "v",
         "name": "1",
         "hovertemplate": "DEATH_EVENT=1<br>ejection_fraction=%{x}<br>count=%{y}<extra></extra>"
        },
        {
         "scalegroup": "x",
         "offsetgroup": "1",
         "xaxis": "x2",
         "type": "violin",
         "marker": {
          "color": "#636efa"
         },
         "legendgroup": "1",
         "yaxis": "y2",
         "x": [
          20,
          38,
          20,
          20,
          20,
          40,
          15,
          60,
          65,
          35,
          38,
          25,
          30,
          38,
          50,
          38,
          14,
          25,
          55,
          30,
          35,
          30,
          38,
          40,
          45,
          38,
          30,
          38,
          45,
          35,
          50,
          35,
          50,
          50,
          38,
          20,
          30,
          45,
          60,
          38,
          25,
          38,
          20,
          30,
          25,
          20,
          62,
          50,
          38,
          30,
          20,
          20,
          25,
          40,
          35,
          20,
          15,
          25,
          25,
          25,
          35,
          20,
          20,
          25,
          25,
          25,
          30,
          60,
          60,
          38,
          40,
          17,
          38,
          25,
          30,
          45,
          35,
          30,
          38,
          20,
          25,
          25,
          38,
          25,
          30,
          50,
          25,
          20,
          45,
          30,
          70,
          20,
          30,
          25,
          25,
          20
         ],
         "showlegend": false,
         "alignmentgroup": "True",
         "name": "1",
         "hovertemplate": "DEATH_EVENT=1<br>ejection_fraction=%{x}<extra></extra>"
        },
        {
         "nbinsx": 50,
         "bingroup": "x",
         "offsetgroup": "0",
         "xaxis": "x",
         "type": "histogram",
         "marker": {
          "color": "#EF553B"
         },
         "legendgroup": "0",
         "yaxis": "y",
         "alignmentgroup": "True",
         "x": [
          30,
          25,
          60,
          30,
          30,
          50,
          35,
          40,
          35,
          80,
          40,
          35,
          50,
          60,
          40,
          38,
          45,
          40,
          50,
          50,
          50,
          35,
          60,
          40,
          25,
          45,
          45,
          60,
          38,
          60,
          25,
          60,
          25,
          40,
          25,
          45,
          25,
          30,
          50,
          45,
          35,
          38,
          35,
          35,
          25,
          40,
          40,
          60,
          60,
          60,
          60,
          38,
          38,
          30,
          50,
          60,
          30,
          35,
          60,
          45,
          40,
          60,
          35,
          40,
          60,
          25,
          35,
          30,
          35,
          30,
          40,
          30,
          30,
          60,
          35,
          60,
          45,
          35,
          35,
          25,
          35,
          25,
          50,
          45,
          40,
          35,
          40,
          60,
          40,
          35,
          35,
          40,
          60,
          20,
          35,
          60,
          40,
          50,
          60,
          40,
          30,
          40,
          45,
          35,
          60,
          40,
          30,
          38,
          30,
          20,
          35,
          45,
          60,
          60,
          25,
          40,
          45,
          40,
          38,
          40,
          35,
          17,
          62,
          50,
          35,
          35,
          50,
          35,
          35,
          50,
          35,
          25,
          25,
          60,
          25,
          35,
          25,
          25,
          35,
          35,
          38,
          45,
          50,
          50,
          30,
          40,
          45,
          35,
          30,
          35,
          40,
          38,
          38,
          25,
          35,
          40,
          30,
          35,
          45,
          35,
          60,
          30,
          38,
          38,
          25,
          50,
          40,
          40,
          60,
          38,
          35,
          38,
          38,
          35,
          30,
          40,
          38,
          40,
          30,
          38,
          35,
          38,
          30,
          38,
          40,
          40,
          30,
          38,
          40,
          40,
          35,
          55,
          35,
          38,
          55,
          35,
          38,
          35,
          38,
          38,
          60,
          38,
          45
         ],
         "showlegend": true,
         "orientation": "v",
         "name": "0",
         "hovertemplate": "DEATH_EVENT=0<br>ejection_fraction=%{x}<br>count=%{y}<extra></extra>"
        },
        {
         "scalegroup": "x",
         "offsetgroup": "0",
         "xaxis": "x2",
         "type": "violin",
         "marker": {
          "color": "#EF553B"
         },
         "legendgroup": "0",
         "yaxis": "y2",
         "x": [
          30,
          25,
          60,
          30,
          30,
          50,
          35,
          40,
          35,
          80,
          40,
          35,
          50,
          60,
          40,
          38,
          45,
          40,
          50,
          50,
          50,
          35,
          60,
          40,
          25,
          45,
          45,
          60,
          38,
          60,
          25,
          60,
          25,
          40,
          25,
          45,
          25,
          30,
          50,
          45,
          35,
          38,
          35,
          35,
          25,
          40,
          40,
          60,
          60,
          60,
          60,
          38,
          38,
          30,
          50,
          60,
          30,
          35,
          60,
          45,
          40,
          60,
          35,
          40,
          60,
          25,
          35,
          30,
          35,
          30,
          40,
          30,
          30,
          60,
          35,
          60,
          45,
          35,
          35,
          25,
          35,
          25,
          50,
          45,
          40,
          35,
          40,
          60,
          40,
          35,
          35,
          40,
          60,
          20,
          35,
          60,
          40,
          50,
          60,
          40,
          30,
          40,
          45,
          35,
          60,
          40,
          30,
          38,
          30,
          20,
          35,
          45,
          60,
          60,
          25,
          40,
          45,
          40,
          38,
          40,
          35,
          17,
          62,
          50,
          35,
          35,
          50,
          35,
          35,
          50,
          35,
          25,
          25,
          60,
          25,
          35,
          25,
          25,
          35,
          35,
          38,
          45,
          50,
          50,
          30,
          40,
          45,
          35,
          30,
          35,
          40,
          38,
          38,
          25,
          35,
          40,
          30,
          35,
          45,
          35,
          60,
          30,
          38,
          38,
          25,
          50,
          40,
          40,
          60,
          38,
          35,
          38,
          38,
          35,
          30,
          40,
          38,
          40,
          30,
          38,
          35,
          38,
          30,
          38,
          40,
          40,
          30,
          38,
          40,
          40,
          35,
          55,
          35,
          38,
          55,
          35,
          38,
          35,
          38,
          38,
          60,
          38,
          45
         ],
         "showlegend": false,
         "alignmentgroup": "True",
         "name": "0",
         "hovertemplate": "DEATH_EVENT=0<br>ejection_fraction=%{x}<extra></extra>"
        }
       ],
       "config": {
        "plotlyServerURL": "https://plot.ly"
       },
       "layout": {
        "title": {
         "text": "Figure 2: Distribution of ejection fraction VS death event"
        },
        "yaxis2": {
         "showgrid": false,
         "domain": [
          0.7426,
          1.0
         ],
         "anchor": "x2",
         "showticklabels": false,
         "matches": "y2",
         "showline": false,
         "ticks": ""
        },
        "xaxis2": {
         "showgrid": true,
         "domain": [
          0.0,
          1.0
         ],
         "anchor": "y2",
         "showticklabels": false,
         "matches": "x"
        },
        "yaxis": {
         "title": {
          "text": "count"
         },
         "domain": [
          0.0,
          0.7326
         ],
         "anchor": "x"
        },
        "height": 500,
        "barmode": "relative",
        "template": {
         "data": {
          "scatter": [
           {
            "marker": {
             "colorbar": {
              "outlinewidth": 0,
              "ticks": ""
             }
            },
            "type": "scatter"
           }
          ],
          "parcoords": [
           {
            "line": {
             "colorbar": {
              "outlinewidth": 0,
              "ticks": ""
             }
            },
            "type": "parcoords"
           }
          ],
          "scattermapbox": [
           {
            "marker": {
             "colorbar": {
              "outlinewidth": 0,
              "ticks": ""
             }
            },
            "type": "scattermapbox"
           }
          ],
          "pie": [
           {
            "automargin": true,
            "type": "pie"
           }
          ],
          "mesh3d": [
           {
            "colorbar": {
             "outlinewidth": 0,
             "ticks": ""
            },
            "type": "mesh3d"
           }
          ],
          "table": [
           {
            "header": {
             "fill": {
              "color": "#C8D4E3"
             },
             "line": {
              "color": "white"
             }
            },
            "cells": {
             "fill": {
              "color": "#EBF0F8"
             },
             "line": {
              "color": "white"
             }
            },
            "type": "table"
           }
          ],
          "scattergeo": [
           {
            "marker": {
             "colorbar": {
              "outlinewidth": 0,
              "ticks": ""
             }
            },
            "type": "scattergeo"
           }
          ],
          "heatmapgl": [
           {
            "colorbar": {
             "outlinewidth": 0,
             "ticks": ""
            },
            "colorscale": [
             [
              0.0,
              "#0d0887"
             ],
             [
              0.1111111111111111,
              "#46039f"
             ],
             [
              0.2222222222222222,
              "#7201a8"
             ],
             [
              0.3333333333333333,
              "#9c179e"
             ],
             [
              0.4444444444444444,
              "#bd3786"
             ],
             [
              0.5555555555555556,
              "#d8576b"
             ],
             [
              0.6666666666666666,
              "#ed7953"
             ],
             [
              0.7777777777777778,
              "#fb9f3a"
             ],
             [
              0.8888888888888888,
              "#fdca26"
             ],
             [
              1.0,
              "#f0f921"
             ]
            ],
            "type": "heatmapgl"
           }
          ],
          "heatmap": [
           {
            "colorbar": {
             "outlinewidth": 0,
             "ticks": ""
            },
            "colorscale": [
             [
              0.0,
              "#0d0887"
             ],
             [
              0.1111111111111111,
              "#46039f"
             ],
             [
              0.2222222222222222,
              "#7201a8"
             ],
             [
              0.3333333333333333,
              "#9c179e"
             ],
             [
              0.4444444444444444,
              "#bd3786"
             ],
             [
              0.5555555555555556,
              "#d8576b"
             ],
             [
              0.6666666666666666,
              "#ed7953"
             ],
             [
              0.7777777777777778,
              "#fb9f3a"
             ],
             [
              0.8888888888888888,
              "#fdca26"
             ],
             [
              1.0,
              "#f0f921"
             ]
            ],
            "type": "heatmap"
           }
          ],
          "choropleth": [
           {
            "colorbar": {
             "outlinewidth": 0,
             "ticks": ""
            },
            "type": "choropleth"
           }
          ],
          "scattercarpet": [
           {
            "marker": {
             "colorbar": {
              "outlinewidth": 0,
              "ticks": ""
             }
            },
            "type": "scattercarpet"
           }
          ],
          "histogram2d": [
           {
            "colorbar": {
             "outlinewidth": 0,
             "ticks": ""
            },
            "colorscale": [
             [
              0.0,
              "#0d0887"
             ],
             [
              0.1111111111111111,
              "#46039f"
             ],
             [
              0.2222222222222222,
              "#7201a8"
             ],
             [
              0.3333333333333333,
              "#9c179e"
             ],
             [
              0.4444444444444444,
              "#bd3786"
             ],
             [
              0.5555555555555556,
              "#d8576b"
             ],
             [
              0.6666666666666666,
              "#ed7953"
             ],
             [
              0.7777777777777778,
              "#fb9f3a"
             ],
             [
              0.8888888888888888,
              "#fdca26"
             ],
             [
              1.0,
              "#f0f921"
             ]
            ],
            "type": "histogram2d"
           }
          ],
          "scattergl": [
           {
            "marker": {
             "colorbar": {
              "outlinewidth": 0,
              "ticks": ""
             }
            },
            "type": "scattergl"
           }
          ],
          "contour": [
           {
            "colorbar": {
             "outlinewidth": 0,
             "ticks": ""
            },
            "colorscale": [
             [
              0.0,
              "#0d0887"
             ],
             [
              0.1111111111111111,
              "#46039f"
             ],
             [
              0.2222222222222222,
              "#7201a8"
             ],
             [
              0.3333333333333333,
              "#9c179e"
             ],
             [
              0.4444444444444444,
              "#bd3786"
             ],
             [
              0.5555555555555556,
              "#d8576b"
             ],
             [
              0.6666666666666666,
              "#ed7953"
             ],
             [
              0.7777777777777778,
              "#fb9f3a"
             ],
             [
              0.8888888888888888,
              "#fdca26"
             ],
             [
              1.0,
              "#f0f921"
             ]
            ],
            "type": "contour"
           }
          ],
          "surface": [
           {
            "colorbar": {
             "outlinewidth": 0,
             "ticks": ""
            },
            "colorscale": [
             [
              0.0,
              "#0d0887"
             ],
             [
              0.1111111111111111,
              "#46039f"
             ],
             [
              0.2222222222222222,
              "#7201a8"
             ],
             [
              0.3333333333333333,
              "#9c179e"
             ],
             [
              0.4444444444444444,
              "#bd3786"
             ],
             [
              0.5555555555555556,
              "#d8576b"
             ],
             [
              0.6666666666666666,
              "#ed7953"
             ],
             [
              0.7777777777777778,
              "#fb9f3a"
             ],
             [
              0.8888888888888888,
              "#fdca26"
             ],
             [
              1.0,
              "#f0f921"
             ]
            ],
            "type": "surface"
           }
          ],
          "scatterpolar": [
           {
            "marker": {
             "colorbar": {
              "outlinewidth": 0,
              "ticks": ""
             }
            },
            "type": "scatterpolar"
           }
          ],
          "histogram2dcontour": [
           {
            "colorbar": {
             "outlinewidth": 0,
             "ticks": ""
            },
            "colorscale": [
             [
              0.0,
              "#0d0887"
             ],
             [
              0.1111111111111111,
              "#46039f"
             ],
             [
              0.2222222222222222,
              "#7201a8"
             ],
             [
              0.3333333333333333,
              "#9c179e"
             ],
             [
              0.4444444444444444,
              "#bd3786"
             ],
             [
              0.5555555555555556,
              "#d8576b"
             ],
             [
              0.6666666666666666,
              "#ed7953"
             ],
             [
              0.7777777777777778,
              "#fb9f3a"
             ],
             [
              0.8888888888888888,
              "#fdca26"
             ],
             [
              1.0,
              "#f0f921"
             ]
            ],
            "type": "histogram2dcontour"
           }
          ],
          "histogram": [
           {
            "marker": {
             "colorbar": {
              "outlinewidth": 0,
              "ticks": ""
             }
            },
            "type": "histogram"
           }
          ],
          "scatter3d": [
           {
            "marker": {
             "colorbar": {
              "outlinewidth": 0,
              "ticks": ""
             }
            },
            "line": {
             "colorbar": {
              "outlinewidth": 0,
              "ticks": ""
             }
            },
            "type": "scatter3d"
           }
          ],
          "scatterternary": [
           {
            "marker": {
             "colorbar": {
              "outlinewidth": 0,
              "ticks": ""
             }
            },
            "type": "scatterternary"
           }
          ],
          "contourcarpet": [
           {
            "colorbar": {
             "outlinewidth": 0,
             "ticks": ""
            },
            "type": "contourcarpet"
           }
          ],
          "barpolar": [
           {
            "marker": {
             "line": {
              "color": "#E5ECF6",
              "width": 0.5
             }
            },
            "type": "barpolar"
           }
          ],
          "carpet": [
           {
            "baxis": {
             "linecolor": "white",
             "startlinecolor": "#2a3f5f",
             "minorgridcolor": "white",
             "endlinecolor": "#2a3f5f",
             "gridcolor": "white"
            },
            "aaxis": {
             "linecolor": "white",
             "startlinecolor": "#2a3f5f",
             "minorgridcolor": "white",
             "endlinecolor": "#2a3f5f",
             "gridcolor": "white"
            },
            "type": "carpet"
           }
          ],
          "scatterpolargl": [
           {
            "marker": {
             "colorbar": {
              "outlinewidth": 0,
              "ticks": ""
             }
            },
            "type": "scatterpolargl"
           }
          ],
          "bar": [
           {
            "marker": {
             "line": {
              "color": "#E5ECF6",
              "width": 0.5
             }
            },
            "type": "bar",
            "error_y": {
             "color": "#2a3f5f"
            },
            "error_x": {
             "color": "#2a3f5f"
            }
           }
          ]
         },
         "layout": {
          "mapbox": {
           "style": "light"
          },
          "font": {
           "color": "#2a3f5f"
          },
          "polar": {
           "radialaxis": {
            "linecolor": "white",
            "gridcolor": "white",
            "ticks": ""
           },
           "angularaxis": {
            "linecolor": "white",
            "gridcolor": "white",
            "ticks": ""
           },
           "bgcolor": "#E5ECF6"
          },
          "hovermode": "closest",
          "shapedefaults": {
           "line": {
            "color": "#2a3f5f"
           }
          },
          "xaxis": {
           "zerolinewidth": 2,
           "zerolinecolor": "white",
           "linecolor": "white",
           "title": {
            "standoff": 15
           },
           "automargin": true,
           "gridcolor": "white",
           "ticks": ""
          },
          "hoverlabel": {
           "align": "left"
          },
          "paper_bgcolor": "white",
          "coloraxis": {
           "colorbar": {
            "outlinewidth": 0,
            "ticks": ""
           }
          },
          "ternary": {
           "baxis": {
            "linecolor": "white",
            "gridcolor": "white",
            "ticks": ""
           },
           "aaxis": {
            "linecolor": "white",
            "gridcolor": "white",
            "ticks": ""
           },
           "caxis": {
            "linecolor": "white",
            "gridcolor": "white",
            "ticks": ""
           },
           "bgcolor": "#E5ECF6"
          },
          "colorscale": {
           "sequentialminus": [
            [
             0.0,
             "#0d0887"
            ],
            [
             0.1111111111111111,
             "#46039f"
            ],
            [
             0.2222222222222222,
             "#7201a8"
            ],
            [
             0.3333333333333333,
             "#9c179e"
            ],
            [
             0.4444444444444444,
             "#bd3786"
            ],
            [
             0.5555555555555556,
             "#d8576b"
            ],
            [
             0.6666666666666666,
             "#ed7953"
            ],
            [
             0.7777777777777778,
             "#fb9f3a"
            ],
            [
             0.8888888888888888,
             "#fdca26"
            ],
            [
             1.0,
             "#f0f921"
            ]
           ],
           "diverging": [
            [
             0,
             "#8e0152"
            ],
            [
             0.1,
             "#c51b7d"
            ],
            [
             0.2,
             "#de77ae"
            ],
            [
             0.3,
             "#f1b6da"
            ],
            [
             0.4,
             "#fde0ef"
            ],
            [
             0.5,
             "#f7f7f7"
            ],
            [
             0.6,
             "#e6f5d0"
            ],
            [
             0.7,
             "#b8e186"
            ],
            [
             0.8,
             "#7fbc41"
            ],
            [
             0.9,
             "#4d9221"
            ],
            [
             1,
             "#276419"
            ]
           ],
           "sequential": [
            [
             0.0,
             "#0d0887"
            ],
            [
             0.1111111111111111,
             "#46039f"
            ],
            [
             0.2222222222222222,
             "#7201a8"
            ],
            [
             0.3333333333333333,
             "#9c179e"
            ],
            [
             0.4444444444444444,
             "#bd3786"
            ],
            [
             0.5555555555555556,
             "#d8576b"
            ],
            [
             0.6666666666666666,
             "#ed7953"
            ],
            [
             0.7777777777777778,
             "#fb9f3a"
            ],
            [
             0.8888888888888888,
             "#fdca26"
            ],
            [
             1.0,
             "#f0f921"
            ]
           ]
          },
          "annotationdefaults": {
           "arrowcolor": "#2a3f5f",
           "arrowwidth": 1,
           "arrowhead": 0
          },
          "title": {
           "x": 0.05
          },
          "plot_bgcolor": "#E5ECF6",
          "scene": {
           "xaxis": {
            "linecolor": "white",
            "showbackground": true,
            "backgroundcolor": "#E5ECF6",
            "gridwidth": 2,
            "gridcolor": "white",
            "zerolinecolor": "white",
            "ticks": ""
           },
           "zaxis": {
            "linecolor": "white",
            "showbackground": true,
            "backgroundcolor": "#E5ECF6",
            "gridwidth": 2,
            "gridcolor": "white",
            "zerolinecolor": "white",
            "ticks": ""
           },
           "yaxis": {
            "linecolor": "white",
            "showbackground": true,
            "backgroundcolor": "#E5ECF6",
            "gridwidth": 2,
            "gridcolor": "white",
            "zerolinecolor": "white",
            "ticks": ""
           }
          },
          "colorway": [
           "#636efa",
           "#EF553B",
           "#00cc96",
           "#ab63fa",
           "#FFA15A",
           "#19d3f3",
           "#FF6692",
           "#B6E880",
           "#FF97FF",
           "#FECB52"
          ],
          "geo": {
           "showland": true,
           "showlakes": true,
           "bgcolor": "white",
           "landcolor": "#E5ECF6",
           "lakecolor": "white",
           "subunitcolor": "white"
          },
          "yaxis": {
           "zerolinewidth": 2,
           "zerolinecolor": "white",
           "linecolor": "white",
           "title": {
            "standoff": 15
           },
           "automargin": true,
           "gridcolor": "white",
           "ticks": ""
          }
         }
        },
        "xaxis": {
         "title": {
          "text": "ejection_fraction"
         },
         "domain": [
          0.0,
          1.0
         ],
         "anchor": "y"
        },
        "legend": {
         "title": {
          "text": "DEATH_EVENT"
         },
         "tracegroupgap": 0
        },
        "width": 700
       }
      },
      "text/html": "<div>\n        \n        \n            <div id=\"39512ad1-7d9e-4afd-9e4b-957d3990296c\" class=\"plotly-graph-div\" style=\"height:500px; width:700px;\"></div>\n            <script type=\"text/javascript\">\n                require([\"plotly\"], function(Plotly) {\n                    window.PLOTLYENV=window.PLOTLYENV || {};\n                    \n                if (document.getElementById(\"39512ad1-7d9e-4afd-9e4b-957d3990296c\")) {\n                    Plotly.newPlot(\n                        '39512ad1-7d9e-4afd-9e4b-957d3990296c',\n                        [{\"alignmentgroup\": \"True\", \"bingroup\": \"x\", \"hovertemplate\": \"DEATH_EVENT=1<br>ejection_fraction=%{x}<br>count=%{y}<extra></extra>\", \"legendgroup\": \"1\", \"marker\": {\"color\": \"#636efa\"}, \"name\": \"1\", \"nbinsx\": 50, \"offsetgroup\": \"1\", \"orientation\": \"v\", \"showlegend\": true, \"type\": \"histogram\", \"x\": [20, 38, 20, 20, 20, 40, 15, 60, 65, 35, 38, 25, 30, 38, 50, 38, 14, 25, 55, 30, 35, 30, 38, 40, 45, 38, 30, 38, 45, 35, 50, 35, 50, 50, 38, 20, 30, 45, 60, 38, 25, 38, 20, 30, 25, 20, 62, 50, 38, 30, 20, 20, 25, 40, 35, 20, 15, 25, 25, 25, 35, 20, 20, 25, 25, 25, 30, 60, 60, 38, 40, 17, 38, 25, 30, 45, 35, 30, 38, 20, 25, 25, 38, 25, 30, 50, 25, 20, 45, 30, 70, 20, 30, 25, 25, 20], \"xaxis\": \"x\", \"yaxis\": \"y\"}, {\"alignmentgroup\": \"True\", \"hovertemplate\": \"DEATH_EVENT=1<br>ejection_fraction=%{x}<extra></extra>\", \"legendgroup\": \"1\", \"marker\": {\"color\": \"#636efa\"}, \"name\": \"1\", \"offsetgroup\": \"1\", \"scalegroup\": \"x\", \"showlegend\": false, \"type\": \"violin\", \"x\": [20, 38, 20, 20, 20, 40, 15, 60, 65, 35, 38, 25, 30, 38, 50, 38, 14, 25, 55, 30, 35, 30, 38, 40, 45, 38, 30, 38, 45, 35, 50, 35, 50, 50, 38, 20, 30, 45, 60, 38, 25, 38, 20, 30, 25, 20, 62, 50, 38, 30, 20, 20, 25, 40, 35, 20, 15, 25, 25, 25, 35, 20, 20, 25, 25, 25, 30, 60, 60, 38, 40, 17, 38, 25, 30, 45, 35, 30, 38, 20, 25, 25, 38, 25, 30, 50, 25, 20, 45, 30, 70, 20, 30, 25, 25, 20], \"xaxis\": \"x2\", \"yaxis\": \"y2\"}, {\"alignmentgroup\": \"True\", \"bingroup\": \"x\", \"hovertemplate\": \"DEATH_EVENT=0<br>ejection_fraction=%{x}<br>count=%{y}<extra></extra>\", \"legendgroup\": \"0\", \"marker\": {\"color\": \"#EF553B\"}, \"name\": \"0\", \"nbinsx\": 50, \"offsetgroup\": \"0\", \"orientation\": \"v\", \"showlegend\": true, \"type\": \"histogram\", \"x\": [30, 25, 60, 30, 30, 50, 35, 40, 35, 80, 40, 35, 50, 60, 40, 38, 45, 40, 50, 50, 50, 35, 60, 40, 25, 45, 45, 60, 38, 60, 25, 60, 25, 40, 25, 45, 25, 30, 50, 45, 35, 38, 35, 35, 25, 40, 40, 60, 60, 60, 60, 38, 38, 30, 50, 60, 30, 35, 60, 45, 40, 60, 35, 40, 60, 25, 35, 30, 35, 30, 40, 30, 30, 60, 35, 60, 45, 35, 35, 25, 35, 25, 50, 45, 40, 35, 40, 60, 40, 35, 35, 40, 60, 20, 35, 60, 40, 50, 60, 40, 30, 40, 45, 35, 60, 40, 30, 38, 30, 20, 35, 45, 60, 60, 25, 40, 45, 40, 38, 40, 35, 17, 62, 50, 35, 35, 50, 35, 35, 50, 35, 25, 25, 60, 25, 35, 25, 25, 35, 35, 38, 45, 50, 50, 30, 40, 45, 35, 30, 35, 40, 38, 38, 25, 35, 40, 30, 35, 45, 35, 60, 30, 38, 38, 25, 50, 40, 40, 60, 38, 35, 38, 38, 35, 30, 40, 38, 40, 30, 38, 35, 38, 30, 38, 40, 40, 30, 38, 40, 40, 35, 55, 35, 38, 55, 35, 38, 35, 38, 38, 60, 38, 45], \"xaxis\": \"x\", \"yaxis\": \"y\"}, {\"alignmentgroup\": \"True\", \"hovertemplate\": \"DEATH_EVENT=0<br>ejection_fraction=%{x}<extra></extra>\", \"legendgroup\": \"0\", \"marker\": {\"color\": \"#EF553B\"}, \"name\": \"0\", \"offsetgroup\": \"0\", \"scalegroup\": \"x\", \"showlegend\": false, \"type\": \"violin\", \"x\": [30, 25, 60, 30, 30, 50, 35, 40, 35, 80, 40, 35, 50, 60, 40, 38, 45, 40, 50, 50, 50, 35, 60, 40, 25, 45, 45, 60, 38, 60, 25, 60, 25, 40, 25, 45, 25, 30, 50, 45, 35, 38, 35, 35, 25, 40, 40, 60, 60, 60, 60, 38, 38, 30, 50, 60, 30, 35, 60, 45, 40, 60, 35, 40, 60, 25, 35, 30, 35, 30, 40, 30, 30, 60, 35, 60, 45, 35, 35, 25, 35, 25, 50, 45, 40, 35, 40, 60, 40, 35, 35, 40, 60, 20, 35, 60, 40, 50, 60, 40, 30, 40, 45, 35, 60, 40, 30, 38, 30, 20, 35, 45, 60, 60, 25, 40, 45, 40, 38, 40, 35, 17, 62, 50, 35, 35, 50, 35, 35, 50, 35, 25, 25, 60, 25, 35, 25, 25, 35, 35, 38, 45, 50, 50, 30, 40, 45, 35, 30, 35, 40, 38, 38, 25, 35, 40, 30, 35, 45, 35, 60, 30, 38, 38, 25, 50, 40, 40, 60, 38, 35, 38, 38, 35, 30, 40, 38, 40, 30, 38, 35, 38, 30, 38, 40, 40, 30, 38, 40, 40, 35, 55, 35, 38, 55, 35, 38, 35, 38, 38, 60, 38, 45], \"xaxis\": \"x2\", \"yaxis\": \"y2\"}],\n                        {\"barmode\": \"relative\", \"height\": 500, \"legend\": {\"title\": {\"text\": \"DEATH_EVENT\"}, \"tracegroupgap\": 0}, \"template\": {\"data\": {\"bar\": [{\"error_x\": {\"color\": \"#2a3f5f\"}, \"error_y\": {\"color\": \"#2a3f5f\"}, \"marker\": {\"line\": {\"color\": \"#E5ECF6\", \"width\": 0.5}}, \"type\": \"bar\"}], \"barpolar\": [{\"marker\": {\"line\": {\"color\": \"#E5ECF6\", \"width\": 0.5}}, \"type\": \"barpolar\"}], \"carpet\": [{\"aaxis\": {\"endlinecolor\": \"#2a3f5f\", \"gridcolor\": \"white\", \"linecolor\": \"white\", \"minorgridcolor\": \"white\", \"startlinecolor\": \"#2a3f5f\"}, \"baxis\": {\"endlinecolor\": \"#2a3f5f\", \"gridcolor\": \"white\", \"linecolor\": \"white\", \"minorgridcolor\": \"white\", \"startlinecolor\": \"#2a3f5f\"}, \"type\": \"carpet\"}], \"choropleth\": [{\"colorbar\": {\"outlinewidth\": 0, \"ticks\": \"\"}, \"type\": \"choropleth\"}], \"contour\": [{\"colorbar\": {\"outlinewidth\": 0, \"ticks\": \"\"}, \"colorscale\": [[0.0, \"#0d0887\"], [0.1111111111111111, \"#46039f\"], [0.2222222222222222, \"#7201a8\"], [0.3333333333333333, \"#9c179e\"], [0.4444444444444444, \"#bd3786\"], [0.5555555555555556, \"#d8576b\"], [0.6666666666666666, \"#ed7953\"], [0.7777777777777778, \"#fb9f3a\"], [0.8888888888888888, \"#fdca26\"], [1.0, \"#f0f921\"]], \"type\": \"contour\"}], \"contourcarpet\": [{\"colorbar\": {\"outlinewidth\": 0, \"ticks\": \"\"}, \"type\": \"contourcarpet\"}], \"heatmap\": [{\"colorbar\": {\"outlinewidth\": 0, \"ticks\": \"\"}, \"colorscale\": [[0.0, \"#0d0887\"], [0.1111111111111111, \"#46039f\"], [0.2222222222222222, \"#7201a8\"], [0.3333333333333333, \"#9c179e\"], [0.4444444444444444, \"#bd3786\"], [0.5555555555555556, \"#d8576b\"], [0.6666666666666666, \"#ed7953\"], [0.7777777777777778, \"#fb9f3a\"], [0.8888888888888888, \"#fdca26\"], [1.0, \"#f0f921\"]], \"type\": \"heatmap\"}], \"heatmapgl\": [{\"colorbar\": {\"outlinewidth\": 0, \"ticks\": \"\"}, \"colorscale\": [[0.0, \"#0d0887\"], [0.1111111111111111, \"#46039f\"], [0.2222222222222222, \"#7201a8\"], [0.3333333333333333, \"#9c179e\"], [0.4444444444444444, \"#bd3786\"], [0.5555555555555556, \"#d8576b\"], [0.6666666666666666, \"#ed7953\"], [0.7777777777777778, \"#fb9f3a\"], [0.8888888888888888, \"#fdca26\"], [1.0, \"#f0f921\"]], \"type\": \"heatmapgl\"}], \"histogram\": [{\"marker\": {\"colorbar\": {\"outlinewidth\": 0, \"ticks\": \"\"}}, \"type\": \"histogram\"}], \"histogram2d\": [{\"colorbar\": {\"outlinewidth\": 0, \"ticks\": \"\"}, \"colorscale\": [[0.0, \"#0d0887\"], [0.1111111111111111, \"#46039f\"], [0.2222222222222222, \"#7201a8\"], [0.3333333333333333, \"#9c179e\"], [0.4444444444444444, \"#bd3786\"], [0.5555555555555556, \"#d8576b\"], [0.6666666666666666, \"#ed7953\"], [0.7777777777777778, \"#fb9f3a\"], [0.8888888888888888, \"#fdca26\"], [1.0, \"#f0f921\"]], \"type\": \"histogram2d\"}], \"histogram2dcontour\": [{\"colorbar\": {\"outlinewidth\": 0, \"ticks\": \"\"}, \"colorscale\": [[0.0, \"#0d0887\"], [0.1111111111111111, \"#46039f\"], [0.2222222222222222, \"#7201a8\"], [0.3333333333333333, \"#9c179e\"], [0.4444444444444444, \"#bd3786\"], [0.5555555555555556, \"#d8576b\"], [0.6666666666666666, \"#ed7953\"], [0.7777777777777778, \"#fb9f3a\"], [0.8888888888888888, \"#fdca26\"], [1.0, \"#f0f921\"]], \"type\": \"histogram2dcontour\"}], \"mesh3d\": [{\"colorbar\": {\"outlinewidth\": 0, \"ticks\": \"\"}, \"type\": \"mesh3d\"}], \"parcoords\": [{\"line\": {\"colorbar\": {\"outlinewidth\": 0, \"ticks\": \"\"}}, \"type\": \"parcoords\"}], \"pie\": [{\"automargin\": true, \"type\": \"pie\"}], \"scatter\": [{\"marker\": {\"colorbar\": {\"outlinewidth\": 0, \"ticks\": \"\"}}, \"type\": \"scatter\"}], \"scatter3d\": [{\"line\": {\"colorbar\": {\"outlinewidth\": 0, \"ticks\": \"\"}}, \"marker\": {\"colorbar\": {\"outlinewidth\": 0, \"ticks\": \"\"}}, \"type\": \"scatter3d\"}], \"scattercarpet\": [{\"marker\": {\"colorbar\": {\"outlinewidth\": 0, \"ticks\": \"\"}}, \"type\": \"scattercarpet\"}], \"scattergeo\": [{\"marker\": {\"colorbar\": {\"outlinewidth\": 0, \"ticks\": \"\"}}, \"type\": \"scattergeo\"}], \"scattergl\": [{\"marker\": {\"colorbar\": {\"outlinewidth\": 0, \"ticks\": \"\"}}, \"type\": \"scattergl\"}], \"scattermapbox\": [{\"marker\": {\"colorbar\": {\"outlinewidth\": 0, \"ticks\": \"\"}}, \"type\": \"scattermapbox\"}], \"scatterpolar\": [{\"marker\": {\"colorbar\": {\"outlinewidth\": 0, \"ticks\": \"\"}}, \"type\": \"scatterpolar\"}], \"scatterpolargl\": [{\"marker\": {\"colorbar\": {\"outlinewidth\": 0, \"ticks\": \"\"}}, \"type\": \"scatterpolargl\"}], \"scatterternary\": [{\"marker\": {\"colorbar\": {\"outlinewidth\": 0, \"ticks\": \"\"}}, \"type\": \"scatterternary\"}], \"surface\": [{\"colorbar\": {\"outlinewidth\": 0, \"ticks\": \"\"}, \"colorscale\": [[0.0, \"#0d0887\"], [0.1111111111111111, \"#46039f\"], [0.2222222222222222, \"#7201a8\"], [0.3333333333333333, \"#9c179e\"], [0.4444444444444444, \"#bd3786\"], [0.5555555555555556, \"#d8576b\"], [0.6666666666666666, \"#ed7953\"], [0.7777777777777778, \"#fb9f3a\"], [0.8888888888888888, \"#fdca26\"], [1.0, \"#f0f921\"]], \"type\": \"surface\"}], \"table\": [{\"cells\": {\"fill\": {\"color\": \"#EBF0F8\"}, \"line\": {\"color\": \"white\"}}, \"header\": {\"fill\": {\"color\": \"#C8D4E3\"}, \"line\": {\"color\": \"white\"}}, \"type\": \"table\"}]}, \"layout\": {\"annotationdefaults\": {\"arrowcolor\": \"#2a3f5f\", \"arrowhead\": 0, \"arrowwidth\": 1}, \"coloraxis\": {\"colorbar\": {\"outlinewidth\": 0, \"ticks\": \"\"}}, \"colorscale\": {\"diverging\": [[0, \"#8e0152\"], [0.1, \"#c51b7d\"], [0.2, \"#de77ae\"], [0.3, \"#f1b6da\"], [0.4, \"#fde0ef\"], [0.5, \"#f7f7f7\"], [0.6, \"#e6f5d0\"], [0.7, \"#b8e186\"], [0.8, \"#7fbc41\"], [0.9, \"#4d9221\"], [1, \"#276419\"]], \"sequential\": [[0.0, \"#0d0887\"], [0.1111111111111111, \"#46039f\"], [0.2222222222222222, \"#7201a8\"], [0.3333333333333333, \"#9c179e\"], [0.4444444444444444, \"#bd3786\"], [0.5555555555555556, \"#d8576b\"], [0.6666666666666666, \"#ed7953\"], [0.7777777777777778, \"#fb9f3a\"], [0.8888888888888888, \"#fdca26\"], [1.0, \"#f0f921\"]], \"sequentialminus\": [[0.0, \"#0d0887\"], [0.1111111111111111, \"#46039f\"], [0.2222222222222222, \"#7201a8\"], [0.3333333333333333, \"#9c179e\"], [0.4444444444444444, \"#bd3786\"], [0.5555555555555556, \"#d8576b\"], [0.6666666666666666, \"#ed7953\"], [0.7777777777777778, \"#fb9f3a\"], [0.8888888888888888, \"#fdca26\"], [1.0, \"#f0f921\"]]}, \"colorway\": [\"#636efa\", \"#EF553B\", \"#00cc96\", \"#ab63fa\", \"#FFA15A\", \"#19d3f3\", \"#FF6692\", \"#B6E880\", \"#FF97FF\", \"#FECB52\"], \"font\": {\"color\": \"#2a3f5f\"}, \"geo\": {\"bgcolor\": \"white\", \"lakecolor\": \"white\", \"landcolor\": \"#E5ECF6\", \"showlakes\": true, \"showland\": true, \"subunitcolor\": \"white\"}, \"hoverlabel\": {\"align\": \"left\"}, \"hovermode\": \"closest\", \"mapbox\": {\"style\": \"light\"}, \"paper_bgcolor\": \"white\", \"plot_bgcolor\": \"#E5ECF6\", \"polar\": {\"angularaxis\": {\"gridcolor\": \"white\", \"linecolor\": \"white\", \"ticks\": \"\"}, \"bgcolor\": \"#E5ECF6\", \"radialaxis\": {\"gridcolor\": \"white\", \"linecolor\": \"white\", \"ticks\": \"\"}}, \"scene\": {\"xaxis\": {\"backgroundcolor\": \"#E5ECF6\", \"gridcolor\": \"white\", \"gridwidth\": 2, \"linecolor\": \"white\", \"showbackground\": true, \"ticks\": \"\", \"zerolinecolor\": \"white\"}, \"yaxis\": {\"backgroundcolor\": \"#E5ECF6\", \"gridcolor\": \"white\", \"gridwidth\": 2, \"linecolor\": \"white\", \"showbackground\": true, \"ticks\": \"\", \"zerolinecolor\": \"white\"}, \"zaxis\": {\"backgroundcolor\": \"#E5ECF6\", \"gridcolor\": \"white\", \"gridwidth\": 2, \"linecolor\": \"white\", \"showbackground\": true, \"ticks\": \"\", \"zerolinecolor\": \"white\"}}, \"shapedefaults\": {\"line\": {\"color\": \"#2a3f5f\"}}, \"ternary\": {\"aaxis\": {\"gridcolor\": \"white\", \"linecolor\": \"white\", \"ticks\": \"\"}, \"baxis\": {\"gridcolor\": \"white\", \"linecolor\": \"white\", \"ticks\": \"\"}, \"bgcolor\": \"#E5ECF6\", \"caxis\": {\"gridcolor\": \"white\", \"linecolor\": \"white\", \"ticks\": \"\"}}, \"title\": {\"x\": 0.05}, \"xaxis\": {\"automargin\": true, \"gridcolor\": \"white\", \"linecolor\": \"white\", \"ticks\": \"\", \"title\": {\"standoff\": 15}, \"zerolinecolor\": \"white\", \"zerolinewidth\": 2}, \"yaxis\": {\"automargin\": true, \"gridcolor\": \"white\", \"linecolor\": \"white\", \"ticks\": \"\", \"title\": {\"standoff\": 15}, \"zerolinecolor\": \"white\", \"zerolinewidth\": 2}}}, \"title\": {\"text\": \"Figure 2: Distribution of ejection fraction VS death event\"}, \"width\": 700, \"xaxis\": {\"anchor\": \"y\", \"domain\": [0.0, 1.0], \"title\": {\"text\": \"ejection_fraction\"}}, \"xaxis2\": {\"anchor\": \"y2\", \"domain\": [0.0, 1.0], \"matches\": \"x\", \"showgrid\": true, \"showticklabels\": false}, \"yaxis\": {\"anchor\": \"x\", \"domain\": [0.0, 0.7326], \"title\": {\"text\": \"count\"}}, \"yaxis2\": {\"anchor\": \"x2\", \"domain\": [0.7426, 1.0], \"matches\": \"y2\", \"showgrid\": false, \"showline\": false, \"showticklabels\": false, \"ticks\": \"\"}},\n                        {\"responsive\": true}\n                    ).then(function(){\n                            \nvar gd = document.getElementById('39512ad1-7d9e-4afd-9e4b-957d3990296c');\nvar x = new MutationObserver(function (mutations, observer) {{\n        var display = window.getComputedStyle(gd).display;\n        if (!display || display === 'none') {{\n            console.log([gd, 'removed!']);\n            Plotly.purge(gd);\n            observer.disconnect();\n        }}\n}});\n\n// Listen for the removal of the full notebook cells\nvar notebookContainer = gd.closest('#notebook-container');\nif (notebookContainer) {{\n    x.observe(notebookContainer, {childList: true});\n}}\n\n// Listen for the clearing of the current output cell\nvar outputEl = gd.closest('.output');\nif (outputEl) {{\n    x.observe(outputEl, {childList: true});\n}}\n\n                        })\n                };\n                });\n            </script>\n        </div>"
     },
     "metadata": {},
     "output_type": "display_data"
    }
   ],
   "source": [
    "plot_histogram(heart_data, 'ejection_fraction', 'DEATH_EVENT', NBINS, \"violin\",'Figure 2: Distribution of ejection fraction VS death event')"
   ]
  },
  {
   "cell_type": "code",
   "execution_count": 88,
   "metadata": {
    "pycharm": {
     "name": "#%%\n"
    }
   },
   "outputs": [
    {
     "data": {
      "application/vnd.plotly.v1+json": {
       "data": [
        {
         "nbinsx": 50,
         "bingroup": "x",
         "offsetgroup": "1",
         "xaxis": "x",
         "type": "histogram",
         "marker": {
          "color": "#636efa"
         },
         "legendgroup": "1",
         "yaxis": "y",
         "alignmentgroup": "True",
         "x": [
          582,
          7861,
          146,
          111,
          160,
          47,
          246,
          315,
          157,
          123,
          81,
          231,
          981,
          168,
          379,
          149,
          582,
          125,
          582,
          128,
          220,
          582,
          148,
          112,
          122,
          60,
          70,
          582,
          23,
          249,
          94,
          582,
          60,
          855,
          235,
          582,
          124,
          571,
          588,
          582,
          1380,
          582,
          553,
          129,
          577,
          91,
          3964,
          69,
          260,
          371,
          789,
          364,
          7702,
          318,
          582,
          68,
          250,
          110,
          161,
          113,
          5882,
          582,
          47,
          76,
          280,
          154,
          328,
          129,
          143,
          582,
          582,
          168,
          805,
          943,
          582,
          233,
          2334,
          2442,
          776,
          66,
          176,
          395,
          99,
          145,
          104,
          582,
          1896,
          582,
          418,
          131,
          427,
          582,
          166,
          2017,
          258,
          1199
         ],
         "showlegend": true,
         "orientation": "v",
         "name": "1",
         "hovertemplate": "DEATH_EVENT=1<br>creatinine_phosphokinase=%{x}<br>count=%{y}<extra></extra>"
        },
        {
         "scalegroup": "x",
         "offsetgroup": "1",
         "xaxis": "x2",
         "type": "violin",
         "marker": {
          "color": "#636efa"
         },
         "legendgroup": "1",
         "yaxis": "y2",
         "x": [
          582,
          7861,
          146,
          111,
          160,
          47,
          246,
          315,
          157,
          123,
          81,
          231,
          981,
          168,
          379,
          149,
          582,
          125,
          582,
          128,
          220,
          582,
          148,
          112,
          122,
          60,
          70,
          582,
          23,
          249,
          94,
          582,
          60,
          855,
          235,
          582,
          124,
          571,
          588,
          582,
          1380,
          582,
          553,
          129,
          577,
          91,
          3964,
          69,
          260,
          371,
          789,
          364,
          7702,
          318,
          582,
          68,
          250,
          110,
          161,
          113,
          5882,
          582,
          47,
          76,
          280,
          154,
          328,
          129,
          143,
          582,
          582,
          168,
          805,
          943,
          582,
          233,
          2334,
          2442,
          776,
          66,
          176,
          395,
          99,
          145,
          104,
          582,
          1896,
          582,
          418,
          131,
          427,
          582,
          166,
          2017,
          258,
          1199
         ],
         "showlegend": false,
         "alignmentgroup": "True",
         "name": "1",
         "hovertemplate": "DEATH_EVENT=1<br>creatinine_phosphokinase=%{x}<extra></extra>"
        },
        {
         "nbinsx": 50,
         "bingroup": "x",
         "offsetgroup": "0",
         "xaxis": "x",
         "type": "histogram",
         "marker": {
          "color": "#EF553B"
         },
         "legendgroup": "0",
         "yaxis": "y",
         "alignmentgroup": "True",
         "x": [
          80,
          52,
          63,
          159,
          2656,
          127,
          75,
          607,
          109,
          582,
          148,
          582,
          224,
          92,
          102,
          203,
          336,
          69,
          582,
          55,
          78,
          47,
          68,
          84,
          115,
          66,
          897,
          582,
          144,
          133,
          514,
          59,
          156,
          61,
          305,
          582,
          898,
          5209,
          53,
          748,
          1876,
          936,
          292,
          60,
          369,
          754,
          400,
          96,
          102,
          113,
          737,
          68,
          96,
          582,
          358,
          200,
          248,
          270,
          1808,
          1082,
          719,
          193,
          4540,
          582,
          59,
          646,
          281,
          1548,
          291,
          482,
          84,
          185,
          132,
          1610,
          2261,
          30,
          115,
          1846,
          335,
          231,
          58,
          250,
          910,
          129,
          72,
          130,
          582,
          196,
          582,
          835,
          582,
          3966,
          171,
          115,
          198,
          95,
          1419,
          69,
          122,
          835,
          478,
          151,
          244,
          582,
          62,
          121,
          231,
          582,
          167,
          582,
          1211,
          1767,
          308,
          97,
          59,
          64,
          167,
          101,
          212,
          2281,
          972,
          212,
          582,
          224,
          135,
          582,
          1202,
          1021,
          582,
          118,
          86,
          582,
          582,
          675,
          57,
          2794,
          56,
          211,
          93,
          129,
          707,
          582,
          109,
          119,
          232,
          720,
          180,
          81,
          582,
          90,
          1185,
          582,
          80,
          143,
          624,
          207,
          2522,
          572,
          245,
          88,
          446,
          191,
          326,
          132,
          66,
          56,
          66,
          655,
          157,
          582,
          298,
          135,
          582,
          582,
          582,
          582,
          213,
          64,
          257,
          582,
          618,
          582,
          1051,
          84,
          2695,
          582,
          64,
          1688,
          54,
          170,
          253,
          582,
          892,
          337,
          615,
          320,
          190,
          103,
          61,
          1820,
          2060,
          2413,
          196
         ],
         "showlegend": true,
         "orientation": "v",
         "name": "0",
         "hovertemplate": "DEATH_EVENT=0<br>creatinine_phosphokinase=%{x}<br>count=%{y}<extra></extra>"
        },
        {
         "scalegroup": "x",
         "offsetgroup": "0",
         "xaxis": "x2",
         "type": "violin",
         "marker": {
          "color": "#EF553B"
         },
         "legendgroup": "0",
         "yaxis": "y2",
         "x": [
          80,
          52,
          63,
          159,
          2656,
          127,
          75,
          607,
          109,
          582,
          148,
          582,
          224,
          92,
          102,
          203,
          336,
          69,
          582,
          55,
          78,
          47,
          68,
          84,
          115,
          66,
          897,
          582,
          144,
          133,
          514,
          59,
          156,
          61,
          305,
          582,
          898,
          5209,
          53,
          748,
          1876,
          936,
          292,
          60,
          369,
          754,
          400,
          96,
          102,
          113,
          737,
          68,
          96,
          582,
          358,
          200,
          248,
          270,
          1808,
          1082,
          719,
          193,
          4540,
          582,
          59,
          646,
          281,
          1548,
          291,
          482,
          84,
          185,
          132,
          1610,
          2261,
          30,
          115,
          1846,
          335,
          231,
          58,
          250,
          910,
          129,
          72,
          130,
          582,
          196,
          582,
          835,
          582,
          3966,
          171,
          115,
          198,
          95,
          1419,
          69,
          122,
          835,
          478,
          151,
          244,
          582,
          62,
          121,
          231,
          582,
          167,
          582,
          1211,
          1767,
          308,
          97,
          59,
          64,
          167,
          101,
          212,
          2281,
          972,
          212,
          582,
          224,
          135,
          582,
          1202,
          1021,
          582,
          118,
          86,
          582,
          582,
          675,
          57,
          2794,
          56,
          211,
          93,
          129,
          707,
          582,
          109,
          119,
          232,
          720,
          180,
          81,
          582,
          90,
          1185,
          582,
          80,
          143,
          624,
          207,
          2522,
          572,
          245,
          88,
          446,
          191,
          326,
          132,
          66,
          56,
          66,
          655,
          157,
          582,
          298,
          135,
          582,
          582,
          582,
          582,
          213,
          64,
          257,
          582,
          618,
          582,
          1051,
          84,
          2695,
          582,
          64,
          1688,
          54,
          170,
          253,
          582,
          892,
          337,
          615,
          320,
          190,
          103,
          61,
          1820,
          2060,
          2413,
          196
         ],
         "showlegend": false,
         "alignmentgroup": "True",
         "name": "0",
         "hovertemplate": "DEATH_EVENT=0<br>creatinine_phosphokinase=%{x}<extra></extra>"
        }
       ],
       "config": {
        "plotlyServerURL": "https://plot.ly"
       },
       "layout": {
        "title": {
         "text": "Figure 3: Distribution of creatinine_phosphokinase VS death event"
        },
        "yaxis2": {
         "showgrid": false,
         "domain": [
          0.7426,
          1.0
         ],
         "anchor": "x2",
         "showticklabels": false,
         "matches": "y2",
         "showline": false,
         "ticks": ""
        },
        "xaxis2": {
         "showgrid": true,
         "domain": [
          0.0,
          1.0
         ],
         "anchor": "y2",
         "showticklabels": false,
         "matches": "x"
        },
        "yaxis": {
         "title": {
          "text": "count"
         },
         "domain": [
          0.0,
          0.7326
         ],
         "anchor": "x"
        },
        "height": 500,
        "barmode": "relative",
        "template": {
         "data": {
          "scatter": [
           {
            "marker": {
             "colorbar": {
              "outlinewidth": 0,
              "ticks": ""
             }
            },
            "type": "scatter"
           }
          ],
          "parcoords": [
           {
            "line": {
             "colorbar": {
              "outlinewidth": 0,
              "ticks": ""
             }
            },
            "type": "parcoords"
           }
          ],
          "scattermapbox": [
           {
            "marker": {
             "colorbar": {
              "outlinewidth": 0,
              "ticks": ""
             }
            },
            "type": "scattermapbox"
           }
          ],
          "pie": [
           {
            "automargin": true,
            "type": "pie"
           }
          ],
          "mesh3d": [
           {
            "colorbar": {
             "outlinewidth": 0,
             "ticks": ""
            },
            "type": "mesh3d"
           }
          ],
          "table": [
           {
            "header": {
             "fill": {
              "color": "#C8D4E3"
             },
             "line": {
              "color": "white"
             }
            },
            "cells": {
             "fill": {
              "color": "#EBF0F8"
             },
             "line": {
              "color": "white"
             }
            },
            "type": "table"
           }
          ],
          "scattergeo": [
           {
            "marker": {
             "colorbar": {
              "outlinewidth": 0,
              "ticks": ""
             }
            },
            "type": "scattergeo"
           }
          ],
          "heatmapgl": [
           {
            "colorbar": {
             "outlinewidth": 0,
             "ticks": ""
            },
            "colorscale": [
             [
              0.0,
              "#0d0887"
             ],
             [
              0.1111111111111111,
              "#46039f"
             ],
             [
              0.2222222222222222,
              "#7201a8"
             ],
             [
              0.3333333333333333,
              "#9c179e"
             ],
             [
              0.4444444444444444,
              "#bd3786"
             ],
             [
              0.5555555555555556,
              "#d8576b"
             ],
             [
              0.6666666666666666,
              "#ed7953"
             ],
             [
              0.7777777777777778,
              "#fb9f3a"
             ],
             [
              0.8888888888888888,
              "#fdca26"
             ],
             [
              1.0,
              "#f0f921"
             ]
            ],
            "type": "heatmapgl"
           }
          ],
          "heatmap": [
           {
            "colorbar": {
             "outlinewidth": 0,
             "ticks": ""
            },
            "colorscale": [
             [
              0.0,
              "#0d0887"
             ],
             [
              0.1111111111111111,
              "#46039f"
             ],
             [
              0.2222222222222222,
              "#7201a8"
             ],
             [
              0.3333333333333333,
              "#9c179e"
             ],
             [
              0.4444444444444444,
              "#bd3786"
             ],
             [
              0.5555555555555556,
              "#d8576b"
             ],
             [
              0.6666666666666666,
              "#ed7953"
             ],
             [
              0.7777777777777778,
              "#fb9f3a"
             ],
             [
              0.8888888888888888,
              "#fdca26"
             ],
             [
              1.0,
              "#f0f921"
             ]
            ],
            "type": "heatmap"
           }
          ],
          "choropleth": [
           {
            "colorbar": {
             "outlinewidth": 0,
             "ticks": ""
            },
            "type": "choropleth"
           }
          ],
          "scattercarpet": [
           {
            "marker": {
             "colorbar": {
              "outlinewidth": 0,
              "ticks": ""
             }
            },
            "type": "scattercarpet"
           }
          ],
          "histogram2d": [
           {
            "colorbar": {
             "outlinewidth": 0,
             "ticks": ""
            },
            "colorscale": [
             [
              0.0,
              "#0d0887"
             ],
             [
              0.1111111111111111,
              "#46039f"
             ],
             [
              0.2222222222222222,
              "#7201a8"
             ],
             [
              0.3333333333333333,
              "#9c179e"
             ],
             [
              0.4444444444444444,
              "#bd3786"
             ],
             [
              0.5555555555555556,
              "#d8576b"
             ],
             [
              0.6666666666666666,
              "#ed7953"
             ],
             [
              0.7777777777777778,
              "#fb9f3a"
             ],
             [
              0.8888888888888888,
              "#fdca26"
             ],
             [
              1.0,
              "#f0f921"
             ]
            ],
            "type": "histogram2d"
           }
          ],
          "scattergl": [
           {
            "marker": {
             "colorbar": {
              "outlinewidth": 0,
              "ticks": ""
             }
            },
            "type": "scattergl"
           }
          ],
          "contour": [
           {
            "colorbar": {
             "outlinewidth": 0,
             "ticks": ""
            },
            "colorscale": [
             [
              0.0,
              "#0d0887"
             ],
             [
              0.1111111111111111,
              "#46039f"
             ],
             [
              0.2222222222222222,
              "#7201a8"
             ],
             [
              0.3333333333333333,
              "#9c179e"
             ],
             [
              0.4444444444444444,
              "#bd3786"
             ],
             [
              0.5555555555555556,
              "#d8576b"
             ],
             [
              0.6666666666666666,
              "#ed7953"
             ],
             [
              0.7777777777777778,
              "#fb9f3a"
             ],
             [
              0.8888888888888888,
              "#fdca26"
             ],
             [
              1.0,
              "#f0f921"
             ]
            ],
            "type": "contour"
           }
          ],
          "surface": [
           {
            "colorbar": {
             "outlinewidth": 0,
             "ticks": ""
            },
            "colorscale": [
             [
              0.0,
              "#0d0887"
             ],
             [
              0.1111111111111111,
              "#46039f"
             ],
             [
              0.2222222222222222,
              "#7201a8"
             ],
             [
              0.3333333333333333,
              "#9c179e"
             ],
             [
              0.4444444444444444,
              "#bd3786"
             ],
             [
              0.5555555555555556,
              "#d8576b"
             ],
             [
              0.6666666666666666,
              "#ed7953"
             ],
             [
              0.7777777777777778,
              "#fb9f3a"
             ],
             [
              0.8888888888888888,
              "#fdca26"
             ],
             [
              1.0,
              "#f0f921"
             ]
            ],
            "type": "surface"
           }
          ],
          "scatterpolar": [
           {
            "marker": {
             "colorbar": {
              "outlinewidth": 0,
              "ticks": ""
             }
            },
            "type": "scatterpolar"
           }
          ],
          "histogram2dcontour": [
           {
            "colorbar": {
             "outlinewidth": 0,
             "ticks": ""
            },
            "colorscale": [
             [
              0.0,
              "#0d0887"
             ],
             [
              0.1111111111111111,
              "#46039f"
             ],
             [
              0.2222222222222222,
              "#7201a8"
             ],
             [
              0.3333333333333333,
              "#9c179e"
             ],
             [
              0.4444444444444444,
              "#bd3786"
             ],
             [
              0.5555555555555556,
              "#d8576b"
             ],
             [
              0.6666666666666666,
              "#ed7953"
             ],
             [
              0.7777777777777778,
              "#fb9f3a"
             ],
             [
              0.8888888888888888,
              "#fdca26"
             ],
             [
              1.0,
              "#f0f921"
             ]
            ],
            "type": "histogram2dcontour"
           }
          ],
          "histogram": [
           {
            "marker": {
             "colorbar": {
              "outlinewidth": 0,
              "ticks": ""
             }
            },
            "type": "histogram"
           }
          ],
          "scatter3d": [
           {
            "marker": {
             "colorbar": {
              "outlinewidth": 0,
              "ticks": ""
             }
            },
            "line": {
             "colorbar": {
              "outlinewidth": 0,
              "ticks": ""
             }
            },
            "type": "scatter3d"
           }
          ],
          "scatterternary": [
           {
            "marker": {
             "colorbar": {
              "outlinewidth": 0,
              "ticks": ""
             }
            },
            "type": "scatterternary"
           }
          ],
          "contourcarpet": [
           {
            "colorbar": {
             "outlinewidth": 0,
             "ticks": ""
            },
            "type": "contourcarpet"
           }
          ],
          "barpolar": [
           {
            "marker": {
             "line": {
              "color": "#E5ECF6",
              "width": 0.5
             }
            },
            "type": "barpolar"
           }
          ],
          "carpet": [
           {
            "baxis": {
             "linecolor": "white",
             "startlinecolor": "#2a3f5f",
             "minorgridcolor": "white",
             "endlinecolor": "#2a3f5f",
             "gridcolor": "white"
            },
            "aaxis": {
             "linecolor": "white",
             "startlinecolor": "#2a3f5f",
             "minorgridcolor": "white",
             "endlinecolor": "#2a3f5f",
             "gridcolor": "white"
            },
            "type": "carpet"
           }
          ],
          "scatterpolargl": [
           {
            "marker": {
             "colorbar": {
              "outlinewidth": 0,
              "ticks": ""
             }
            },
            "type": "scatterpolargl"
           }
          ],
          "bar": [
           {
            "marker": {
             "line": {
              "color": "#E5ECF6",
              "width": 0.5
             }
            },
            "type": "bar",
            "error_y": {
             "color": "#2a3f5f"
            },
            "error_x": {
             "color": "#2a3f5f"
            }
           }
          ]
         },
         "layout": {
          "mapbox": {
           "style": "light"
          },
          "font": {
           "color": "#2a3f5f"
          },
          "polar": {
           "radialaxis": {
            "linecolor": "white",
            "gridcolor": "white",
            "ticks": ""
           },
           "angularaxis": {
            "linecolor": "white",
            "gridcolor": "white",
            "ticks": ""
           },
           "bgcolor": "#E5ECF6"
          },
          "hovermode": "closest",
          "shapedefaults": {
           "line": {
            "color": "#2a3f5f"
           }
          },
          "xaxis": {
           "zerolinewidth": 2,
           "zerolinecolor": "white",
           "linecolor": "white",
           "title": {
            "standoff": 15
           },
           "automargin": true,
           "gridcolor": "white",
           "ticks": ""
          },
          "hoverlabel": {
           "align": "left"
          },
          "paper_bgcolor": "white",
          "coloraxis": {
           "colorbar": {
            "outlinewidth": 0,
            "ticks": ""
           }
          },
          "ternary": {
           "baxis": {
            "linecolor": "white",
            "gridcolor": "white",
            "ticks": ""
           },
           "aaxis": {
            "linecolor": "white",
            "gridcolor": "white",
            "ticks": ""
           },
           "caxis": {
            "linecolor": "white",
            "gridcolor": "white",
            "ticks": ""
           },
           "bgcolor": "#E5ECF6"
          },
          "colorscale": {
           "sequentialminus": [
            [
             0.0,
             "#0d0887"
            ],
            [
             0.1111111111111111,
             "#46039f"
            ],
            [
             0.2222222222222222,
             "#7201a8"
            ],
            [
             0.3333333333333333,
             "#9c179e"
            ],
            [
             0.4444444444444444,
             "#bd3786"
            ],
            [
             0.5555555555555556,
             "#d8576b"
            ],
            [
             0.6666666666666666,
             "#ed7953"
            ],
            [
             0.7777777777777778,
             "#fb9f3a"
            ],
            [
             0.8888888888888888,
             "#fdca26"
            ],
            [
             1.0,
             "#f0f921"
            ]
           ],
           "diverging": [
            [
             0,
             "#8e0152"
            ],
            [
             0.1,
             "#c51b7d"
            ],
            [
             0.2,
             "#de77ae"
            ],
            [
             0.3,
             "#f1b6da"
            ],
            [
             0.4,
             "#fde0ef"
            ],
            [
             0.5,
             "#f7f7f7"
            ],
            [
             0.6,
             "#e6f5d0"
            ],
            [
             0.7,
             "#b8e186"
            ],
            [
             0.8,
             "#7fbc41"
            ],
            [
             0.9,
             "#4d9221"
            ],
            [
             1,
             "#276419"
            ]
           ],
           "sequential": [
            [
             0.0,
             "#0d0887"
            ],
            [
             0.1111111111111111,
             "#46039f"
            ],
            [
             0.2222222222222222,
             "#7201a8"
            ],
            [
             0.3333333333333333,
             "#9c179e"
            ],
            [
             0.4444444444444444,
             "#bd3786"
            ],
            [
             0.5555555555555556,
             "#d8576b"
            ],
            [
             0.6666666666666666,
             "#ed7953"
            ],
            [
             0.7777777777777778,
             "#fb9f3a"
            ],
            [
             0.8888888888888888,
             "#fdca26"
            ],
            [
             1.0,
             "#f0f921"
            ]
           ]
          },
          "annotationdefaults": {
           "arrowcolor": "#2a3f5f",
           "arrowwidth": 1,
           "arrowhead": 0
          },
          "title": {
           "x": 0.05
          },
          "plot_bgcolor": "#E5ECF6",
          "scene": {
           "xaxis": {
            "linecolor": "white",
            "showbackground": true,
            "backgroundcolor": "#E5ECF6",
            "gridwidth": 2,
            "gridcolor": "white",
            "zerolinecolor": "white",
            "ticks": ""
           },
           "zaxis": {
            "linecolor": "white",
            "showbackground": true,
            "backgroundcolor": "#E5ECF6",
            "gridwidth": 2,
            "gridcolor": "white",
            "zerolinecolor": "white",
            "ticks": ""
           },
           "yaxis": {
            "linecolor": "white",
            "showbackground": true,
            "backgroundcolor": "#E5ECF6",
            "gridwidth": 2,
            "gridcolor": "white",
            "zerolinecolor": "white",
            "ticks": ""
           }
          },
          "colorway": [
           "#636efa",
           "#EF553B",
           "#00cc96",
           "#ab63fa",
           "#FFA15A",
           "#19d3f3",
           "#FF6692",
           "#B6E880",
           "#FF97FF",
           "#FECB52"
          ],
          "geo": {
           "showland": true,
           "showlakes": true,
           "bgcolor": "white",
           "landcolor": "#E5ECF6",
           "lakecolor": "white",
           "subunitcolor": "white"
          },
          "yaxis": {
           "zerolinewidth": 2,
           "zerolinecolor": "white",
           "linecolor": "white",
           "title": {
            "standoff": 15
           },
           "automargin": true,
           "gridcolor": "white",
           "ticks": ""
          }
         }
        },
        "xaxis": {
         "title": {
          "text": "creatinine_phosphokinase"
         },
         "domain": [
          0.0,
          1.0
         ],
         "anchor": "y"
        },
        "legend": {
         "title": {
          "text": "DEATH_EVENT"
         },
         "tracegroupgap": 0
        },
        "width": 700
       }
      },
      "text/html": "<div>\n        \n        \n            <div id=\"1afa2223-ad5e-4c67-8284-d0432992b52d\" class=\"plotly-graph-div\" style=\"height:500px; width:700px;\"></div>\n            <script type=\"text/javascript\">\n                require([\"plotly\"], function(Plotly) {\n                    window.PLOTLYENV=window.PLOTLYENV || {};\n                    \n                if (document.getElementById(\"1afa2223-ad5e-4c67-8284-d0432992b52d\")) {\n                    Plotly.newPlot(\n                        '1afa2223-ad5e-4c67-8284-d0432992b52d',\n                        [{\"alignmentgroup\": \"True\", \"bingroup\": \"x\", \"hovertemplate\": \"DEATH_EVENT=1<br>creatinine_phosphokinase=%{x}<br>count=%{y}<extra></extra>\", \"legendgroup\": \"1\", \"marker\": {\"color\": \"#636efa\"}, \"name\": \"1\", \"nbinsx\": 50, \"offsetgroup\": \"1\", \"orientation\": \"v\", \"showlegend\": true, \"type\": \"histogram\", \"x\": [582, 7861, 146, 111, 160, 47, 246, 315, 157, 123, 81, 231, 981, 168, 379, 149, 582, 125, 582, 128, 220, 582, 148, 112, 122, 60, 70, 582, 23, 249, 94, 582, 60, 855, 235, 582, 124, 571, 588, 582, 1380, 582, 553, 129, 577, 91, 3964, 69, 260, 371, 789, 364, 7702, 318, 582, 68, 250, 110, 161, 113, 5882, 582, 47, 76, 280, 154, 328, 129, 143, 582, 582, 168, 805, 943, 582, 233, 2334, 2442, 776, 66, 176, 395, 99, 145, 104, 582, 1896, 582, 418, 131, 427, 582, 166, 2017, 258, 1199], \"xaxis\": \"x\", \"yaxis\": \"y\"}, {\"alignmentgroup\": \"True\", \"hovertemplate\": \"DEATH_EVENT=1<br>creatinine_phosphokinase=%{x}<extra></extra>\", \"legendgroup\": \"1\", \"marker\": {\"color\": \"#636efa\"}, \"name\": \"1\", \"offsetgroup\": \"1\", \"scalegroup\": \"x\", \"showlegend\": false, \"type\": \"violin\", \"x\": [582, 7861, 146, 111, 160, 47, 246, 315, 157, 123, 81, 231, 981, 168, 379, 149, 582, 125, 582, 128, 220, 582, 148, 112, 122, 60, 70, 582, 23, 249, 94, 582, 60, 855, 235, 582, 124, 571, 588, 582, 1380, 582, 553, 129, 577, 91, 3964, 69, 260, 371, 789, 364, 7702, 318, 582, 68, 250, 110, 161, 113, 5882, 582, 47, 76, 280, 154, 328, 129, 143, 582, 582, 168, 805, 943, 582, 233, 2334, 2442, 776, 66, 176, 395, 99, 145, 104, 582, 1896, 582, 418, 131, 427, 582, 166, 2017, 258, 1199], \"xaxis\": \"x2\", \"yaxis\": \"y2\"}, {\"alignmentgroup\": \"True\", \"bingroup\": \"x\", \"hovertemplate\": \"DEATH_EVENT=0<br>creatinine_phosphokinase=%{x}<br>count=%{y}<extra></extra>\", \"legendgroup\": \"0\", \"marker\": {\"color\": \"#EF553B\"}, \"name\": \"0\", \"nbinsx\": 50, \"offsetgroup\": \"0\", \"orientation\": \"v\", \"showlegend\": true, \"type\": \"histogram\", \"x\": [80, 52, 63, 159, 2656, 127, 75, 607, 109, 582, 148, 582, 224, 92, 102, 203, 336, 69, 582, 55, 78, 47, 68, 84, 115, 66, 897, 582, 144, 133, 514, 59, 156, 61, 305, 582, 898, 5209, 53, 748, 1876, 936, 292, 60, 369, 754, 400, 96, 102, 113, 737, 68, 96, 582, 358, 200, 248, 270, 1808, 1082, 719, 193, 4540, 582, 59, 646, 281, 1548, 291, 482, 84, 185, 132, 1610, 2261, 30, 115, 1846, 335, 231, 58, 250, 910, 129, 72, 130, 582, 196, 582, 835, 582, 3966, 171, 115, 198, 95, 1419, 69, 122, 835, 478, 151, 244, 582, 62, 121, 231, 582, 167, 582, 1211, 1767, 308, 97, 59, 64, 167, 101, 212, 2281, 972, 212, 582, 224, 135, 582, 1202, 1021, 582, 118, 86, 582, 582, 675, 57, 2794, 56, 211, 93, 129, 707, 582, 109, 119, 232, 720, 180, 81, 582, 90, 1185, 582, 80, 143, 624, 207, 2522, 572, 245, 88, 446, 191, 326, 132, 66, 56, 66, 655, 157, 582, 298, 135, 582, 582, 582, 582, 213, 64, 257, 582, 618, 582, 1051, 84, 2695, 582, 64, 1688, 54, 170, 253, 582, 892, 337, 615, 320, 190, 103, 61, 1820, 2060, 2413, 196], \"xaxis\": \"x\", \"yaxis\": \"y\"}, {\"alignmentgroup\": \"True\", \"hovertemplate\": \"DEATH_EVENT=0<br>creatinine_phosphokinase=%{x}<extra></extra>\", \"legendgroup\": \"0\", \"marker\": {\"color\": \"#EF553B\"}, \"name\": \"0\", \"offsetgroup\": \"0\", \"scalegroup\": \"x\", \"showlegend\": false, \"type\": \"violin\", \"x\": [80, 52, 63, 159, 2656, 127, 75, 607, 109, 582, 148, 582, 224, 92, 102, 203, 336, 69, 582, 55, 78, 47, 68, 84, 115, 66, 897, 582, 144, 133, 514, 59, 156, 61, 305, 582, 898, 5209, 53, 748, 1876, 936, 292, 60, 369, 754, 400, 96, 102, 113, 737, 68, 96, 582, 358, 200, 248, 270, 1808, 1082, 719, 193, 4540, 582, 59, 646, 281, 1548, 291, 482, 84, 185, 132, 1610, 2261, 30, 115, 1846, 335, 231, 58, 250, 910, 129, 72, 130, 582, 196, 582, 835, 582, 3966, 171, 115, 198, 95, 1419, 69, 122, 835, 478, 151, 244, 582, 62, 121, 231, 582, 167, 582, 1211, 1767, 308, 97, 59, 64, 167, 101, 212, 2281, 972, 212, 582, 224, 135, 582, 1202, 1021, 582, 118, 86, 582, 582, 675, 57, 2794, 56, 211, 93, 129, 707, 582, 109, 119, 232, 720, 180, 81, 582, 90, 1185, 582, 80, 143, 624, 207, 2522, 572, 245, 88, 446, 191, 326, 132, 66, 56, 66, 655, 157, 582, 298, 135, 582, 582, 582, 582, 213, 64, 257, 582, 618, 582, 1051, 84, 2695, 582, 64, 1688, 54, 170, 253, 582, 892, 337, 615, 320, 190, 103, 61, 1820, 2060, 2413, 196], \"xaxis\": \"x2\", \"yaxis\": \"y2\"}],\n                        {\"barmode\": \"relative\", \"height\": 500, \"legend\": {\"title\": {\"text\": \"DEATH_EVENT\"}, \"tracegroupgap\": 0}, \"template\": {\"data\": {\"bar\": [{\"error_x\": {\"color\": \"#2a3f5f\"}, \"error_y\": {\"color\": \"#2a3f5f\"}, \"marker\": {\"line\": {\"color\": \"#E5ECF6\", \"width\": 0.5}}, \"type\": \"bar\"}], \"barpolar\": [{\"marker\": {\"line\": {\"color\": \"#E5ECF6\", \"width\": 0.5}}, \"type\": \"barpolar\"}], \"carpet\": [{\"aaxis\": {\"endlinecolor\": \"#2a3f5f\", \"gridcolor\": \"white\", \"linecolor\": \"white\", \"minorgridcolor\": \"white\", \"startlinecolor\": \"#2a3f5f\"}, \"baxis\": {\"endlinecolor\": \"#2a3f5f\", \"gridcolor\": \"white\", \"linecolor\": \"white\", \"minorgridcolor\": \"white\", \"startlinecolor\": \"#2a3f5f\"}, \"type\": \"carpet\"}], \"choropleth\": [{\"colorbar\": {\"outlinewidth\": 0, \"ticks\": \"\"}, \"type\": \"choropleth\"}], \"contour\": [{\"colorbar\": {\"outlinewidth\": 0, \"ticks\": \"\"}, \"colorscale\": [[0.0, \"#0d0887\"], [0.1111111111111111, \"#46039f\"], [0.2222222222222222, \"#7201a8\"], [0.3333333333333333, \"#9c179e\"], [0.4444444444444444, \"#bd3786\"], [0.5555555555555556, \"#d8576b\"], [0.6666666666666666, \"#ed7953\"], [0.7777777777777778, \"#fb9f3a\"], [0.8888888888888888, \"#fdca26\"], [1.0, \"#f0f921\"]], \"type\": \"contour\"}], \"contourcarpet\": [{\"colorbar\": {\"outlinewidth\": 0, \"ticks\": \"\"}, \"type\": \"contourcarpet\"}], \"heatmap\": [{\"colorbar\": {\"outlinewidth\": 0, \"ticks\": \"\"}, \"colorscale\": [[0.0, \"#0d0887\"], [0.1111111111111111, \"#46039f\"], [0.2222222222222222, \"#7201a8\"], [0.3333333333333333, \"#9c179e\"], [0.4444444444444444, \"#bd3786\"], [0.5555555555555556, \"#d8576b\"], [0.6666666666666666, \"#ed7953\"], [0.7777777777777778, \"#fb9f3a\"], [0.8888888888888888, \"#fdca26\"], [1.0, \"#f0f921\"]], \"type\": \"heatmap\"}], \"heatmapgl\": [{\"colorbar\": {\"outlinewidth\": 0, \"ticks\": \"\"}, \"colorscale\": [[0.0, \"#0d0887\"], [0.1111111111111111, \"#46039f\"], [0.2222222222222222, \"#7201a8\"], [0.3333333333333333, \"#9c179e\"], [0.4444444444444444, \"#bd3786\"], [0.5555555555555556, \"#d8576b\"], [0.6666666666666666, \"#ed7953\"], [0.7777777777777778, \"#fb9f3a\"], [0.8888888888888888, \"#fdca26\"], [1.0, \"#f0f921\"]], \"type\": \"heatmapgl\"}], \"histogram\": [{\"marker\": {\"colorbar\": {\"outlinewidth\": 0, \"ticks\": \"\"}}, \"type\": \"histogram\"}], \"histogram2d\": [{\"colorbar\": {\"outlinewidth\": 0, \"ticks\": \"\"}, \"colorscale\": [[0.0, \"#0d0887\"], [0.1111111111111111, \"#46039f\"], [0.2222222222222222, \"#7201a8\"], [0.3333333333333333, \"#9c179e\"], [0.4444444444444444, \"#bd3786\"], [0.5555555555555556, \"#d8576b\"], [0.6666666666666666, \"#ed7953\"], [0.7777777777777778, \"#fb9f3a\"], [0.8888888888888888, \"#fdca26\"], [1.0, \"#f0f921\"]], \"type\": \"histogram2d\"}], \"histogram2dcontour\": [{\"colorbar\": {\"outlinewidth\": 0, \"ticks\": \"\"}, \"colorscale\": [[0.0, \"#0d0887\"], [0.1111111111111111, \"#46039f\"], [0.2222222222222222, \"#7201a8\"], [0.3333333333333333, \"#9c179e\"], [0.4444444444444444, \"#bd3786\"], [0.5555555555555556, \"#d8576b\"], [0.6666666666666666, \"#ed7953\"], [0.7777777777777778, \"#fb9f3a\"], [0.8888888888888888, \"#fdca26\"], [1.0, \"#f0f921\"]], \"type\": \"histogram2dcontour\"}], \"mesh3d\": [{\"colorbar\": {\"outlinewidth\": 0, \"ticks\": \"\"}, \"type\": \"mesh3d\"}], \"parcoords\": [{\"line\": {\"colorbar\": {\"outlinewidth\": 0, \"ticks\": \"\"}}, \"type\": \"parcoords\"}], \"pie\": [{\"automargin\": true, \"type\": \"pie\"}], \"scatter\": [{\"marker\": {\"colorbar\": {\"outlinewidth\": 0, \"ticks\": \"\"}}, \"type\": \"scatter\"}], \"scatter3d\": [{\"line\": {\"colorbar\": {\"outlinewidth\": 0, \"ticks\": \"\"}}, \"marker\": {\"colorbar\": {\"outlinewidth\": 0, \"ticks\": \"\"}}, \"type\": \"scatter3d\"}], \"scattercarpet\": [{\"marker\": {\"colorbar\": {\"outlinewidth\": 0, \"ticks\": \"\"}}, \"type\": \"scattercarpet\"}], \"scattergeo\": [{\"marker\": {\"colorbar\": {\"outlinewidth\": 0, \"ticks\": \"\"}}, \"type\": \"scattergeo\"}], \"scattergl\": [{\"marker\": {\"colorbar\": {\"outlinewidth\": 0, \"ticks\": \"\"}}, \"type\": \"scattergl\"}], \"scattermapbox\": [{\"marker\": {\"colorbar\": {\"outlinewidth\": 0, \"ticks\": \"\"}}, \"type\": \"scattermapbox\"}], \"scatterpolar\": [{\"marker\": {\"colorbar\": {\"outlinewidth\": 0, \"ticks\": \"\"}}, \"type\": \"scatterpolar\"}], \"scatterpolargl\": [{\"marker\": {\"colorbar\": {\"outlinewidth\": 0, \"ticks\": \"\"}}, \"type\": \"scatterpolargl\"}], \"scatterternary\": [{\"marker\": {\"colorbar\": {\"outlinewidth\": 0, \"ticks\": \"\"}}, \"type\": \"scatterternary\"}], \"surface\": [{\"colorbar\": {\"outlinewidth\": 0, \"ticks\": \"\"}, \"colorscale\": [[0.0, \"#0d0887\"], [0.1111111111111111, \"#46039f\"], [0.2222222222222222, \"#7201a8\"], [0.3333333333333333, \"#9c179e\"], [0.4444444444444444, \"#bd3786\"], [0.5555555555555556, \"#d8576b\"], [0.6666666666666666, \"#ed7953\"], [0.7777777777777778, \"#fb9f3a\"], [0.8888888888888888, \"#fdca26\"], [1.0, \"#f0f921\"]], \"type\": \"surface\"}], \"table\": [{\"cells\": {\"fill\": {\"color\": \"#EBF0F8\"}, \"line\": {\"color\": \"white\"}}, \"header\": {\"fill\": {\"color\": \"#C8D4E3\"}, \"line\": {\"color\": \"white\"}}, \"type\": \"table\"}]}, \"layout\": {\"annotationdefaults\": {\"arrowcolor\": \"#2a3f5f\", \"arrowhead\": 0, \"arrowwidth\": 1}, \"coloraxis\": {\"colorbar\": {\"outlinewidth\": 0, \"ticks\": \"\"}}, \"colorscale\": {\"diverging\": [[0, \"#8e0152\"], [0.1, \"#c51b7d\"], [0.2, \"#de77ae\"], [0.3, \"#f1b6da\"], [0.4, \"#fde0ef\"], [0.5, \"#f7f7f7\"], [0.6, \"#e6f5d0\"], [0.7, \"#b8e186\"], [0.8, \"#7fbc41\"], [0.9, \"#4d9221\"], [1, \"#276419\"]], \"sequential\": [[0.0, \"#0d0887\"], [0.1111111111111111, \"#46039f\"], [0.2222222222222222, \"#7201a8\"], [0.3333333333333333, \"#9c179e\"], [0.4444444444444444, \"#bd3786\"], [0.5555555555555556, \"#d8576b\"], [0.6666666666666666, \"#ed7953\"], [0.7777777777777778, \"#fb9f3a\"], [0.8888888888888888, \"#fdca26\"], [1.0, \"#f0f921\"]], \"sequentialminus\": [[0.0, \"#0d0887\"], [0.1111111111111111, \"#46039f\"], [0.2222222222222222, \"#7201a8\"], [0.3333333333333333, \"#9c179e\"], [0.4444444444444444, \"#bd3786\"], [0.5555555555555556, \"#d8576b\"], [0.6666666666666666, \"#ed7953\"], [0.7777777777777778, \"#fb9f3a\"], [0.8888888888888888, \"#fdca26\"], [1.0, \"#f0f921\"]]}, \"colorway\": [\"#636efa\", \"#EF553B\", \"#00cc96\", \"#ab63fa\", \"#FFA15A\", \"#19d3f3\", \"#FF6692\", \"#B6E880\", \"#FF97FF\", \"#FECB52\"], \"font\": {\"color\": \"#2a3f5f\"}, \"geo\": {\"bgcolor\": \"white\", \"lakecolor\": \"white\", \"landcolor\": \"#E5ECF6\", \"showlakes\": true, \"showland\": true, \"subunitcolor\": \"white\"}, \"hoverlabel\": {\"align\": \"left\"}, \"hovermode\": \"closest\", \"mapbox\": {\"style\": \"light\"}, \"paper_bgcolor\": \"white\", \"plot_bgcolor\": \"#E5ECF6\", \"polar\": {\"angularaxis\": {\"gridcolor\": \"white\", \"linecolor\": \"white\", \"ticks\": \"\"}, \"bgcolor\": \"#E5ECF6\", \"radialaxis\": {\"gridcolor\": \"white\", \"linecolor\": \"white\", \"ticks\": \"\"}}, \"scene\": {\"xaxis\": {\"backgroundcolor\": \"#E5ECF6\", \"gridcolor\": \"white\", \"gridwidth\": 2, \"linecolor\": \"white\", \"showbackground\": true, \"ticks\": \"\", \"zerolinecolor\": \"white\"}, \"yaxis\": {\"backgroundcolor\": \"#E5ECF6\", \"gridcolor\": \"white\", \"gridwidth\": 2, \"linecolor\": \"white\", \"showbackground\": true, \"ticks\": \"\", \"zerolinecolor\": \"white\"}, \"zaxis\": {\"backgroundcolor\": \"#E5ECF6\", \"gridcolor\": \"white\", \"gridwidth\": 2, \"linecolor\": \"white\", \"showbackground\": true, \"ticks\": \"\", \"zerolinecolor\": \"white\"}}, \"shapedefaults\": {\"line\": {\"color\": \"#2a3f5f\"}}, \"ternary\": {\"aaxis\": {\"gridcolor\": \"white\", \"linecolor\": \"white\", \"ticks\": \"\"}, \"baxis\": {\"gridcolor\": \"white\", \"linecolor\": \"white\", \"ticks\": \"\"}, \"bgcolor\": \"#E5ECF6\", \"caxis\": {\"gridcolor\": \"white\", \"linecolor\": \"white\", \"ticks\": \"\"}}, \"title\": {\"x\": 0.05}, \"xaxis\": {\"automargin\": true, \"gridcolor\": \"white\", \"linecolor\": \"white\", \"ticks\": \"\", \"title\": {\"standoff\": 15}, \"zerolinecolor\": \"white\", \"zerolinewidth\": 2}, \"yaxis\": {\"automargin\": true, \"gridcolor\": \"white\", \"linecolor\": \"white\", \"ticks\": \"\", \"title\": {\"standoff\": 15}, \"zerolinecolor\": \"white\", \"zerolinewidth\": 2}}}, \"title\": {\"text\": \"Figure 3: Distribution of creatinine_phosphokinase VS death event\"}, \"width\": 700, \"xaxis\": {\"anchor\": \"y\", \"domain\": [0.0, 1.0], \"title\": {\"text\": \"creatinine_phosphokinase\"}}, \"xaxis2\": {\"anchor\": \"y2\", \"domain\": [0.0, 1.0], \"matches\": \"x\", \"showgrid\": true, \"showticklabels\": false}, \"yaxis\": {\"anchor\": \"x\", \"domain\": [0.0, 0.7326], \"title\": {\"text\": \"count\"}}, \"yaxis2\": {\"anchor\": \"x2\", \"domain\": [0.7426, 1.0], \"matches\": \"y2\", \"showgrid\": false, \"showline\": false, \"showticklabels\": false, \"ticks\": \"\"}},\n                        {\"responsive\": true}\n                    ).then(function(){\n                            \nvar gd = document.getElementById('1afa2223-ad5e-4c67-8284-d0432992b52d');\nvar x = new MutationObserver(function (mutations, observer) {{\n        var display = window.getComputedStyle(gd).display;\n        if (!display || display === 'none') {{\n            console.log([gd, 'removed!']);\n            Plotly.purge(gd);\n            observer.disconnect();\n        }}\n}});\n\n// Listen for the removal of the full notebook cells\nvar notebookContainer = gd.closest('#notebook-container');\nif (notebookContainer) {{\n    x.observe(notebookContainer, {childList: true});\n}}\n\n// Listen for the clearing of the current output cell\nvar outputEl = gd.closest('.output');\nif (outputEl) {{\n    x.observe(outputEl, {childList: true});\n}}\n\n                        })\n                };\n                });\n            </script>\n        </div>"
     },
     "metadata": {},
     "output_type": "display_data"
    }
   ],
   "source": [
    "plot_histogram(heart_data, 'creatinine_phosphokinase', 'DEATH_EVENT', NBINS, \"violin\",'Figure 3: Distribution of creatinine_phosphokinase VS death event')"
   ]
  },
  {
   "cell_type": "code",
   "execution_count": 89,
   "metadata": {
    "pycharm": {
     "name": "#%%\n"
    }
   },
   "outputs": [
    {
     "name": "stderr",
     "output_type": "stream",
     "text": [
      "/home/yuxuan/.local/lib/python3.5/site-packages/ipykernel_launcher.py:10: UserWarning:\n",
      "\n",
      "Boolean Series key will be reindexed to match DataFrame index.\n",
      "\n",
      "/home/yuxuan/.local/lib/python3.5/site-packages/ipykernel_launcher.py:11: UserWarning:\n",
      "\n",
      "Boolean Series key will be reindexed to match DataFrame index.\n",
      "\n"
     ]
    },
    {
     "data": {
      "application/vnd.plotly.v1+json": {
       "data": [
        {
         "labels": [
          "Male - Survived",
          "Male - Not Survived",
          "Female -  Survived",
          "Female - Not Survived"
         ],
         "values": [
          132,
          62,
          71,
          34
         ],
         "hole": 0.3,
         "type": "pie"
        }
       ],
       "config": {
        "plotlyServerURL": "https://plot.ly"
       },
       "layout": {
        "title": {
         "text": "Figure 4: Analysis on Survival - Gender factor"
        },
        "template": {
         "data": {
          "scatter": [
           {
            "marker": {
             "colorbar": {
              "outlinewidth": 0,
              "ticks": ""
             }
            },
            "type": "scatter"
           }
          ],
          "parcoords": [
           {
            "line": {
             "colorbar": {
              "outlinewidth": 0,
              "ticks": ""
             }
            },
            "type": "parcoords"
           }
          ],
          "scattermapbox": [
           {
            "marker": {
             "colorbar": {
              "outlinewidth": 0,
              "ticks": ""
             }
            },
            "type": "scattermapbox"
           }
          ],
          "pie": [
           {
            "automargin": true,
            "type": "pie"
           }
          ],
          "mesh3d": [
           {
            "colorbar": {
             "outlinewidth": 0,
             "ticks": ""
            },
            "type": "mesh3d"
           }
          ],
          "table": [
           {
            "header": {
             "fill": {
              "color": "#C8D4E3"
             },
             "line": {
              "color": "white"
             }
            },
            "cells": {
             "fill": {
              "color": "#EBF0F8"
             },
             "line": {
              "color": "white"
             }
            },
            "type": "table"
           }
          ],
          "scattergeo": [
           {
            "marker": {
             "colorbar": {
              "outlinewidth": 0,
              "ticks": ""
             }
            },
            "type": "scattergeo"
           }
          ],
          "heatmapgl": [
           {
            "colorbar": {
             "outlinewidth": 0,
             "ticks": ""
            },
            "colorscale": [
             [
              0.0,
              "#0d0887"
             ],
             [
              0.1111111111111111,
              "#46039f"
             ],
             [
              0.2222222222222222,
              "#7201a8"
             ],
             [
              0.3333333333333333,
              "#9c179e"
             ],
             [
              0.4444444444444444,
              "#bd3786"
             ],
             [
              0.5555555555555556,
              "#d8576b"
             ],
             [
              0.6666666666666666,
              "#ed7953"
             ],
             [
              0.7777777777777778,
              "#fb9f3a"
             ],
             [
              0.8888888888888888,
              "#fdca26"
             ],
             [
              1.0,
              "#f0f921"
             ]
            ],
            "type": "heatmapgl"
           }
          ],
          "heatmap": [
           {
            "colorbar": {
             "outlinewidth": 0,
             "ticks": ""
            },
            "colorscale": [
             [
              0.0,
              "#0d0887"
             ],
             [
              0.1111111111111111,
              "#46039f"
             ],
             [
              0.2222222222222222,
              "#7201a8"
             ],
             [
              0.3333333333333333,
              "#9c179e"
             ],
             [
              0.4444444444444444,
              "#bd3786"
             ],
             [
              0.5555555555555556,
              "#d8576b"
             ],
             [
              0.6666666666666666,
              "#ed7953"
             ],
             [
              0.7777777777777778,
              "#fb9f3a"
             ],
             [
              0.8888888888888888,
              "#fdca26"
             ],
             [
              1.0,
              "#f0f921"
             ]
            ],
            "type": "heatmap"
           }
          ],
          "choropleth": [
           {
            "colorbar": {
             "outlinewidth": 0,
             "ticks": ""
            },
            "type": "choropleth"
           }
          ],
          "scattercarpet": [
           {
            "marker": {
             "colorbar": {
              "outlinewidth": 0,
              "ticks": ""
             }
            },
            "type": "scattercarpet"
           }
          ],
          "histogram2d": [
           {
            "colorbar": {
             "outlinewidth": 0,
             "ticks": ""
            },
            "colorscale": [
             [
              0.0,
              "#0d0887"
             ],
             [
              0.1111111111111111,
              "#46039f"
             ],
             [
              0.2222222222222222,
              "#7201a8"
             ],
             [
              0.3333333333333333,
              "#9c179e"
             ],
             [
              0.4444444444444444,
              "#bd3786"
             ],
             [
              0.5555555555555556,
              "#d8576b"
             ],
             [
              0.6666666666666666,
              "#ed7953"
             ],
             [
              0.7777777777777778,
              "#fb9f3a"
             ],
             [
              0.8888888888888888,
              "#fdca26"
             ],
             [
              1.0,
              "#f0f921"
             ]
            ],
            "type": "histogram2d"
           }
          ],
          "scattergl": [
           {
            "marker": {
             "colorbar": {
              "outlinewidth": 0,
              "ticks": ""
             }
            },
            "type": "scattergl"
           }
          ],
          "contour": [
           {
            "colorbar": {
             "outlinewidth": 0,
             "ticks": ""
            },
            "colorscale": [
             [
              0.0,
              "#0d0887"
             ],
             [
              0.1111111111111111,
              "#46039f"
             ],
             [
              0.2222222222222222,
              "#7201a8"
             ],
             [
              0.3333333333333333,
              "#9c179e"
             ],
             [
              0.4444444444444444,
              "#bd3786"
             ],
             [
              0.5555555555555556,
              "#d8576b"
             ],
             [
              0.6666666666666666,
              "#ed7953"
             ],
             [
              0.7777777777777778,
              "#fb9f3a"
             ],
             [
              0.8888888888888888,
              "#fdca26"
             ],
             [
              1.0,
              "#f0f921"
             ]
            ],
            "type": "contour"
           }
          ],
          "surface": [
           {
            "colorbar": {
             "outlinewidth": 0,
             "ticks": ""
            },
            "colorscale": [
             [
              0.0,
              "#0d0887"
             ],
             [
              0.1111111111111111,
              "#46039f"
             ],
             [
              0.2222222222222222,
              "#7201a8"
             ],
             [
              0.3333333333333333,
              "#9c179e"
             ],
             [
              0.4444444444444444,
              "#bd3786"
             ],
             [
              0.5555555555555556,
              "#d8576b"
             ],
             [
              0.6666666666666666,
              "#ed7953"
             ],
             [
              0.7777777777777778,
              "#fb9f3a"
             ],
             [
              0.8888888888888888,
              "#fdca26"
             ],
             [
              1.0,
              "#f0f921"
             ]
            ],
            "type": "surface"
           }
          ],
          "scatterpolar": [
           {
            "marker": {
             "colorbar": {
              "outlinewidth": 0,
              "ticks": ""
             }
            },
            "type": "scatterpolar"
           }
          ],
          "histogram2dcontour": [
           {
            "colorbar": {
             "outlinewidth": 0,
             "ticks": ""
            },
            "colorscale": [
             [
              0.0,
              "#0d0887"
             ],
             [
              0.1111111111111111,
              "#46039f"
             ],
             [
              0.2222222222222222,
              "#7201a8"
             ],
             [
              0.3333333333333333,
              "#9c179e"
             ],
             [
              0.4444444444444444,
              "#bd3786"
             ],
             [
              0.5555555555555556,
              "#d8576b"
             ],
             [
              0.6666666666666666,
              "#ed7953"
             ],
             [
              0.7777777777777778,
              "#fb9f3a"
             ],
             [
              0.8888888888888888,
              "#fdca26"
             ],
             [
              1.0,
              "#f0f921"
             ]
            ],
            "type": "histogram2dcontour"
           }
          ],
          "histogram": [
           {
            "marker": {
             "colorbar": {
              "outlinewidth": 0,
              "ticks": ""
             }
            },
            "type": "histogram"
           }
          ],
          "scatter3d": [
           {
            "marker": {
             "colorbar": {
              "outlinewidth": 0,
              "ticks": ""
             }
            },
            "line": {
             "colorbar": {
              "outlinewidth": 0,
              "ticks": ""
             }
            },
            "type": "scatter3d"
           }
          ],
          "scatterternary": [
           {
            "marker": {
             "colorbar": {
              "outlinewidth": 0,
              "ticks": ""
             }
            },
            "type": "scatterternary"
           }
          ],
          "contourcarpet": [
           {
            "colorbar": {
             "outlinewidth": 0,
             "ticks": ""
            },
            "type": "contourcarpet"
           }
          ],
          "barpolar": [
           {
            "marker": {
             "line": {
              "color": "#E5ECF6",
              "width": 0.5
             }
            },
            "type": "barpolar"
           }
          ],
          "carpet": [
           {
            "baxis": {
             "linecolor": "white",
             "startlinecolor": "#2a3f5f",
             "minorgridcolor": "white",
             "endlinecolor": "#2a3f5f",
             "gridcolor": "white"
            },
            "aaxis": {
             "linecolor": "white",
             "startlinecolor": "#2a3f5f",
             "minorgridcolor": "white",
             "endlinecolor": "#2a3f5f",
             "gridcolor": "white"
            },
            "type": "carpet"
           }
          ],
          "scatterpolargl": [
           {
            "marker": {
             "colorbar": {
              "outlinewidth": 0,
              "ticks": ""
             }
            },
            "type": "scatterpolargl"
           }
          ],
          "bar": [
           {
            "marker": {
             "line": {
              "color": "#E5ECF6",
              "width": 0.5
             }
            },
            "type": "bar",
            "error_y": {
             "color": "#2a3f5f"
            },
            "error_x": {
             "color": "#2a3f5f"
            }
           }
          ]
         },
         "layout": {
          "mapbox": {
           "style": "light"
          },
          "font": {
           "color": "#2a3f5f"
          },
          "polar": {
           "radialaxis": {
            "linecolor": "white",
            "gridcolor": "white",
            "ticks": ""
           },
           "angularaxis": {
            "linecolor": "white",
            "gridcolor": "white",
            "ticks": ""
           },
           "bgcolor": "#E5ECF6"
          },
          "hovermode": "closest",
          "shapedefaults": {
           "line": {
            "color": "#2a3f5f"
           }
          },
          "xaxis": {
           "zerolinewidth": 2,
           "zerolinecolor": "white",
           "linecolor": "white",
           "title": {
            "standoff": 15
           },
           "automargin": true,
           "gridcolor": "white",
           "ticks": ""
          },
          "hoverlabel": {
           "align": "left"
          },
          "paper_bgcolor": "white",
          "coloraxis": {
           "colorbar": {
            "outlinewidth": 0,
            "ticks": ""
           }
          },
          "ternary": {
           "baxis": {
            "linecolor": "white",
            "gridcolor": "white",
            "ticks": ""
           },
           "aaxis": {
            "linecolor": "white",
            "gridcolor": "white",
            "ticks": ""
           },
           "caxis": {
            "linecolor": "white",
            "gridcolor": "white",
            "ticks": ""
           },
           "bgcolor": "#E5ECF6"
          },
          "colorscale": {
           "sequentialminus": [
            [
             0.0,
             "#0d0887"
            ],
            [
             0.1111111111111111,
             "#46039f"
            ],
            [
             0.2222222222222222,
             "#7201a8"
            ],
            [
             0.3333333333333333,
             "#9c179e"
            ],
            [
             0.4444444444444444,
             "#bd3786"
            ],
            [
             0.5555555555555556,
             "#d8576b"
            ],
            [
             0.6666666666666666,
             "#ed7953"
            ],
            [
             0.7777777777777778,
             "#fb9f3a"
            ],
            [
             0.8888888888888888,
             "#fdca26"
            ],
            [
             1.0,
             "#f0f921"
            ]
           ],
           "diverging": [
            [
             0,
             "#8e0152"
            ],
            [
             0.1,
             "#c51b7d"
            ],
            [
             0.2,
             "#de77ae"
            ],
            [
             0.3,
             "#f1b6da"
            ],
            [
             0.4,
             "#fde0ef"
            ],
            [
             0.5,
             "#f7f7f7"
            ],
            [
             0.6,
             "#e6f5d0"
            ],
            [
             0.7,
             "#b8e186"
            ],
            [
             0.8,
             "#7fbc41"
            ],
            [
             0.9,
             "#4d9221"
            ],
            [
             1,
             "#276419"
            ]
           ],
           "sequential": [
            [
             0.0,
             "#0d0887"
            ],
            [
             0.1111111111111111,
             "#46039f"
            ],
            [
             0.2222222222222222,
             "#7201a8"
            ],
            [
             0.3333333333333333,
             "#9c179e"
            ],
            [
             0.4444444444444444,
             "#bd3786"
            ],
            [
             0.5555555555555556,
             "#d8576b"
            ],
            [
             0.6666666666666666,
             "#ed7953"
            ],
            [
             0.7777777777777778,
             "#fb9f3a"
            ],
            [
             0.8888888888888888,
             "#fdca26"
            ],
            [
             1.0,
             "#f0f921"
            ]
           ]
          },
          "annotationdefaults": {
           "arrowcolor": "#2a3f5f",
           "arrowwidth": 1,
           "arrowhead": 0
          },
          "title": {
           "x": 0.05
          },
          "plot_bgcolor": "#E5ECF6",
          "scene": {
           "xaxis": {
            "linecolor": "white",
            "showbackground": true,
            "backgroundcolor": "#E5ECF6",
            "gridwidth": 2,
            "gridcolor": "white",
            "zerolinecolor": "white",
            "ticks": ""
           },
           "zaxis": {
            "linecolor": "white",
            "showbackground": true,
            "backgroundcolor": "#E5ECF6",
            "gridwidth": 2,
            "gridcolor": "white",
            "zerolinecolor": "white",
            "ticks": ""
           },
           "yaxis": {
            "linecolor": "white",
            "showbackground": true,
            "backgroundcolor": "#E5ECF6",
            "gridwidth": 2,
            "gridcolor": "white",
            "zerolinecolor": "white",
            "ticks": ""
           }
          },
          "colorway": [
           "#636efa",
           "#EF553B",
           "#00cc96",
           "#ab63fa",
           "#FFA15A",
           "#19d3f3",
           "#FF6692",
           "#B6E880",
           "#FF97FF",
           "#FECB52"
          ],
          "geo": {
           "showland": true,
           "showlakes": true,
           "bgcolor": "white",
           "landcolor": "#E5ECF6",
           "lakecolor": "white",
           "subunitcolor": "white"
          },
          "yaxis": {
           "zerolinewidth": 2,
           "zerolinecolor": "white",
           "linecolor": "white",
           "title": {
            "standoff": 15
           },
           "automargin": true,
           "gridcolor": "white",
           "ticks": ""
          }
         }
        }
       }
      },
      "text/html": "<div>\n        \n        \n            <div id=\"ea7aa708-6608-4532-8474-4c14d202b4e0\" class=\"plotly-graph-div\" style=\"height:525px; width:100%;\"></div>\n            <script type=\"text/javascript\">\n                require([\"plotly\"], function(Plotly) {\n                    window.PLOTLYENV=window.PLOTLYENV || {};\n                    \n                if (document.getElementById(\"ea7aa708-6608-4532-8474-4c14d202b4e0\")) {\n                    Plotly.newPlot(\n                        'ea7aa708-6608-4532-8474-4c14d202b4e0',\n                        [{\"hole\": 0.3, \"labels\": [\"Male - Survived\", \"Male - Not Survived\", \"Female -  Survived\", \"Female - Not Survived\"], \"type\": \"pie\", \"values\": [132, 62, 71, 34]}],\n                        {\"template\": {\"data\": {\"bar\": [{\"error_x\": {\"color\": \"#2a3f5f\"}, \"error_y\": {\"color\": \"#2a3f5f\"}, \"marker\": {\"line\": {\"color\": \"#E5ECF6\", \"width\": 0.5}}, \"type\": \"bar\"}], \"barpolar\": [{\"marker\": {\"line\": {\"color\": \"#E5ECF6\", \"width\": 0.5}}, \"type\": \"barpolar\"}], \"carpet\": [{\"aaxis\": {\"endlinecolor\": \"#2a3f5f\", \"gridcolor\": \"white\", \"linecolor\": \"white\", \"minorgridcolor\": \"white\", \"startlinecolor\": \"#2a3f5f\"}, \"baxis\": {\"endlinecolor\": \"#2a3f5f\", \"gridcolor\": \"white\", \"linecolor\": \"white\", \"minorgridcolor\": \"white\", \"startlinecolor\": \"#2a3f5f\"}, \"type\": \"carpet\"}], \"choropleth\": [{\"colorbar\": {\"outlinewidth\": 0, \"ticks\": \"\"}, \"type\": \"choropleth\"}], \"contour\": [{\"colorbar\": {\"outlinewidth\": 0, \"ticks\": \"\"}, \"colorscale\": [[0.0, \"#0d0887\"], [0.1111111111111111, \"#46039f\"], [0.2222222222222222, \"#7201a8\"], [0.3333333333333333, \"#9c179e\"], [0.4444444444444444, \"#bd3786\"], [0.5555555555555556, \"#d8576b\"], [0.6666666666666666, \"#ed7953\"], [0.7777777777777778, \"#fb9f3a\"], [0.8888888888888888, \"#fdca26\"], [1.0, \"#f0f921\"]], \"type\": \"contour\"}], \"contourcarpet\": [{\"colorbar\": {\"outlinewidth\": 0, \"ticks\": \"\"}, \"type\": \"contourcarpet\"}], \"heatmap\": [{\"colorbar\": {\"outlinewidth\": 0, \"ticks\": \"\"}, \"colorscale\": [[0.0, \"#0d0887\"], [0.1111111111111111, \"#46039f\"], [0.2222222222222222, \"#7201a8\"], [0.3333333333333333, \"#9c179e\"], [0.4444444444444444, \"#bd3786\"], [0.5555555555555556, \"#d8576b\"], [0.6666666666666666, \"#ed7953\"], [0.7777777777777778, \"#fb9f3a\"], [0.8888888888888888, \"#fdca26\"], [1.0, \"#f0f921\"]], \"type\": \"heatmap\"}], \"heatmapgl\": [{\"colorbar\": {\"outlinewidth\": 0, \"ticks\": \"\"}, \"colorscale\": [[0.0, \"#0d0887\"], [0.1111111111111111, \"#46039f\"], [0.2222222222222222, \"#7201a8\"], [0.3333333333333333, \"#9c179e\"], [0.4444444444444444, \"#bd3786\"], [0.5555555555555556, \"#d8576b\"], [0.6666666666666666, \"#ed7953\"], [0.7777777777777778, \"#fb9f3a\"], [0.8888888888888888, \"#fdca26\"], [1.0, \"#f0f921\"]], \"type\": \"heatmapgl\"}], \"histogram\": [{\"marker\": {\"colorbar\": {\"outlinewidth\": 0, \"ticks\": \"\"}}, \"type\": \"histogram\"}], \"histogram2d\": [{\"colorbar\": {\"outlinewidth\": 0, \"ticks\": \"\"}, \"colorscale\": [[0.0, \"#0d0887\"], [0.1111111111111111, \"#46039f\"], [0.2222222222222222, \"#7201a8\"], [0.3333333333333333, \"#9c179e\"], [0.4444444444444444, \"#bd3786\"], [0.5555555555555556, \"#d8576b\"], [0.6666666666666666, \"#ed7953\"], [0.7777777777777778, \"#fb9f3a\"], [0.8888888888888888, \"#fdca26\"], [1.0, \"#f0f921\"]], \"type\": \"histogram2d\"}], \"histogram2dcontour\": [{\"colorbar\": {\"outlinewidth\": 0, \"ticks\": \"\"}, \"colorscale\": [[0.0, \"#0d0887\"], [0.1111111111111111, \"#46039f\"], [0.2222222222222222, \"#7201a8\"], [0.3333333333333333, \"#9c179e\"], [0.4444444444444444, \"#bd3786\"], [0.5555555555555556, \"#d8576b\"], [0.6666666666666666, \"#ed7953\"], [0.7777777777777778, \"#fb9f3a\"], [0.8888888888888888, \"#fdca26\"], [1.0, \"#f0f921\"]], \"type\": \"histogram2dcontour\"}], \"mesh3d\": [{\"colorbar\": {\"outlinewidth\": 0, \"ticks\": \"\"}, \"type\": \"mesh3d\"}], \"parcoords\": [{\"line\": {\"colorbar\": {\"outlinewidth\": 0, \"ticks\": \"\"}}, \"type\": \"parcoords\"}], \"pie\": [{\"automargin\": true, \"type\": \"pie\"}], \"scatter\": [{\"marker\": {\"colorbar\": {\"outlinewidth\": 0, \"ticks\": \"\"}}, \"type\": \"scatter\"}], \"scatter3d\": [{\"line\": {\"colorbar\": {\"outlinewidth\": 0, \"ticks\": \"\"}}, \"marker\": {\"colorbar\": {\"outlinewidth\": 0, \"ticks\": \"\"}}, \"type\": \"scatter3d\"}], \"scattercarpet\": [{\"marker\": {\"colorbar\": {\"outlinewidth\": 0, \"ticks\": \"\"}}, \"type\": \"scattercarpet\"}], \"scattergeo\": [{\"marker\": {\"colorbar\": {\"outlinewidth\": 0, \"ticks\": \"\"}}, \"type\": \"scattergeo\"}], \"scattergl\": [{\"marker\": {\"colorbar\": {\"outlinewidth\": 0, \"ticks\": \"\"}}, \"type\": \"scattergl\"}], \"scattermapbox\": [{\"marker\": {\"colorbar\": {\"outlinewidth\": 0, \"ticks\": \"\"}}, \"type\": \"scattermapbox\"}], \"scatterpolar\": [{\"marker\": {\"colorbar\": {\"outlinewidth\": 0, \"ticks\": \"\"}}, \"type\": \"scatterpolar\"}], \"scatterpolargl\": [{\"marker\": {\"colorbar\": {\"outlinewidth\": 0, \"ticks\": \"\"}}, \"type\": \"scatterpolargl\"}], \"scatterternary\": [{\"marker\": {\"colorbar\": {\"outlinewidth\": 0, \"ticks\": \"\"}}, \"type\": \"scatterternary\"}], \"surface\": [{\"colorbar\": {\"outlinewidth\": 0, \"ticks\": \"\"}, \"colorscale\": [[0.0, \"#0d0887\"], [0.1111111111111111, \"#46039f\"], [0.2222222222222222, \"#7201a8\"], [0.3333333333333333, \"#9c179e\"], [0.4444444444444444, \"#bd3786\"], [0.5555555555555556, \"#d8576b\"], [0.6666666666666666, \"#ed7953\"], [0.7777777777777778, \"#fb9f3a\"], [0.8888888888888888, \"#fdca26\"], [1.0, \"#f0f921\"]], \"type\": \"surface\"}], \"table\": [{\"cells\": {\"fill\": {\"color\": \"#EBF0F8\"}, \"line\": {\"color\": \"white\"}}, \"header\": {\"fill\": {\"color\": \"#C8D4E3\"}, \"line\": {\"color\": \"white\"}}, \"type\": \"table\"}]}, \"layout\": {\"annotationdefaults\": {\"arrowcolor\": \"#2a3f5f\", \"arrowhead\": 0, \"arrowwidth\": 1}, \"coloraxis\": {\"colorbar\": {\"outlinewidth\": 0, \"ticks\": \"\"}}, \"colorscale\": {\"diverging\": [[0, \"#8e0152\"], [0.1, \"#c51b7d\"], [0.2, \"#de77ae\"], [0.3, \"#f1b6da\"], [0.4, \"#fde0ef\"], [0.5, \"#f7f7f7\"], [0.6, \"#e6f5d0\"], [0.7, \"#b8e186\"], [0.8, \"#7fbc41\"], [0.9, \"#4d9221\"], [1, \"#276419\"]], \"sequential\": [[0.0, \"#0d0887\"], [0.1111111111111111, \"#46039f\"], [0.2222222222222222, \"#7201a8\"], [0.3333333333333333, \"#9c179e\"], [0.4444444444444444, \"#bd3786\"], [0.5555555555555556, \"#d8576b\"], [0.6666666666666666, \"#ed7953\"], [0.7777777777777778, \"#fb9f3a\"], [0.8888888888888888, \"#fdca26\"], [1.0, \"#f0f921\"]], \"sequentialminus\": [[0.0, \"#0d0887\"], [0.1111111111111111, \"#46039f\"], [0.2222222222222222, \"#7201a8\"], [0.3333333333333333, \"#9c179e\"], [0.4444444444444444, \"#bd3786\"], [0.5555555555555556, \"#d8576b\"], [0.6666666666666666, \"#ed7953\"], [0.7777777777777778, \"#fb9f3a\"], [0.8888888888888888, \"#fdca26\"], [1.0, \"#f0f921\"]]}, \"colorway\": [\"#636efa\", \"#EF553B\", \"#00cc96\", \"#ab63fa\", \"#FFA15A\", \"#19d3f3\", \"#FF6692\", \"#B6E880\", \"#FF97FF\", \"#FECB52\"], \"font\": {\"color\": \"#2a3f5f\"}, \"geo\": {\"bgcolor\": \"white\", \"lakecolor\": \"white\", \"landcolor\": \"#E5ECF6\", \"showlakes\": true, \"showland\": true, \"subunitcolor\": \"white\"}, \"hoverlabel\": {\"align\": \"left\"}, \"hovermode\": \"closest\", \"mapbox\": {\"style\": \"light\"}, \"paper_bgcolor\": \"white\", \"plot_bgcolor\": \"#E5ECF6\", \"polar\": {\"angularaxis\": {\"gridcolor\": \"white\", \"linecolor\": \"white\", \"ticks\": \"\"}, \"bgcolor\": \"#E5ECF6\", \"radialaxis\": {\"gridcolor\": \"white\", \"linecolor\": \"white\", \"ticks\": \"\"}}, \"scene\": {\"xaxis\": {\"backgroundcolor\": \"#E5ECF6\", \"gridcolor\": \"white\", \"gridwidth\": 2, \"linecolor\": \"white\", \"showbackground\": true, \"ticks\": \"\", \"zerolinecolor\": \"white\"}, \"yaxis\": {\"backgroundcolor\": \"#E5ECF6\", \"gridcolor\": \"white\", \"gridwidth\": 2, \"linecolor\": \"white\", \"showbackground\": true, \"ticks\": \"\", \"zerolinecolor\": \"white\"}, \"zaxis\": {\"backgroundcolor\": \"#E5ECF6\", \"gridcolor\": \"white\", \"gridwidth\": 2, \"linecolor\": \"white\", \"showbackground\": true, \"ticks\": \"\", \"zerolinecolor\": \"white\"}}, \"shapedefaults\": {\"line\": {\"color\": \"#2a3f5f\"}}, \"ternary\": {\"aaxis\": {\"gridcolor\": \"white\", \"linecolor\": \"white\", \"ticks\": \"\"}, \"baxis\": {\"gridcolor\": \"white\", \"linecolor\": \"white\", \"ticks\": \"\"}, \"bgcolor\": \"#E5ECF6\", \"caxis\": {\"gridcolor\": \"white\", \"linecolor\": \"white\", \"ticks\": \"\"}}, \"title\": {\"x\": 0.05}, \"xaxis\": {\"automargin\": true, \"gridcolor\": \"white\", \"linecolor\": \"white\", \"ticks\": \"\", \"title\": {\"standoff\": 15}, \"zerolinecolor\": \"white\", \"zerolinewidth\": 2}, \"yaxis\": {\"automargin\": true, \"gridcolor\": \"white\", \"linecolor\": \"white\", \"ticks\": \"\", \"title\": {\"standoff\": 15}, \"zerolinecolor\": \"white\", \"zerolinewidth\": 2}}}, \"title\": {\"text\": \"Figure 4: Analysis on Survival - Gender factor\"}},\n                        {\"responsive\": true}\n                    ).then(function(){\n                            \nvar gd = document.getElementById('ea7aa708-6608-4532-8474-4c14d202b4e0');\nvar x = new MutationObserver(function (mutations, observer) {{\n        var display = window.getComputedStyle(gd).display;\n        if (!display || display === 'none') {{\n            console.log([gd, 'removed!']);\n            Plotly.purge(gd);\n            observer.disconnect();\n        }}\n}});\n\n// Listen for the removal of the full notebook cells\nvar notebookContainer = gd.closest('#notebook-container');\nif (notebookContainer) {{\n    x.observe(notebookContainer, {childList: true});\n}}\n\n// Listen for the clearing of the current output cell\nvar outputEl = gd.closest('.output');\nif (outputEl) {{\n    x.observe(outputEl, {childList: true});\n}}\n\n                        })\n                };\n                });\n            </script>\n        </div>"
     },
     "metadata": {},
     "output_type": "display_data"
    }
   ],
   "source": [
    "import plotly.graph_objs as go\n",
    "heart_data = df.copy()\n",
    "male = heart_data[heart_data[\"sex\"]==1]\n",
    "female = heart_data[heart_data[\"sex\"]==0]\n",
    "male_survival= male[male[\"DEATH_EVENT\"]==0]\n",
    "female_survival= female[female[\"DEATH_EVENT\"]==0]\n",
    "## assign the labels\n",
    "labels = ['Male - Survived','Male - Not Survived', \"Female -  Survived\", \"Female - Not Survived\"]\n",
    "## value is set according to the labels\n",
    "values = [len(male[heart_data[\"DEATH_EVENT\"]==0]),len(male[heart_data[\"DEATH_EVENT\"]==1]),\n",
    "         len(female[heart_data[\"DEATH_EVENT\"]==0]),len(female[heart_data[\"DEATH_EVENT\"]==1])]\n",
    "fig = go.Figure(data=[go.Pie(labels=labels,values=values,hole=.3)])\n",
    "fig.update_layout(\n",
    "    title_text = \"Figure 4: Analysis on Survival - Gender factor\"\n",
    ")\n",
    "fig.show()"
   ]
  },
  {
   "cell_type": "code",
   "execution_count": 90,
   "metadata": {
    "pycharm": {
     "name": "#%%\n"
    }
   },
   "outputs": [],
   "source": [
    "## Define the violin plot function method\n",
    "def violin_boxplot(dataframe, x, y,color,points,hover_data, box, width=WIDTH, height=HEIGHT):\n",
    "    figure = px.violin(\n",
    "        dataframe,\n",
    "        x=x,\n",
    "        y=y,\n",
    "        color = color,\n",
    "        box = box,\n",
    "        hover_data=hover_data,\n",
    "        points=points,\n",
    "        width=width,\n",
    "        height=height\n",
    "    )\n",
    "    figure.update_layout(title_text=\"Figure 5: Analysis of both gender and age factors in survival rates\")\n",
    "    figure.show()"
   ]
  },
  {
   "cell_type": "code",
   "execution_count": 91,
   "metadata": {
    "pycharm": {
     "name": "#%%\n"
    }
   },
   "outputs": [
    {
     "data": {
      "application/vnd.plotly.v1+json": {
       "data": [
        {
         "scalegroup": "True",
         "offsetgroup": "1",
         "xaxis": "x",
         "yaxis": "y",
         "orientation": "v",
         "points": "all",
         "y": [
          75.0,
          55.0,
          65.0,
          50.0,
          65.0,
          90.0,
          75.0,
          60.0,
          65.0,
          80.0,
          75.0,
          62.0,
          45.0,
          50.0,
          82.0,
          87.0,
          45.0,
          70.0,
          48.0,
          65.0,
          68.0,
          75.0,
          80.0,
          95.0,
          70.0,
          58.0,
          82.0,
          94.0,
          85.0,
          50.0,
          65.0,
          69.0,
          90.0,
          82.0,
          60.0,
          70.0,
          50.0,
          70.0,
          60.0,
          50.0,
          51.0,
          60.0,
          80.0,
          57.0,
          68.0,
          53.0,
          60.0,
          70.0,
          60.0,
          95.0,
          49.0,
          72.0,
          45.0,
          50.0,
          45.0,
          60.0,
          42.0,
          72.0,
          70.0,
          65.0,
          85.0,
          69.0,
          60.0,
          60.0,
          59.0,
          60.0,
          72.0,
          85.0,
          70.0,
          86.0,
          60.0,
          46.0,
          80.0,
          72.0,
          75.0,
          72.0,
          50.0,
          45.0,
          80.0,
          59.0,
          59.0,
          65.0,
          75.0,
          58.0,
          60.667,
          50.0,
          60.0,
          45.0,
          77.0,
          48.0,
          54.0,
          73.0,
          60.0,
          55.0,
          65.0,
          55.0
         ],
         "marker": {
          "color": "#636efa"
         },
         "box": {
          "visible": true
         },
         "legendgroup": "1",
         "customdata": [
          [
           75.0,
           0.0,
           582.0,
           0.0,
           20.0,
           1.0,
           265000.0,
           1.9,
           130.0,
           1.0,
           0.0,
           4.0,
           1.0
          ],
          [
           55.0,
           0.0,
           7861.0,
           0.0,
           38.0,
           0.0,
           263358.03,
           1.1,
           136.0,
           1.0,
           0.0,
           6.0,
           1.0
          ],
          [
           65.0,
           0.0,
           146.0,
           0.0,
           20.0,
           0.0,
           162000.0,
           1.3,
           129.0,
           1.0,
           1.0,
           7.0,
           1.0
          ],
          [
           50.0,
           1.0,
           111.0,
           0.0,
           20.0,
           0.0,
           210000.0,
           1.9,
           137.0,
           1.0,
           0.0,
           7.0,
           1.0
          ],
          [
           65.0,
           1.0,
           160.0,
           1.0,
           20.0,
           0.0,
           327000.0,
           2.7,
           116.0,
           0.0,
           0.0,
           8.0,
           1.0
          ],
          [
           90.0,
           1.0,
           47.0,
           0.0,
           40.0,
           1.0,
           204000.0,
           2.1,
           132.0,
           1.0,
           1.0,
           8.0,
           1.0
          ],
          [
           75.0,
           1.0,
           246.0,
           0.0,
           15.0,
           0.0,
           127000.0,
           1.2,
           137.0,
           1.0,
           0.0,
           10.0,
           1.0
          ],
          [
           60.0,
           1.0,
           315.0,
           1.0,
           60.0,
           0.0,
           454000.0,
           1.1,
           131.0,
           1.0,
           1.0,
           10.0,
           1.0
          ],
          [
           65.0,
           0.0,
           157.0,
           0.0,
           65.0,
           0.0,
           263358.03,
           1.5,
           138.0,
           0.0,
           0.0,
           10.0,
           1.0
          ],
          [
           80.0,
           1.0,
           123.0,
           0.0,
           35.0,
           1.0,
           388000.0,
           9.4,
           133.0,
           1.0,
           1.0,
           10.0,
           1.0
          ],
          [
           75.0,
           1.0,
           81.0,
           0.0,
           38.0,
           1.0,
           368000.0,
           4.0,
           131.0,
           1.0,
           1.0,
           10.0,
           1.0
          ],
          [
           62.0,
           0.0,
           231.0,
           0.0,
           25.0,
           1.0,
           253000.0,
           0.9,
           140.0,
           1.0,
           1.0,
           10.0,
           1.0
          ],
          [
           45.0,
           1.0,
           981.0,
           0.0,
           30.0,
           0.0,
           136000.0,
           1.1,
           137.0,
           1.0,
           0.0,
           11.0,
           1.0
          ],
          [
           50.0,
           1.0,
           168.0,
           0.0,
           38.0,
           1.0,
           276000.0,
           1.1,
           137.0,
           1.0,
           0.0,
           11.0,
           1.0
          ],
          [
           82.0,
           1.0,
           379.0,
           0.0,
           50.0,
           0.0,
           47000.0,
           1.3,
           136.0,
           1.0,
           0.0,
           13.0,
           1.0
          ],
          [
           87.0,
           1.0,
           149.0,
           0.0,
           38.0,
           0.0,
           262000.0,
           0.9,
           140.0,
           1.0,
           0.0,
           14.0,
           1.0
          ],
          [
           45.0,
           0.0,
           582.0,
           0.0,
           14.0,
           0.0,
           166000.0,
           0.8,
           127.0,
           1.0,
           0.0,
           14.0,
           1.0
          ],
          [
           70.0,
           1.0,
           125.0,
           0.0,
           25.0,
           1.0,
           237000.0,
           1.0,
           140.0,
           0.0,
           0.0,
           15.0,
           1.0
          ],
          [
           48.0,
           1.0,
           582.0,
           1.0,
           55.0,
           0.0,
           87000.0,
           1.9,
           121.0,
           0.0,
           0.0,
           15.0,
           1.0
          ],
          [
           65.0,
           1.0,
           128.0,
           1.0,
           30.0,
           1.0,
           297000.0,
           1.6,
           136.0,
           0.0,
           0.0,
           20.0,
           1.0
          ],
          [
           68.0,
           1.0,
           220.0,
           0.0,
           35.0,
           1.0,
           289000.0,
           0.9,
           140.0,
           1.0,
           1.0,
           20.0,
           1.0
          ],
          [
           75.0,
           0.0,
           582.0,
           1.0,
           30.0,
           1.0,
           263358.03,
           1.83,
           134.0,
           0.0,
           0.0,
           23.0,
           1.0
          ],
          [
           80.0,
           0.0,
           148.0,
           1.0,
           38.0,
           0.0,
           149000.0,
           1.9,
           144.0,
           1.0,
           1.0,
           23.0,
           1.0
          ],
          [
           95.0,
           1.0,
           112.0,
           0.0,
           40.0,
           1.0,
           196000.0,
           1.0,
           138.0,
           0.0,
           0.0,
           24.0,
           1.0
          ],
          [
           70.0,
           0.0,
           122.0,
           1.0,
           45.0,
           1.0,
           284000.0,
           1.3,
           136.0,
           1.0,
           1.0,
           26.0,
           1.0
          ],
          [
           58.0,
           1.0,
           60.0,
           0.0,
           38.0,
           0.0,
           153000.0,
           5.8,
           134.0,
           1.0,
           0.0,
           26.0,
           1.0
          ],
          [
           82.0,
           0.0,
           70.0,
           1.0,
           30.0,
           0.0,
           200000.0,
           1.2,
           132.0,
           1.0,
           1.0,
           26.0,
           1.0
          ],
          [
           94.0,
           0.0,
           582.0,
           1.0,
           38.0,
           1.0,
           263358.03,
           1.83,
           134.0,
           1.0,
           0.0,
           27.0,
           1.0
          ],
          [
           85.0,
           0.0,
           23.0,
           0.0,
           45.0,
           0.0,
           360000.0,
           3.0,
           132.0,
           1.0,
           0.0,
           28.0,
           1.0
          ],
          [
           50.0,
           1.0,
           249.0,
           1.0,
           35.0,
           1.0,
           319000.0,
           1.0,
           128.0,
           0.0,
           0.0,
           28.0,
           1.0
          ],
          [
           65.0,
           0.0,
           94.0,
           1.0,
           50.0,
           1.0,
           188000.0,
           1.0,
           140.0,
           1.0,
           0.0,
           29.0,
           1.0
          ],
          [
           69.0,
           0.0,
           582.0,
           1.0,
           35.0,
           0.0,
           228000.0,
           3.5,
           134.0,
           1.0,
           0.0,
           30.0,
           1.0
          ],
          [
           90.0,
           1.0,
           60.0,
           1.0,
           50.0,
           0.0,
           226000.0,
           1.0,
           134.0,
           1.0,
           0.0,
           30.0,
           1.0
          ],
          [
           82.0,
           1.0,
           855.0,
           1.0,
           50.0,
           1.0,
           321000.0,
           1.0,
           145.0,
           0.0,
           0.0,
           30.0,
           1.0
          ],
          [
           60.0,
           0.0,
           235.0,
           1.0,
           38.0,
           0.0,
           329000.0,
           3.0,
           142.0,
           0.0,
           0.0,
           30.0,
           1.0
          ],
          [
           70.0,
           0.0,
           582.0,
           0.0,
           20.0,
           1.0,
           263358.03,
           1.83,
           134.0,
           1.0,
           1.0,
           31.0,
           1.0
          ],
          [
           50.0,
           0.0,
           124.0,
           1.0,
           30.0,
           1.0,
           153000.0,
           1.2,
           136.0,
           0.0,
           1.0,
           32.0,
           1.0
          ],
          [
           70.0,
           0.0,
           571.0,
           1.0,
           45.0,
           1.0,
           185000.0,
           1.2,
           139.0,
           1.0,
           1.0,
           33.0,
           1.0
          ],
          [
           60.0,
           1.0,
           588.0,
           1.0,
           60.0,
           0.0,
           194000.0,
           1.1,
           142.0,
           0.0,
           0.0,
           33.0,
           1.0
          ],
          [
           50.0,
           0.0,
           582.0,
           1.0,
           38.0,
           0.0,
           310000.0,
           1.9,
           135.0,
           1.0,
           1.0,
           35.0,
           1.0
          ],
          [
           51.0,
           0.0,
           1380.0,
           0.0,
           25.0,
           1.0,
           271000.0,
           0.9,
           130.0,
           1.0,
           0.0,
           38.0,
           1.0
          ],
          [
           60.0,
           0.0,
           582.0,
           1.0,
           38.0,
           1.0,
           451000.0,
           0.6,
           138.0,
           1.0,
           1.0,
           40.0,
           1.0
          ],
          [
           80.0,
           1.0,
           553.0,
           0.0,
           20.0,
           1.0,
           140000.0,
           4.4,
           133.0,
           1.0,
           0.0,
           41.0,
           1.0
          ],
          [
           57.0,
           1.0,
           129.0,
           0.0,
           30.0,
           0.0,
           395000.0,
           1.0,
           140.0,
           0.0,
           0.0,
           42.0,
           1.0
          ],
          [
           68.0,
           1.0,
           577.0,
           0.0,
           25.0,
           1.0,
           166000.0,
           1.0,
           138.0,
           1.0,
           0.0,
           43.0,
           1.0
          ],
          [
           53.0,
           1.0,
           91.0,
           0.0,
           20.0,
           1.0,
           418000.0,
           1.4,
           139.0,
           0.0,
           0.0,
           43.0,
           1.0
          ],
          [
           60.0,
           0.0,
           3964.0,
           1.0,
           62.0,
           0.0,
           263358.03,
           6.8,
           146.0,
           0.0,
           0.0,
           43.0,
           1.0
          ],
          [
           70.0,
           1.0,
           69.0,
           1.0,
           50.0,
           1.0,
           351000.0,
           1.0,
           134.0,
           0.0,
           0.0,
           44.0,
           1.0
          ],
          [
           60.0,
           1.0,
           260.0,
           1.0,
           38.0,
           0.0,
           255000.0,
           2.2,
           132.0,
           0.0,
           1.0,
           45.0,
           1.0
          ],
          [
           95.0,
           1.0,
           371.0,
           0.0,
           30.0,
           0.0,
           461000.0,
           2.0,
           132.0,
           1.0,
           0.0,
           50.0,
           1.0
          ],
          [
           49.0,
           0.0,
           789.0,
           0.0,
           20.0,
           1.0,
           319000.0,
           1.1,
           136.0,
           1.0,
           1.0,
           55.0,
           1.0
          ],
          [
           72.0,
           0.0,
           364.0,
           1.0,
           20.0,
           1.0,
           254000.0,
           1.3,
           136.0,
           1.0,
           1.0,
           59.0,
           1.0
          ],
          [
           45.0,
           0.0,
           7702.0,
           1.0,
           25.0,
           1.0,
           390000.0,
           1.0,
           139.0,
           1.0,
           0.0,
           60.0,
           1.0
          ],
          [
           50.0,
           0.0,
           318.0,
           0.0,
           40.0,
           1.0,
           216000.0,
           2.3,
           131.0,
           0.0,
           0.0,
           60.0,
           1.0
          ],
          [
           45.0,
           0.0,
           582.0,
           0.0,
           35.0,
           0.0,
           385000.0,
           1.0,
           145.0,
           1.0,
           0.0,
           61.0,
           1.0
          ],
          [
           60.0,
           0.0,
           68.0,
           0.0,
           20.0,
           0.0,
           119000.0,
           2.9,
           127.0,
           1.0,
           1.0,
           64.0,
           1.0
          ],
          [
           42.0,
           1.0,
           250.0,
           1.0,
           15.0,
           0.0,
           213000.0,
           1.3,
           136.0,
           0.0,
           0.0,
           65.0,
           1.0
          ],
          [
           72.0,
           1.0,
           110.0,
           0.0,
           25.0,
           0.0,
           274000.0,
           1.0,
           140.0,
           1.0,
           1.0,
           65.0,
           1.0
          ],
          [
           70.0,
           0.0,
           161.0,
           0.0,
           25.0,
           0.0,
           244000.0,
           1.2,
           142.0,
           0.0,
           0.0,
           66.0,
           1.0
          ],
          [
           65.0,
           0.0,
           113.0,
           1.0,
           25.0,
           0.0,
           497000.0,
           1.83,
           135.0,
           1.0,
           0.0,
           67.0,
           1.0
          ],
          [
           85.0,
           0.0,
           5882.0,
           0.0,
           35.0,
           0.0,
           243000.0,
           1.0,
           132.0,
           1.0,
           1.0,
           72.0,
           1.0
          ],
          [
           69.0,
           0.0,
           582.0,
           0.0,
           20.0,
           0.0,
           266000.0,
           1.2,
           134.0,
           1.0,
           1.0,
           73.0,
           1.0
          ],
          [
           60.0,
           1.0,
           47.0,
           0.0,
           20.0,
           0.0,
           204000.0,
           0.7,
           139.0,
           1.0,
           1.0,
           73.0,
           1.0
          ],
          [
           60.0,
           1.0,
           76.0,
           1.0,
           25.0,
           0.0,
           196000.0,
           2.5,
           132.0,
           0.0,
           0.0,
           77.0,
           1.0
          ],
          [
           59.0,
           1.0,
           280.0,
           1.0,
           25.0,
           1.0,
           302000.0,
           1.0,
           141.0,
           0.0,
           0.0,
           78.0,
           1.0
          ],
          [
           60.0,
           1.0,
           154.0,
           0.0,
           25.0,
           0.0,
           210000.0,
           1.7,
           135.0,
           1.0,
           0.0,
           82.0,
           1.0
          ],
          [
           72.0,
           1.0,
           328.0,
           0.0,
           30.0,
           1.0,
           621000.0,
           1.7,
           138.0,
           0.0,
           1.0,
           88.0,
           1.0
          ],
          [
           85.0,
           0.0,
           129.0,
           0.0,
           60.0,
           0.0,
           306000.0,
           1.2,
           132.0,
           1.0,
           1.0,
           90.0,
           1.0
          ],
          [
           70.0,
           1.0,
           143.0,
           0.0,
           60.0,
           0.0,
           351000.0,
           1.3,
           137.0,
           0.0,
           0.0,
           90.0,
           1.0
          ],
          [
           86.0,
           0.0,
           582.0,
           0.0,
           38.0,
           0.0,
           263358.03,
           1.83,
           134.0,
           0.0,
           0.0,
           95.0,
           1.0
          ],
          [
           60.0,
           0.0,
           582.0,
           0.0,
           40.0,
           0.0,
           217000.0,
           3.7,
           134.0,
           1.0,
           0.0,
           96.0,
           1.0
          ],
          [
           46.0,
           0.0,
           168.0,
           1.0,
           17.0,
           1.0,
           271000.0,
           2.1,
           124.0,
           0.0,
           0.0,
           100.0,
           1.0
          ],
          [
           80.0,
           0.0,
           805.0,
           0.0,
           38.0,
           0.0,
           263358.03,
           1.1,
           134.0,
           1.0,
           0.0,
           109.0,
           1.0
          ],
          [
           72.0,
           1.0,
           943.0,
           0.0,
           25.0,
           1.0,
           338000.0,
           1.7,
           139.0,
           1.0,
           1.0,
           111.0,
           1.0
          ],
          [
           75.0,
           1.0,
           582.0,
           0.0,
           30.0,
           0.0,
           225000.0,
           1.83,
           134.0,
           1.0,
           0.0,
           113.0,
           1.0
          ],
          [
           72.0,
           0.0,
           233.0,
           0.0,
           45.0,
           1.0,
           235000.0,
           2.5,
           135.0,
           0.0,
           0.0,
           115.0,
           1.0
          ],
          [
           50.0,
           1.0,
           2334.0,
           1.0,
           35.0,
           0.0,
           75000.0,
           0.9,
           142.0,
           0.0,
           0.0,
           126.0,
           1.0
          ],
          [
           45.0,
           0.0,
           2442.0,
           1.0,
           30.0,
           0.0,
           334000.0,
           1.1,
           139.0,
           1.0,
           0.0,
           129.0,
           1.0
          ],
          [
           80.0,
           0.0,
           776.0,
           1.0,
           38.0,
           1.0,
           192000.0,
           1.3,
           135.0,
           0.0,
           0.0,
           130.0,
           1.0
          ],
          [
           59.0,
           0.0,
           66.0,
           1.0,
           20.0,
           0.0,
           70000.0,
           2.4,
           134.0,
           1.0,
           0.0,
           135.0,
           1.0
          ],
          [
           59.0,
           1.0,
           176.0,
           1.0,
           25.0,
           0.0,
           221000.0,
           1.0,
           136.0,
           1.0,
           1.0,
           150.0,
           1.0
          ],
          [
           65.0,
           0.0,
           395.0,
           1.0,
           25.0,
           0.0,
           265000.0,
           1.2,
           136.0,
           1.0,
           1.0,
           154.0,
           1.0
          ],
          [
           75.0,
           0.0,
           99.0,
           0.0,
           38.0,
           1.0,
           224000.0,
           2.5,
           134.0,
           1.0,
           0.0,
           162.0,
           1.0
          ],
          [
           58.0,
           1.0,
           145.0,
           0.0,
           25.0,
           0.0,
           219000.0,
           1.2,
           137.0,
           1.0,
           1.0,
           170.0,
           1.0
          ],
          [
           60.667,
           1.0,
           104.0,
           1.0,
           30.0,
           0.0,
           389000.0,
           1.5,
           136.0,
           1.0,
           0.0,
           171.0,
           1.0
          ],
          [
           50.0,
           0.0,
           582.0,
           0.0,
           50.0,
           0.0,
           153000.0,
           0.6,
           134.0,
           0.0,
           0.0,
           172.0,
           1.0
          ],
          [
           60.0,
           0.0,
           1896.0,
           1.0,
           25.0,
           0.0,
           365000.0,
           2.1,
           144.0,
           0.0,
           0.0,
           172.0,
           1.0
          ],
          [
           45.0,
           0.0,
           582.0,
           0.0,
           20.0,
           1.0,
           126000.0,
           1.6,
           135.0,
           1.0,
           0.0,
           180.0,
           1.0
          ],
          [
           77.0,
           1.0,
           418.0,
           0.0,
           45.0,
           0.0,
           223000.0,
           1.8,
           145.0,
           1.0,
           0.0,
           180.0,
           1.0
          ],
          [
           48.0,
           1.0,
           131.0,
           1.0,
           30.0,
           1.0,
           244000.0,
           1.6,
           130.0,
           0.0,
           0.0,
           193.0,
           1.0
          ],
          [
           54.0,
           1.0,
           427.0,
           0.0,
           70.0,
           1.0,
           151000.0,
           9.0,
           137.0,
           0.0,
           0.0,
           196.0,
           1.0
          ],
          [
           73.0,
           0.0,
           582.0,
           0.0,
           20.0,
           0.0,
           263358.03,
           1.83,
           134.0,
           1.0,
           0.0,
           198.0,
           1.0
          ],
          [
           60.0,
           0.0,
           166.0,
           0.0,
           30.0,
           0.0,
           62000.0,
           1.7,
           127.0,
           0.0,
           0.0,
           207.0,
           1.0
          ],
          [
           55.0,
           0.0,
           2017.0,
           0.0,
           25.0,
           0.0,
           314000.0,
           1.1,
           138.0,
           1.0,
           0.0,
           214.0,
           1.0
          ],
          [
           65.0,
           1.0,
           258.0,
           1.0,
           25.0,
           0.0,
           198000.0,
           1.4,
           129.0,
           1.0,
           0.0,
           235.0,
           1.0
          ],
          [
           55.0,
           0.0,
           1199.0,
           0.0,
           20.0,
           0.0,
           263358.03,
           1.83,
           134.0,
           1.0,
           1.0,
           241.0,
           1.0
          ]
         ],
         "x0": " ",
         "hovertemplate": "DEATH_EVENT=%{customdata[12]}<br>sex=%{customdata[9]}<br>age=%{customdata[0]}<br>anaemia=%{customdata[1]}<br>creatinine_phosphokinase=%{customdata[2]}<br>diabetes=%{customdata[3]}<br>ejection_fraction=%{customdata[4]}<br>high_blood_pressure=%{customdata[5]}<br>platelets=%{customdata[6]}<br>serum_creatinine=%{customdata[7]}<br>serum_sodium=%{customdata[8]}<br>smoking=%{customdata[10]}<br>time=%{customdata[11]}<extra></extra>",
         "x": [
          1,
          1,
          1,
          1,
          0,
          1,
          1,
          1,
          0,
          1,
          1,
          1,
          1,
          1,
          1,
          1,
          1,
          0,
          0,
          0,
          1,
          0,
          1,
          0,
          1,
          1,
          1,
          1,
          1,
          0,
          1,
          1,
          1,
          0,
          0,
          1,
          0,
          1,
          0,
          1,
          1,
          1,
          1,
          0,
          1,
          0,
          0,
          0,
          0,
          1,
          1,
          1,
          1,
          0,
          1,
          1,
          0,
          1,
          0,
          1,
          1,
          1,
          1,
          0,
          0,
          1,
          0,
          1,
          0,
          0,
          1,
          0,
          1,
          1,
          1,
          0,
          0,
          1,
          0,
          1,
          1,
          1,
          1,
          1,
          1,
          0,
          0,
          1,
          1,
          0,
          0,
          1,
          0,
          1,
          1,
          1
         ],
         "type": "violin",
         "y0": " ",
         "alignmentgroup": "True",
         "name": "1",
         "showlegend": true
        },
        {
         "scalegroup": "True",
         "offsetgroup": "0",
         "xaxis": "x",
         "yaxis": "y",
         "orientation": "v",
         "points": "all",
         "y": [
          49.0,
          65.0,
          53.0,
          50.0,
          60.0,
          72.0,
          70.0,
          60.0,
          55.0,
          45.0,
          41.0,
          58.0,
          65.0,
          70.0,
          42.0,
          75.0,
          55.0,
          70.0,
          67.0,
          79.0,
          51.0,
          55.0,
          65.0,
          44.0,
          57.0,
          70.0,
          60.0,
          42.0,
          58.0,
          58.0,
          63.0,
          70.0,
          60.0,
          63.0,
          65.0,
          75.0,
          80.0,
          42.0,
          60.0,
          55.0,
          45.0,
          63.0,
          45.0,
          55.0,
          50.0,
          60.0,
          58.0,
          60.0,
          85.0,
          65.0,
          60.0,
          66.0,
          60.0,
          60.0,
          43.0,
          58.0,
          61.0,
          53.0,
          53.0,
          60.0,
          46.0,
          63.0,
          81.0,
          75.0,
          65.0,
          68.0,
          62.0,
          50.0,
          46.0,
          50.0,
          61.0,
          50.0,
          52.0,
          64.0,
          60.0,
          62.0,
          50.0,
          50.0,
          65.0,
          60.0,
          52.0,
          50.0,
          85.0,
          59.0,
          66.0,
          45.0,
          63.0,
          53.0,
          65.0,
          70.0,
          51.0,
          52.0,
          70.0,
          50.0,
          65.0,
          60.0,
          69.0,
          49.0,
          63.0,
          55.0,
          40.0,
          60.667,
          40.0,
          80.0,
          64.0,
          50.0,
          73.0,
          45.0,
          65.0,
          50.0,
          60.0,
          63.0,
          45.0,
          70.0,
          60.0,
          78.0,
          50.0,
          40.0,
          85.0,
          60.0,
          49.0,
          70.0,
          50.0,
          78.0,
          65.0,
          73.0,
          70.0,
          68.0,
          55.0,
          65.0,
          42.0,
          47.0,
          58.0,
          75.0,
          58.0,
          55.0,
          65.0,
          72.0,
          70.0,
          40.0,
          53.0,
          53.0,
          77.0,
          75.0,
          70.0,
          65.0,
          55.0,
          70.0,
          65.0,
          40.0,
          73.0,
          54.0,
          61.0,
          64.0,
          40.0,
          53.0,
          50.0,
          55.0,
          50.0,
          70.0,
          53.0,
          52.0,
          65.0,
          58.0,
          45.0,
          53.0,
          55.0,
          62.0,
          68.0,
          61.0,
          50.0,
          56.0,
          45.0,
          40.0,
          44.0,
          51.0,
          67.0,
          42.0,
          60.0,
          45.0,
          70.0,
          70.0,
          50.0,
          55.0,
          70.0,
          70.0,
          42.0,
          65.0,
          50.0,
          55.0,
          60.0,
          45.0,
          65.0,
          90.0,
          45.0,
          60.0,
          52.0,
          63.0,
          62.0,
          55.0,
          45.0,
          45.0,
          50.0
         ],
         "marker": {
          "color": "#EF553B"
         },
         "box": {
          "visible": true
         },
         "legendgroup": "0",
         "customdata": [
          [
           49.0,
           1.0,
           80.0,
           0.0,
           30.0,
           1.0,
           427000.0,
           1.0,
           138.0,
           0.0,
           0.0,
           12.0,
           0.0
          ],
          [
           65.0,
           1.0,
           52.0,
           0.0,
           25.0,
           1.0,
           276000.0,
           1.3,
           137.0,
           0.0,
           0.0,
           16.0,
           0.0
          ],
          [
           53.0,
           0.0,
           63.0,
           1.0,
           60.0,
           0.0,
           368000.0,
           0.8,
           135.0,
           1.0,
           0.0,
           22.0,
           0.0
          ],
          [
           50.0,
           1.0,
           159.0,
           1.0,
           30.0,
           0.0,
           302000.0,
           1.2,
           138.0,
           0.0,
           0.0,
           29.0,
           0.0
          ],
          [
           60.0,
           0.0,
           2656.0,
           1.0,
           30.0,
           0.0,
           305000.0,
           2.3,
           137.0,
           1.0,
           0.0,
           30.0,
           0.0
          ],
          [
           72.0,
           0.0,
           127.0,
           1.0,
           50.0,
           1.0,
           218000.0,
           1.0,
           134.0,
           1.0,
           0.0,
           33.0,
           0.0
          ],
          [
           70.0,
           1.0,
           75.0,
           0.0,
           35.0,
           0.0,
           223000.0,
           2.7,
           138.0,
           1.0,
           1.0,
           54.0,
           0.0
          ],
          [
           60.0,
           1.0,
           607.0,
           0.0,
           40.0,
           0.0,
           216000.0,
           0.6,
           138.0,
           1.0,
           1.0,
           54.0,
           0.0
          ],
          [
           55.0,
           0.0,
           109.0,
           0.0,
           35.0,
           0.0,
           254000.0,
           1.1,
           139.0,
           1.0,
           1.0,
           60.0,
           0.0
          ],
          [
           45.0,
           0.0,
           582.0,
           0.0,
           80.0,
           0.0,
           263358.03,
           1.18,
           137.0,
           0.0,
           0.0,
           63.0,
           0.0
          ],
          [
           41.0,
           0.0,
           148.0,
           0.0,
           40.0,
           0.0,
           374000.0,
           0.8,
           140.0,
           1.0,
           1.0,
           68.0,
           0.0
          ],
          [
           58.0,
           0.0,
           582.0,
           1.0,
           35.0,
           0.0,
           122000.0,
           0.9,
           139.0,
           1.0,
           1.0,
           71.0,
           0.0
          ],
          [
           65.0,
           0.0,
           224.0,
           1.0,
           50.0,
           0.0,
           149000.0,
           1.3,
           137.0,
           1.0,
           1.0,
           72.0,
           0.0
          ],
          [
           70.0,
           0.0,
           92.0,
           0.0,
           60.0,
           1.0,
           317000.0,
           0.8,
           140.0,
           0.0,
           1.0,
           74.0,
           0.0
          ],
          [
           42.0,
           0.0,
           102.0,
           1.0,
           40.0,
           0.0,
           237000.0,
           1.2,
           140.0,
           1.0,
           0.0,
           74.0,
           0.0
          ],
          [
           75.0,
           1.0,
           203.0,
           1.0,
           38.0,
           1.0,
           283000.0,
           0.6,
           131.0,
           1.0,
           1.0,
           74.0,
           0.0
          ],
          [
           55.0,
           0.0,
           336.0,
           0.0,
           45.0,
           1.0,
           324000.0,
           0.9,
           140.0,
           0.0,
           0.0,
           74.0,
           0.0
          ],
          [
           70.0,
           0.0,
           69.0,
           0.0,
           40.0,
           0.0,
           293000.0,
           1.7,
           136.0,
           0.0,
           0.0,
           75.0,
           0.0
          ],
          [
           67.0,
           0.0,
           582.0,
           0.0,
           50.0,
           0.0,
           263358.03,
           1.18,
           137.0,
           1.0,
           1.0,
           76.0,
           0.0
          ],
          [
           79.0,
           1.0,
           55.0,
           0.0,
           50.0,
           1.0,
           172000.0,
           1.8,
           133.0,
           1.0,
           0.0,
           78.0,
           0.0
          ],
          [
           51.0,
           0.0,
           78.0,
           0.0,
           50.0,
           0.0,
           406000.0,
           0.7,
           140.0,
           1.0,
           0.0,
           79.0,
           0.0
          ],
          [
           55.0,
           0.0,
           47.0,
           0.0,
           35.0,
           1.0,
           173000.0,
           1.1,
           137.0,
           1.0,
           0.0,
           79.0,
           0.0
          ],
          [
           65.0,
           1.0,
           68.0,
           1.0,
           60.0,
           1.0,
           304000.0,
           0.8,
           140.0,
           1.0,
           0.0,
           79.0,
           0.0
          ],
          [
           44.0,
           0.0,
           84.0,
           1.0,
           40.0,
           1.0,
           235000.0,
           0.7,
           139.0,
           1.0,
           0.0,
           79.0,
           0.0
          ],
          [
           57.0,
           1.0,
           115.0,
           0.0,
           25.0,
           1.0,
           181000.0,
           1.1,
           144.0,
           1.0,
           0.0,
           79.0,
           0.0
          ],
          [
           70.0,
           0.0,
           66.0,
           1.0,
           45.0,
           0.0,
           249000.0,
           0.8,
           136.0,
           1.0,
           1.0,
           80.0,
           0.0
          ],
          [
           60.0,
           0.0,
           897.0,
           1.0,
           45.0,
           0.0,
           297000.0,
           1.0,
           133.0,
           1.0,
           0.0,
           80.0,
           0.0
          ],
          [
           42.0,
           0.0,
           582.0,
           0.0,
           60.0,
           0.0,
           263358.03,
           1.18,
           137.0,
           0.0,
           0.0,
           82.0,
           0.0
          ],
          [
           58.0,
           0.0,
           144.0,
           1.0,
           38.0,
           1.0,
           327000.0,
           0.7,
           142.0,
           0.0,
           0.0,
           83.0,
           0.0
          ],
          [
           58.0,
           1.0,
           133.0,
           0.0,
           60.0,
           1.0,
           219000.0,
           1.0,
           141.0,
           1.0,
           0.0,
           83.0,
           0.0
          ],
          [
           63.0,
           1.0,
           514.0,
           1.0,
           25.0,
           1.0,
           254000.0,
           1.3,
           134.0,
           1.0,
           0.0,
           83.0,
           0.0
          ],
          [
           70.0,
           1.0,
           59.0,
           0.0,
           60.0,
           0.0,
           255000.0,
           1.1,
           136.0,
           0.0,
           0.0,
           85.0,
           0.0
          ],
          [
           60.0,
           1.0,
           156.0,
           1.0,
           25.0,
           1.0,
           318000.0,
           1.2,
           137.0,
           0.0,
           0.0,
           85.0,
           0.0
          ],
          [
           63.0,
           1.0,
           61.0,
           1.0,
           40.0,
           0.0,
           221000.0,
           1.1,
           140.0,
           0.0,
           0.0,
           86.0,
           0.0
          ],
          [
           65.0,
           1.0,
           305.0,
           0.0,
           25.0,
           0.0,
           298000.0,
           1.1,
           141.0,
           1.0,
           0.0,
           87.0,
           0.0
          ],
          [
           75.0,
           0.0,
           582.0,
           0.0,
           45.0,
           1.0,
           263358.03,
           1.18,
           137.0,
           1.0,
           0.0,
           87.0,
           0.0
          ],
          [
           80.0,
           0.0,
           898.0,
           0.0,
           25.0,
           0.0,
           149000.0,
           1.1,
           144.0,
           1.0,
           1.0,
           87.0,
           0.0
          ],
          [
           42.0,
           0.0,
           5209.0,
           0.0,
           30.0,
           0.0,
           226000.0,
           1.0,
           140.0,
           1.0,
           1.0,
           87.0,
           0.0
          ],
          [
           60.0,
           0.0,
           53.0,
           0.0,
           50.0,
           1.0,
           286000.0,
           2.3,
           143.0,
           0.0,
           0.0,
           87.0,
           0.0
          ],
          [
           55.0,
           0.0,
           748.0,
           0.0,
           45.0,
           0.0,
           263000.0,
           1.3,
           137.0,
           1.0,
           0.0,
           88.0,
           0.0
          ],
          [
           45.0,
           1.0,
           1876.0,
           1.0,
           35.0,
           0.0,
           226000.0,
           0.9,
           138.0,
           1.0,
           0.0,
           88.0,
           0.0
          ],
          [
           63.0,
           0.0,
           936.0,
           0.0,
           38.0,
           0.0,
           304000.0,
           1.1,
           133.0,
           1.0,
           1.0,
           88.0,
           0.0
          ],
          [
           45.0,
           0.0,
           292.0,
           1.0,
           35.0,
           0.0,
           850000.0,
           1.3,
           142.0,
           1.0,
           1.0,
           88.0,
           0.0
          ],
          [
           55.0,
           0.0,
           60.0,
           0.0,
           35.0,
           0.0,
           228000.0,
           1.2,
           135.0,
           1.0,
           1.0,
           90.0,
           0.0
          ],
          [
           50.0,
           0.0,
           369.0,
           1.0,
           25.0,
           0.0,
           252000.0,
           1.6,
           136.0,
           1.0,
           0.0,
           90.0,
           0.0
          ],
          [
           60.0,
           1.0,
           754.0,
           1.0,
           40.0,
           1.0,
           328000.0,
           1.2,
           126.0,
           1.0,
           0.0,
           91.0,
           0.0
          ],
          [
           58.0,
           1.0,
           400.0,
           0.0,
           40.0,
           0.0,
           164000.0,
           1.0,
           139.0,
           0.0,
           0.0,
           91.0,
           0.0
          ],
          [
           60.0,
           1.0,
           96.0,
           1.0,
           60.0,
           1.0,
           271000.0,
           0.7,
           136.0,
           0.0,
           0.0,
           94.0,
           0.0
          ],
          [
           85.0,
           1.0,
           102.0,
           0.0,
           60.0,
           0.0,
           507000.0,
           3.2,
           138.0,
           0.0,
           0.0,
           94.0,
           0.0
          ],
          [
           65.0,
           1.0,
           113.0,
           1.0,
           60.0,
           1.0,
           203000.0,
           0.9,
           140.0,
           0.0,
           0.0,
           94.0,
           0.0
          ],
          [
           60.0,
           1.0,
           737.0,
           0.0,
           60.0,
           1.0,
           210000.0,
           1.5,
           135.0,
           1.0,
           1.0,
           95.0,
           0.0
          ],
          [
           66.0,
           1.0,
           68.0,
           1.0,
           38.0,
           1.0,
           162000.0,
           1.0,
           136.0,
           0.0,
           0.0,
           95.0,
           0.0
          ],
          [
           60.0,
           0.0,
           96.0,
           1.0,
           38.0,
           0.0,
           228000.0,
           0.75,
           140.0,
           0.0,
           0.0,
           95.0,
           0.0
          ],
          [
           60.0,
           1.0,
           582.0,
           0.0,
           30.0,
           1.0,
           127000.0,
           0.9,
           145.0,
           0.0,
           0.0,
           95.0,
           0.0
          ],
          [
           43.0,
           1.0,
           358.0,
           0.0,
           50.0,
           0.0,
           237000.0,
           1.3,
           135.0,
           0.0,
           0.0,
           97.0,
           0.0
          ],
          [
           58.0,
           1.0,
           200.0,
           1.0,
           60.0,
           0.0,
           300000.0,
           0.8,
           137.0,
           0.0,
           0.0,
           104.0,
           0.0
          ],
          [
           61.0,
           0.0,
           248.0,
           0.0,
           30.0,
           1.0,
           267000.0,
           0.7,
           136.0,
           1.0,
           1.0,
           104.0,
           0.0
          ],
          [
           53.0,
           1.0,
           270.0,
           1.0,
           35.0,
           0.0,
           227000.0,
           3.4,
           145.0,
           1.0,
           0.0,
           105.0,
           0.0
          ],
          [
           53.0,
           1.0,
           1808.0,
           0.0,
           60.0,
           1.0,
           249000.0,
           0.7,
           138.0,
           1.0,
           1.0,
           106.0,
           0.0
          ],
          [
           60.0,
           1.0,
           1082.0,
           1.0,
           45.0,
           0.0,
           250000.0,
           6.1,
           131.0,
           1.0,
           0.0,
           107.0,
           0.0
          ],
          [
           46.0,
           0.0,
           719.0,
           0.0,
           40.0,
           1.0,
           263358.03,
           1.18,
           137.0,
           0.0,
           0.0,
           107.0,
           0.0
          ],
          [
           63.0,
           0.0,
           193.0,
           0.0,
           60.0,
           1.0,
           295000.0,
           1.3,
           145.0,
           1.0,
           1.0,
           107.0,
           0.0
          ],
          [
           81.0,
           0.0,
           4540.0,
           0.0,
           35.0,
           0.0,
           231000.0,
           1.18,
           137.0,
           1.0,
           1.0,
           107.0,
           0.0
          ],
          [
           75.0,
           0.0,
           582.0,
           0.0,
           40.0,
           0.0,
           263358.03,
           1.18,
           137.0,
           1.0,
           0.0,
           107.0,
           0.0
          ],
          [
           65.0,
           1.0,
           59.0,
           1.0,
           60.0,
           0.0,
           172000.0,
           0.9,
           137.0,
           0.0,
           0.0,
           107.0,
           0.0
          ],
          [
           68.0,
           1.0,
           646.0,
           0.0,
           25.0,
           0.0,
           305000.0,
           2.1,
           130.0,
           1.0,
           0.0,
           108.0,
           0.0
          ],
          [
           62.0,
           0.0,
           281.0,
           1.0,
           35.0,
           0.0,
           221000.0,
           1.0,
           136.0,
           0.0,
           0.0,
           108.0,
           0.0
          ],
          [
           50.0,
           0.0,
           1548.0,
           0.0,
           30.0,
           1.0,
           211000.0,
           0.8,
           138.0,
           1.0,
           0.0,
           108.0,
           0.0
          ],
          [
           46.0,
           1.0,
           291.0,
           0.0,
           35.0,
           0.0,
           348000.0,
           0.9,
           140.0,
           0.0,
           0.0,
           109.0,
           0.0
          ],
          [
           50.0,
           0.0,
           482.0,
           1.0,
           30.0,
           0.0,
           329000.0,
           0.9,
           132.0,
           0.0,
           0.0,
           109.0,
           0.0
          ],
          [
           61.0,
           1.0,
           84.0,
           0.0,
           40.0,
           1.0,
           229000.0,
           0.9,
           141.0,
           0.0,
           0.0,
           110.0,
           0.0
          ],
          [
           50.0,
           0.0,
           185.0,
           0.0,
           30.0,
           0.0,
           266000.0,
           0.7,
           141.0,
           1.0,
           1.0,
           112.0,
           0.0
          ],
          [
           52.0,
           0.0,
           132.0,
           0.0,
           30.0,
           0.0,
           218000.0,
           0.7,
           136.0,
           1.0,
           1.0,
           112.0,
           0.0
          ],
          [
           64.0,
           0.0,
           1610.0,
           0.0,
           60.0,
           0.0,
           242000.0,
           1.0,
           137.0,
           1.0,
           0.0,
           113.0,
           0.0
          ],
          [
           60.0,
           0.0,
           2261.0,
           0.0,
           35.0,
           1.0,
           228000.0,
           0.9,
           136.0,
           1.0,
           0.0,
           115.0,
           0.0
          ],
          [
           62.0,
           0.0,
           30.0,
           1.0,
           60.0,
           1.0,
           244000.0,
           0.9,
           139.0,
           1.0,
           0.0,
           117.0,
           0.0
          ],
          [
           50.0,
           0.0,
           115.0,
           0.0,
           45.0,
           1.0,
           184000.0,
           0.9,
           134.0,
           1.0,
           1.0,
           118.0,
           0.0
          ],
          [
           50.0,
           0.0,
           1846.0,
           1.0,
           35.0,
           0.0,
           263358.03,
           1.18,
           137.0,
           1.0,
           1.0,
           119.0,
           0.0
          ],
          [
           65.0,
           1.0,
           335.0,
           0.0,
           35.0,
           1.0,
           235000.0,
           0.8,
           136.0,
           0.0,
           0.0,
           120.0,
           0.0
          ],
          [
           60.0,
           1.0,
           231.0,
           1.0,
           25.0,
           0.0,
           194000.0,
           1.7,
           140.0,
           1.0,
           0.0,
           120.0,
           0.0
          ],
          [
           52.0,
           1.0,
           58.0,
           0.0,
           35.0,
           0.0,
           277000.0,
           1.4,
           136.0,
           0.0,
           0.0,
           120.0,
           0.0
          ],
          [
           50.0,
           0.0,
           250.0,
           0.0,
           25.0,
           0.0,
           262000.0,
           1.0,
           136.0,
           1.0,
           1.0,
           120.0,
           0.0
          ],
          [
           85.0,
           1.0,
           910.0,
           0.0,
           50.0,
           0.0,
           235000.0,
           1.3,
           134.0,
           1.0,
           0.0,
           121.0,
           0.0
          ],
          [
           59.0,
           1.0,
           129.0,
           0.0,
           45.0,
           1.0,
           362000.0,
           1.1,
           139.0,
           1.0,
           1.0,
           121.0,
           0.0
          ],
          [
           66.0,
           1.0,
           72.0,
           0.0,
           40.0,
           1.0,
           242000.0,
           1.2,
           134.0,
           1.0,
           0.0,
           121.0,
           0.0
          ],
          [
           45.0,
           1.0,
           130.0,
           0.0,
           35.0,
           0.0,
           174000.0,
           0.8,
           139.0,
           1.0,
           1.0,
           121.0,
           0.0
          ],
          [
           63.0,
           1.0,
           582.0,
           0.0,
           40.0,
           0.0,
           448000.0,
           0.9,
           137.0,
           1.0,
           1.0,
           123.0,
           0.0
          ],
          [
           53.0,
           0.0,
           196.0,
           0.0,
           60.0,
           0.0,
           220000.0,
           0.7,
           133.0,
           1.0,
           1.0,
           134.0,
           0.0
          ],
          [
           65.0,
           0.0,
           582.0,
           1.0,
           40.0,
           0.0,
           270000.0,
           1.0,
           138.0,
           0.0,
           0.0,
           140.0,
           0.0
          ],
          [
           70.0,
           0.0,
           835.0,
           0.0,
           35.0,
           1.0,
           305000.0,
           0.8,
           133.0,
           0.0,
           0.0,
           145.0,
           0.0
          ],
          [
           51.0,
           1.0,
           582.0,
           1.0,
           35.0,
           0.0,
           263358.03,
           1.5,
           136.0,
           1.0,
           1.0,
           145.0,
           0.0
          ],
          [
           52.0,
           0.0,
           3966.0,
           0.0,
           40.0,
           0.0,
           325000.0,
           0.9,
           140.0,
           1.0,
           1.0,
           146.0,
           0.0
          ],
          [
           70.0,
           1.0,
           171.0,
           0.0,
           60.0,
           1.0,
           176000.0,
           1.1,
           145.0,
           1.0,
           1.0,
           146.0,
           0.0
          ],
          [
           50.0,
           1.0,
           115.0,
           0.0,
           20.0,
           0.0,
           189000.0,
           0.8,
           139.0,
           1.0,
           0.0,
           146.0,
           0.0
          ],
          [
           65.0,
           0.0,
           198.0,
           1.0,
           35.0,
           1.0,
           281000.0,
           0.9,
           137.0,
           1.0,
           1.0,
           146.0,
           0.0
          ],
          [
           60.0,
           1.0,
           95.0,
           0.0,
           60.0,
           0.0,
           337000.0,
           1.0,
           138.0,
           1.0,
           1.0,
           146.0,
           0.0
          ],
          [
           69.0,
           0.0,
           1419.0,
           0.0,
           40.0,
           0.0,
           105000.0,
           1.0,
           135.0,
           1.0,
           1.0,
           147.0,
           0.0
          ],
          [
           49.0,
           1.0,
           69.0,
           0.0,
           50.0,
           0.0,
           132000.0,
           1.0,
           140.0,
           0.0,
           0.0,
           147.0,
           0.0
          ],
          [
           63.0,
           1.0,
           122.0,
           1.0,
           60.0,
           0.0,
           267000.0,
           1.2,
           145.0,
           1.0,
           0.0,
           147.0,
           0.0
          ],
          [
           55.0,
           0.0,
           835.0,
           0.0,
           40.0,
           0.0,
           279000.0,
           0.7,
           140.0,
           1.0,
           1.0,
           147.0,
           0.0
          ],
          [
           40.0,
           0.0,
           478.0,
           1.0,
           30.0,
           0.0,
           303000.0,
           0.9,
           136.0,
           1.0,
           0.0,
           148.0,
           0.0
          ],
          [
           60.667,
           1.0,
           151.0,
           1.0,
           40.0,
           1.0,
           201000.0,
           1.0,
           136.0,
           0.0,
           0.0,
           172.0,
           0.0
          ],
          [
           40.0,
           0.0,
           244.0,
           0.0,
           45.0,
           1.0,
           275000.0,
           0.9,
           140.0,
           0.0,
           0.0,
           174.0,
           0.0
          ],
          [
           80.0,
           0.0,
           582.0,
           1.0,
           35.0,
           0.0,
           350000.0,
           2.1,
           134.0,
           1.0,
           0.0,
           174.0,
           0.0
          ],
          [
           64.0,
           1.0,
           62.0,
           0.0,
           60.0,
           0.0,
           309000.0,
           1.5,
           135.0,
           0.0,
           0.0,
           174.0,
           0.0
          ],
          [
           50.0,
           1.0,
           121.0,
           1.0,
           40.0,
           0.0,
           260000.0,
           0.7,
           130.0,
           1.0,
           0.0,
           175.0,
           0.0
          ],
          [
           73.0,
           1.0,
           231.0,
           1.0,
           30.0,
           0.0,
           160000.0,
           1.18,
           142.0,
           1.0,
           1.0,
           180.0,
           0.0
          ],
          [
           45.0,
           0.0,
           582.0,
           1.0,
           38.0,
           1.0,
           263358.03,
           1.18,
           137.0,
           0.0,
           0.0,
           185.0,
           0.0
          ],
          [
           65.0,
           0.0,
           167.0,
           0.0,
           30.0,
           0.0,
           259000.0,
           0.8,
           138.0,
           0.0,
           0.0,
           186.0,
           0.0
          ],
          [
           50.0,
           1.0,
           582.0,
           1.0,
           20.0,
           1.0,
           279000.0,
           1.0,
           134.0,
           0.0,
           0.0,
           186.0,
           0.0
          ],
          [
           60.0,
           0.0,
           1211.0,
           1.0,
           35.0,
           0.0,
           263358.03,
           1.8,
           113.0,
           1.0,
           1.0,
           186.0,
           0.0
          ],
          [
           63.0,
           1.0,
           1767.0,
           0.0,
           45.0,
           0.0,
           73000.0,
           0.7,
           137.0,
           1.0,
           0.0,
           186.0,
           0.0
          ],
          [
           45.0,
           0.0,
           308.0,
           1.0,
           60.0,
           1.0,
           377000.0,
           1.0,
           136.0,
           1.0,
           0.0,
           186.0,
           0.0
          ],
          [
           70.0,
           0.0,
           97.0,
           0.0,
           60.0,
           1.0,
           220000.0,
           0.9,
           138.0,
           1.0,
           0.0,
           186.0,
           0.0
          ],
          [
           60.0,
           0.0,
           59.0,
           0.0,
           25.0,
           1.0,
           212000.0,
           3.5,
           136.0,
           1.0,
           1.0,
           187.0,
           0.0
          ],
          [
           78.0,
           1.0,
           64.0,
           0.0,
           40.0,
           0.0,
           277000.0,
           0.7,
           137.0,
           1.0,
           1.0,
           187.0,
           0.0
          ],
          [
           50.0,
           1.0,
           167.0,
           1.0,
           45.0,
           0.0,
           362000.0,
           1.0,
           136.0,
           0.0,
           0.0,
           187.0,
           0.0
          ],
          [
           40.0,
           1.0,
           101.0,
           0.0,
           40.0,
           0.0,
           226000.0,
           0.8,
           141.0,
           0.0,
           0.0,
           187.0,
           0.0
          ],
          [
           85.0,
           0.0,
           212.0,
           0.0,
           38.0,
           0.0,
           186000.0,
           0.9,
           136.0,
           1.0,
           0.0,
           187.0,
           0.0
          ],
          [
           60.0,
           1.0,
           2281.0,
           1.0,
           40.0,
           0.0,
           283000.0,
           1.0,
           141.0,
           0.0,
           0.0,
           187.0,
           0.0
          ],
          [
           49.0,
           0.0,
           972.0,
           1.0,
           35.0,
           1.0,
           268000.0,
           0.8,
           130.0,
           0.0,
           0.0,
           187.0,
           0.0
          ],
          [
           70.0,
           0.0,
           212.0,
           1.0,
           17.0,
           1.0,
           389000.0,
           1.0,
           136.0,
           1.0,
           1.0,
           188.0,
           0.0
          ],
          [
           50.0,
           0.0,
           582.0,
           0.0,
           62.0,
           1.0,
           147000.0,
           0.8,
           140.0,
           1.0,
           1.0,
           192.0,
           0.0
          ],
          [
           78.0,
           0.0,
           224.0,
           0.0,
           50.0,
           0.0,
           481000.0,
           1.4,
           138.0,
           1.0,
           1.0,
           192.0,
           0.0
          ],
          [
           65.0,
           1.0,
           135.0,
           0.0,
           35.0,
           1.0,
           290000.0,
           0.8,
           134.0,
           1.0,
           0.0,
           194.0,
           0.0
          ],
          [
           73.0,
           0.0,
           582.0,
           0.0,
           35.0,
           1.0,
           203000.0,
           1.3,
           134.0,
           1.0,
           0.0,
           195.0,
           0.0
          ],
          [
           70.0,
           0.0,
           1202.0,
           0.0,
           50.0,
           1.0,
           358000.0,
           0.9,
           141.0,
           0.0,
           0.0,
           196.0,
           0.0
          ],
          [
           68.0,
           1.0,
           1021.0,
           1.0,
           35.0,
           0.0,
           271000.0,
           1.1,
           134.0,
           1.0,
           0.0,
           197.0,
           0.0
          ],
          [
           55.0,
           0.0,
           582.0,
           1.0,
           35.0,
           1.0,
           371000.0,
           0.7,
           140.0,
           0.0,
           0.0,
           197.0,
           0.0
          ],
          [
           65.0,
           0.0,
           118.0,
           0.0,
           50.0,
           0.0,
           194000.0,
           1.1,
           145.0,
           1.0,
           1.0,
           200.0,
           0.0
          ],
          [
           42.0,
           1.0,
           86.0,
           0.0,
           35.0,
           0.0,
           365000.0,
           1.1,
           139.0,
           1.0,
           1.0,
           201.0,
           0.0
          ],
          [
           47.0,
           0.0,
           582.0,
           0.0,
           25.0,
           0.0,
           130000.0,
           0.8,
           134.0,
           1.0,
           0.0,
           201.0,
           0.0
          ],
          [
           58.0,
           0.0,
           582.0,
           1.0,
           25.0,
           0.0,
           504000.0,
           1.0,
           138.0,
           1.0,
           0.0,
           205.0,
           0.0
          ],
          [
           75.0,
           0.0,
           675.0,
           1.0,
           60.0,
           0.0,
           265000.0,
           1.4,
           125.0,
           0.0,
           0.0,
           205.0,
           0.0
          ],
          [
           58.0,
           1.0,
           57.0,
           0.0,
           25.0,
           0.0,
           189000.0,
           1.3,
           132.0,
           1.0,
           1.0,
           205.0,
           0.0
          ],
          [
           55.0,
           1.0,
           2794.0,
           0.0,
           35.0,
           1.0,
           141000.0,
           1.0,
           140.0,
           1.0,
           0.0,
           206.0,
           0.0
          ],
          [
           65.0,
           0.0,
           56.0,
           0.0,
           25.0,
           0.0,
           237000.0,
           5.0,
           130.0,
           0.0,
           0.0,
           207.0,
           0.0
          ],
          [
           72.0,
           0.0,
           211.0,
           0.0,
           25.0,
           0.0,
           274000.0,
           1.2,
           134.0,
           0.0,
           0.0,
           207.0,
           0.0
          ],
          [
           70.0,
           0.0,
           93.0,
           0.0,
           35.0,
           0.0,
           185000.0,
           1.1,
           134.0,
           1.0,
           1.0,
           208.0,
           0.0
          ],
          [
           40.0,
           1.0,
           129.0,
           0.0,
           35.0,
           0.0,
           255000.0,
           0.9,
           137.0,
           1.0,
           0.0,
           209.0,
           0.0
          ],
          [
           53.0,
           1.0,
           707.0,
           0.0,
           38.0,
           0.0,
           330000.0,
           1.4,
           137.0,
           1.0,
           1.0,
           209.0,
           0.0
          ],
          [
           53.0,
           1.0,
           582.0,
           0.0,
           45.0,
           0.0,
           305000.0,
           1.1,
           137.0,
           1.0,
           1.0,
           209.0,
           0.0
          ],
          [
           77.0,
           1.0,
           109.0,
           0.0,
           50.0,
           1.0,
           406000.0,
           1.1,
           137.0,
           1.0,
           0.0,
           209.0,
           0.0
          ],
          [
           75.0,
           0.0,
           119.0,
           0.0,
           50.0,
           1.0,
           248000.0,
           1.1,
           148.0,
           1.0,
           0.0,
           209.0,
           0.0
          ],
          [
           70.0,
           0.0,
           232.0,
           0.0,
           30.0,
           0.0,
           173000.0,
           1.2,
           132.0,
           1.0,
           0.0,
           210.0,
           0.0
          ],
          [
           65.0,
           1.0,
           720.0,
           1.0,
           40.0,
           0.0,
           257000.0,
           1.0,
           136.0,
           0.0,
           0.0,
           210.0,
           0.0
          ],
          [
           55.0,
           1.0,
           180.0,
           0.0,
           45.0,
           0.0,
           263358.03,
           1.18,
           137.0,
           1.0,
           1.0,
           211.0,
           0.0
          ],
          [
           70.0,
           0.0,
           81.0,
           1.0,
           35.0,
           1.0,
           533000.0,
           1.3,
           139.0,
           0.0,
           0.0,
           212.0,
           0.0
          ],
          [
           65.0,
           0.0,
           582.0,
           1.0,
           30.0,
           0.0,
           249000.0,
           1.3,
           136.0,
           1.0,
           1.0,
           212.0,
           0.0
          ],
          [
           40.0,
           0.0,
           90.0,
           0.0,
           35.0,
           0.0,
           255000.0,
           1.1,
           136.0,
           1.0,
           1.0,
           212.0,
           0.0
          ],
          [
           73.0,
           1.0,
           1185.0,
           0.0,
           40.0,
           1.0,
           220000.0,
           0.9,
           141.0,
           0.0,
           0.0,
           213.0,
           0.0
          ],
          [
           54.0,
           0.0,
           582.0,
           1.0,
           38.0,
           0.0,
           264000.0,
           1.8,
           134.0,
           1.0,
           0.0,
           213.0,
           0.0
          ],
          [
           61.0,
           1.0,
           80.0,
           1.0,
           38.0,
           0.0,
           282000.0,
           1.4,
           137.0,
           1.0,
           0.0,
           213.0,
           0.0
          ],
          [
           64.0,
           0.0,
           143.0,
           0.0,
           25.0,
           0.0,
           246000.0,
           2.4,
           135.0,
           1.0,
           0.0,
           214.0,
           0.0
          ],
          [
           40.0,
           0.0,
           624.0,
           0.0,
           35.0,
           0.0,
           301000.0,
           1.0,
           142.0,
           1.0,
           1.0,
           214.0,
           0.0
          ],
          [
           53.0,
           0.0,
           207.0,
           1.0,
           40.0,
           0.0,
           223000.0,
           1.2,
           130.0,
           0.0,
           0.0,
           214.0,
           0.0
          ],
          [
           50.0,
           0.0,
           2522.0,
           0.0,
           30.0,
           1.0,
           404000.0,
           0.5,
           139.0,
           0.0,
           0.0,
           214.0,
           0.0
          ],
          [
           55.0,
           0.0,
           572.0,
           1.0,
           35.0,
           0.0,
           231000.0,
           0.8,
           143.0,
           0.0,
           0.0,
           215.0,
           0.0
          ],
          [
           50.0,
           0.0,
           245.0,
           0.0,
           45.0,
           1.0,
           274000.0,
           1.0,
           133.0,
           1.0,
           0.0,
           215.0,
           0.0
          ],
          [
           70.0,
           0.0,
           88.0,
           1.0,
           35.0,
           1.0,
           236000.0,
           1.2,
           132.0,
           0.0,
           0.0,
           215.0,
           0.0
          ],
          [
           53.0,
           1.0,
           446.0,
           0.0,
           60.0,
           1.0,
           263358.03,
           1.0,
           139.0,
           1.0,
           0.0,
           215.0,
           0.0
          ],
          [
           52.0,
           1.0,
           191.0,
           1.0,
           30.0,
           1.0,
           334000.0,
           1.0,
           142.0,
           1.0,
           1.0,
           216.0,
           0.0
          ],
          [
           65.0,
           0.0,
           326.0,
           0.0,
           38.0,
           0.0,
           294000.0,
           1.7,
           139.0,
           0.0,
           0.0,
           220.0,
           0.0
          ],
          [
           58.0,
           0.0,
           132.0,
           1.0,
           38.0,
           1.0,
           253000.0,
           1.0,
           139.0,
           1.0,
           0.0,
           230.0,
           0.0
          ],
          [
           45.0,
           1.0,
           66.0,
           1.0,
           25.0,
           0.0,
           233000.0,
           0.8,
           135.0,
           1.0,
           0.0,
           230.0,
           0.0
          ],
          [
           53.0,
           0.0,
           56.0,
           0.0,
           50.0,
           0.0,
           308000.0,
           0.7,
           135.0,
           1.0,
           1.0,
           231.0,
           0.0
          ],
          [
           55.0,
           0.0,
           66.0,
           0.0,
           40.0,
           0.0,
           203000.0,
           1.0,
           138.0,
           1.0,
           0.0,
           233.0,
           0.0
          ],
          [
           62.0,
           1.0,
           655.0,
           0.0,
           40.0,
           0.0,
           283000.0,
           0.7,
           133.0,
           0.0,
           0.0,
           233.0,
           0.0
          ],
          [
           68.0,
           1.0,
           157.0,
           1.0,
           60.0,
           0.0,
           208000.0,
           1.0,
           140.0,
           0.0,
           0.0,
           237.0,
           0.0
          ],
          [
           61.0,
           0.0,
           582.0,
           1.0,
           38.0,
           0.0,
           147000.0,
           1.2,
           141.0,
           1.0,
           0.0,
           237.0,
           0.0
          ],
          [
           50.0,
           1.0,
           298.0,
           0.0,
           35.0,
           0.0,
           362000.0,
           0.9,
           140.0,
           1.0,
           1.0,
           240.0,
           0.0
          ],
          [
           56.0,
           1.0,
           135.0,
           1.0,
           38.0,
           0.0,
           133000.0,
           1.7,
           140.0,
           1.0,
           0.0,
           244.0,
           0.0
          ],
          [
           45.0,
           0.0,
           582.0,
           1.0,
           38.0,
           0.0,
           302000.0,
           0.9,
           140.0,
           0.0,
           0.0,
           244.0,
           0.0
          ],
          [
           40.0,
           0.0,
           582.0,
           1.0,
           35.0,
           0.0,
           222000.0,
           1.0,
           132.0,
           1.0,
           0.0,
           244.0,
           0.0
          ],
          [
           44.0,
           0.0,
           582.0,
           1.0,
           30.0,
           1.0,
           263358.03,
           1.6,
           130.0,
           1.0,
           1.0,
           244.0,
           0.0
          ],
          [
           51.0,
           0.0,
           582.0,
           1.0,
           40.0,
           0.0,
           221000.0,
           0.9,
           134.0,
           0.0,
           0.0,
           244.0,
           0.0
          ],
          [
           67.0,
           0.0,
           213.0,
           0.0,
           38.0,
           0.0,
           215000.0,
           1.2,
           133.0,
           0.0,
           0.0,
           245.0,
           0.0
          ],
          [
           42.0,
           0.0,
           64.0,
           0.0,
           40.0,
           0.0,
           189000.0,
           0.7,
           140.0,
           1.0,
           0.0,
           245.0,
           0.0
          ],
          [
           60.0,
           1.0,
           257.0,
           1.0,
           30.0,
           0.0,
           150000.0,
           1.0,
           137.0,
           1.0,
           1.0,
           245.0,
           0.0
          ],
          [
           45.0,
           0.0,
           582.0,
           0.0,
           38.0,
           1.0,
           422000.0,
           0.8,
           137.0,
           0.0,
           0.0,
           245.0,
           0.0
          ],
          [
           70.0,
           0.0,
           618.0,
           0.0,
           35.0,
           0.0,
           327000.0,
           1.1,
           142.0,
           0.0,
           0.0,
           245.0,
           0.0
          ],
          [
           70.0,
           0.0,
           582.0,
           1.0,
           38.0,
           0.0,
           25100.0,
           1.1,
           140.0,
           1.0,
           0.0,
           246.0,
           0.0
          ],
          [
           50.0,
           1.0,
           1051.0,
           1.0,
           30.0,
           0.0,
           232000.0,
           0.7,
           136.0,
           0.0,
           0.0,
           246.0,
           0.0
          ],
          [
           55.0,
           0.0,
           84.0,
           1.0,
           38.0,
           0.0,
           451000.0,
           1.3,
           136.0,
           0.0,
           0.0,
           246.0,
           0.0
          ],
          [
           70.0,
           0.0,
           2695.0,
           1.0,
           40.0,
           0.0,
           241000.0,
           1.0,
           137.0,
           1.0,
           0.0,
           247.0,
           0.0
          ],
          [
           70.0,
           0.0,
           582.0,
           0.0,
           40.0,
           0.0,
           51000.0,
           2.7,
           136.0,
           1.0,
           1.0,
           250.0,
           0.0
          ],
          [
           42.0,
           0.0,
           64.0,
           0.0,
           30.0,
           0.0,
           215000.0,
           3.8,
           128.0,
           1.0,
           1.0,
           250.0,
           0.0
          ],
          [
           65.0,
           0.0,
           1688.0,
           0.0,
           38.0,
           0.0,
           263358.03,
           1.1,
           138.0,
           1.0,
           1.0,
           250.0,
           0.0
          ],
          [
           50.0,
           1.0,
           54.0,
           0.0,
           40.0,
           0.0,
           279000.0,
           0.8,
           141.0,
           1.0,
           0.0,
           250.0,
           0.0
          ],
          [
           55.0,
           1.0,
           170.0,
           1.0,
           40.0,
           0.0,
           336000.0,
           1.2,
           135.0,
           1.0,
           0.0,
           250.0,
           0.0
          ],
          [
           60.0,
           0.0,
           253.0,
           0.0,
           35.0,
           0.0,
           279000.0,
           1.7,
           140.0,
           1.0,
           0.0,
           250.0,
           0.0
          ],
          [
           45.0,
           0.0,
           582.0,
           1.0,
           55.0,
           0.0,
           543000.0,
           1.0,
           132.0,
           0.0,
           0.0,
           250.0,
           0.0
          ],
          [
           65.0,
           0.0,
           892.0,
           1.0,
           35.0,
           0.0,
           263358.03,
           1.1,
           142.0,
           0.0,
           0.0,
           256.0,
           0.0
          ],
          [
           90.0,
           1.0,
           337.0,
           0.0,
           38.0,
           0.0,
           390000.0,
           0.9,
           144.0,
           0.0,
           0.0,
           256.0,
           0.0
          ],
          [
           45.0,
           0.0,
           615.0,
           1.0,
           55.0,
           0.0,
           222000.0,
           0.8,
           141.0,
           0.0,
           0.0,
           257.0,
           0.0
          ],
          [
           60.0,
           0.0,
           320.0,
           0.0,
           35.0,
           0.0,
           133000.0,
           1.4,
           139.0,
           1.0,
           0.0,
           258.0,
           0.0
          ],
          [
           52.0,
           0.0,
           190.0,
           1.0,
           38.0,
           0.0,
           382000.0,
           1.0,
           140.0,
           1.0,
           1.0,
           258.0,
           0.0
          ],
          [
           63.0,
           1.0,
           103.0,
           1.0,
           35.0,
           0.0,
           179000.0,
           0.9,
           136.0,
           1.0,
           1.0,
           270.0,
           0.0
          ],
          [
           62.0,
           0.0,
           61.0,
           1.0,
           38.0,
           1.0,
           155000.0,
           1.1,
           143.0,
           1.0,
           1.0,
           270.0,
           0.0
          ],
          [
           55.0,
           0.0,
           1820.0,
           0.0,
           38.0,
           0.0,
           270000.0,
           1.2,
           139.0,
           0.0,
           0.0,
           271.0,
           0.0
          ],
          [
           45.0,
           0.0,
           2060.0,
           1.0,
           60.0,
           0.0,
           742000.0,
           0.8,
           138.0,
           0.0,
           0.0,
           278.0,
           0.0
          ],
          [
           45.0,
           0.0,
           2413.0,
           0.0,
           38.0,
           0.0,
           140000.0,
           1.4,
           140.0,
           1.0,
           1.0,
           280.0,
           0.0
          ],
          [
           50.0,
           0.0,
           196.0,
           0.0,
           45.0,
           0.0,
           395000.0,
           1.6,
           136.0,
           1.0,
           1.0,
           285.0,
           0.0
          ]
         ],
         "x0": " ",
         "hovertemplate": "DEATH_EVENT=%{customdata[12]}<br>sex=%{customdata[9]}<br>age=%{customdata[0]}<br>anaemia=%{customdata[1]}<br>creatinine_phosphokinase=%{customdata[2]}<br>diabetes=%{customdata[3]}<br>ejection_fraction=%{customdata[4]}<br>high_blood_pressure=%{customdata[5]}<br>platelets=%{customdata[6]}<br>serum_creatinine=%{customdata[7]}<br>serum_sodium=%{customdata[8]}<br>smoking=%{customdata[10]}<br>time=%{customdata[11]}<extra></extra>",
         "x": [
          0,
          0,
          1,
          0,
          1,
          1,
          1,
          1,
          1,
          0,
          1,
          1,
          1,
          0,
          1,
          1,
          0,
          0,
          1,
          1,
          1,
          1,
          1,
          1,
          1,
          1,
          1,
          0,
          0,
          1,
          1,
          0,
          0,
          0,
          1,
          1,
          1,
          1,
          0,
          1,
          1,
          1,
          1,
          1,
          1,
          1,
          0,
          0,
          0,
          0,
          1,
          0,
          0,
          0,
          0,
          0,
          1,
          1,
          1,
          1,
          0,
          1,
          1,
          1,
          0,
          1,
          0,
          1,
          0,
          0,
          0,
          1,
          1,
          1,
          1,
          1,
          1,
          1,
          0,
          1,
          0,
          1,
          1,
          1,
          1,
          1,
          1,
          1,
          0,
          0,
          1,
          1,
          1,
          1,
          1,
          1,
          1,
          0,
          1,
          1,
          1,
          0,
          0,
          1,
          0,
          1,
          1,
          0,
          0,
          0,
          1,
          1,
          1,
          1,
          1,
          1,
          0,
          0,
          1,
          0,
          0,
          1,
          1,
          1,
          1,
          1,
          0,
          1,
          0,
          1,
          1,
          1,
          1,
          0,
          1,
          1,
          0,
          0,
          1,
          1,
          1,
          1,
          1,
          1,
          1,
          0,
          1,
          0,
          1,
          1,
          0,
          1,
          1,
          1,
          1,
          0,
          0,
          0,
          1,
          0,
          1,
          1,
          0,
          1,
          1,
          1,
          1,
          0,
          0,
          1,
          1,
          1,
          0,
          1,
          1,
          0,
          0,
          1,
          1,
          0,
          0,
          1,
          0,
          0,
          1,
          1,
          1,
          1,
          1,
          1,
          1,
          0,
          0,
          0,
          0,
          1,
          1,
          1,
          1,
          0,
          0,
          1,
          1
         ],
         "type": "violin",
         "y0": " ",
         "alignmentgroup": "True",
         "name": "0",
         "showlegend": true
        }
       ],
       "config": {
        "plotlyServerURL": "https://plot.ly"
       },
       "layout": {
        "margin": {
         "t": 60
        },
        "title": {
         "text": "Figure 5: Analysis of both gender and age factors in survival rates"
        },
        "violinmode": "group",
        "yaxis": {
         "title": {
          "text": "age"
         },
         "domain": [
          0.0,
          1.0
         ],
         "anchor": "x"
        },
        "height": 500,
        "template": {
         "data": {
          "scatter": [
           {
            "marker": {
             "colorbar": {
              "outlinewidth": 0,
              "ticks": ""
             }
            },
            "type": "scatter"
           }
          ],
          "parcoords": [
           {
            "line": {
             "colorbar": {
              "outlinewidth": 0,
              "ticks": ""
             }
            },
            "type": "parcoords"
           }
          ],
          "scattermapbox": [
           {
            "marker": {
             "colorbar": {
              "outlinewidth": 0,
              "ticks": ""
             }
            },
            "type": "scattermapbox"
           }
          ],
          "pie": [
           {
            "automargin": true,
            "type": "pie"
           }
          ],
          "mesh3d": [
           {
            "colorbar": {
             "outlinewidth": 0,
             "ticks": ""
            },
            "type": "mesh3d"
           }
          ],
          "table": [
           {
            "header": {
             "fill": {
              "color": "#C8D4E3"
             },
             "line": {
              "color": "white"
             }
            },
            "cells": {
             "fill": {
              "color": "#EBF0F8"
             },
             "line": {
              "color": "white"
             }
            },
            "type": "table"
           }
          ],
          "scattergeo": [
           {
            "marker": {
             "colorbar": {
              "outlinewidth": 0,
              "ticks": ""
             }
            },
            "type": "scattergeo"
           }
          ],
          "heatmapgl": [
           {
            "colorbar": {
             "outlinewidth": 0,
             "ticks": ""
            },
            "colorscale": [
             [
              0.0,
              "#0d0887"
             ],
             [
              0.1111111111111111,
              "#46039f"
             ],
             [
              0.2222222222222222,
              "#7201a8"
             ],
             [
              0.3333333333333333,
              "#9c179e"
             ],
             [
              0.4444444444444444,
              "#bd3786"
             ],
             [
              0.5555555555555556,
              "#d8576b"
             ],
             [
              0.6666666666666666,
              "#ed7953"
             ],
             [
              0.7777777777777778,
              "#fb9f3a"
             ],
             [
              0.8888888888888888,
              "#fdca26"
             ],
             [
              1.0,
              "#f0f921"
             ]
            ],
            "type": "heatmapgl"
           }
          ],
          "heatmap": [
           {
            "colorbar": {
             "outlinewidth": 0,
             "ticks": ""
            },
            "colorscale": [
             [
              0.0,
              "#0d0887"
             ],
             [
              0.1111111111111111,
              "#46039f"
             ],
             [
              0.2222222222222222,
              "#7201a8"
             ],
             [
              0.3333333333333333,
              "#9c179e"
             ],
             [
              0.4444444444444444,
              "#bd3786"
             ],
             [
              0.5555555555555556,
              "#d8576b"
             ],
             [
              0.6666666666666666,
              "#ed7953"
             ],
             [
              0.7777777777777778,
              "#fb9f3a"
             ],
             [
              0.8888888888888888,
              "#fdca26"
             ],
             [
              1.0,
              "#f0f921"
             ]
            ],
            "type": "heatmap"
           }
          ],
          "choropleth": [
           {
            "colorbar": {
             "outlinewidth": 0,
             "ticks": ""
            },
            "type": "choropleth"
           }
          ],
          "scattercarpet": [
           {
            "marker": {
             "colorbar": {
              "outlinewidth": 0,
              "ticks": ""
             }
            },
            "type": "scattercarpet"
           }
          ],
          "histogram2d": [
           {
            "colorbar": {
             "outlinewidth": 0,
             "ticks": ""
            },
            "colorscale": [
             [
              0.0,
              "#0d0887"
             ],
             [
              0.1111111111111111,
              "#46039f"
             ],
             [
              0.2222222222222222,
              "#7201a8"
             ],
             [
              0.3333333333333333,
              "#9c179e"
             ],
             [
              0.4444444444444444,
              "#bd3786"
             ],
             [
              0.5555555555555556,
              "#d8576b"
             ],
             [
              0.6666666666666666,
              "#ed7953"
             ],
             [
              0.7777777777777778,
              "#fb9f3a"
             ],
             [
              0.8888888888888888,
              "#fdca26"
             ],
             [
              1.0,
              "#f0f921"
             ]
            ],
            "type": "histogram2d"
           }
          ],
          "scattergl": [
           {
            "marker": {
             "colorbar": {
              "outlinewidth": 0,
              "ticks": ""
             }
            },
            "type": "scattergl"
           }
          ],
          "contour": [
           {
            "colorbar": {
             "outlinewidth": 0,
             "ticks": ""
            },
            "colorscale": [
             [
              0.0,
              "#0d0887"
             ],
             [
              0.1111111111111111,
              "#46039f"
             ],
             [
              0.2222222222222222,
              "#7201a8"
             ],
             [
              0.3333333333333333,
              "#9c179e"
             ],
             [
              0.4444444444444444,
              "#bd3786"
             ],
             [
              0.5555555555555556,
              "#d8576b"
             ],
             [
              0.6666666666666666,
              "#ed7953"
             ],
             [
              0.7777777777777778,
              "#fb9f3a"
             ],
             [
              0.8888888888888888,
              "#fdca26"
             ],
             [
              1.0,
              "#f0f921"
             ]
            ],
            "type": "contour"
           }
          ],
          "surface": [
           {
            "colorbar": {
             "outlinewidth": 0,
             "ticks": ""
            },
            "colorscale": [
             [
              0.0,
              "#0d0887"
             ],
             [
              0.1111111111111111,
              "#46039f"
             ],
             [
              0.2222222222222222,
              "#7201a8"
             ],
             [
              0.3333333333333333,
              "#9c179e"
             ],
             [
              0.4444444444444444,
              "#bd3786"
             ],
             [
              0.5555555555555556,
              "#d8576b"
             ],
             [
              0.6666666666666666,
              "#ed7953"
             ],
             [
              0.7777777777777778,
              "#fb9f3a"
             ],
             [
              0.8888888888888888,
              "#fdca26"
             ],
             [
              1.0,
              "#f0f921"
             ]
            ],
            "type": "surface"
           }
          ],
          "scatterpolar": [
           {
            "marker": {
             "colorbar": {
              "outlinewidth": 0,
              "ticks": ""
             }
            },
            "type": "scatterpolar"
           }
          ],
          "histogram2dcontour": [
           {
            "colorbar": {
             "outlinewidth": 0,
             "ticks": ""
            },
            "colorscale": [
             [
              0.0,
              "#0d0887"
             ],
             [
              0.1111111111111111,
              "#46039f"
             ],
             [
              0.2222222222222222,
              "#7201a8"
             ],
             [
              0.3333333333333333,
              "#9c179e"
             ],
             [
              0.4444444444444444,
              "#bd3786"
             ],
             [
              0.5555555555555556,
              "#d8576b"
             ],
             [
              0.6666666666666666,
              "#ed7953"
             ],
             [
              0.7777777777777778,
              "#fb9f3a"
             ],
             [
              0.8888888888888888,
              "#fdca26"
             ],
             [
              1.0,
              "#f0f921"
             ]
            ],
            "type": "histogram2dcontour"
           }
          ],
          "histogram": [
           {
            "marker": {
             "colorbar": {
              "outlinewidth": 0,
              "ticks": ""
             }
            },
            "type": "histogram"
           }
          ],
          "scatter3d": [
           {
            "marker": {
             "colorbar": {
              "outlinewidth": 0,
              "ticks": ""
             }
            },
            "line": {
             "colorbar": {
              "outlinewidth": 0,
              "ticks": ""
             }
            },
            "type": "scatter3d"
           }
          ],
          "scatterternary": [
           {
            "marker": {
             "colorbar": {
              "outlinewidth": 0,
              "ticks": ""
             }
            },
            "type": "scatterternary"
           }
          ],
          "contourcarpet": [
           {
            "colorbar": {
             "outlinewidth": 0,
             "ticks": ""
            },
            "type": "contourcarpet"
           }
          ],
          "barpolar": [
           {
            "marker": {
             "line": {
              "color": "#E5ECF6",
              "width": 0.5
             }
            },
            "type": "barpolar"
           }
          ],
          "carpet": [
           {
            "baxis": {
             "linecolor": "white",
             "startlinecolor": "#2a3f5f",
             "minorgridcolor": "white",
             "endlinecolor": "#2a3f5f",
             "gridcolor": "white"
            },
            "aaxis": {
             "linecolor": "white",
             "startlinecolor": "#2a3f5f",
             "minorgridcolor": "white",
             "endlinecolor": "#2a3f5f",
             "gridcolor": "white"
            },
            "type": "carpet"
           }
          ],
          "scatterpolargl": [
           {
            "marker": {
             "colorbar": {
              "outlinewidth": 0,
              "ticks": ""
             }
            },
            "type": "scatterpolargl"
           }
          ],
          "bar": [
           {
            "marker": {
             "line": {
              "color": "#E5ECF6",
              "width": 0.5
             }
            },
            "type": "bar",
            "error_y": {
             "color": "#2a3f5f"
            },
            "error_x": {
             "color": "#2a3f5f"
            }
           }
          ]
         },
         "layout": {
          "mapbox": {
           "style": "light"
          },
          "font": {
           "color": "#2a3f5f"
          },
          "polar": {
           "radialaxis": {
            "linecolor": "white",
            "gridcolor": "white",
            "ticks": ""
           },
           "angularaxis": {
            "linecolor": "white",
            "gridcolor": "white",
            "ticks": ""
           },
           "bgcolor": "#E5ECF6"
          },
          "hovermode": "closest",
          "shapedefaults": {
           "line": {
            "color": "#2a3f5f"
           }
          },
          "xaxis": {
           "zerolinewidth": 2,
           "zerolinecolor": "white",
           "linecolor": "white",
           "title": {
            "standoff": 15
           },
           "automargin": true,
           "gridcolor": "white",
           "ticks": ""
          },
          "hoverlabel": {
           "align": "left"
          },
          "paper_bgcolor": "white",
          "coloraxis": {
           "colorbar": {
            "outlinewidth": 0,
            "ticks": ""
           }
          },
          "ternary": {
           "baxis": {
            "linecolor": "white",
            "gridcolor": "white",
            "ticks": ""
           },
           "aaxis": {
            "linecolor": "white",
            "gridcolor": "white",
            "ticks": ""
           },
           "caxis": {
            "linecolor": "white",
            "gridcolor": "white",
            "ticks": ""
           },
           "bgcolor": "#E5ECF6"
          },
          "colorscale": {
           "sequentialminus": [
            [
             0.0,
             "#0d0887"
            ],
            [
             0.1111111111111111,
             "#46039f"
            ],
            [
             0.2222222222222222,
             "#7201a8"
            ],
            [
             0.3333333333333333,
             "#9c179e"
            ],
            [
             0.4444444444444444,
             "#bd3786"
            ],
            [
             0.5555555555555556,
             "#d8576b"
            ],
            [
             0.6666666666666666,
             "#ed7953"
            ],
            [
             0.7777777777777778,
             "#fb9f3a"
            ],
            [
             0.8888888888888888,
             "#fdca26"
            ],
            [
             1.0,
             "#f0f921"
            ]
           ],
           "diverging": [
            [
             0,
             "#8e0152"
            ],
            [
             0.1,
             "#c51b7d"
            ],
            [
             0.2,
             "#de77ae"
            ],
            [
             0.3,
             "#f1b6da"
            ],
            [
             0.4,
             "#fde0ef"
            ],
            [
             0.5,
             "#f7f7f7"
            ],
            [
             0.6,
             "#e6f5d0"
            ],
            [
             0.7,
             "#b8e186"
            ],
            [
             0.8,
             "#7fbc41"
            ],
            [
             0.9,
             "#4d9221"
            ],
            [
             1,
             "#276419"
            ]
           ],
           "sequential": [
            [
             0.0,
             "#0d0887"
            ],
            [
             0.1111111111111111,
             "#46039f"
            ],
            [
             0.2222222222222222,
             "#7201a8"
            ],
            [
             0.3333333333333333,
             "#9c179e"
            ],
            [
             0.4444444444444444,
             "#bd3786"
            ],
            [
             0.5555555555555556,
             "#d8576b"
            ],
            [
             0.6666666666666666,
             "#ed7953"
            ],
            [
             0.7777777777777778,
             "#fb9f3a"
            ],
            [
             0.8888888888888888,
             "#fdca26"
            ],
            [
             1.0,
             "#f0f921"
            ]
           ]
          },
          "annotationdefaults": {
           "arrowcolor": "#2a3f5f",
           "arrowwidth": 1,
           "arrowhead": 0
          },
          "title": {
           "x": 0.05
          },
          "plot_bgcolor": "#E5ECF6",
          "scene": {
           "xaxis": {
            "linecolor": "white",
            "showbackground": true,
            "backgroundcolor": "#E5ECF6",
            "gridwidth": 2,
            "gridcolor": "white",
            "zerolinecolor": "white",
            "ticks": ""
           },
           "zaxis": {
            "linecolor": "white",
            "showbackground": true,
            "backgroundcolor": "#E5ECF6",
            "gridwidth": 2,
            "gridcolor": "white",
            "zerolinecolor": "white",
            "ticks": ""
           },
           "yaxis": {
            "linecolor": "white",
            "showbackground": true,
            "backgroundcolor": "#E5ECF6",
            "gridwidth": 2,
            "gridcolor": "white",
            "zerolinecolor": "white",
            "ticks": ""
           }
          },
          "colorway": [
           "#636efa",
           "#EF553B",
           "#00cc96",
           "#ab63fa",
           "#FFA15A",
           "#19d3f3",
           "#FF6692",
           "#B6E880",
           "#FF97FF",
           "#FECB52"
          ],
          "geo": {
           "showland": true,
           "showlakes": true,
           "bgcolor": "white",
           "landcolor": "#E5ECF6",
           "lakecolor": "white",
           "subunitcolor": "white"
          },
          "yaxis": {
           "zerolinewidth": 2,
           "zerolinecolor": "white",
           "linecolor": "white",
           "title": {
            "standoff": 15
           },
           "automargin": true,
           "gridcolor": "white",
           "ticks": ""
          }
         }
        },
        "xaxis": {
         "title": {
          "text": "sex"
         },
         "domain": [
          0.0,
          1.0
         ],
         "anchor": "y"
        },
        "legend": {
         "title": {
          "text": "DEATH_EVENT"
         },
         "tracegroupgap": 0
        },
        "width": 700
       }
      },
      "text/html": "<div>\n        \n        \n            <div id=\"c942f851-33e9-40aa-8f75-ae30dc0d2bd7\" class=\"plotly-graph-div\" style=\"height:500px; width:700px;\"></div>\n            <script type=\"text/javascript\">\n                require([\"plotly\"], function(Plotly) {\n                    window.PLOTLYENV=window.PLOTLYENV || {};\n                    \n                if (document.getElementById(\"c942f851-33e9-40aa-8f75-ae30dc0d2bd7\")) {\n                    Plotly.newPlot(\n                        'c942f851-33e9-40aa-8f75-ae30dc0d2bd7',\n                        [{\"alignmentgroup\": \"True\", \"box\": {\"visible\": true}, \"customdata\": [[75.0, 0.0, 582.0, 0.0, 20.0, 1.0, 265000.0, 1.9, 130.0, 1.0, 0.0, 4.0, 1.0], [55.0, 0.0, 7861.0, 0.0, 38.0, 0.0, 263358.03, 1.1, 136.0, 1.0, 0.0, 6.0, 1.0], [65.0, 0.0, 146.0, 0.0, 20.0, 0.0, 162000.0, 1.3, 129.0, 1.0, 1.0, 7.0, 1.0], [50.0, 1.0, 111.0, 0.0, 20.0, 0.0, 210000.0, 1.9, 137.0, 1.0, 0.0, 7.0, 1.0], [65.0, 1.0, 160.0, 1.0, 20.0, 0.0, 327000.0, 2.7, 116.0, 0.0, 0.0, 8.0, 1.0], [90.0, 1.0, 47.0, 0.0, 40.0, 1.0, 204000.0, 2.1, 132.0, 1.0, 1.0, 8.0, 1.0], [75.0, 1.0, 246.0, 0.0, 15.0, 0.0, 127000.0, 1.2, 137.0, 1.0, 0.0, 10.0, 1.0], [60.0, 1.0, 315.0, 1.0, 60.0, 0.0, 454000.0, 1.1, 131.0, 1.0, 1.0, 10.0, 1.0], [65.0, 0.0, 157.0, 0.0, 65.0, 0.0, 263358.03, 1.5, 138.0, 0.0, 0.0, 10.0, 1.0], [80.0, 1.0, 123.0, 0.0, 35.0, 1.0, 388000.0, 9.4, 133.0, 1.0, 1.0, 10.0, 1.0], [75.0, 1.0, 81.0, 0.0, 38.0, 1.0, 368000.0, 4.0, 131.0, 1.0, 1.0, 10.0, 1.0], [62.0, 0.0, 231.0, 0.0, 25.0, 1.0, 253000.0, 0.9, 140.0, 1.0, 1.0, 10.0, 1.0], [45.0, 1.0, 981.0, 0.0, 30.0, 0.0, 136000.0, 1.1, 137.0, 1.0, 0.0, 11.0, 1.0], [50.0, 1.0, 168.0, 0.0, 38.0, 1.0, 276000.0, 1.1, 137.0, 1.0, 0.0, 11.0, 1.0], [82.0, 1.0, 379.0, 0.0, 50.0, 0.0, 47000.0, 1.3, 136.0, 1.0, 0.0, 13.0, 1.0], [87.0, 1.0, 149.0, 0.0, 38.0, 0.0, 262000.0, 0.9, 140.0, 1.0, 0.0, 14.0, 1.0], [45.0, 0.0, 582.0, 0.0, 14.0, 0.0, 166000.0, 0.8, 127.0, 1.0, 0.0, 14.0, 1.0], [70.0, 1.0, 125.0, 0.0, 25.0, 1.0, 237000.0, 1.0, 140.0, 0.0, 0.0, 15.0, 1.0], [48.0, 1.0, 582.0, 1.0, 55.0, 0.0, 87000.0, 1.9, 121.0, 0.0, 0.0, 15.0, 1.0], [65.0, 1.0, 128.0, 1.0, 30.0, 1.0, 297000.0, 1.6, 136.0, 0.0, 0.0, 20.0, 1.0], [68.0, 1.0, 220.0, 0.0, 35.0, 1.0, 289000.0, 0.9, 140.0, 1.0, 1.0, 20.0, 1.0], [75.0, 0.0, 582.0, 1.0, 30.0, 1.0, 263358.03, 1.83, 134.0, 0.0, 0.0, 23.0, 1.0], [80.0, 0.0, 148.0, 1.0, 38.0, 0.0, 149000.0, 1.9, 144.0, 1.0, 1.0, 23.0, 1.0], [95.0, 1.0, 112.0, 0.0, 40.0, 1.0, 196000.0, 1.0, 138.0, 0.0, 0.0, 24.0, 1.0], [70.0, 0.0, 122.0, 1.0, 45.0, 1.0, 284000.0, 1.3, 136.0, 1.0, 1.0, 26.0, 1.0], [58.0, 1.0, 60.0, 0.0, 38.0, 0.0, 153000.0, 5.8, 134.0, 1.0, 0.0, 26.0, 1.0], [82.0, 0.0, 70.0, 1.0, 30.0, 0.0, 200000.0, 1.2, 132.0, 1.0, 1.0, 26.0, 1.0], [94.0, 0.0, 582.0, 1.0, 38.0, 1.0, 263358.03, 1.83, 134.0, 1.0, 0.0, 27.0, 1.0], [85.0, 0.0, 23.0, 0.0, 45.0, 0.0, 360000.0, 3.0, 132.0, 1.0, 0.0, 28.0, 1.0], [50.0, 1.0, 249.0, 1.0, 35.0, 1.0, 319000.0, 1.0, 128.0, 0.0, 0.0, 28.0, 1.0], [65.0, 0.0, 94.0, 1.0, 50.0, 1.0, 188000.0, 1.0, 140.0, 1.0, 0.0, 29.0, 1.0], [69.0, 0.0, 582.0, 1.0, 35.0, 0.0, 228000.0, 3.5, 134.0, 1.0, 0.0, 30.0, 1.0], [90.0, 1.0, 60.0, 1.0, 50.0, 0.0, 226000.0, 1.0, 134.0, 1.0, 0.0, 30.0, 1.0], [82.0, 1.0, 855.0, 1.0, 50.0, 1.0, 321000.0, 1.0, 145.0, 0.0, 0.0, 30.0, 1.0], [60.0, 0.0, 235.0, 1.0, 38.0, 0.0, 329000.0, 3.0, 142.0, 0.0, 0.0, 30.0, 1.0], [70.0, 0.0, 582.0, 0.0, 20.0, 1.0, 263358.03, 1.83, 134.0, 1.0, 1.0, 31.0, 1.0], [50.0, 0.0, 124.0, 1.0, 30.0, 1.0, 153000.0, 1.2, 136.0, 0.0, 1.0, 32.0, 1.0], [70.0, 0.0, 571.0, 1.0, 45.0, 1.0, 185000.0, 1.2, 139.0, 1.0, 1.0, 33.0, 1.0], [60.0, 1.0, 588.0, 1.0, 60.0, 0.0, 194000.0, 1.1, 142.0, 0.0, 0.0, 33.0, 1.0], [50.0, 0.0, 582.0, 1.0, 38.0, 0.0, 310000.0, 1.9, 135.0, 1.0, 1.0, 35.0, 1.0], [51.0, 0.0, 1380.0, 0.0, 25.0, 1.0, 271000.0, 0.9, 130.0, 1.0, 0.0, 38.0, 1.0], [60.0, 0.0, 582.0, 1.0, 38.0, 1.0, 451000.0, 0.6, 138.0, 1.0, 1.0, 40.0, 1.0], [80.0, 1.0, 553.0, 0.0, 20.0, 1.0, 140000.0, 4.4, 133.0, 1.0, 0.0, 41.0, 1.0], [57.0, 1.0, 129.0, 0.0, 30.0, 0.0, 395000.0, 1.0, 140.0, 0.0, 0.0, 42.0, 1.0], [68.0, 1.0, 577.0, 0.0, 25.0, 1.0, 166000.0, 1.0, 138.0, 1.0, 0.0, 43.0, 1.0], [53.0, 1.0, 91.0, 0.0, 20.0, 1.0, 418000.0, 1.4, 139.0, 0.0, 0.0, 43.0, 1.0], [60.0, 0.0, 3964.0, 1.0, 62.0, 0.0, 263358.03, 6.8, 146.0, 0.0, 0.0, 43.0, 1.0], [70.0, 1.0, 69.0, 1.0, 50.0, 1.0, 351000.0, 1.0, 134.0, 0.0, 0.0, 44.0, 1.0], [60.0, 1.0, 260.0, 1.0, 38.0, 0.0, 255000.0, 2.2, 132.0, 0.0, 1.0, 45.0, 1.0], [95.0, 1.0, 371.0, 0.0, 30.0, 0.0, 461000.0, 2.0, 132.0, 1.0, 0.0, 50.0, 1.0], [49.0, 0.0, 789.0, 0.0, 20.0, 1.0, 319000.0, 1.1, 136.0, 1.0, 1.0, 55.0, 1.0], [72.0, 0.0, 364.0, 1.0, 20.0, 1.0, 254000.0, 1.3, 136.0, 1.0, 1.0, 59.0, 1.0], [45.0, 0.0, 7702.0, 1.0, 25.0, 1.0, 390000.0, 1.0, 139.0, 1.0, 0.0, 60.0, 1.0], [50.0, 0.0, 318.0, 0.0, 40.0, 1.0, 216000.0, 2.3, 131.0, 0.0, 0.0, 60.0, 1.0], [45.0, 0.0, 582.0, 0.0, 35.0, 0.0, 385000.0, 1.0, 145.0, 1.0, 0.0, 61.0, 1.0], [60.0, 0.0, 68.0, 0.0, 20.0, 0.0, 119000.0, 2.9, 127.0, 1.0, 1.0, 64.0, 1.0], [42.0, 1.0, 250.0, 1.0, 15.0, 0.0, 213000.0, 1.3, 136.0, 0.0, 0.0, 65.0, 1.0], [72.0, 1.0, 110.0, 0.0, 25.0, 0.0, 274000.0, 1.0, 140.0, 1.0, 1.0, 65.0, 1.0], [70.0, 0.0, 161.0, 0.0, 25.0, 0.0, 244000.0, 1.2, 142.0, 0.0, 0.0, 66.0, 1.0], [65.0, 0.0, 113.0, 1.0, 25.0, 0.0, 497000.0, 1.83, 135.0, 1.0, 0.0, 67.0, 1.0], [85.0, 0.0, 5882.0, 0.0, 35.0, 0.0, 243000.0, 1.0, 132.0, 1.0, 1.0, 72.0, 1.0], [69.0, 0.0, 582.0, 0.0, 20.0, 0.0, 266000.0, 1.2, 134.0, 1.0, 1.0, 73.0, 1.0], [60.0, 1.0, 47.0, 0.0, 20.0, 0.0, 204000.0, 0.7, 139.0, 1.0, 1.0, 73.0, 1.0], [60.0, 1.0, 76.0, 1.0, 25.0, 0.0, 196000.0, 2.5, 132.0, 0.0, 0.0, 77.0, 1.0], [59.0, 1.0, 280.0, 1.0, 25.0, 1.0, 302000.0, 1.0, 141.0, 0.0, 0.0, 78.0, 1.0], [60.0, 1.0, 154.0, 0.0, 25.0, 0.0, 210000.0, 1.7, 135.0, 1.0, 0.0, 82.0, 1.0], [72.0, 1.0, 328.0, 0.0, 30.0, 1.0, 621000.0, 1.7, 138.0, 0.0, 1.0, 88.0, 1.0], [85.0, 0.0, 129.0, 0.0, 60.0, 0.0, 306000.0, 1.2, 132.0, 1.0, 1.0, 90.0, 1.0], [70.0, 1.0, 143.0, 0.0, 60.0, 0.0, 351000.0, 1.3, 137.0, 0.0, 0.0, 90.0, 1.0], [86.0, 0.0, 582.0, 0.0, 38.0, 0.0, 263358.03, 1.83, 134.0, 0.0, 0.0, 95.0, 1.0], [60.0, 0.0, 582.0, 0.0, 40.0, 0.0, 217000.0, 3.7, 134.0, 1.0, 0.0, 96.0, 1.0], [46.0, 0.0, 168.0, 1.0, 17.0, 1.0, 271000.0, 2.1, 124.0, 0.0, 0.0, 100.0, 1.0], [80.0, 0.0, 805.0, 0.0, 38.0, 0.0, 263358.03, 1.1, 134.0, 1.0, 0.0, 109.0, 1.0], [72.0, 1.0, 943.0, 0.0, 25.0, 1.0, 338000.0, 1.7, 139.0, 1.0, 1.0, 111.0, 1.0], [75.0, 1.0, 582.0, 0.0, 30.0, 0.0, 225000.0, 1.83, 134.0, 1.0, 0.0, 113.0, 1.0], [72.0, 0.0, 233.0, 0.0, 45.0, 1.0, 235000.0, 2.5, 135.0, 0.0, 0.0, 115.0, 1.0], [50.0, 1.0, 2334.0, 1.0, 35.0, 0.0, 75000.0, 0.9, 142.0, 0.0, 0.0, 126.0, 1.0], [45.0, 0.0, 2442.0, 1.0, 30.0, 0.0, 334000.0, 1.1, 139.0, 1.0, 0.0, 129.0, 1.0], [80.0, 0.0, 776.0, 1.0, 38.0, 1.0, 192000.0, 1.3, 135.0, 0.0, 0.0, 130.0, 1.0], [59.0, 0.0, 66.0, 1.0, 20.0, 0.0, 70000.0, 2.4, 134.0, 1.0, 0.0, 135.0, 1.0], [59.0, 1.0, 176.0, 1.0, 25.0, 0.0, 221000.0, 1.0, 136.0, 1.0, 1.0, 150.0, 1.0], [65.0, 0.0, 395.0, 1.0, 25.0, 0.0, 265000.0, 1.2, 136.0, 1.0, 1.0, 154.0, 1.0], [75.0, 0.0, 99.0, 0.0, 38.0, 1.0, 224000.0, 2.5, 134.0, 1.0, 0.0, 162.0, 1.0], [58.0, 1.0, 145.0, 0.0, 25.0, 0.0, 219000.0, 1.2, 137.0, 1.0, 1.0, 170.0, 1.0], [60.667, 1.0, 104.0, 1.0, 30.0, 0.0, 389000.0, 1.5, 136.0, 1.0, 0.0, 171.0, 1.0], [50.0, 0.0, 582.0, 0.0, 50.0, 0.0, 153000.0, 0.6, 134.0, 0.0, 0.0, 172.0, 1.0], [60.0, 0.0, 1896.0, 1.0, 25.0, 0.0, 365000.0, 2.1, 144.0, 0.0, 0.0, 172.0, 1.0], [45.0, 0.0, 582.0, 0.0, 20.0, 1.0, 126000.0, 1.6, 135.0, 1.0, 0.0, 180.0, 1.0], [77.0, 1.0, 418.0, 0.0, 45.0, 0.0, 223000.0, 1.8, 145.0, 1.0, 0.0, 180.0, 1.0], [48.0, 1.0, 131.0, 1.0, 30.0, 1.0, 244000.0, 1.6, 130.0, 0.0, 0.0, 193.0, 1.0], [54.0, 1.0, 427.0, 0.0, 70.0, 1.0, 151000.0, 9.0, 137.0, 0.0, 0.0, 196.0, 1.0], [73.0, 0.0, 582.0, 0.0, 20.0, 0.0, 263358.03, 1.83, 134.0, 1.0, 0.0, 198.0, 1.0], [60.0, 0.0, 166.0, 0.0, 30.0, 0.0, 62000.0, 1.7, 127.0, 0.0, 0.0, 207.0, 1.0], [55.0, 0.0, 2017.0, 0.0, 25.0, 0.0, 314000.0, 1.1, 138.0, 1.0, 0.0, 214.0, 1.0], [65.0, 1.0, 258.0, 1.0, 25.0, 0.0, 198000.0, 1.4, 129.0, 1.0, 0.0, 235.0, 1.0], [55.0, 0.0, 1199.0, 0.0, 20.0, 0.0, 263358.03, 1.83, 134.0, 1.0, 1.0, 241.0, 1.0]], \"hovertemplate\": \"DEATH_EVENT=%{customdata[12]}<br>sex=%{customdata[9]}<br>age=%{customdata[0]}<br>anaemia=%{customdata[1]}<br>creatinine_phosphokinase=%{customdata[2]}<br>diabetes=%{customdata[3]}<br>ejection_fraction=%{customdata[4]}<br>high_blood_pressure=%{customdata[5]}<br>platelets=%{customdata[6]}<br>serum_creatinine=%{customdata[7]}<br>serum_sodium=%{customdata[8]}<br>smoking=%{customdata[10]}<br>time=%{customdata[11]}<extra></extra>\", \"legendgroup\": \"1\", \"marker\": {\"color\": \"#636efa\"}, \"name\": \"1\", \"offsetgroup\": \"1\", \"orientation\": \"v\", \"points\": \"all\", \"scalegroup\": \"True\", \"showlegend\": true, \"type\": \"violin\", \"x\": [1, 1, 1, 1, 0, 1, 1, 1, 0, 1, 1, 1, 1, 1, 1, 1, 1, 0, 0, 0, 1, 0, 1, 0, 1, 1, 1, 1, 1, 0, 1, 1, 1, 0, 0, 1, 0, 1, 0, 1, 1, 1, 1, 0, 1, 0, 0, 0, 0, 1, 1, 1, 1, 0, 1, 1, 0, 1, 0, 1, 1, 1, 1, 0, 0, 1, 0, 1, 0, 0, 1, 0, 1, 1, 1, 0, 0, 1, 0, 1, 1, 1, 1, 1, 1, 0, 0, 1, 1, 0, 0, 1, 0, 1, 1, 1], \"x0\": \" \", \"xaxis\": \"x\", \"y\": [75.0, 55.0, 65.0, 50.0, 65.0, 90.0, 75.0, 60.0, 65.0, 80.0, 75.0, 62.0, 45.0, 50.0, 82.0, 87.0, 45.0, 70.0, 48.0, 65.0, 68.0, 75.0, 80.0, 95.0, 70.0, 58.0, 82.0, 94.0, 85.0, 50.0, 65.0, 69.0, 90.0, 82.0, 60.0, 70.0, 50.0, 70.0, 60.0, 50.0, 51.0, 60.0, 80.0, 57.0, 68.0, 53.0, 60.0, 70.0, 60.0, 95.0, 49.0, 72.0, 45.0, 50.0, 45.0, 60.0, 42.0, 72.0, 70.0, 65.0, 85.0, 69.0, 60.0, 60.0, 59.0, 60.0, 72.0, 85.0, 70.0, 86.0, 60.0, 46.0, 80.0, 72.0, 75.0, 72.0, 50.0, 45.0, 80.0, 59.0, 59.0, 65.0, 75.0, 58.0, 60.667, 50.0, 60.0, 45.0, 77.0, 48.0, 54.0, 73.0, 60.0, 55.0, 65.0, 55.0], \"y0\": \" \", \"yaxis\": \"y\"}, {\"alignmentgroup\": \"True\", \"box\": {\"visible\": true}, \"customdata\": [[49.0, 1.0, 80.0, 0.0, 30.0, 1.0, 427000.0, 1.0, 138.0, 0.0, 0.0, 12.0, 0.0], [65.0, 1.0, 52.0, 0.0, 25.0, 1.0, 276000.0, 1.3, 137.0, 0.0, 0.0, 16.0, 0.0], [53.0, 0.0, 63.0, 1.0, 60.0, 0.0, 368000.0, 0.8, 135.0, 1.0, 0.0, 22.0, 0.0], [50.0, 1.0, 159.0, 1.0, 30.0, 0.0, 302000.0, 1.2, 138.0, 0.0, 0.0, 29.0, 0.0], [60.0, 0.0, 2656.0, 1.0, 30.0, 0.0, 305000.0, 2.3, 137.0, 1.0, 0.0, 30.0, 0.0], [72.0, 0.0, 127.0, 1.0, 50.0, 1.0, 218000.0, 1.0, 134.0, 1.0, 0.0, 33.0, 0.0], [70.0, 1.0, 75.0, 0.0, 35.0, 0.0, 223000.0, 2.7, 138.0, 1.0, 1.0, 54.0, 0.0], [60.0, 1.0, 607.0, 0.0, 40.0, 0.0, 216000.0, 0.6, 138.0, 1.0, 1.0, 54.0, 0.0], [55.0, 0.0, 109.0, 0.0, 35.0, 0.0, 254000.0, 1.1, 139.0, 1.0, 1.0, 60.0, 0.0], [45.0, 0.0, 582.0, 0.0, 80.0, 0.0, 263358.03, 1.18, 137.0, 0.0, 0.0, 63.0, 0.0], [41.0, 0.0, 148.0, 0.0, 40.0, 0.0, 374000.0, 0.8, 140.0, 1.0, 1.0, 68.0, 0.0], [58.0, 0.0, 582.0, 1.0, 35.0, 0.0, 122000.0, 0.9, 139.0, 1.0, 1.0, 71.0, 0.0], [65.0, 0.0, 224.0, 1.0, 50.0, 0.0, 149000.0, 1.3, 137.0, 1.0, 1.0, 72.0, 0.0], [70.0, 0.0, 92.0, 0.0, 60.0, 1.0, 317000.0, 0.8, 140.0, 0.0, 1.0, 74.0, 0.0], [42.0, 0.0, 102.0, 1.0, 40.0, 0.0, 237000.0, 1.2, 140.0, 1.0, 0.0, 74.0, 0.0], [75.0, 1.0, 203.0, 1.0, 38.0, 1.0, 283000.0, 0.6, 131.0, 1.0, 1.0, 74.0, 0.0], [55.0, 0.0, 336.0, 0.0, 45.0, 1.0, 324000.0, 0.9, 140.0, 0.0, 0.0, 74.0, 0.0], [70.0, 0.0, 69.0, 0.0, 40.0, 0.0, 293000.0, 1.7, 136.0, 0.0, 0.0, 75.0, 0.0], [67.0, 0.0, 582.0, 0.0, 50.0, 0.0, 263358.03, 1.18, 137.0, 1.0, 1.0, 76.0, 0.0], [79.0, 1.0, 55.0, 0.0, 50.0, 1.0, 172000.0, 1.8, 133.0, 1.0, 0.0, 78.0, 0.0], [51.0, 0.0, 78.0, 0.0, 50.0, 0.0, 406000.0, 0.7, 140.0, 1.0, 0.0, 79.0, 0.0], [55.0, 0.0, 47.0, 0.0, 35.0, 1.0, 173000.0, 1.1, 137.0, 1.0, 0.0, 79.0, 0.0], [65.0, 1.0, 68.0, 1.0, 60.0, 1.0, 304000.0, 0.8, 140.0, 1.0, 0.0, 79.0, 0.0], [44.0, 0.0, 84.0, 1.0, 40.0, 1.0, 235000.0, 0.7, 139.0, 1.0, 0.0, 79.0, 0.0], [57.0, 1.0, 115.0, 0.0, 25.0, 1.0, 181000.0, 1.1, 144.0, 1.0, 0.0, 79.0, 0.0], [70.0, 0.0, 66.0, 1.0, 45.0, 0.0, 249000.0, 0.8, 136.0, 1.0, 1.0, 80.0, 0.0], [60.0, 0.0, 897.0, 1.0, 45.0, 0.0, 297000.0, 1.0, 133.0, 1.0, 0.0, 80.0, 0.0], [42.0, 0.0, 582.0, 0.0, 60.0, 0.0, 263358.03, 1.18, 137.0, 0.0, 0.0, 82.0, 0.0], [58.0, 0.0, 144.0, 1.0, 38.0, 1.0, 327000.0, 0.7, 142.0, 0.0, 0.0, 83.0, 0.0], [58.0, 1.0, 133.0, 0.0, 60.0, 1.0, 219000.0, 1.0, 141.0, 1.0, 0.0, 83.0, 0.0], [63.0, 1.0, 514.0, 1.0, 25.0, 1.0, 254000.0, 1.3, 134.0, 1.0, 0.0, 83.0, 0.0], [70.0, 1.0, 59.0, 0.0, 60.0, 0.0, 255000.0, 1.1, 136.0, 0.0, 0.0, 85.0, 0.0], [60.0, 1.0, 156.0, 1.0, 25.0, 1.0, 318000.0, 1.2, 137.0, 0.0, 0.0, 85.0, 0.0], [63.0, 1.0, 61.0, 1.0, 40.0, 0.0, 221000.0, 1.1, 140.0, 0.0, 0.0, 86.0, 0.0], [65.0, 1.0, 305.0, 0.0, 25.0, 0.0, 298000.0, 1.1, 141.0, 1.0, 0.0, 87.0, 0.0], [75.0, 0.0, 582.0, 0.0, 45.0, 1.0, 263358.03, 1.18, 137.0, 1.0, 0.0, 87.0, 0.0], [80.0, 0.0, 898.0, 0.0, 25.0, 0.0, 149000.0, 1.1, 144.0, 1.0, 1.0, 87.0, 0.0], [42.0, 0.0, 5209.0, 0.0, 30.0, 0.0, 226000.0, 1.0, 140.0, 1.0, 1.0, 87.0, 0.0], [60.0, 0.0, 53.0, 0.0, 50.0, 1.0, 286000.0, 2.3, 143.0, 0.0, 0.0, 87.0, 0.0], [55.0, 0.0, 748.0, 0.0, 45.0, 0.0, 263000.0, 1.3, 137.0, 1.0, 0.0, 88.0, 0.0], [45.0, 1.0, 1876.0, 1.0, 35.0, 0.0, 226000.0, 0.9, 138.0, 1.0, 0.0, 88.0, 0.0], [63.0, 0.0, 936.0, 0.0, 38.0, 0.0, 304000.0, 1.1, 133.0, 1.0, 1.0, 88.0, 0.0], [45.0, 0.0, 292.0, 1.0, 35.0, 0.0, 850000.0, 1.3, 142.0, 1.0, 1.0, 88.0, 0.0], [55.0, 0.0, 60.0, 0.0, 35.0, 0.0, 228000.0, 1.2, 135.0, 1.0, 1.0, 90.0, 0.0], [50.0, 0.0, 369.0, 1.0, 25.0, 0.0, 252000.0, 1.6, 136.0, 1.0, 0.0, 90.0, 0.0], [60.0, 1.0, 754.0, 1.0, 40.0, 1.0, 328000.0, 1.2, 126.0, 1.0, 0.0, 91.0, 0.0], [58.0, 1.0, 400.0, 0.0, 40.0, 0.0, 164000.0, 1.0, 139.0, 0.0, 0.0, 91.0, 0.0], [60.0, 1.0, 96.0, 1.0, 60.0, 1.0, 271000.0, 0.7, 136.0, 0.0, 0.0, 94.0, 0.0], [85.0, 1.0, 102.0, 0.0, 60.0, 0.0, 507000.0, 3.2, 138.0, 0.0, 0.0, 94.0, 0.0], [65.0, 1.0, 113.0, 1.0, 60.0, 1.0, 203000.0, 0.9, 140.0, 0.0, 0.0, 94.0, 0.0], [60.0, 1.0, 737.0, 0.0, 60.0, 1.0, 210000.0, 1.5, 135.0, 1.0, 1.0, 95.0, 0.0], [66.0, 1.0, 68.0, 1.0, 38.0, 1.0, 162000.0, 1.0, 136.0, 0.0, 0.0, 95.0, 0.0], [60.0, 0.0, 96.0, 1.0, 38.0, 0.0, 228000.0, 0.75, 140.0, 0.0, 0.0, 95.0, 0.0], [60.0, 1.0, 582.0, 0.0, 30.0, 1.0, 127000.0, 0.9, 145.0, 0.0, 0.0, 95.0, 0.0], [43.0, 1.0, 358.0, 0.0, 50.0, 0.0, 237000.0, 1.3, 135.0, 0.0, 0.0, 97.0, 0.0], [58.0, 1.0, 200.0, 1.0, 60.0, 0.0, 300000.0, 0.8, 137.0, 0.0, 0.0, 104.0, 0.0], [61.0, 0.0, 248.0, 0.0, 30.0, 1.0, 267000.0, 0.7, 136.0, 1.0, 1.0, 104.0, 0.0], [53.0, 1.0, 270.0, 1.0, 35.0, 0.0, 227000.0, 3.4, 145.0, 1.0, 0.0, 105.0, 0.0], [53.0, 1.0, 1808.0, 0.0, 60.0, 1.0, 249000.0, 0.7, 138.0, 1.0, 1.0, 106.0, 0.0], [60.0, 1.0, 1082.0, 1.0, 45.0, 0.0, 250000.0, 6.1, 131.0, 1.0, 0.0, 107.0, 0.0], [46.0, 0.0, 719.0, 0.0, 40.0, 1.0, 263358.03, 1.18, 137.0, 0.0, 0.0, 107.0, 0.0], [63.0, 0.0, 193.0, 0.0, 60.0, 1.0, 295000.0, 1.3, 145.0, 1.0, 1.0, 107.0, 0.0], [81.0, 0.0, 4540.0, 0.0, 35.0, 0.0, 231000.0, 1.18, 137.0, 1.0, 1.0, 107.0, 0.0], [75.0, 0.0, 582.0, 0.0, 40.0, 0.0, 263358.03, 1.18, 137.0, 1.0, 0.0, 107.0, 0.0], [65.0, 1.0, 59.0, 1.0, 60.0, 0.0, 172000.0, 0.9, 137.0, 0.0, 0.0, 107.0, 0.0], [68.0, 1.0, 646.0, 0.0, 25.0, 0.0, 305000.0, 2.1, 130.0, 1.0, 0.0, 108.0, 0.0], [62.0, 0.0, 281.0, 1.0, 35.0, 0.0, 221000.0, 1.0, 136.0, 0.0, 0.0, 108.0, 0.0], [50.0, 0.0, 1548.0, 0.0, 30.0, 1.0, 211000.0, 0.8, 138.0, 1.0, 0.0, 108.0, 0.0], [46.0, 1.0, 291.0, 0.0, 35.0, 0.0, 348000.0, 0.9, 140.0, 0.0, 0.0, 109.0, 0.0], [50.0, 0.0, 482.0, 1.0, 30.0, 0.0, 329000.0, 0.9, 132.0, 0.0, 0.0, 109.0, 0.0], [61.0, 1.0, 84.0, 0.0, 40.0, 1.0, 229000.0, 0.9, 141.0, 0.0, 0.0, 110.0, 0.0], [50.0, 0.0, 185.0, 0.0, 30.0, 0.0, 266000.0, 0.7, 141.0, 1.0, 1.0, 112.0, 0.0], [52.0, 0.0, 132.0, 0.0, 30.0, 0.0, 218000.0, 0.7, 136.0, 1.0, 1.0, 112.0, 0.0], [64.0, 0.0, 1610.0, 0.0, 60.0, 0.0, 242000.0, 1.0, 137.0, 1.0, 0.0, 113.0, 0.0], [60.0, 0.0, 2261.0, 0.0, 35.0, 1.0, 228000.0, 0.9, 136.0, 1.0, 0.0, 115.0, 0.0], [62.0, 0.0, 30.0, 1.0, 60.0, 1.0, 244000.0, 0.9, 139.0, 1.0, 0.0, 117.0, 0.0], [50.0, 0.0, 115.0, 0.0, 45.0, 1.0, 184000.0, 0.9, 134.0, 1.0, 1.0, 118.0, 0.0], [50.0, 0.0, 1846.0, 1.0, 35.0, 0.0, 263358.03, 1.18, 137.0, 1.0, 1.0, 119.0, 0.0], [65.0, 1.0, 335.0, 0.0, 35.0, 1.0, 235000.0, 0.8, 136.0, 0.0, 0.0, 120.0, 0.0], [60.0, 1.0, 231.0, 1.0, 25.0, 0.0, 194000.0, 1.7, 140.0, 1.0, 0.0, 120.0, 0.0], [52.0, 1.0, 58.0, 0.0, 35.0, 0.0, 277000.0, 1.4, 136.0, 0.0, 0.0, 120.0, 0.0], [50.0, 0.0, 250.0, 0.0, 25.0, 0.0, 262000.0, 1.0, 136.0, 1.0, 1.0, 120.0, 0.0], [85.0, 1.0, 910.0, 0.0, 50.0, 0.0, 235000.0, 1.3, 134.0, 1.0, 0.0, 121.0, 0.0], [59.0, 1.0, 129.0, 0.0, 45.0, 1.0, 362000.0, 1.1, 139.0, 1.0, 1.0, 121.0, 0.0], [66.0, 1.0, 72.0, 0.0, 40.0, 1.0, 242000.0, 1.2, 134.0, 1.0, 0.0, 121.0, 0.0], [45.0, 1.0, 130.0, 0.0, 35.0, 0.0, 174000.0, 0.8, 139.0, 1.0, 1.0, 121.0, 0.0], [63.0, 1.0, 582.0, 0.0, 40.0, 0.0, 448000.0, 0.9, 137.0, 1.0, 1.0, 123.0, 0.0], [53.0, 0.0, 196.0, 0.0, 60.0, 0.0, 220000.0, 0.7, 133.0, 1.0, 1.0, 134.0, 0.0], [65.0, 0.0, 582.0, 1.0, 40.0, 0.0, 270000.0, 1.0, 138.0, 0.0, 0.0, 140.0, 0.0], [70.0, 0.0, 835.0, 0.0, 35.0, 1.0, 305000.0, 0.8, 133.0, 0.0, 0.0, 145.0, 0.0], [51.0, 1.0, 582.0, 1.0, 35.0, 0.0, 263358.03, 1.5, 136.0, 1.0, 1.0, 145.0, 0.0], [52.0, 0.0, 3966.0, 0.0, 40.0, 0.0, 325000.0, 0.9, 140.0, 1.0, 1.0, 146.0, 0.0], [70.0, 1.0, 171.0, 0.0, 60.0, 1.0, 176000.0, 1.1, 145.0, 1.0, 1.0, 146.0, 0.0], [50.0, 1.0, 115.0, 0.0, 20.0, 0.0, 189000.0, 0.8, 139.0, 1.0, 0.0, 146.0, 0.0], [65.0, 0.0, 198.0, 1.0, 35.0, 1.0, 281000.0, 0.9, 137.0, 1.0, 1.0, 146.0, 0.0], [60.0, 1.0, 95.0, 0.0, 60.0, 0.0, 337000.0, 1.0, 138.0, 1.0, 1.0, 146.0, 0.0], [69.0, 0.0, 1419.0, 0.0, 40.0, 0.0, 105000.0, 1.0, 135.0, 1.0, 1.0, 147.0, 0.0], [49.0, 1.0, 69.0, 0.0, 50.0, 0.0, 132000.0, 1.0, 140.0, 0.0, 0.0, 147.0, 0.0], [63.0, 1.0, 122.0, 1.0, 60.0, 0.0, 267000.0, 1.2, 145.0, 1.0, 0.0, 147.0, 0.0], [55.0, 0.0, 835.0, 0.0, 40.0, 0.0, 279000.0, 0.7, 140.0, 1.0, 1.0, 147.0, 0.0], [40.0, 0.0, 478.0, 1.0, 30.0, 0.0, 303000.0, 0.9, 136.0, 1.0, 0.0, 148.0, 0.0], [60.667, 1.0, 151.0, 1.0, 40.0, 1.0, 201000.0, 1.0, 136.0, 0.0, 0.0, 172.0, 0.0], [40.0, 0.0, 244.0, 0.0, 45.0, 1.0, 275000.0, 0.9, 140.0, 0.0, 0.0, 174.0, 0.0], [80.0, 0.0, 582.0, 1.0, 35.0, 0.0, 350000.0, 2.1, 134.0, 1.0, 0.0, 174.0, 0.0], [64.0, 1.0, 62.0, 0.0, 60.0, 0.0, 309000.0, 1.5, 135.0, 0.0, 0.0, 174.0, 0.0], [50.0, 1.0, 121.0, 1.0, 40.0, 0.0, 260000.0, 0.7, 130.0, 1.0, 0.0, 175.0, 0.0], [73.0, 1.0, 231.0, 1.0, 30.0, 0.0, 160000.0, 1.18, 142.0, 1.0, 1.0, 180.0, 0.0], [45.0, 0.0, 582.0, 1.0, 38.0, 1.0, 263358.03, 1.18, 137.0, 0.0, 0.0, 185.0, 0.0], [65.0, 0.0, 167.0, 0.0, 30.0, 0.0, 259000.0, 0.8, 138.0, 0.0, 0.0, 186.0, 0.0], [50.0, 1.0, 582.0, 1.0, 20.0, 1.0, 279000.0, 1.0, 134.0, 0.0, 0.0, 186.0, 0.0], [60.0, 0.0, 1211.0, 1.0, 35.0, 0.0, 263358.03, 1.8, 113.0, 1.0, 1.0, 186.0, 0.0], [63.0, 1.0, 1767.0, 0.0, 45.0, 0.0, 73000.0, 0.7, 137.0, 1.0, 0.0, 186.0, 0.0], [45.0, 0.0, 308.0, 1.0, 60.0, 1.0, 377000.0, 1.0, 136.0, 1.0, 0.0, 186.0, 0.0], [70.0, 0.0, 97.0, 0.0, 60.0, 1.0, 220000.0, 0.9, 138.0, 1.0, 0.0, 186.0, 0.0], [60.0, 0.0, 59.0, 0.0, 25.0, 1.0, 212000.0, 3.5, 136.0, 1.0, 1.0, 187.0, 0.0], [78.0, 1.0, 64.0, 0.0, 40.0, 0.0, 277000.0, 0.7, 137.0, 1.0, 1.0, 187.0, 0.0], [50.0, 1.0, 167.0, 1.0, 45.0, 0.0, 362000.0, 1.0, 136.0, 0.0, 0.0, 187.0, 0.0], [40.0, 1.0, 101.0, 0.0, 40.0, 0.0, 226000.0, 0.8, 141.0, 0.0, 0.0, 187.0, 0.0], [85.0, 0.0, 212.0, 0.0, 38.0, 0.0, 186000.0, 0.9, 136.0, 1.0, 0.0, 187.0, 0.0], [60.0, 1.0, 2281.0, 1.0, 40.0, 0.0, 283000.0, 1.0, 141.0, 0.0, 0.0, 187.0, 0.0], [49.0, 0.0, 972.0, 1.0, 35.0, 1.0, 268000.0, 0.8, 130.0, 0.0, 0.0, 187.0, 0.0], [70.0, 0.0, 212.0, 1.0, 17.0, 1.0, 389000.0, 1.0, 136.0, 1.0, 1.0, 188.0, 0.0], [50.0, 0.0, 582.0, 0.0, 62.0, 1.0, 147000.0, 0.8, 140.0, 1.0, 1.0, 192.0, 0.0], [78.0, 0.0, 224.0, 0.0, 50.0, 0.0, 481000.0, 1.4, 138.0, 1.0, 1.0, 192.0, 0.0], [65.0, 1.0, 135.0, 0.0, 35.0, 1.0, 290000.0, 0.8, 134.0, 1.0, 0.0, 194.0, 0.0], [73.0, 0.0, 582.0, 0.0, 35.0, 1.0, 203000.0, 1.3, 134.0, 1.0, 0.0, 195.0, 0.0], [70.0, 0.0, 1202.0, 0.0, 50.0, 1.0, 358000.0, 0.9, 141.0, 0.0, 0.0, 196.0, 0.0], [68.0, 1.0, 1021.0, 1.0, 35.0, 0.0, 271000.0, 1.1, 134.0, 1.0, 0.0, 197.0, 0.0], [55.0, 0.0, 582.0, 1.0, 35.0, 1.0, 371000.0, 0.7, 140.0, 0.0, 0.0, 197.0, 0.0], [65.0, 0.0, 118.0, 0.0, 50.0, 0.0, 194000.0, 1.1, 145.0, 1.0, 1.0, 200.0, 0.0], [42.0, 1.0, 86.0, 0.0, 35.0, 0.0, 365000.0, 1.1, 139.0, 1.0, 1.0, 201.0, 0.0], [47.0, 0.0, 582.0, 0.0, 25.0, 0.0, 130000.0, 0.8, 134.0, 1.0, 0.0, 201.0, 0.0], [58.0, 0.0, 582.0, 1.0, 25.0, 0.0, 504000.0, 1.0, 138.0, 1.0, 0.0, 205.0, 0.0], [75.0, 0.0, 675.0, 1.0, 60.0, 0.0, 265000.0, 1.4, 125.0, 0.0, 0.0, 205.0, 0.0], [58.0, 1.0, 57.0, 0.0, 25.0, 0.0, 189000.0, 1.3, 132.0, 1.0, 1.0, 205.0, 0.0], [55.0, 1.0, 2794.0, 0.0, 35.0, 1.0, 141000.0, 1.0, 140.0, 1.0, 0.0, 206.0, 0.0], [65.0, 0.0, 56.0, 0.0, 25.0, 0.0, 237000.0, 5.0, 130.0, 0.0, 0.0, 207.0, 0.0], [72.0, 0.0, 211.0, 0.0, 25.0, 0.0, 274000.0, 1.2, 134.0, 0.0, 0.0, 207.0, 0.0], [70.0, 0.0, 93.0, 0.0, 35.0, 0.0, 185000.0, 1.1, 134.0, 1.0, 1.0, 208.0, 0.0], [40.0, 1.0, 129.0, 0.0, 35.0, 0.0, 255000.0, 0.9, 137.0, 1.0, 0.0, 209.0, 0.0], [53.0, 1.0, 707.0, 0.0, 38.0, 0.0, 330000.0, 1.4, 137.0, 1.0, 1.0, 209.0, 0.0], [53.0, 1.0, 582.0, 0.0, 45.0, 0.0, 305000.0, 1.1, 137.0, 1.0, 1.0, 209.0, 0.0], [77.0, 1.0, 109.0, 0.0, 50.0, 1.0, 406000.0, 1.1, 137.0, 1.0, 0.0, 209.0, 0.0], [75.0, 0.0, 119.0, 0.0, 50.0, 1.0, 248000.0, 1.1, 148.0, 1.0, 0.0, 209.0, 0.0], [70.0, 0.0, 232.0, 0.0, 30.0, 0.0, 173000.0, 1.2, 132.0, 1.0, 0.0, 210.0, 0.0], [65.0, 1.0, 720.0, 1.0, 40.0, 0.0, 257000.0, 1.0, 136.0, 0.0, 0.0, 210.0, 0.0], [55.0, 1.0, 180.0, 0.0, 45.0, 0.0, 263358.03, 1.18, 137.0, 1.0, 1.0, 211.0, 0.0], [70.0, 0.0, 81.0, 1.0, 35.0, 1.0, 533000.0, 1.3, 139.0, 0.0, 0.0, 212.0, 0.0], [65.0, 0.0, 582.0, 1.0, 30.0, 0.0, 249000.0, 1.3, 136.0, 1.0, 1.0, 212.0, 0.0], [40.0, 0.0, 90.0, 0.0, 35.0, 0.0, 255000.0, 1.1, 136.0, 1.0, 1.0, 212.0, 0.0], [73.0, 1.0, 1185.0, 0.0, 40.0, 1.0, 220000.0, 0.9, 141.0, 0.0, 0.0, 213.0, 0.0], [54.0, 0.0, 582.0, 1.0, 38.0, 0.0, 264000.0, 1.8, 134.0, 1.0, 0.0, 213.0, 0.0], [61.0, 1.0, 80.0, 1.0, 38.0, 0.0, 282000.0, 1.4, 137.0, 1.0, 0.0, 213.0, 0.0], [64.0, 0.0, 143.0, 0.0, 25.0, 0.0, 246000.0, 2.4, 135.0, 1.0, 0.0, 214.0, 0.0], [40.0, 0.0, 624.0, 0.0, 35.0, 0.0, 301000.0, 1.0, 142.0, 1.0, 1.0, 214.0, 0.0], [53.0, 0.0, 207.0, 1.0, 40.0, 0.0, 223000.0, 1.2, 130.0, 0.0, 0.0, 214.0, 0.0], [50.0, 0.0, 2522.0, 0.0, 30.0, 1.0, 404000.0, 0.5, 139.0, 0.0, 0.0, 214.0, 0.0], [55.0, 0.0, 572.0, 1.0, 35.0, 0.0, 231000.0, 0.8, 143.0, 0.0, 0.0, 215.0, 0.0], [50.0, 0.0, 245.0, 0.0, 45.0, 1.0, 274000.0, 1.0, 133.0, 1.0, 0.0, 215.0, 0.0], [70.0, 0.0, 88.0, 1.0, 35.0, 1.0, 236000.0, 1.2, 132.0, 0.0, 0.0, 215.0, 0.0], [53.0, 1.0, 446.0, 0.0, 60.0, 1.0, 263358.03, 1.0, 139.0, 1.0, 0.0, 215.0, 0.0], [52.0, 1.0, 191.0, 1.0, 30.0, 1.0, 334000.0, 1.0, 142.0, 1.0, 1.0, 216.0, 0.0], [65.0, 0.0, 326.0, 0.0, 38.0, 0.0, 294000.0, 1.7, 139.0, 0.0, 0.0, 220.0, 0.0], [58.0, 0.0, 132.0, 1.0, 38.0, 1.0, 253000.0, 1.0, 139.0, 1.0, 0.0, 230.0, 0.0], [45.0, 1.0, 66.0, 1.0, 25.0, 0.0, 233000.0, 0.8, 135.0, 1.0, 0.0, 230.0, 0.0], [53.0, 0.0, 56.0, 0.0, 50.0, 0.0, 308000.0, 0.7, 135.0, 1.0, 1.0, 231.0, 0.0], [55.0, 0.0, 66.0, 0.0, 40.0, 0.0, 203000.0, 1.0, 138.0, 1.0, 0.0, 233.0, 0.0], [62.0, 1.0, 655.0, 0.0, 40.0, 0.0, 283000.0, 0.7, 133.0, 0.0, 0.0, 233.0, 0.0], [68.0, 1.0, 157.0, 1.0, 60.0, 0.0, 208000.0, 1.0, 140.0, 0.0, 0.0, 237.0, 0.0], [61.0, 0.0, 582.0, 1.0, 38.0, 0.0, 147000.0, 1.2, 141.0, 1.0, 0.0, 237.0, 0.0], [50.0, 1.0, 298.0, 0.0, 35.0, 0.0, 362000.0, 0.9, 140.0, 1.0, 1.0, 240.0, 0.0], [56.0, 1.0, 135.0, 1.0, 38.0, 0.0, 133000.0, 1.7, 140.0, 1.0, 0.0, 244.0, 0.0], [45.0, 0.0, 582.0, 1.0, 38.0, 0.0, 302000.0, 0.9, 140.0, 0.0, 0.0, 244.0, 0.0], [40.0, 0.0, 582.0, 1.0, 35.0, 0.0, 222000.0, 1.0, 132.0, 1.0, 0.0, 244.0, 0.0], [44.0, 0.0, 582.0, 1.0, 30.0, 1.0, 263358.03, 1.6, 130.0, 1.0, 1.0, 244.0, 0.0], [51.0, 0.0, 582.0, 1.0, 40.0, 0.0, 221000.0, 0.9, 134.0, 0.0, 0.0, 244.0, 0.0], [67.0, 0.0, 213.0, 0.0, 38.0, 0.0, 215000.0, 1.2, 133.0, 0.0, 0.0, 245.0, 0.0], [42.0, 0.0, 64.0, 0.0, 40.0, 0.0, 189000.0, 0.7, 140.0, 1.0, 0.0, 245.0, 0.0], [60.0, 1.0, 257.0, 1.0, 30.0, 0.0, 150000.0, 1.0, 137.0, 1.0, 1.0, 245.0, 0.0], [45.0, 0.0, 582.0, 0.0, 38.0, 1.0, 422000.0, 0.8, 137.0, 0.0, 0.0, 245.0, 0.0], [70.0, 0.0, 618.0, 0.0, 35.0, 0.0, 327000.0, 1.1, 142.0, 0.0, 0.0, 245.0, 0.0], [70.0, 0.0, 582.0, 1.0, 38.0, 0.0, 25100.0, 1.1, 140.0, 1.0, 0.0, 246.0, 0.0], [50.0, 1.0, 1051.0, 1.0, 30.0, 0.0, 232000.0, 0.7, 136.0, 0.0, 0.0, 246.0, 0.0], [55.0, 0.0, 84.0, 1.0, 38.0, 0.0, 451000.0, 1.3, 136.0, 0.0, 0.0, 246.0, 0.0], [70.0, 0.0, 2695.0, 1.0, 40.0, 0.0, 241000.0, 1.0, 137.0, 1.0, 0.0, 247.0, 0.0], [70.0, 0.0, 582.0, 0.0, 40.0, 0.0, 51000.0, 2.7, 136.0, 1.0, 1.0, 250.0, 0.0], [42.0, 0.0, 64.0, 0.0, 30.0, 0.0, 215000.0, 3.8, 128.0, 1.0, 1.0, 250.0, 0.0], [65.0, 0.0, 1688.0, 0.0, 38.0, 0.0, 263358.03, 1.1, 138.0, 1.0, 1.0, 250.0, 0.0], [50.0, 1.0, 54.0, 0.0, 40.0, 0.0, 279000.0, 0.8, 141.0, 1.0, 0.0, 250.0, 0.0], [55.0, 1.0, 170.0, 1.0, 40.0, 0.0, 336000.0, 1.2, 135.0, 1.0, 0.0, 250.0, 0.0], [60.0, 0.0, 253.0, 0.0, 35.0, 0.0, 279000.0, 1.7, 140.0, 1.0, 0.0, 250.0, 0.0], [45.0, 0.0, 582.0, 1.0, 55.0, 0.0, 543000.0, 1.0, 132.0, 0.0, 0.0, 250.0, 0.0], [65.0, 0.0, 892.0, 1.0, 35.0, 0.0, 263358.03, 1.1, 142.0, 0.0, 0.0, 256.0, 0.0], [90.0, 1.0, 337.0, 0.0, 38.0, 0.0, 390000.0, 0.9, 144.0, 0.0, 0.0, 256.0, 0.0], [45.0, 0.0, 615.0, 1.0, 55.0, 0.0, 222000.0, 0.8, 141.0, 0.0, 0.0, 257.0, 0.0], [60.0, 0.0, 320.0, 0.0, 35.0, 0.0, 133000.0, 1.4, 139.0, 1.0, 0.0, 258.0, 0.0], [52.0, 0.0, 190.0, 1.0, 38.0, 0.0, 382000.0, 1.0, 140.0, 1.0, 1.0, 258.0, 0.0], [63.0, 1.0, 103.0, 1.0, 35.0, 0.0, 179000.0, 0.9, 136.0, 1.0, 1.0, 270.0, 0.0], [62.0, 0.0, 61.0, 1.0, 38.0, 1.0, 155000.0, 1.1, 143.0, 1.0, 1.0, 270.0, 0.0], [55.0, 0.0, 1820.0, 0.0, 38.0, 0.0, 270000.0, 1.2, 139.0, 0.0, 0.0, 271.0, 0.0], [45.0, 0.0, 2060.0, 1.0, 60.0, 0.0, 742000.0, 0.8, 138.0, 0.0, 0.0, 278.0, 0.0], [45.0, 0.0, 2413.0, 0.0, 38.0, 0.0, 140000.0, 1.4, 140.0, 1.0, 1.0, 280.0, 0.0], [50.0, 0.0, 196.0, 0.0, 45.0, 0.0, 395000.0, 1.6, 136.0, 1.0, 1.0, 285.0, 0.0]], \"hovertemplate\": \"DEATH_EVENT=%{customdata[12]}<br>sex=%{customdata[9]}<br>age=%{customdata[0]}<br>anaemia=%{customdata[1]}<br>creatinine_phosphokinase=%{customdata[2]}<br>diabetes=%{customdata[3]}<br>ejection_fraction=%{customdata[4]}<br>high_blood_pressure=%{customdata[5]}<br>platelets=%{customdata[6]}<br>serum_creatinine=%{customdata[7]}<br>serum_sodium=%{customdata[8]}<br>smoking=%{customdata[10]}<br>time=%{customdata[11]}<extra></extra>\", \"legendgroup\": \"0\", \"marker\": {\"color\": \"#EF553B\"}, \"name\": \"0\", \"offsetgroup\": \"0\", \"orientation\": \"v\", \"points\": \"all\", \"scalegroup\": \"True\", \"showlegend\": true, \"type\": \"violin\", \"x\": [0, 0, 1, 0, 1, 1, 1, 1, 1, 0, 1, 1, 1, 0, 1, 1, 0, 0, 1, 1, 1, 1, 1, 1, 1, 1, 1, 0, 0, 1, 1, 0, 0, 0, 1, 1, 1, 1, 0, 1, 1, 1, 1, 1, 1, 1, 0, 0, 0, 0, 1, 0, 0, 0, 0, 0, 1, 1, 1, 1, 0, 1, 1, 1, 0, 1, 0, 1, 0, 0, 0, 1, 1, 1, 1, 1, 1, 1, 0, 1, 0, 1, 1, 1, 1, 1, 1, 1, 0, 0, 1, 1, 1, 1, 1, 1, 1, 0, 1, 1, 1, 0, 0, 1, 0, 1, 1, 0, 0, 0, 1, 1, 1, 1, 1, 1, 0, 0, 1, 0, 0, 1, 1, 1, 1, 1, 0, 1, 0, 1, 1, 1, 1, 0, 1, 1, 0, 0, 1, 1, 1, 1, 1, 1, 1, 0, 1, 0, 1, 1, 0, 1, 1, 1, 1, 0, 0, 0, 1, 0, 1, 1, 0, 1, 1, 1, 1, 0, 0, 1, 1, 1, 0, 1, 1, 0, 0, 1, 1, 0, 0, 1, 0, 0, 1, 1, 1, 1, 1, 1, 1, 0, 0, 0, 0, 1, 1, 1, 1, 0, 0, 1, 1], \"x0\": \" \", \"xaxis\": \"x\", \"y\": [49.0, 65.0, 53.0, 50.0, 60.0, 72.0, 70.0, 60.0, 55.0, 45.0, 41.0, 58.0, 65.0, 70.0, 42.0, 75.0, 55.0, 70.0, 67.0, 79.0, 51.0, 55.0, 65.0, 44.0, 57.0, 70.0, 60.0, 42.0, 58.0, 58.0, 63.0, 70.0, 60.0, 63.0, 65.0, 75.0, 80.0, 42.0, 60.0, 55.0, 45.0, 63.0, 45.0, 55.0, 50.0, 60.0, 58.0, 60.0, 85.0, 65.0, 60.0, 66.0, 60.0, 60.0, 43.0, 58.0, 61.0, 53.0, 53.0, 60.0, 46.0, 63.0, 81.0, 75.0, 65.0, 68.0, 62.0, 50.0, 46.0, 50.0, 61.0, 50.0, 52.0, 64.0, 60.0, 62.0, 50.0, 50.0, 65.0, 60.0, 52.0, 50.0, 85.0, 59.0, 66.0, 45.0, 63.0, 53.0, 65.0, 70.0, 51.0, 52.0, 70.0, 50.0, 65.0, 60.0, 69.0, 49.0, 63.0, 55.0, 40.0, 60.667, 40.0, 80.0, 64.0, 50.0, 73.0, 45.0, 65.0, 50.0, 60.0, 63.0, 45.0, 70.0, 60.0, 78.0, 50.0, 40.0, 85.0, 60.0, 49.0, 70.0, 50.0, 78.0, 65.0, 73.0, 70.0, 68.0, 55.0, 65.0, 42.0, 47.0, 58.0, 75.0, 58.0, 55.0, 65.0, 72.0, 70.0, 40.0, 53.0, 53.0, 77.0, 75.0, 70.0, 65.0, 55.0, 70.0, 65.0, 40.0, 73.0, 54.0, 61.0, 64.0, 40.0, 53.0, 50.0, 55.0, 50.0, 70.0, 53.0, 52.0, 65.0, 58.0, 45.0, 53.0, 55.0, 62.0, 68.0, 61.0, 50.0, 56.0, 45.0, 40.0, 44.0, 51.0, 67.0, 42.0, 60.0, 45.0, 70.0, 70.0, 50.0, 55.0, 70.0, 70.0, 42.0, 65.0, 50.0, 55.0, 60.0, 45.0, 65.0, 90.0, 45.0, 60.0, 52.0, 63.0, 62.0, 55.0, 45.0, 45.0, 50.0], \"y0\": \" \", \"yaxis\": \"y\"}],\n                        {\"height\": 500, \"legend\": {\"title\": {\"text\": \"DEATH_EVENT\"}, \"tracegroupgap\": 0}, \"margin\": {\"t\": 60}, \"template\": {\"data\": {\"bar\": [{\"error_x\": {\"color\": \"#2a3f5f\"}, \"error_y\": {\"color\": \"#2a3f5f\"}, \"marker\": {\"line\": {\"color\": \"#E5ECF6\", \"width\": 0.5}}, \"type\": \"bar\"}], \"barpolar\": [{\"marker\": {\"line\": {\"color\": \"#E5ECF6\", \"width\": 0.5}}, \"type\": \"barpolar\"}], \"carpet\": [{\"aaxis\": {\"endlinecolor\": \"#2a3f5f\", \"gridcolor\": \"white\", \"linecolor\": \"white\", \"minorgridcolor\": \"white\", \"startlinecolor\": \"#2a3f5f\"}, \"baxis\": {\"endlinecolor\": \"#2a3f5f\", \"gridcolor\": \"white\", \"linecolor\": \"white\", \"minorgridcolor\": \"white\", \"startlinecolor\": \"#2a3f5f\"}, \"type\": \"carpet\"}], \"choropleth\": [{\"colorbar\": {\"outlinewidth\": 0, \"ticks\": \"\"}, \"type\": \"choropleth\"}], \"contour\": [{\"colorbar\": {\"outlinewidth\": 0, \"ticks\": \"\"}, \"colorscale\": [[0.0, \"#0d0887\"], [0.1111111111111111, \"#46039f\"], [0.2222222222222222, \"#7201a8\"], [0.3333333333333333, \"#9c179e\"], [0.4444444444444444, \"#bd3786\"], [0.5555555555555556, \"#d8576b\"], [0.6666666666666666, \"#ed7953\"], [0.7777777777777778, \"#fb9f3a\"], [0.8888888888888888, \"#fdca26\"], [1.0, \"#f0f921\"]], \"type\": \"contour\"}], \"contourcarpet\": [{\"colorbar\": {\"outlinewidth\": 0, \"ticks\": \"\"}, \"type\": \"contourcarpet\"}], \"heatmap\": [{\"colorbar\": {\"outlinewidth\": 0, \"ticks\": \"\"}, \"colorscale\": [[0.0, \"#0d0887\"], [0.1111111111111111, \"#46039f\"], [0.2222222222222222, \"#7201a8\"], [0.3333333333333333, \"#9c179e\"], [0.4444444444444444, \"#bd3786\"], [0.5555555555555556, \"#d8576b\"], [0.6666666666666666, \"#ed7953\"], [0.7777777777777778, \"#fb9f3a\"], [0.8888888888888888, \"#fdca26\"], [1.0, \"#f0f921\"]], \"type\": \"heatmap\"}], \"heatmapgl\": [{\"colorbar\": {\"outlinewidth\": 0, \"ticks\": \"\"}, \"colorscale\": [[0.0, \"#0d0887\"], [0.1111111111111111, \"#46039f\"], [0.2222222222222222, \"#7201a8\"], [0.3333333333333333, \"#9c179e\"], [0.4444444444444444, \"#bd3786\"], [0.5555555555555556, \"#d8576b\"], [0.6666666666666666, \"#ed7953\"], [0.7777777777777778, \"#fb9f3a\"], [0.8888888888888888, \"#fdca26\"], [1.0, \"#f0f921\"]], \"type\": \"heatmapgl\"}], \"histogram\": [{\"marker\": {\"colorbar\": {\"outlinewidth\": 0, \"ticks\": \"\"}}, \"type\": \"histogram\"}], \"histogram2d\": [{\"colorbar\": {\"outlinewidth\": 0, \"ticks\": \"\"}, \"colorscale\": [[0.0, \"#0d0887\"], [0.1111111111111111, \"#46039f\"], [0.2222222222222222, \"#7201a8\"], [0.3333333333333333, \"#9c179e\"], [0.4444444444444444, \"#bd3786\"], [0.5555555555555556, \"#d8576b\"], [0.6666666666666666, \"#ed7953\"], [0.7777777777777778, \"#fb9f3a\"], [0.8888888888888888, \"#fdca26\"], [1.0, \"#f0f921\"]], \"type\": \"histogram2d\"}], \"histogram2dcontour\": [{\"colorbar\": {\"outlinewidth\": 0, \"ticks\": \"\"}, \"colorscale\": [[0.0, \"#0d0887\"], [0.1111111111111111, \"#46039f\"], [0.2222222222222222, \"#7201a8\"], [0.3333333333333333, \"#9c179e\"], [0.4444444444444444, \"#bd3786\"], [0.5555555555555556, \"#d8576b\"], [0.6666666666666666, \"#ed7953\"], [0.7777777777777778, \"#fb9f3a\"], [0.8888888888888888, \"#fdca26\"], [1.0, \"#f0f921\"]], \"type\": \"histogram2dcontour\"}], \"mesh3d\": [{\"colorbar\": {\"outlinewidth\": 0, \"ticks\": \"\"}, \"type\": \"mesh3d\"}], \"parcoords\": [{\"line\": {\"colorbar\": {\"outlinewidth\": 0, \"ticks\": \"\"}}, \"type\": \"parcoords\"}], \"pie\": [{\"automargin\": true, \"type\": \"pie\"}], \"scatter\": [{\"marker\": {\"colorbar\": {\"outlinewidth\": 0, \"ticks\": \"\"}}, \"type\": \"scatter\"}], \"scatter3d\": [{\"line\": {\"colorbar\": {\"outlinewidth\": 0, \"ticks\": \"\"}}, \"marker\": {\"colorbar\": {\"outlinewidth\": 0, \"ticks\": \"\"}}, \"type\": \"scatter3d\"}], \"scattercarpet\": [{\"marker\": {\"colorbar\": {\"outlinewidth\": 0, \"ticks\": \"\"}}, \"type\": \"scattercarpet\"}], \"scattergeo\": [{\"marker\": {\"colorbar\": {\"outlinewidth\": 0, \"ticks\": \"\"}}, \"type\": \"scattergeo\"}], \"scattergl\": [{\"marker\": {\"colorbar\": {\"outlinewidth\": 0, \"ticks\": \"\"}}, \"type\": \"scattergl\"}], \"scattermapbox\": [{\"marker\": {\"colorbar\": {\"outlinewidth\": 0, \"ticks\": \"\"}}, \"type\": \"scattermapbox\"}], \"scatterpolar\": [{\"marker\": {\"colorbar\": {\"outlinewidth\": 0, \"ticks\": \"\"}}, \"type\": \"scatterpolar\"}], \"scatterpolargl\": [{\"marker\": {\"colorbar\": {\"outlinewidth\": 0, \"ticks\": \"\"}}, \"type\": \"scatterpolargl\"}], \"scatterternary\": [{\"marker\": {\"colorbar\": {\"outlinewidth\": 0, \"ticks\": \"\"}}, \"type\": \"scatterternary\"}], \"surface\": [{\"colorbar\": {\"outlinewidth\": 0, \"ticks\": \"\"}, \"colorscale\": [[0.0, \"#0d0887\"], [0.1111111111111111, \"#46039f\"], [0.2222222222222222, \"#7201a8\"], [0.3333333333333333, \"#9c179e\"], [0.4444444444444444, \"#bd3786\"], [0.5555555555555556, \"#d8576b\"], [0.6666666666666666, \"#ed7953\"], [0.7777777777777778, \"#fb9f3a\"], [0.8888888888888888, \"#fdca26\"], [1.0, \"#f0f921\"]], \"type\": \"surface\"}], \"table\": [{\"cells\": {\"fill\": {\"color\": \"#EBF0F8\"}, \"line\": {\"color\": \"white\"}}, \"header\": {\"fill\": {\"color\": \"#C8D4E3\"}, \"line\": {\"color\": \"white\"}}, \"type\": \"table\"}]}, \"layout\": {\"annotationdefaults\": {\"arrowcolor\": \"#2a3f5f\", \"arrowhead\": 0, \"arrowwidth\": 1}, \"coloraxis\": {\"colorbar\": {\"outlinewidth\": 0, \"ticks\": \"\"}}, \"colorscale\": {\"diverging\": [[0, \"#8e0152\"], [0.1, \"#c51b7d\"], [0.2, \"#de77ae\"], [0.3, \"#f1b6da\"], [0.4, \"#fde0ef\"], [0.5, \"#f7f7f7\"], [0.6, \"#e6f5d0\"], [0.7, \"#b8e186\"], [0.8, \"#7fbc41\"], [0.9, \"#4d9221\"], [1, \"#276419\"]], \"sequential\": [[0.0, \"#0d0887\"], [0.1111111111111111, \"#46039f\"], [0.2222222222222222, \"#7201a8\"], [0.3333333333333333, \"#9c179e\"], [0.4444444444444444, \"#bd3786\"], [0.5555555555555556, \"#d8576b\"], [0.6666666666666666, \"#ed7953\"], [0.7777777777777778, \"#fb9f3a\"], [0.8888888888888888, \"#fdca26\"], [1.0, \"#f0f921\"]], \"sequentialminus\": [[0.0, \"#0d0887\"], [0.1111111111111111, \"#46039f\"], [0.2222222222222222, \"#7201a8\"], [0.3333333333333333, \"#9c179e\"], [0.4444444444444444, \"#bd3786\"], [0.5555555555555556, \"#d8576b\"], [0.6666666666666666, \"#ed7953\"], [0.7777777777777778, \"#fb9f3a\"], [0.8888888888888888, \"#fdca26\"], [1.0, \"#f0f921\"]]}, \"colorway\": [\"#636efa\", \"#EF553B\", \"#00cc96\", \"#ab63fa\", \"#FFA15A\", \"#19d3f3\", \"#FF6692\", \"#B6E880\", \"#FF97FF\", \"#FECB52\"], \"font\": {\"color\": \"#2a3f5f\"}, \"geo\": {\"bgcolor\": \"white\", \"lakecolor\": \"white\", \"landcolor\": \"#E5ECF6\", \"showlakes\": true, \"showland\": true, \"subunitcolor\": \"white\"}, \"hoverlabel\": {\"align\": \"left\"}, \"hovermode\": \"closest\", \"mapbox\": {\"style\": \"light\"}, \"paper_bgcolor\": \"white\", \"plot_bgcolor\": \"#E5ECF6\", \"polar\": {\"angularaxis\": {\"gridcolor\": \"white\", \"linecolor\": \"white\", \"ticks\": \"\"}, \"bgcolor\": \"#E5ECF6\", \"radialaxis\": {\"gridcolor\": \"white\", \"linecolor\": \"white\", \"ticks\": \"\"}}, \"scene\": {\"xaxis\": {\"backgroundcolor\": \"#E5ECF6\", \"gridcolor\": \"white\", \"gridwidth\": 2, \"linecolor\": \"white\", \"showbackground\": true, \"ticks\": \"\", \"zerolinecolor\": \"white\"}, \"yaxis\": {\"backgroundcolor\": \"#E5ECF6\", \"gridcolor\": \"white\", \"gridwidth\": 2, \"linecolor\": \"white\", \"showbackground\": true, \"ticks\": \"\", \"zerolinecolor\": \"white\"}, \"zaxis\": {\"backgroundcolor\": \"#E5ECF6\", \"gridcolor\": \"white\", \"gridwidth\": 2, \"linecolor\": \"white\", \"showbackground\": true, \"ticks\": \"\", \"zerolinecolor\": \"white\"}}, \"shapedefaults\": {\"line\": {\"color\": \"#2a3f5f\"}}, \"ternary\": {\"aaxis\": {\"gridcolor\": \"white\", \"linecolor\": \"white\", \"ticks\": \"\"}, \"baxis\": {\"gridcolor\": \"white\", \"linecolor\": \"white\", \"ticks\": \"\"}, \"bgcolor\": \"#E5ECF6\", \"caxis\": {\"gridcolor\": \"white\", \"linecolor\": \"white\", \"ticks\": \"\"}}, \"title\": {\"x\": 0.05}, \"xaxis\": {\"automargin\": true, \"gridcolor\": \"white\", \"linecolor\": \"white\", \"ticks\": \"\", \"title\": {\"standoff\": 15}, \"zerolinecolor\": \"white\", \"zerolinewidth\": 2}, \"yaxis\": {\"automargin\": true, \"gridcolor\": \"white\", \"linecolor\": \"white\", \"ticks\": \"\", \"title\": {\"standoff\": 15}, \"zerolinecolor\": \"white\", \"zerolinewidth\": 2}}}, \"title\": {\"text\": \"Figure 5: Analysis of both gender and age factors in survival rates\"}, \"violinmode\": \"group\", \"width\": 700, \"xaxis\": {\"anchor\": \"y\", \"domain\": [0.0, 1.0], \"title\": {\"text\": \"sex\"}}, \"yaxis\": {\"anchor\": \"x\", \"domain\": [0.0, 1.0], \"title\": {\"text\": \"age\"}}},\n                        {\"responsive\": true}\n                    ).then(function(){\n                            \nvar gd = document.getElementById('c942f851-33e9-40aa-8f75-ae30dc0d2bd7');\nvar x = new MutationObserver(function (mutations, observer) {{\n        var display = window.getComputedStyle(gd).display;\n        if (!display || display === 'none') {{\n            console.log([gd, 'removed!']);\n            Plotly.purge(gd);\n            observer.disconnect();\n        }}\n}});\n\n// Listen for the removal of the full notebook cells\nvar notebookContainer = gd.closest('#notebook-container');\nif (notebookContainer) {{\n    x.observe(notebookContainer, {childList: true});\n}}\n\n// Listen for the clearing of the current output cell\nvar outputEl = gd.closest('.output');\nif (outputEl) {{\n    x.observe(outputEl, {childList: true});\n}}\n\n                        })\n                };\n                });\n            </script>\n        </div>"
     },
     "metadata": {},
     "output_type": "display_data"
    }
   ],
   "source": [
    "violin_boxplot(heart_data,x = \"sex\",y=\"age\",color=\"DEATH_EVENT\",points=\"all\",box=True,hover_data=heart_data.columns)"
   ]
  },
  {
   "cell_type": "markdown",
   "metadata": {},
   "source": [
    "### Compare the efficacy of different preprocessing"
   ]
  },
  {
   "cell_type": "markdown",
   "metadata": {},
   "source": [
    "- MinMaxScalar\n",
    "- StandardScalar\n",
    "- RobustScalar"
   ]
  },
  {
   "cell_type": "code",
   "execution_count": 92,
   "metadata": {
    "pycharm": {
     "name": "#%%\n"
    }
   },
   "outputs": [
    {
     "name": "stdout",
     "output_type": "stream",
     "text": [
      "Test score for MinMaxScalar RBF kernel: 0.850\n",
      "Test score for MinMaxScalar linear kernel: 0.767\n",
      "\n",
      "Test score for StandardScalar in RBF kernel: 0.850\n",
      "Test score for StandardScalar in linear kernel: 0.833\n",
      "\n",
      "Test score for RobustScalar in RBF kernel: 0.800\n",
      "Test score for RobustScalar in linear kernel: 0.817\n"
     ]
    }
   ],
   "source": [
    "from sklearn.pipeline import Pipeline\n",
    "from sklearn.preprocessing import MinMaxScaler, StandardScaler, RobustScaler\n",
    "\n",
    "heart_data = pd.read_csv(\"/home/yuxuan/kaggle/heart_failure_clinical_records_dataset.csv\")\n",
    "\n",
    "X = heart_data.iloc[:, 0:11]\n",
    "y = heart_data['DEATH_EVENT']\n",
    "\n",
    "selected_feature = ['serum_creatinine','age', 'ejection_fraction','creatinine_phosphokinase']\n",
    "X_processed = X[selected_feature]\n",
    "X_train, X_test, y_train, y_test = train_test_split(X_processed, y, test_size=0.2, shuffle=True, random_state=1)\n",
    "\n",
    "# MinMaxScalar\n",
    "pipe1 = Pipeline([(\"scalar\",MinMaxScaler()),(\"svm\",SVC(random_state=1))])\n",
    "pipe1.fit(X_train,y_train)\n",
    "print(\"Test score for MinMaxScalar RBF kernel: {:.3f}\".format(pipe1.score(X_test,y_test)))\n",
    "\n",
    "pipe1_linear = Pipeline([(\"scalar\",MinMaxScaler()),(\"svm\",SVC(kernel=\"linear\",random_state=1))])\n",
    "pipe1_linear.fit(X_train,y_train)\n",
    "print(\"Test score for MinMaxScalar linear kernel: {:.3f}\\n\".format(pipe1_linear.score(X_test,y_test)))\n",
    "\n",
    "\n",
    "# StandardScalar\n",
    "\n",
    "pipe2 = Pipeline([(\"scalar\",StandardScaler()),(\"svm\",SVC(random_state=1))])\n",
    "pipe2.fit(X_train,y_train)\n",
    "print(\"Test score for StandardScalar in RBF kernel: {:.3f}\".format(pipe2.score(X_test,y_test)))\n",
    "\n",
    "pipe2_linear = Pipeline([(\"scalar\",StandardScaler()),(\"svm\",SVC(kernel=\"linear\" ,random_state=1))])\n",
    "pipe2_linear.fit(X_train,y_train)\n",
    "print(\"Test score for StandardScalar in linear kernel: {:.3f}\\n\".format(pipe2_linear.score(X_test,y_test)))\n",
    "\n",
    "# RobustScalar\n",
    "\n",
    "pipe3 = Pipeline([(\"scalar\",RobustScaler()),(\"svm\",SVC(random_state=1))])\n",
    "pipe3.fit(X_train,y_train)\n",
    "print(\"Test score for RobustScalar in RBF kernel: {:.3f}\".format(pipe3.score(X_test,y_test)))\n",
    "\n",
    "pipe3_linear = Pipeline([(\"scalar\",RobustScaler()),(\"svm\",SVC(kernel = \"linear\",random_state=1))])\n",
    "pipe3_linear.fit(X_train,y_train)\n",
    "print(\"Test score for RobustScalar in linear kernel: {:.3f}\".format(pipe3_linear.score(X_test,y_test)))"
   ]
  },
  {
   "cell_type": "markdown",
   "metadata": {
    "pycharm": {
     "name": "#%% md\n"
    }
   },
   "source": [
    "- There is no significant difference on different preprocessing method in RBF kernels, especiaaly in MinMaxScalar and StandardScalar.\n",
    "- Overall RBF kernel outperforms than linear kernel.\n",
    "- In this case, I would insist on using StandardScalar in following procedure.\n",
    "\n",
    "\n",
    "### k-fold cross validation and leave-one-out method in model evaluation\n",
    "\n",
    "Owing to the fact that the dataset I used is a small one, only containing 299 samples in total. In order to minimize the bias or error leading by accident, I used k-fold cross validation and leave-one-out method to return a more general evaluation (calculating the mean value)"
   ]
  },
  {
   "cell_type": "markdown",
   "metadata": {
    "pycharm": {
     "name": "#%% md\n"
    }
   },
   "source": [
    "#### Ten-fold cross validation of SVM"
   ]
  },
  {
   "cell_type": "code",
   "execution_count": 93,
   "metadata": {
    "pycharm": {
     "name": "#%%\n"
    }
   },
   "outputs": [
    {
     "name": "stdout",
     "output_type": "stream",
     "text": [
      "Ten-fold cross validation scores of linear SVM:0.756 \n",
      "Ten-fold cross validation scores of RBF kernel SVM:0.763\n"
     ]
    }
   ],
   "source": [
    "heart_data = df.copy()\n",
    "X = heart_data.iloc[:, 0:11]\n",
    "y = heart_data['DEATH_EVENT']\n",
    "\n",
    "selected_feature = ['serum_creatinine','age', 'ejection_fraction','creatinine_phosphokinase']\n",
    "X_processed = X[selected_feature]\n",
    "X_processed = StandardScaler().fit_transform(X_processed)\n",
    "\n",
    "from sklearn.model_selection import cross_val_score\n",
    "sv_clf = SVC(kernel= 'linear',random_state=1)\n",
    "sv_clf_rbf = SVC(kernel='rbf',random_state=1)\n",
    "scores = cross_val_score(sv_clf, X_processed,y,cv=10)\n",
    "scores_rbf = cross_val_score(sv_clf_rbf, X_processed,y,cv=10)\n",
    "\n",
    "print(\"Ten-fold cross validation scores of linear SVM:{:.3f} \".format(np.mean(scores)))\n",
    "print(\"Ten-fold cross validation scores of RBF kernel SVM:{:.3f}\".format(np.mean(scores_rbf)))\n"
   ]
  },
  {
   "cell_type": "markdown",
   "metadata": {
    "pycharm": {
     "name": "#%% md\n"
    }
   },
   "source": [
    "#### Leave-on-out method of SVM"
   ]
  },
  {
   "cell_type": "code",
   "execution_count": 94,
   "metadata": {
    "pycharm": {
     "name": "#%%\n"
    }
   },
   "outputs": [
    {
     "name": "stdout",
     "output_type": "stream",
     "text": [
      "Number of CV iterations: 299\n",
      "Leave one out method mean scores for linear SVM:0.763\n",
      "Leave one out method mean scores for RBF SVM:0.756\n"
     ]
    }
   ],
   "source": [
    "from sklearn.model_selection import LeaveOneOut\n",
    "loo = LeaveOneOut()\n",
    "scores_loo = cross_val_score(sv_clf,X_processed,y,cv=loo)\n",
    "scores_loo_rbf = cross_val_score(sv_clf_rbf,X_processed,y,cv=loo)\n",
    "print(\"Number of CV iterations: {}\".format(len(scores_loo)))\n",
    "print(\"Leave one out method mean scores for linear SVM:{:.3f}\".format(scores_loo.mean()))\n",
    "print(\"Leave one out method mean scores for RBF SVM:{:.3f}\".format(scores_loo_rbf.mean()))"
   ]
  },
  {
   "cell_type": "markdown",
   "metadata": {
    "pycharm": {
     "name": "#%% md\n"
    }
   },
   "source": [
    "#### Two methods comparison"
   ]
  },
  {
   "cell_type": "code",
   "execution_count": 95,
   "metadata": {
    "pycharm": {
     "name": "#%%\n"
    }
   },
   "outputs": [
    {
     "name": "stdout",
     "output_type": "stream",
     "text": [
      "Ten-fold cross validation scores of linear SVM:0.756 \n",
      "Ten-fold cross validation scores of RBF kernel SVM:0.763\n",
      "Leave one out method mean scores for linear SVM:0.763\n",
      "Leave one out method mean scores for RBF SVM:0.756\n"
     ]
    }
   ],
   "source": [
    "print(\"Ten-fold cross validation scores of linear SVM:{:.3f} \".format(np.mean(scores)))\n",
    "print(\"Ten-fold cross validation scores of RBF kernel SVM:{:.3f}\".format(np.mean(scores_rbf)))\n",
    "print(\"Leave one out method mean scores for linear SVM:{:.3f}\".format(scores_loo.mean()))\n",
    "print(\"Leave one out method mean scores for RBF SVM:{:.3f}\".format(scores_loo_rbf.mean()))"
   ]
  },
  {
   "cell_type": "markdown",
   "metadata": {
    "pycharm": {
     "name": "#%% md\n"
    }
   },
   "source": [
    "The results of either ten-fold cross validation and leave-one-out method results are quite similar, based on the consideration of time elapse, I would use ten-fold cross-validation for the following analysis"
   ]
  },
  {
   "cell_type": "markdown",
   "metadata": {
    "pycharm": {
     "name": "#%% md\n"
    }
   },
   "source": [
    "## Methods\n",
    "\n",
    "### PCA analysis of feature-selected dataset"
   ]
  },
  {
   "cell_type": "code",
   "execution_count": 96,
   "metadata": {
    "pycharm": {
     "name": "#%%\n"
    }
   },
   "outputs": [
    {
     "data": {
      "text/plain": "<matplotlib.legend.Legend at 0x7f838a215fd0>"
     },
     "execution_count": 96,
     "metadata": {},
     "output_type": "execute_result"
    },
    {
     "data": {
      "image/png": "[encoded data removed]",
      "text/plain": "<Figure size 576x576 with 1 Axes>"
     },
     "metadata": {
      "needs_background": "light"
     },
     "output_type": "display_data"
    }
   ],
   "source": [
    "from sklearn.decomposition import PCA\n",
    "pca = PCA(n_components=2)\n",
    "pca.fit(X_processed)\n",
    "X_pca = pca.transform(X_processed)\n",
    "\n",
    "plt.figure(figsize=(8,8))\n",
    "plt.scatter(X_pca[y==0,0],X_pca[y==0,1],label=\"Alive\",c=\"red\")\n",
    "plt.scatter(X_pca[y==1,0],X_pca[y==1,1],label=\"Death\",c=\"black\")\n",
    "plt.legend([\"Alive\",\"Death\"])"
   ]
  },
  {
   "cell_type": "markdown",
   "metadata": {
    "pycharm": {
     "name": "#%% md\n"
    }
   },
   "source": [
    "In this case, the data distribution after feature selection are scattered, which could be beneficial for separation. Still, we could not determine whether linear kernel or RBF kernel is suitable for classification"
   ]
  },
  {
   "cell_type": "markdown",
   "metadata": {},
   "source": [
    "### Grid search for SVM algorithm with ten-fold cross validation method"
   ]
  },
  {
   "cell_type": "code",
   "execution_count": 97,
   "metadata": {
    "pycharm": {
     "name": "#%%\n"
    }
   },
   "outputs": [
    {
     "name": "stdout",
     "output_type": "stream",
     "text": [
      "Best cross validation accuracy: 0.75\n",
      "Test set score: 0.87\n",
      "Best parameters: {'gamma': 0.1, 'kernel': 'rbf', 'C': 1}\n"
     ]
    }
   ],
   "source": [
    "from sklearn.model_selection import GridSearchCV\n",
    "param_grid = [{'kernel': ['rbf'],\n",
    "               'C': [0.01,0.1,1,10,100],\n",
    "               'gamma':[0.01,0.1,1,10,100]},\n",
    "                {'kernel':['linear'],\n",
    "               'C': [0.01,0.1,1,10,100]\n",
    "                }]\n",
    "# print(param_grid)\n",
    "X_train, X_test, y_train, y_test = train_test_split(X_processed, y, test_size=0.2, shuffle=True, random_state=1)\n",
    "\n",
    "grid_search = GridSearchCV(SVC(random_state=1),param_grid,cv =10, n_jobs=-1)\n",
    "grid_search.fit(X_train,y_train)\n",
    "print(\"Best cross validation accuracy: {:.2f}\".format(grid_search.best_score_))\n",
    "print(\"Test set score: {:.2f}\".format(grid_search.score(X_test,y_test)))\n",
    "print(\"Best parameters: {}\".format(grid_search.best_params_))\n"
   ]
  },
  {
   "cell_type": "code",
   "execution_count": 98,
   "metadata": {
    "pycharm": {
     "name": "#%%\n"
    }
   },
   "outputs": [],
   "source": [
    "results = pd.DataFrame(grid_search.cv_results_)\n",
    "results_rbf = results.iloc[0:25,:]\n",
    "results_linear = results.iloc[25:,:]\n",
    "# display(results_linear.T.head())\n",
    "# display(results_rbf.T.head())\n",
    "# display(results.T.head())\n",
    "# display(results.T)\n"
   ]
  },
  {
   "cell_type": "code",
   "execution_count": 99,
   "metadata": {
    "pycharm": {
     "name": "#%%\n"
    }
   },
   "outputs": [
    {
     "data": {
      "text/plain": "Text(0.5, 87.0, 'gamma')"
     },
     "execution_count": 99,
     "metadata": {},
     "output_type": "execute_result"
    },
    {
     "data": {
      "image/png": "[encoded data removed]",
      "text/plain": "<Figure size 864x864 with 2 Axes>"
     },
     "metadata": {
      "needs_background": "light"
     },
     "output_type": "display_data"
    }
   ],
   "source": [
    "plt.figure(figsize=(12,12))\n",
    "scores = np.array(results_rbf.mean_test_score).reshape(5,5)\n",
    "\n",
    "heatmap = sn.heatmap(data=scores,xticklabels=param_grid[0]['gamma'],\n",
    "           yticklabels=param_grid[0]['C'],\n",
    "           annot=True)\n",
    "plt.ylabel('C')\n",
    "plt.xlabel(\"gamma\")"
   ]
  },
  {
   "cell_type": "code",
   "execution_count": 100,
   "outputs": [
    {
     "name": "stdout",
     "output_type": "stream",
     "text": [
      "10-fold cross validation mean method scores for RBF SVM:0.763\n"
     ]
    }
   ],
   "source": [
    "sv_clf_rbf = SVC(kernel='rbf',random_state=1,C=1, gamma = 0.1)\n",
    "scores_loo_rbf = cross_val_score(sv_clf_rbf,X_processed,y,cv=10)\n",
    "# print(\"Number of CV iterations: {}\".format(len(scores_loo)))\n",
    "print(\"10-fold cross validation mean method scores for RBF SVM:{:.3f}\".format(scores_loo_rbf.mean()))"
   ],
   "metadata": {
    "collapsed": false,
    "pycharm": {
     "name": "#%%\n"
    }
   }
  },
  {
   "cell_type": "markdown",
   "source": [
    "As can be seen from the grid search, the SVM with RBF kernel and hyperparameter C: 1, gamma 0.1 could achieve the highest performance"
   ],
   "metadata": {
    "collapsed": false
   }
  },
  {
   "cell_type": "code",
   "execution_count": 101,
   "outputs": [
    {
     "data": {
      "text/html": "<div>\n<style scoped>\n    .dataframe tbody tr th:only-of-type {\n        vertical-align: middle;\n    }\n\n    .dataframe tbody tr th {\n        vertical-align: top;\n    }\n\n    .dataframe thead th {\n        text-align: right;\n    }\n</style>\n<table border=\"1\" class=\"dataframe\">\n  <thead>\n    <tr style=\"text-align: right;\">\n      <th></th>\n      <th>25</th>\n      <th>26</th>\n      <th>27</th>\n      <th>28</th>\n      <th>29</th>\n    </tr>\n  </thead>\n  <tbody>\n    <tr>\n      <th>mean_fit_time</th>\n      <td>0.00215318</td>\n      <td>0.00258291</td>\n      <td>0.00290139</td>\n      <td>0.00769057</td>\n      <td>0.0317145</td>\n    </tr>\n    <tr>\n      <th>mean_score_time</th>\n      <td>0.000871849</td>\n      <td>0.000896525</td>\n      <td>0.000835323</td>\n      <td>0.000935173</td>\n      <td>0.00067966</td>\n    </tr>\n    <tr>\n      <th>mean_test_score</th>\n      <td>0.673551</td>\n      <td>0.731703</td>\n      <td>0.73587</td>\n      <td>0.73587</td>\n      <td>0.73587</td>\n    </tr>\n    <tr>\n      <th>param_C</th>\n      <td>0.01</td>\n      <td>0.1</td>\n      <td>1</td>\n      <td>10</td>\n      <td>100</td>\n    </tr>\n    <tr>\n      <th>param_gamma</th>\n      <td>NaN</td>\n      <td>NaN</td>\n      <td>NaN</td>\n      <td>NaN</td>\n      <td>NaN</td>\n    </tr>\n  </tbody>\n</table>\n</div>",
      "text/plain": "                          25           26           27           28  \\\nmean_fit_time     0.00215318   0.00258291   0.00290139   0.00769057   \nmean_score_time  0.000871849  0.000896525  0.000835323  0.000935173   \nmean_test_score     0.673551     0.731703      0.73587      0.73587   \nparam_C                 0.01          0.1            1           10   \nparam_gamma              NaN          NaN          NaN          NaN   \n\n                         29  \nmean_fit_time     0.0317145  \nmean_score_time  0.00067966  \nmean_test_score     0.73587  \nparam_C                 100  \nparam_gamma             NaN  "
     },
     "metadata": {},
     "output_type": "display_data"
    },
    {
     "name": "stdout",
     "output_type": "stream",
     "text": [
      "0.7358695652173913\n"
     ]
    }
   ],
   "source": [
    "linear_score = np.array(results_linear.mean_test_score)\n",
    "display(results_linear.T.head())\n",
    "print(max(linear_score))"
   ],
   "metadata": {
    "collapsed": false,
    "pycharm": {
     "name": "#%%\n"
    }
   }
  },
  {
   "cell_type": "markdown",
   "source": [
    "In the meantime, the best performance in linear model is 0.73587, and the mean_test_score in c =1,10,100 is relative similar. The influence of hyperparameter C are not significant."
   ],
   "metadata": {
    "collapsed": false
   }
  },
  {
   "cell_type": "code",
   "execution_count": 101,
   "outputs": [],
   "source": [],
   "metadata": {
    "collapsed": false,
    "pycharm": {
     "name": "#%%\n"
    }
   }
  },
  {
   "cell_type": "code",
   "execution_count": 31,
   "metadata": {},
   "outputs": [
    {
     "name": "stdout",
     "output_type": "stream",
     "text": [
      "10-fold cross validation mean method scores for RBF SVM:0.763\n"
     ]
    }
   ],
   "source": []
  },
  {
   "cell_type": "markdown",
   "metadata": {},
   "source": [
    "As can be seen from the grid search, the SVM with RBF kernel and hyperparameter C: 1, gamma 0.1 could achieve the highest performance"
   ]
  },
  {
   "cell_type": "code",
   "execution_count": 32,
   "metadata": {},
   "outputs": [
    {
     "data": {
      "text/html": [
       "<div>\n",
       "<style scoped>\n",
       "    .dataframe tbody tr th:only-of-type {\n",
       "        vertical-align: middle;\n",
       "    }\n",
       "\n",
       "    .dataframe tbody tr th {\n",
       "        vertical-align: top;\n",
       "    }\n",
       "\n",
       "    .dataframe thead th {\n",
       "        text-align: right;\n",
       "    }\n",
       "</style>\n",
       "<table border=\"1\" class=\"dataframe\">\n",
       "  <thead>\n",
       "    <tr style=\"text-align: right;\">\n",
       "      <th></th>\n",
       "      <th>25</th>\n",
       "      <th>26</th>\n",
       "      <th>27</th>\n",
       "      <th>28</th>\n",
       "      <th>29</th>\n",
       "    </tr>\n",
       "  </thead>\n",
       "  <tbody>\n",
       "    <tr>\n",
       "      <th>mean_fit_time</th>\n",
       "      <td>0.00197427</td>\n",
       "      <td>0.00224259</td>\n",
       "      <td>0.00349078</td>\n",
       "      <td>0.00802417</td>\n",
       "      <td>0.0345693</td>\n",
       "    </tr>\n",
       "    <tr>\n",
       "      <th>mean_score_time</th>\n",
       "      <td>0.000795293</td>\n",
       "      <td>0.000931311</td>\n",
       "      <td>0.00101917</td>\n",
       "      <td>0.000882244</td>\n",
       "      <td>0.000701189</td>\n",
       "    </tr>\n",
       "    <tr>\n",
       "      <th>mean_test_score</th>\n",
       "      <td>0.673551</td>\n",
       "      <td>0.731703</td>\n",
       "      <td>0.73587</td>\n",
       "      <td>0.73587</td>\n",
       "      <td>0.73587</td>\n",
       "    </tr>\n",
       "    <tr>\n",
       "      <th>param_C</th>\n",
       "      <td>0.01</td>\n",
       "      <td>0.1</td>\n",
       "      <td>1</td>\n",
       "      <td>10</td>\n",
       "      <td>100</td>\n",
       "    </tr>\n",
       "    <tr>\n",
       "      <th>param_gamma</th>\n",
       "      <td>NaN</td>\n",
       "      <td>NaN</td>\n",
       "      <td>NaN</td>\n",
       "      <td>NaN</td>\n",
       "      <td>NaN</td>\n",
       "    </tr>\n",
       "  </tbody>\n",
       "</table>\n",
       "</div>"
      ],
      "text/plain": [
       "                          25           26          27           28  \\\n",
       "mean_fit_time     0.00197427   0.00224259  0.00349078   0.00802417   \n",
       "mean_score_time  0.000795293  0.000931311  0.00101917  0.000882244   \n",
       "mean_test_score     0.673551     0.731703     0.73587      0.73587   \n",
       "param_C                 0.01          0.1           1           10   \n",
       "param_gamma              NaN          NaN         NaN          NaN   \n",
       "\n",
       "                          29  \n",
       "mean_fit_time      0.0345693  \n",
       "mean_score_time  0.000701189  \n",
       "mean_test_score      0.73587  \n",
       "param_C                  100  \n",
       "param_gamma              NaN  "
      ]
     },
     "metadata": {},
     "output_type": "display_data"
    },
    {
     "name": "stdout",
     "output_type": "stream",
     "text": [
      "0.7358695652173913\n"
     ]
    }
   ],
   "source": [
    "linear_score = np.array(results_linear.mean_test_score)\n",
    "display(results_linear.T.head())\n",
    "print(max(linear_score))"
   ]
  },
  {
   "cell_type": "markdown",
   "metadata": {},
   "source": [
    "In the meantime, the best performance in linear model is 0.73587, and the mean_test_score in c =1,10,100 is relative similar. The influence of hyperparameter C are not significant."
   ]
  },
  {
   "cell_type": "code",
   "execution_count": null,
   "metadata": {},
   "outputs": [],
   "source": []
  }
 ],
 "metadata": {
  "kernelspec": {
   "display_name": "Python 3",
   "language": "python",
   "name": "python3"
  },
  "language_info": {
   "codemirror_mode": {
    "name": "ipython",
    "version": 3
   },
   "file_extension": ".py",
   "mimetype": "text/x-python",
   "name": "python",
   "nbconvert_exporter": "python",
   "pygments_lexer": "ipython3",
   "version": "3.5.2"
  }
 },
 "nbformat": 4,
 "nbformat_minor": 1
}