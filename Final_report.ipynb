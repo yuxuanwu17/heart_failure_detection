{
 "cells": [
  {
   "cell_type": "markdown",
   "source": [
    "## Introduction\n",
    "\n",
    "### Background data\n",
    "\n",
    "Cardiovascular diseases (CVDs) are the number 1 cause of death globally, taking an estimated 17.9 million lives each year, which accounts for 31% of all deaths worlwide.\n",
    "Heart failure is a common event caused by CVDs.\n",
    "\n",
    "Most cardiovascular diseases can be prevented by addressing behavioural risk factors such as tobacco use, unhealthy diet and obesity, physical inactivity and harmful use of alcohol using population-wide strategies.\n",
    "\n",
    "People with cardiovascular disease or who are at high cardiovascular risk (due to the presence of one or more risk factors such as hypertension, diabetes, hyperlipidaemia or already established disease) need early detection and management wherein a machine learning model can be of great help.\n",
    "\n",
    "### Project description (overview)\n",
    "\n",
    "The input to our predictor is is a medical dataset which contains 12 features that can be used to predict mortality by heart failure.\n",
    "1. Data exploration\n",
    "    - Principle Components Analysis (PCA) to reduce the dimension of features to have a view of the input data distribution\n",
    "    - Build a preliminary linear SVM model to incorporate all the features to see the model performance.\n",
    "2. Feature selection part.\n",
    "    - Chi-square test to check the correlation between each categorical feature and the target death event.\n",
    "    - Heat map to return the features with high correlation coefficient with death events.\n",
    "    - Visualized the each feature's contribution significance in the SVM model\n",
    "    - Compared the returned features and determined the final selected features\n",
    "3. Model comparison and hyperparameter tuning\n",
    "    - compare the performance in difference preprocessing methods MinMaxScalar, StandardScalar, RobustScalar\n",
    "    - compare the performance in k-fold cross validation and leave-one-out methods\n",
    "    - compare the kernel selected in Support Vector Machine (linear or rbf)\n",
    "    - grid search to find the best performance model\n",
    "4. Selected model performance\n",
    "    - calculated the precision, recall, accuracy and f1-score\n",
    "    - plot the ROC and PR-curve\n",
    "    - plot the learning curve\n",
    "\n",
    "---\n",
    "\n",
    "## Related work\n",
    "\n",
    "### Explorative data analysis (EDA) approach\n",
    "\n",
    "1. [heart-fail-analysis-and-quick-prediction](https://www.kaggle.com/nayansakhiya/heart-fail-analysis-and-quick-prediction)\n",
    "\n",
    "**Strength**: Detailed explorative and associative data analysis with great data visualization: each factor is visualized by different types of figures <br>\n",
    "**Weakness**: Prediction model are quite rudimentary, the author did not select the features and tune the models' hyperparameters.<br>\n",
    "**Similarity**: I learned and applied the plotly.express API to create fancy and concise figures for easy comparison; I furthered his rudimentary model by optimization\n",
    "\n",
    "### Predictive data analysis (PDA) approach\n",
    "\n",
    "1. [heart-failure-model-prediction-comparisons-95](https://www.kaggle.com/rude009/heart-failure-model-prediction-comparisons-95)\n",
    "\n",
    "**Strength**: The author compares six prediction models with feature selection. The Extra Gradient Booster Classifier could achieve the accuracy up to 95.0% <br>\n",
    "**Weakness**: The author consider the \"time\" column as the useful features. <br>\n",
    "**Similarity**: I don't think \"time\" colume should be included since \"time\" column stands for Follow-up period (days), which means itself could not contribute the diseases itself. Therefore, I consider this feature as uselessness in our prediction model\n",
    "\n",
    "2. [heart-failure-prediction-auc-0-98](https://www.kaggle.com/ksvmuralidhar/heart-failure-prediction-auc-0-98)\n",
    "\n",
    "**Strength**: The author uses a new method: Chi-square test to find the correlation between single categorical feature with target death_event <br>\n",
    "**Weakness**: The visualization part does not as fancy as previous work <br>\n",
    "**Similarity**: I learned and used the Chi-square test to conduct the correlation test between single categorical data with the categorical death_event; but i didn't agree the author's method in using box plot comparison between numerical data with categorical data, I used heat map instead."
   ],
   "metadata": {
    "collapsed": false,
    "pycharm": {
     "name": "#%% md\n"
    }
   }
  },
  {
   "cell_type": "markdown",
   "source": [
    "## Problem formulation"
   ],
   "metadata": {
    "collapsed": false,
    "pycharm": {
     "name": "#%% md\n"
    }
   }
  },
  {
   "cell_type": "markdown",
   "source": [
    "### Return the head of dataset (a overview of inside components)"
   ],
   "metadata": {
    "collapsed": false,
    "pycharm": {
     "name": "#%% md\n"
    }
   }
  },
  {
   "cell_type": "code",
   "execution_count": 24,
   "outputs": [
    {
     "data": {
      "text/html": "<div>\n<style scoped>\n    .dataframe tbody tr th:only-of-type {\n        vertical-align: middle;\n    }\n\n    .dataframe tbody tr th {\n        vertical-align: top;\n    }\n\n    .dataframe thead th {\n        text-align: right;\n    }\n</style>\n<table border=\"1\" class=\"dataframe\">\n  <thead>\n    <tr style=\"text-align: right;\">\n      <th></th>\n      <th>age</th>\n      <th>anaemia</th>\n      <th>creatinine_phosphokinase</th>\n      <th>diabetes</th>\n      <th>ejection_fraction</th>\n      <th>high_blood_pressure</th>\n      <th>platelets</th>\n      <th>serum_creatinine</th>\n      <th>serum_sodium</th>\n      <th>sex</th>\n      <th>smoking</th>\n      <th>time</th>\n      <th>DEATH_EVENT</th>\n    </tr>\n  </thead>\n  <tbody>\n    <tr>\n      <th>0</th>\n      <td>75.0</td>\n      <td>0</td>\n      <td>582</td>\n      <td>0</td>\n      <td>20</td>\n      <td>1</td>\n      <td>265000.00</td>\n      <td>1.9</td>\n      <td>130</td>\n      <td>1</td>\n      <td>0</td>\n      <td>4</td>\n      <td>1</td>\n    </tr>\n    <tr>\n      <th>1</th>\n      <td>55.0</td>\n      <td>0</td>\n      <td>7861</td>\n      <td>0</td>\n      <td>38</td>\n      <td>0</td>\n      <td>263358.03</td>\n      <td>1.1</td>\n      <td>136</td>\n      <td>1</td>\n      <td>0</td>\n      <td>6</td>\n      <td>1</td>\n    </tr>\n    <tr>\n      <th>2</th>\n      <td>65.0</td>\n      <td>0</td>\n      <td>146</td>\n      <td>0</td>\n      <td>20</td>\n      <td>0</td>\n      <td>162000.00</td>\n      <td>1.3</td>\n      <td>129</td>\n      <td>1</td>\n      <td>1</td>\n      <td>7</td>\n      <td>1</td>\n    </tr>\n    <tr>\n      <th>3</th>\n      <td>50.0</td>\n      <td>1</td>\n      <td>111</td>\n      <td>0</td>\n      <td>20</td>\n      <td>0</td>\n      <td>210000.00</td>\n      <td>1.9</td>\n      <td>137</td>\n      <td>1</td>\n      <td>0</td>\n      <td>7</td>\n      <td>1</td>\n    </tr>\n    <tr>\n      <th>4</th>\n      <td>65.0</td>\n      <td>1</td>\n      <td>160</td>\n      <td>1</td>\n      <td>20</td>\n      <td>0</td>\n      <td>327000.00</td>\n      <td>2.7</td>\n      <td>116</td>\n      <td>0</td>\n      <td>0</td>\n      <td>8</td>\n      <td>1</td>\n    </tr>\n  </tbody>\n</table>\n</div>",
      "text/plain": "    age  anaemia  creatinine_phosphokinase  diabetes  ejection_fraction  \\\n0  75.0        0                       582         0                 20   \n1  55.0        0                      7861         0                 38   \n2  65.0        0                       146         0                 20   \n3  50.0        1                       111         0                 20   \n4  65.0        1                       160         1                 20   \n\n   high_blood_pressure  platelets  serum_creatinine  serum_sodium  sex  \\\n0                    1  265000.00               1.9           130    1   \n1                    0  263358.03               1.1           136    1   \n2                    0  162000.00               1.3           129    1   \n3                    0  210000.00               1.9           137    1   \n4                    0  327000.00               2.7           116    0   \n\n   smoking  time  DEATH_EVENT  \n0        0     4            1  \n1        0     6            1  \n2        1     7            1  \n3        0     7            1  \n4        0     8            1  "
     },
     "execution_count": 24,
     "metadata": {},
     "output_type": "execute_result"
    }
   ],
   "source": [
    "import pandas as pd\n",
    "heart_data = pd.read_csv(\"/home/yuxuan/kaggle/heart_failure_clinical_records_dataset.csv\")\n",
    "heart_data.head()"
   ],
   "metadata": {
    "collapsed": false,
    "pycharm": {
     "name": "#%%\n"
    }
   }
  },
  {
   "cell_type": "markdown",
   "source": [
    "### Print the size of the dataset"
   ],
   "metadata": {
    "collapsed": false,
    "pycharm": {
     "name": "#%% md\n",
     "is_executing": true
    }
   }
  },
  {
   "cell_type": "code",
   "execution_count": 25,
   "outputs": [
    {
     "name": "stdout",
     "output_type": "stream",
     "text": [
      "(299, 13)\n"
     ]
    }
   ],
   "source": [
    "print(heart_data.shape)"
   ],
   "metadata": {
    "collapsed": false,
    "pycharm": {
     "name": "#%%\n"
    }
   }
  },
  {
   "cell_type": "markdown",
   "source": [
    "### Check the ratio of the NaNs for each column"
   ],
   "metadata": {
    "collapsed": false,
    "pycharm": {
     "name": "#%% md\n"
    }
   }
  },
  {
   "cell_type": "code",
   "execution_count": 26,
   "outputs": [
    {
     "name": "stdout",
     "output_type": "stream",
     "text": [
      "age 0.0%\n",
      "anaemia 0.0%\n",
      "creatinine_phosphokinase 0.0%\n",
      "diabetes 0.0%\n",
      "ejection_fraction 0.0%\n",
      "high_blood_pressure 0.0%\n",
      "platelets 0.0%\n",
      "serum_creatinine 0.0%\n",
      "serum_sodium 0.0%\n",
      "sex 0.0%\n",
      "smoking 0.0%\n",
      "time 0.0%\n",
      "DEATH_EVENT 0.0%\n"
     ]
    }
   ],
   "source": [
    "for col in heart_data.columns:\n",
    "    print(col, str(round(100* heart_data[col].isnull().sum() / len(heart_data), 2)) + '%')"
   ],
   "metadata": {
    "collapsed": false,
    "pycharm": {
     "name": "#%%\n"
    }
   }
  },
  {
   "cell_type": "markdown",
   "source": [
    "### Dataset description\n",
    "There are 13 dimensions and 299 samples. All the columns are devoid of NaNs. We need make some rules before the data processing。\n",
    "\n",
    "Target features: DEATH_EVENT (0,1)\n",
    "\n",
    "**Categorical data**\n",
    "- Sex - Gender of patient Male = 1, Female =0\n",
    "- Diabetes - 0 = No, 1 = Yes\n",
    "- Anaemia - 0 = No, 1 = Yes\n",
    "- High_blood_pressure - 0 = No, 1 = Yes\n",
    "- Smoking - 0 = No, 1 = Yes\n",
    "- DEATH_EVENT - 0 = No, 1 = Yes\n",
    "\n",
    "**Numerical data**\n",
    "- Age - Age of patient\n",
    "- creatinine_phosphokinase - Level of the CPK enzyme in the blood (mcg/L)\n",
    "- ejection_fraction - Percentage of blood leaving the heart at each contraction (percentage)\n",
    "- platelets - Platelets in the blood (kiloplatelets/mL)\n",
    "- serum_creatinine - Level of serum creatinine in the blood (mg/dL)\n",
    "- serum_sodium - Level of serum sodium in the blood (mEq/L)\n",
    "- time - Follow-up period (days)\n",
    "\n",
    "### Citation or Reference\n",
    "\n",
    "Dataset from Davide Chicco, Giuseppe Jurman: Machine learning can predict survival of patients with heart failure from serum creatinine and ejection fraction alone. BMC Medical Informatics and Decision Making 20, 16 (2020)\n",
    "\n",
    "The dataset downloaded from Kaggle https://www.kaggle.com/andrewmvd/heart-failure-clinical-data\n"
   ],
   "metadata": {
    "collapsed": false,
    "pycharm": {
     "name": "#%% md\n"
    }
   }
  },
  {
   "cell_type": "markdown",
   "source": [
    "### Principle components analysis\n",
    "\n",
    "PCA analysis to return the feature sample distribution"
   ],
   "metadata": {
    "collapsed": false,
    "pycharm": {
     "name": "#%% md\n",
     "is_executing": true
    }
   }
  },
  {
   "cell_type": "code",
   "execution_count": 27,
   "outputs": [
    {
     "data": {
      "text/plain": "<matplotlib.legend.Legend at 0x7f82a23ec898>"
     },
     "execution_count": 27,
     "metadata": {},
     "output_type": "execute_result"
    },
    {
     "data": {
      "image/png": "[encoded data removed]",
      "text/plain": "<Figure size 576x576 with 1 Axes>"
     },
     "metadata": {
      "needs_background": "light"
     },
     "output_type": "display_data"
    }
   ],
   "source": [
    "%matplotlib inline\n",
    "import matplotlib.pyplot as plt\n",
    "from sklearn.decomposition import PCA\n",
    "from sklearn.preprocessing import StandardScaler\n",
    "X = heart_data.iloc[:,0:11]\n",
    "X = StandardScaler().fit_transform(X)\n",
    "y = heart_data['DEATH_EVENT']\n",
    "pca = PCA(n_components=2)\n",
    "pca.fit(X)\n",
    "X_pca = pca.transform(X)\n",
    "\n",
    "plt.figure(figsize=(8,8))\n",
    "plt.scatter(X_pca[y==0,0],X_pca[y==0,1],label=\"Alive\",c=\"red\")\n",
    "plt.scatter(X_pca[y==1,0],X_pca[y==1,1],label=\"Death\",c=\"black\")\n",
    "plt.legend([\"Alive\",\"Death\"])\n"
   ],
   "metadata": {
    "collapsed": false,
    "pycharm": {
     "name": "#%%\n"
    }
   }
  },
  {
   "cell_type": "markdown",
   "source": [
    "I would like to have a view of the feature dimension with the target situation. Therefore, we used the principle component analysis (PCA) to conduct the feature reduction to 2D for visualization. We could find that the data are densed and not easy to seperate (either linear or non-linear model), indicating that many bias or insignificant data might negatively influence the future prediction accuracy."
   ],
   "metadata": {
    "collapsed": false,
    "pycharm": {
     "name": "#%% md\n"
    }
   }
  },
  {
   "cell_type": "markdown",
   "source": [
    "### Correlation analysis\n",
    "I would like to find the correlation between variables, especially with the target variable: DEATH_EVENT.\n",
    "In this case, I would exclude the column in time since the time tracked could not contribute to the heart failure itself."
   ],
   "metadata": {
    "collapsed": false
   }
  },
  {
   "cell_type": "code",
   "execution_count": null,
   "outputs": [],
   "source": [
    "import seaborn as sn\n",
    "heart_data = heart_data.drop(['time'],axis=1)\n",
    "plt.figure(figsize=(12,12))\n",
    "sn.heatmap(heart_data.corr(),vmin=-1,cmap='coolwarm',annot=True)"
   ],
   "metadata": {
    "collapsed": false,
    "pycharm": {
     "name": "#%%\n"
    }
   }
  },
  {
   "cell_type": "markdown",
   "source": [
    "### Data partition\n",
    "\n",
    "- As I mentioned before, I will not take the feature time into consideration. Therefore, 11 features are included in the final model prediction.\n",
    "- I split the dataset into two categories. 80% for raining data and 20% for testing data.\n",
    "- I used the StandardScalar normalization to preprocess the data"
   ],
   "metadata": {
    "collapsed": false
   }
  },
  {
   "cell_type": "code",
   "execution_count": 29,
   "outputs": [
    {
     "name": "stdout",
     "output_type": "stream",
     "text": [
      "The number of training sample is 239\n",
      "The number of testing sample is 60\n"
     ]
    }
   ],
   "source": [
    "from sklearn.preprocessing import StandardScaler\n",
    "from sklearn.model_selection import train_test_split\n",
    "\n",
    "X = heart_data.iloc[:,0:11]\n",
    "X = StandardScaler().fit_transform(X)\n",
    "y = heart_data['DEATH_EVENT']\n",
    "X_train, X_test, y_train, y_test = train_test_split(X,y,test_size=0.2,random_state=2)\n",
    "print(\"The number of training sample is {}\".format(X_train.shape[0]))\n",
    "print(\"The number of testing sample is {}\".format(X_test.shape[0]))"
   ],
   "metadata": {
    "collapsed": false,
    "pycharm": {
     "name": "#%%\n"
    }
   }
  },
  {
   "cell_type": "markdown",
   "source": [
    "### Preliminary model in SVM"
   ],
   "metadata": {
    "collapsed": false
   }
  },
  {
   "cell_type": "code",
   "execution_count": 31,
   "outputs": [
    {
     "name": "stdout",
     "output_type": "stream",
     "text": [
      "Accuracy of linear SVM model is : 80.00%\n",
      "Accuracy of RBF SVM model is : 75.00%\n"
     ]
    }
   ],
   "source": [
    "from sklearn.svm import SVC\n",
    "from sklearn.metrics import accuracy_score\n",
    "\n",
    "## linear svm\n",
    "sv_clf = SVC(kernel=\"linear\",random_state=1)\n",
    "sv_clf.fit(X_train, y_train)\n",
    "sv_clf_pred = sv_clf.predict(X_test)\n",
    "sv_clf_acc = accuracy_score(y_test,sv_clf_pred)\n",
    "# accuracy_list.append(round(sv_clf_acc,2))\n",
    "print(\"Accuracy of linear SVM model is :\",\"{:.2f}%\".format(100*sv_clf_acc))\n",
    "\n",
    "## RBF kernel SVM\n",
    "sv_clf = SVC(kernel=\"rbf\",random_state=1)\n",
    "sv_clf.fit(X_train, y_train)\n",
    "sv_clf_pred = sv_clf.predict(X_test)\n",
    "sv_clf_acc = accuracy_score(y_test,sv_clf_pred)\n",
    "print(\"Accuracy of RBF SVM model is :\",\"{:.2f}%\".format(100*sv_clf_acc))"
   ],
   "metadata": {
    "collapsed": false,
    "pycharm": {
     "name": "#%%\n"
    }
   }
  },
  {
   "cell_type": "markdown",
   "source": [
    "## Optimize the model\n",
    "\n",
    "\n",
    "\n"
   ],
   "metadata": {
    "collapsed": false,
    "pycharm": {
     "name": "#%% md\n",
     "is_executing": true
    }
   }
  }
 ],
 "metadata": {
  "kernelspec": {
   "display_name": "Python 3",
   "language": "python",
   "name": "python3"
  },
  "language_info": {
   "codemirror_mode": {
    "name": "ipython",
    "version": 2
   },
   "file_extension": ".py",
   "mimetype": "text/x-python",
   "name": "python",
   "nbconvert_exporter": "python",
   "pygments_lexer": "ipython2",
   "version": "2.7.6"
  }
 },
 "nbformat": 4,
 "nbformat_minor": 0
}