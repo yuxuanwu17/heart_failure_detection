{
 "cells": [
  {
   "cell_type": "code",
   "execution_count": 35,
   "outputs": [],
   "source": [
    "import pandas as pd\n",
    "from sklearn.preprocessing import StandardScaler, MinMaxScaler, RobustScaler\n",
    "from sklearn.model_selection import train_test_split, GridSearchCV, LeaveOneOut\n",
    "from sklearn.pipeline import Pipeline\n",
    "from sklearn.svm import SVC"
   ],
   "metadata": {
    "collapsed": false,
    "pycharm": {
     "name": "#%%\n"
    }
   }
  },
  {
   "cell_type": "code",
   "execution_count": 47,
   "metadata": {
    "collapsed": true
   },
   "outputs": [
    {
     "name": "stdout",
     "output_type": "stream",
     "text": [
      "Test score: 0.850\n"
     ]
    }
   ],
   "source": [
    "heart_data = pd.read_csv(\"/home/yuxuan/kaggle/heart_failure_clinical_records_dataset.csv\")\n",
    "\n",
    "X = heart_data.iloc[:, 0:11]\n",
    "y = heart_data['DEATH_EVENT']\n",
    "# options = ['linear','rbf','poly']\n",
    "options = 'rbf'\n",
    "# for i in options:\n",
    "selected_feature = ['serum_creatinine','age', 'ejection_fraction','creatinine_phosphokinase']\n",
    "X_processed = X[selected_feature]\n",
    "X_train, X_test, y_train, y_test = train_test_split(X_processed, y, test_size=0.2, shuffle=True, random_state=1)\n",
    "\n",
    "pipe1 = Pipeline([(\"scalar\",MinMaxScaler()),(\"svm\",SVC(random_state=1))])\n",
    "pipe1.fit(X_train,y_train)\n",
    "print(\"Test score: {:.3f}\".format(pipe1.score(X_test,y_test)))"
   ]
  },
  {
   "cell_type": "code",
   "execution_count": 48,
   "outputs": [
    {
     "name": "stdout",
     "output_type": "stream",
     "text": [
      "Test score: 0.850\n"
     ]
    }
   ],
   "source": [
    "pipe2 = Pipeline([(\"scalar\",StandardScaler()),(\"svm\",SVC(random_state=1))])\n",
    "pipe2.fit(X_train,y_train)\n",
    "print(\"Test score: {:.3f}\".format(pipe2.score(X_test,y_test)))"
   ],
   "metadata": {
    "collapsed": false,
    "pycharm": {
     "name": "#%%\n"
    }
   }
  },
  {
   "cell_type": "code",
   "execution_count": 49,
   "outputs": [
    {
     "name": "stdout",
     "output_type": "stream",
     "text": [
      "Test score: 0.800\n"
     ]
    }
   ],
   "source": [
    "pipe3 = Pipeline([(\"scalar\",RobustScaler()),(\"svm\",SVC(random_state=1))])\n",
    "pipe3.fit(X_train,y_train)\n",
    "print(\"Test score: {:.3f}\".format(pipe3.score(X_test,y_test)))\n"
   ],
   "metadata": {
    "collapsed": false,
    "pycharm": {
     "name": "#%%\n"
    }
   }
  },
  {
   "cell_type": "markdown",
   "source": [
    "## Test the grid search"
   ],
   "metadata": {
    "collapsed": false
   }
  },
  {
   "cell_type": "code",
   "source": [
    "param_grid = {\"svm__C\": [0.001,0.01,0.1,1,10,100],\n",
    "              \"svm__gamma\":[0.001,0.01,0.1,1,10,100]}\n",
    "              # \"svm__kernel\":[\"linear\",\"rbf\"]}\n",
    "loo = LeaveOneOut()\n",
    "grid1 = GridSearchCV(pipe1,param_grid, cv = loo,n_jobs=-1)\n",
    "grid1.fit(X_train,y_train)\n",
    "print(\"Best cross validation accuracy: {:.2f}\".format(grid1.best_score_))\n",
    "print(\"Test set score: {:.2f}\".format(grid1.score(X_test,y_test)))\n",
    "print(\"Best parameters: {}\".format(grid1.best_params_))\n",
    "\n"
   ],
   "metadata": {
    "collapsed": false,
    "pycharm": {
     "name": "#%%\n",
     "is_executing": true
    }
   },
   "execution_count": null,
   "outputs": []
  },
  {
   "cell_type": "code",
   "execution_count": 40,
   "outputs": [
    {
     "name": "stdout",
     "output_type": "stream",
     "text": [
      "Best cross validation accuracy: 0.74\n",
      "Test set score: 0.83\n",
      "Best parameters: {'svm__kernel': 'rbf', 'svm__gamma': 10, 'svm__C': 10}\n"
     ]
    }
   ],
   "source": [
    "grid1 = GridSearchCV(pipe1,param_grid, cv = 10,n_jobs=-1)\n",
    "grid1.fit(X_train,y_train)\n",
    "print(\"Best cross validation accuracy: {:.2f}\".format(grid1.best_score_))\n",
    "print(\"Test set score: {:.2f}\".format(grid1.score(X_test,y_test)))\n",
    "print(\"Best parameters: {}\".format(grid1.best_params_))\n",
    "\n"
   ],
   "metadata": {
    "collapsed": false,
    "pycharm": {
     "name": "#%%\n"
    }
   }
  },
  {
   "cell_type": "code",
   "execution_count": 52,
   "outputs": [
    {
     "name": "stdout",
     "output_type": "stream",
     "text": [
      "[{'C': [0.001, 0.01, 0.1, 1, 10, 100], 'gamma': [0.001, 0.01, 0.1, 1, 10, 100], 'kernel': ['rbf']}, {'C': [0.001, 0.01, 0.1, 1, 10, 100], 'kernel': ['linear']}]\n",
      "Best cross validation accuracy: 0.74\n",
      "Test set score: 0.82\n",
      "Best parameters: {'C': 0.1, 'kernel': 'linear'}\n"
     ]
    }
   ],
   "source": [
    "param_grid = [{'kernel': ['rbf'],\n",
    "               'C': [0.001,0.01,0.1,1,10,100],\n",
    "               'gamma':[0.001,0.01,0.1,1,10,100]},\n",
    "                {'kernel':['linear'],\n",
    "               'C': [0.001,0.01,0.1,1,10,100]\n",
    "                }]\n",
    "print(param_grid)\n",
    "\n",
    "grid_search = GridSearchCV(SVC(),param_grid,cv =10, n_jobs=-1)\n",
    "grid_search.fit(X_train,y_train)\n",
    "print(\"Best cross validation accuracy: {:.2f}\".format(grid_search.best_score_))\n",
    "print(\"Test set score: {:.2f}\".format(grid_search.score(X_test,y_test)))\n",
    "print(\"Best parameters: {}\".format(grid_search.best_params_))\n",
    "\n",
    "\n"
   ],
   "metadata": {
    "collapsed": false,
    "pycharm": {
     "name": "#%%\n"
    }
   }
  },
  {
   "cell_type": "code",
   "execution_count": null,
   "outputs": [],
   "source": [],
   "metadata": {
    "collapsed": false,
    "pycharm": {
     "name": "#%%\n"
    }
   }
  }
 ],
 "metadata": {
  "kernelspec": {
   "display_name": "Python 3",
   "language": "python",
   "name": "python3"
  },
  "language_info": {
   "codemirror_mode": {
    "name": "ipython",
    "version": 2
   },
   "file_extension": ".py",
   "mimetype": "text/x-python",
   "name": "python",
   "nbconvert_exporter": "python",
   "pygments_lexer": "ipython2",
   "version": "2.7.6"
  }
 },
 "nbformat": 4,
 "nbformat_minor": 0
}