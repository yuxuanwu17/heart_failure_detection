{
 "cells": [
  {
   "cell_type": "code",
   "execution_count": 15,
   "outputs": [],
   "source": [
    "import pandas as pd\n",
    "import numpy as np\n",
    "from sklearn.preprocessing import StandardScaler, MinMaxScaler, RobustScaler\n",
    "from sklearn.model_selection import train_test_split, GridSearchCV, LeaveOneOut, cross_val_score\n",
    "from sklearn.pipeline import Pipeline\n",
    "from sklearn.svm import LinearSVC\n",
    "from sklearn.linear_model import SGDClassifier"
   ],
   "metadata": {
    "collapsed": false,
    "pycharm": {
     "name": "#%%\n"
    }
   }
  },
  {
   "cell_type": "code",
   "execution_count": 16,
   "outputs": [],
   "source": [
    "heart_data = pd.read_csv(\"/home/yuxuan/kaggle/heart_failure_clinical_records_dataset.csv\")\n",
    "\n",
    "X = heart_data.iloc[:, 0:11]\n",
    "y = heart_data['DEATH_EVENT']\n",
    "selected_feature = ['serum_creatinine','age', 'ejection_fraction','creatinine_phosphokinase']\n",
    "X_processed = X[selected_feature]"
   ],
   "metadata": {
    "collapsed": false,
    "pycharm": {
     "name": "#%%\n"
    }
   }
  },
  {
   "cell_type": "code",
   "execution_count": 17,
   "outputs": [],
   "source": [
    "def cross_validate_svm(X, y, alphas):\n",
    "    store = []\n",
    "    for a in alphas:\n",
    "        pip = Pipeline(\n",
    "            [('scaler', StandardScaler()), ('svc', LinearSVC(loss=\"hinge\", penalty='l2', C=a, random_state=5))])\n",
    "        results = cross_val_score(pip, X, y, cv=5)\n",
    "        x = [i for i in results]\n",
    "        store.append(np.mean(x))\n",
    "\n",
    "    result = np.array(store)\n",
    "    return result"
   ],
   "metadata": {
    "collapsed": false,
    "pycharm": {
     "name": "#%%\n"
    }
   }
  },
  {
   "cell_type": "code",
   "execution_count": 18,
   "outputs": [],
   "source": [
    "## Set the regularization power\n",
    "\n",
    "def train_svm_alpha_star(X, y, alpha_star):\n",
    "    X = StandardScaler().fit_transform(X)\n",
    "    model = LinearSVC(loss=\"hinge\", penalty='l2', C=alpha_star, random_state=5)\n",
    "    result = model.fit(X,y).score(X,y)\n",
    "    return result"
   ],
   "metadata": {
    "collapsed": false,
    "pycharm": {
     "name": "#%%\n"
    }
   }
  },
  {
   "cell_type": "code",
   "execution_count": 19,
   "outputs": [
    {
     "name": "stdout",
     "output_type": "stream",
     "text": [
      "alpha_star = 1.0\n",
      "train_accuracy = 0.7759197324414716\n"
     ]
    },
    {
     "name": "stderr",
     "output_type": "stream",
     "text": [
      "/home/yuxuan/.local/lib/python3.5/site-packages/sklearn/svm/_base.py:947: ConvergenceWarning: Liblinear failed to converge, increase the number of iterations.\n",
      "  \"the number of iterations.\", ConvergenceWarning)\n",
      "/home/yuxuan/.local/lib/python3.5/site-packages/sklearn/svm/_base.py:947: ConvergenceWarning: Liblinear failed to converge, increase the number of iterations.\n",
      "  \"the number of iterations.\", ConvergenceWarning)\n",
      "/home/yuxuan/.local/lib/python3.5/site-packages/sklearn/svm/_base.py:947: ConvergenceWarning: Liblinear failed to converge, increase the number of iterations.\n",
      "  \"the number of iterations.\", ConvergenceWarning)\n",
      "/home/yuxuan/.local/lib/python3.5/site-packages/sklearn/svm/_base.py:947: ConvergenceWarning: Liblinear failed to converge, increase the number of iterations.\n",
      "  \"the number of iterations.\", ConvergenceWarning)\n"
     ]
    }
   ],
   "source": [
    "alphas = np.array([0.01, 0.05, 0.10, 0.5, 1.0])\n",
    "val_scores = cross_validate_svm(X_processed, y, alphas)\n",
    "index = np.argmax(val_scores)\n",
    "alpha_star = alphas[index]\n",
    "print('alpha_star =', alpha_star)\n",
    "\n",
    "train_accuracy = train_svm_alpha_star(X_processed, y, alpha_star)\n",
    "print('train_accuracy =', train_accuracy)\n"
   ],
   "metadata": {
    "collapsed": false,
    "pycharm": {
     "name": "#%%\n"
    }
   }
  },
  {
   "cell_type": "code",
   "execution_count": 19,
   "outputs": [],
   "source": [],
   "metadata": {
    "collapsed": false,
    "pycharm": {
     "name": "#%%\n"
    }
   }
  }
 ],
 "metadata": {
  "kernelspec": {
   "display_name": "Python 3",
   "language": "python",
   "name": "python3"
  },
  "language_info": {
   "codemirror_mode": {
    "name": "ipython",
    "version": 2
   },
   "file_extension": ".py",
   "mimetype": "text/x-python",
   "name": "python",
   "nbconvert_exporter": "python",
   "pygments_lexer": "ipython2",
   "version": "2.7.6"
  }
 },
 "nbformat": 4,
 "nbformat_minor": 0
}