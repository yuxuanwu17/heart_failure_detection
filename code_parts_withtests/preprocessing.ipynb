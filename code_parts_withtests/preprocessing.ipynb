{
 "cells": [
  {
   "cell_type": "code",
   "execution_count": 35,
   "outputs": [],
   "source": [
    "import pandas as pd\n",
    "from IPython.core.display import display\n",
    "from sklearn.preprocessing import StandardScaler, MinMaxScaler, RobustScaler\n",
    "from sklearn.model_selection import train_test_split, GridSearchCV, LeaveOneOut\n",
    "from sklearn.pipeline import Pipeline\n",
    "from sklearn.svm import SVC"
   ],
   "metadata": {
    "collapsed": false,
    "pycharm": {
     "name": "#%%\n"
    }
   }
  },
  {
   "cell_type": "code",
   "execution_count": 47,
   "metadata": {
    "collapsed": true
   },
   "outputs": [
    {
     "name": "stdout",
     "output_type": "stream",
     "text": [
      "Test score: 0.850\n"
     ]
    }
   ],
   "source": [
    "heart_data = pd.read_csv(\"/home/yuxuan/kaggle/heart_failure_clinical_records_dataset.csv\")\n",
    "\n",
    "X = heart_data.iloc[:, 0:11]\n",
    "y = heart_data['DEATH_EVENT']\n",
    "# options = ['linear','rbf','poly']\n",
    "options = 'rbf'\n",
    "# for i in options:\n",
    "selected_feature = ['serum_creatinine','age', 'ejection_fraction','creatinine_phosphokinase']\n",
    "X_processed = X[selected_feature]\n",
    "X_train, X_test, y_train, y_test = train_test_split(X_processed, y, test_size=0.2, shuffle=True, random_state=1)"
   ]
  },
  {
   "cell_type": "code",
   "execution_count": null,
   "outputs": [],
   "source": [
    "pipe1 = Pipeline([(\"scalar\",MinMaxScaler()),(\"svm\",SVC(random_state=1))])\n",
    "pipe1.fit(X_train,y_train)\n",
    "print(\"Test score: {:.3f}\".format(pipe1.score(X_test,y_test)))"
   ],
   "metadata": {
    "collapsed": false,
    "pycharm": {
     "name": "#%%\n"
    }
   }
  },
  {
   "cell_type": "code",
   "execution_count": 48,
   "outputs": [
    {
     "name": "stdout",
     "output_type": "stream",
     "text": [
      "Test score: 0.850\n"
     ]
    }
   ],
   "source": [
    "pipe2 = Pipeline([(\"scalar\",StandardScaler()),(\"svm\",SVC(random_state=1))])\n",
    "pipe2.fit(X_train,y_train)\n",
    "print(\"Test score: {:.3f}\".format(pipe2.score(X_test,y_test)))"
   ],
   "metadata": {
    "collapsed": false,
    "pycharm": {
     "name": "#%%\n"
    }
   }
  },
  {
   "cell_type": "code",
   "execution_count": 49,
   "outputs": [
    {
     "name": "stdout",
     "output_type": "stream",
     "text": [
      "Test score: 0.800\n"
     ]
    }
   ],
   "source": [
    "pipe3 = Pipeline([(\"scalar\",RobustScaler()),(\"svm\",SVC(random_state=1))])\n",
    "pipe3.fit(X_train,y_train)\n",
    "print(\"Test score: {:.3f}\".format(pipe3.score(X_test,y_test)))\n"
   ],
   "metadata": {
    "collapsed": false,
    "pycharm": {
     "name": "#%%\n"
    }
   }
  },
  {
   "cell_type": "markdown",
   "source": [
    "## Test the grid search"
   ],
   "metadata": {
    "collapsed": false
   }
  },
  {
   "cell_type": "code",
   "source": [
    "param_grid = {\"svm__C\": [0.001,0.01,0.1,1,10,100],\n",
    "              \"svm__gamma\":[0.001,0.01,0.1,1,10,100]}\n",
    "              # \"svm__kernel\":[\"linear\",\"rbf\"]}\n",
    "loo = LeaveOneOut()\n",
    "grid1 = GridSearchCV(pipe1,param_grid, cv = loo,n_jobs=-1)\n",
    "grid1.fit(X_train,y_train)\n",
    "print(\"Best cross validation accuracy: {:.2f}\".format(grid1.best_score_))\n",
    "print(\"Test set score: {:.2f}\".format(grid1.score(X_test,y_test)))\n",
    "print(\"Best parameters: {}\".format(grid1.best_params_))\n",
    "\n"
   ],
   "metadata": {
    "collapsed": false,
    "pycharm": {
     "name": "#%%\n",
     "is_executing": true
    }
   },
   "execution_count": null,
   "outputs": []
  },
  {
   "cell_type": "code",
   "execution_count": 40,
   "outputs": [
    {
     "name": "stdout",
     "output_type": "stream",
     "text": [
      "Best cross validation accuracy: 0.74\n",
      "Test set score: 0.83\n",
      "Best parameters: {'svm__kernel': 'rbf', 'svm__gamma': 10, 'svm__C': 10}\n"
     ]
    }
   ],
   "source": [
    "grid1 = GridSearchCV(pipe1,param_grid, cv = 10,n_jobs=-1)\n",
    "grid1.fit(X_train,y_train)\n",
    "print(\"Best cross validation accuracy: {:.2f}\".format(grid1.best_score_))\n",
    "print(\"Test set score: {:.2f}\".format(grid1.score(X_test,y_test)))\n",
    "print(\"Best parameters: {}\".format(grid1.best_params_))\n",
    "\n"
   ],
   "metadata": {
    "collapsed": false,
    "pycharm": {
     "name": "#%%\n"
    }
   }
  },
  {
   "cell_type": "code",
   "execution_count": null,
   "outputs": [
    {
     "name": "stdout",
     "output_type": "stream",
     "text": [
      "[{'C': [0.001, 0.01, 0.1, 1, 10, 100], 'gamma': [0.001, 0.01, 0.1, 1, 10, 100], 'kernel': ['rbf']}, {'C': [0.001, 0.01, 0.1, 1, 10, 100], 'kernel': ['linear']}]\n"
     ]
    }
   ],
   "source": [
    "param_grid = [{'kernel': ['rbf'],\n",
    "               'C': [0.001,0.01,0.1,1,10,100],\n",
    "               'gamma':[0.001,0.01,0.1,1,10,100]},\n",
    "                {'kernel':['linear'],\n",
    "               'C': [0.001,0.01,0.1,1,10,100]\n",
    "                }]\n",
    "print(param_grid)\n",
    "\n",
    "loo =LeaveOneOut()\n",
    "\n",
    "grid_search = GridSearchCV(SVC(),param_grid,cv =loo, n_jobs=-1)\n",
    "grid_search.fit(X_train,y_train)\n",
    "print(\"Best cross validation accuracy: {:.2f}\".format(grid_search.best_score_))\n",
    "print(\"Test set score: {:.2f}\".format(grid_search.score(X_test,y_test)))\n",
    "print(\"Best parameters: {}\".format(grid_search.best_params_))\n"
   ],
   "metadata": {
    "collapsed": false,
    "pycharm": {
     "name": "#%%\n",
     "is_executing": true
    }
   }
  },
  {
   "cell_type": "code",
   "execution_count": 70,
   "outputs": [
    {
     "name": "stdout",
     "output_type": "stream",
     "text": [
      "[{'C': [0.001, 0.01, 0.1, 1, 10, 100], 'gamma': [0.001, 0.01, 0.1, 1, 10, 100], 'kernel': ['rbf']}, {'C': [0.001, 0.01, 0.1, 1, 10, 100], 'kernel': ['linear']}]\n"
     ]
    }
   ],
   "source": [
    "param_grid = [{'kernel': ['rbf'],\n",
    "               'C': [0.001,0.01,0.1,1,10,100],\n",
    "               'gamma':[0.001,0.01,0.1,1,10,100]},\n",
    "                {'kernel':['linear'],\n",
    "               'C': [0.001,0.01,0.1,1,10,100]\n",
    "                }]"
   ],
   "metadata": {
    "collapsed": false,
    "pycharm": {
     "name": "#%%\n"
    }
   }
  },
  {
   "cell_type": "code",
   "execution_count": 85,
   "outputs": [
    {
     "data": {
      "text/plain": "                         0           1           2           3           4   \\\nmean_fit_time    0.00638497   0.0057251  0.00437522  0.00446076   0.0054221   \nmean_score_time  0.00180726  0.00160192  0.00128556  0.00136585  0.00161262   \nmean_test_score    0.656904    0.656904    0.656904    0.656904    0.656904   \nparam_C               0.001       0.001       0.001       0.001       0.001   \nparam_gamma           0.001        0.01         0.1           1          10   \n\n                         5           6           7           8           9   \\\nmean_fit_time    0.00417032  0.00422869  0.00453417  0.00471975   0.0045494   \nmean_score_time  0.00125776   0.0011892  0.00118659  0.00127416  0.00129192   \nmean_test_score    0.656904    0.656904    0.656904    0.656904    0.656904   \nparam_C               0.001        0.01        0.01        0.01        0.01   \nparam_gamma             100       0.001        0.01         0.1           1   \n\n                 ...          26          27          28          29  \\\nmean_fit_time    ...  0.00520981  0.00496262  0.00506375  0.00572485   \nmean_score_time  ...  0.00119584  0.00117823  0.00130179  0.00137487   \nmean_test_score  ...    0.669456    0.669456    0.665272    0.665272   \nparam_C          ...          10          10          10          10   \nparam_gamma      ...         0.1           1          10         100   \n\n                         30          31          32          33          34  \\\nmean_fit_time    0.00854502  0.00609278  0.00576929  0.00564557  0.00506578   \nmean_score_time  0.00137095     0.00129  0.00138392  0.00136403  0.00125687   \nmean_test_score    0.694561    0.648536    0.669456    0.669456    0.665272   \nparam_C                 100         100         100         100         100   \nparam_gamma           0.001        0.01         0.1           1          10   \n\n                         35  \nmean_fit_time    0.00572752  \nmean_score_time  0.00134029  \nmean_test_score    0.665272  \nparam_C                 100  \nparam_gamma             100  \n\n[5 rows x 36 columns]",
      "text/html": "<div>\n<style scoped>\n    .dataframe tbody tr th:only-of-type {\n        vertical-align: middle;\n    }\n\n    .dataframe tbody tr th {\n        vertical-align: top;\n    }\n\n    .dataframe thead th {\n        text-align: right;\n    }\n</style>\n<table border=\"1\" class=\"dataframe\">\n  <thead>\n    <tr style=\"text-align: right;\">\n      <th></th>\n      <th>0</th>\n      <th>1</th>\n      <th>2</th>\n      <th>3</th>\n      <th>4</th>\n      <th>5</th>\n      <th>6</th>\n      <th>7</th>\n      <th>8</th>\n      <th>9</th>\n      <th>...</th>\n      <th>26</th>\n      <th>27</th>\n      <th>28</th>\n      <th>29</th>\n      <th>30</th>\n      <th>31</th>\n      <th>32</th>\n      <th>33</th>\n      <th>34</th>\n      <th>35</th>\n    </tr>\n  </thead>\n  <tbody>\n    <tr>\n      <th>mean_fit_time</th>\n      <td>0.00638497</td>\n      <td>0.0057251</td>\n      <td>0.00437522</td>\n      <td>0.00446076</td>\n      <td>0.0054221</td>\n      <td>0.00417032</td>\n      <td>0.00422869</td>\n      <td>0.00453417</td>\n      <td>0.00471975</td>\n      <td>0.0045494</td>\n      <td>...</td>\n      <td>0.00520981</td>\n      <td>0.00496262</td>\n      <td>0.00506375</td>\n      <td>0.00572485</td>\n      <td>0.00854502</td>\n      <td>0.00609278</td>\n      <td>0.00576929</td>\n      <td>0.00564557</td>\n      <td>0.00506578</td>\n      <td>0.00572752</td>\n    </tr>\n    <tr>\n      <th>mean_score_time</th>\n      <td>0.00180726</td>\n      <td>0.00160192</td>\n      <td>0.00128556</td>\n      <td>0.00136585</td>\n      <td>0.00161262</td>\n      <td>0.00125776</td>\n      <td>0.0011892</td>\n      <td>0.00118659</td>\n      <td>0.00127416</td>\n      <td>0.00129192</td>\n      <td>...</td>\n      <td>0.00119584</td>\n      <td>0.00117823</td>\n      <td>0.00130179</td>\n      <td>0.00137487</td>\n      <td>0.00137095</td>\n      <td>0.00129</td>\n      <td>0.00138392</td>\n      <td>0.00136403</td>\n      <td>0.00125687</td>\n      <td>0.00134029</td>\n    </tr>\n    <tr>\n      <th>mean_test_score</th>\n      <td>0.656904</td>\n      <td>0.656904</td>\n      <td>0.656904</td>\n      <td>0.656904</td>\n      <td>0.656904</td>\n      <td>0.656904</td>\n      <td>0.656904</td>\n      <td>0.656904</td>\n      <td>0.656904</td>\n      <td>0.656904</td>\n      <td>...</td>\n      <td>0.669456</td>\n      <td>0.669456</td>\n      <td>0.665272</td>\n      <td>0.665272</td>\n      <td>0.694561</td>\n      <td>0.648536</td>\n      <td>0.669456</td>\n      <td>0.669456</td>\n      <td>0.665272</td>\n      <td>0.665272</td>\n    </tr>\n    <tr>\n      <th>param_C</th>\n      <td>0.001</td>\n      <td>0.001</td>\n      <td>0.001</td>\n      <td>0.001</td>\n      <td>0.001</td>\n      <td>0.001</td>\n      <td>0.01</td>\n      <td>0.01</td>\n      <td>0.01</td>\n      <td>0.01</td>\n      <td>...</td>\n      <td>10</td>\n      <td>10</td>\n      <td>10</td>\n      <td>10</td>\n      <td>100</td>\n      <td>100</td>\n      <td>100</td>\n      <td>100</td>\n      <td>100</td>\n      <td>100</td>\n    </tr>\n    <tr>\n      <th>param_gamma</th>\n      <td>0.001</td>\n      <td>0.01</td>\n      <td>0.1</td>\n      <td>1</td>\n      <td>10</td>\n      <td>100</td>\n      <td>0.001</td>\n      <td>0.01</td>\n      <td>0.1</td>\n      <td>1</td>\n      <td>...</td>\n      <td>0.1</td>\n      <td>1</td>\n      <td>10</td>\n      <td>100</td>\n      <td>0.001</td>\n      <td>0.01</td>\n      <td>0.1</td>\n      <td>1</td>\n      <td>10</td>\n      <td>100</td>\n    </tr>\n  </tbody>\n</table>\n<p>5 rows × 36 columns</p>\n</div>"
     },
     "metadata": {},
     "output_type": "display_data"
    }
   ],
   "source": [
    "results = pd.DataFrame(grid_search.cv_results_)\n",
    "results_rbf = results.iloc[0:36,:]\n",
    "display(results_rbf.T.head())"
   ],
   "metadata": {
    "collapsed": false,
    "pycharm": {
     "name": "#%%\n"
    }
   }
  },
  {
   "cell_type": "code",
   "execution_count": 106,
   "outputs": [],
   "source": [
    "import matplotlib.pyplot as plt\n",
    "import seaborn as sn\n",
    "import numpy as np\n",
    "# plt.figure(figsize=(12,12))\n",
    "scores = np.array(results_rbf.mean_test_score).reshape(6,6)\n",
    "# scores.head()"
   ],
   "metadata": {
    "collapsed": false,
    "pycharm": {
     "name": "#%%\n"
    }
   }
  },
  {
   "cell_type": "code",
   "execution_count": 107,
   "outputs": [
    {
     "data": {
      "image/png": "[encoded data removed]",
      "text/plain": "<Figure size 432x288 with 2 Axes>"
     },
     "metadata": {
      "needs_background": "light"
     },
     "output_type": "display_data"
    }
   ],
   "source": [
    "fig = sn.heatmap(data=scores,xticklabels=param_grid[0]['gamma'],\n",
    "           yticklabels=param_grid[0]['C'],\n",
    "           annot=True)\n",
    "# sn.set(xlabel=\"gamma\")\n",
    "plt.xlabel(\"asdasd\")\n",
    "plt.show(fig)"
   ],
   "metadata": {
    "collapsed": false,
    "pycharm": {
     "name": "#%%\n"
    }
   }
  },
  {
   "cell_type": "code",
   "execution_count": 75,
   "outputs": [
    {
     "data": {
      "text/plain": "list"
     },
     "execution_count": 75,
     "metadata": {},
     "output_type": "execute_result"
    }
   ],
   "source": [
    "# type(param_grid)"
   ],
   "metadata": {
    "collapsed": false,
    "pycharm": {
     "name": "#%%\n"
    }
   }
  },
  {
   "cell_type": "code",
   "execution_count": 82,
   "outputs": [],
   "source": [
    "rbf = param_grid[0]['gamma']\n",
    "rbf"
   ],
   "metadata": {
    "collapsed": false,
    "pycharm": {
     "name": "#%%\n"
    }
   }
  },
  {
   "cell_type": "code",
   "execution_count": null,
   "outputs": [],
   "source": [
    "\n"
   ],
   "metadata": {
    "collapsed": false,
    "pycharm": {
     "name": "#%%\n"
    }
   }
  }
 ],
 "metadata": {
  "kernelspec": {
   "display_name": "Python 3",
   "language": "python",
   "name": "python3"
  },
  "language_info": {
   "codemirror_mode": {
    "name": "ipython",
    "version": 2
   },
   "file_extension": ".py",
   "mimetype": "text/x-python",
   "name": "python",
   "nbconvert_exporter": "python",
   "pygments_lexer": "ipython2",
   "version": "2.7.6"
  }
 },
 "nbformat": 4,
 "nbformat_minor": 0
}